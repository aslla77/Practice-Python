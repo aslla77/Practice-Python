{
  "nbformat": 4,
  "nbformat_minor": 0,
  "metadata": {
    "colab": {
      "name": "6_3_layer neural network.ipynb",
      "provenance": [],
      "collapsed_sections": [],
      "mount_file_id": "1vqUkl-zBuW4_fMD8oynAXl9LIKPqlLb8",
      "authorship_tag": "ABX9TyMQVyt1YCvVcn4LkVhfuIuA",
      "include_colab_link": true
    },
    "kernelspec": {
      "name": "python3",
      "display_name": "Python 3"
    },
    "language_info": {
      "name": "python"
    }
  },
  "cells": [
    {
      "cell_type": "markdown",
      "metadata": {
        "id": "view-in-github",
        "colab_type": "text"
      },
      "source": [
        "<a href=\"https://colab.research.google.com/github/aslla77/practice-Python/blob/main/basic/6_3_layer_neural_network.ipynb\" target=\"_parent\"><img src=\"https://colab.research.google.com/assets/colab-badge.svg\" alt=\"Open In Colab\"/></a>"
      ]
    },
    {
      "cell_type": "markdown",
      "source": [
        "행렬 , 연립방정식 이용하여 머신러닝에서의 행렬\n",
        "\n",
        "3층신경망의 구현"
      ],
      "metadata": {
        "id": "aG8_qtnDqwNB"
      }
    },
    {
      "cell_type": "code",
      "execution_count": 2,
      "metadata": {
        "id": "qAuGWbYRyoPh"
      },
      "outputs": [],
      "source": [
        "import numpy as np"
      ]
    },
    {
      "cell_type": "code",
      "source": [
        "X=np.array([0,0,1])\n",
        "W1=np.array([[2,2,-1],[2,2,0],[0,-1,-1]])\n",
        "W2=np.array([[2,2,-1],[-1,0,0],[2,-1,2]])\n",
        "W3=np.array([[2,-1,-0],[-1,-1,0],[2,0,0]])\n",
        "\n",
        "#오른쪽 부터 실햄되는 중\n",
        "Y=np.dot(W3,np.dot(W2,np.dot(W1,X)))\n",
        "\n",
        "print(Y)"
      ],
      "metadata": {
        "colab": {
          "base_uri": "https://localhost:8080/"
        },
        "id": "o0KfQPYqn36t",
        "outputId": "ab4dfaa0-bb72-4d5c-8e70-3787f4bf59cd"
      },
      "execution_count": 5,
      "outputs": [
        {
          "output_type": "stream",
          "name": "stdout",
          "text": [
            "[-3  0 -2]\n"
          ]
        }
      ]
    },
    {
      "cell_type": "code",
      "source": [
        "#가운데 부터 실행되는 중\n",
        "Y=np.dot(np.dot(np.dot(W3,W2),W1),X)\n",
        "\n",
        "print(Y)"
      ],
      "metadata": {
        "colab": {
          "base_uri": "https://localhost:8080/"
        },
        "id": "SANWCWIrpJkz",
        "outputId": "d154f837-62e5-48d3-bbbf-91a17efc63e3"
      },
      "execution_count": 6,
      "outputs": [
        {
          "output_type": "stream",
          "name": "stdout",
          "text": [
            "[-3  0 -2]\n"
          ]
        }
      ]
    },
    {
      "cell_type": "code",
      "source": [
        "#입력과 히든레이어 1층 까지\n",
        "\n",
        "def sigmoid(x):\n",
        "  return 1/(1+np.exp(-x))\n",
        "\n",
        "#데이터 설정\n",
        "X=np.array([1.0,0.5])             #2\n",
        "\n",
        "W1=np.array([[0.1,0.3,0.5],\n",
        "             [0.2,0.4,0.6]])       #2x3\n",
        "\n",
        "B1=np.array([0.1,0.2,0.3])         #3\n",
        "\n",
        "#입력후 시그모이드로 판별까지\n",
        "A1=np.dot(X,W1)+B1              #1x2 *2x3 >>1x3\n",
        "Z1=sigmoid(A1)\n",
        "\n",
        "print(Z1)\n"
      ],
      "metadata": {
        "colab": {
          "base_uri": "https://localhost:8080/"
        },
        "id": "EO5tjBRwpxD8",
        "outputId": "32652ac2-4111-4fb0-b6f8-00cde8da1400"
      },
      "execution_count": 7,
      "outputs": [
        {
          "output_type": "stream",
          "name": "stdout",
          "text": [
            "[0.57444252 0.60587367 0.75026011]\n"
          ]
        }
      ]
    },
    {
      "cell_type": "code",
      "source": [
        "#1층에서 2층 \n",
        "\n",
        "W2=np.array([[0.1,0.4],\n",
        "            [0.2,0.5],\n",
        "            [0.3,0.6]])       #3x2\n",
        "B2=np.array([0.1,0.2])        #2\n",
        "\n",
        "A2=np.dot(Z1,W2)+B2\n",
        "Z2=sigmoid(A2)             #1x3 *3*x >>1x2\n",
        "\n",
        "print(A2)\n",
        "print(Z2)"
      ],
      "metadata": {
        "colab": {
          "base_uri": "https://localhost:8080/"
        },
        "id": "3PXAuqN-v1iz",
        "outputId": "03a9359b-8e83-4311-b1e4-9b6a582d783a"
      },
      "execution_count": 13,
      "outputs": [
        {
          "output_type": "stream",
          "name": "stdout",
          "text": [
            "[0.50369702 1.1828699 ]\n",
            "[0.62332775 0.76546343]\n"
          ]
        }
      ]
    },
    {
      "cell_type": "markdown",
      "source": [
        "시그모이드 함수의 문제가 발생 \n",
        "\n",
        "0과 1 사이로만 표시 하기에 입력값의 크기에 따라서 데이터값을 표기하기 힘들다.\n",
        "\n",
        "그래서 나타난 ReLU함수"
      ],
      "metadata": {
        "id": "sG5U-_3QxjNe"
      }
    },
    {
      "cell_type": "code",
      "source": [
        "#2층에서 출력층까지\n",
        "\n",
        "def iden(x):\n",
        "  return x\n",
        "\n",
        "W3=np.array([[0.1,0.3],\n",
        "             [0.2,0.4]])\n",
        "B3=np.array([ 0.1,0.2])\n",
        "\n",
        "A3=np.dot(Z2,W3)+B3\n",
        "Y=iden(A3)\n",
        "\n",
        "print(Y)"
      ],
      "metadata": {
        "colab": {
          "base_uri": "https://localhost:8080/"
        },
        "id": "km0BtmImxHlY",
        "outputId": "8a81fe05-4a93-4122-cebc-8ba19eafdd2d"
      },
      "execution_count": 16,
      "outputs": [
        {
          "output_type": "stream",
          "name": "stdout",
          "text": [
            "[0.31542546 0.6931837 ]\n"
          ]
        }
      ]
    },
    {
      "cell_type": "code",
      "source": [
        "def init_network():\n",
        "  network={}\n",
        "  network['W1']=np.array([[0.1,0.3,0.5], [0.2,0.4,0.6]]) \n",
        "  network['B1']=np.array([0.1,0.2,0.3]) \n",
        "  network['W2']=np.array([[0.1,0.4],[0.2,0.5], [0.3,0.6]])\n",
        "  network['B2']=np.array([0.1,0.2]) \n",
        "  network['W3']=np.array([[0.1,0.3],[0.2,0.4]])\n",
        "  network['B3']=np.array([ 0.1,0.2])\n",
        "  return network\n",
        "\n",
        "def forword(network,x):\n",
        "  W1,W2,W3=network['W1'],network['W2'],network['W3']\n",
        "  b1,b2,b3=network['B1'],network['B2'],network['B3']\n",
        "  a1=np.dot(x,W1)+b1\n",
        "  z1=sigmoid(a1)\n",
        "  a2=np.dot(z1,W2)+b2\n",
        "  z2=sigmoid(a2)\n",
        "  a3=np.dot(z2,W3)+b3\n",
        "  y=iden(a3)\n",
        "  return y\n",
        "\n",
        "network=init_network()\n",
        "x=np.array([1.0,0.5])\n",
        "y=forword(network,x)\n",
        "\n",
        "print(y)"
      ],
      "metadata": {
        "colab": {
          "base_uri": "https://localhost:8080/"
        },
        "id": "4GmScKyqzOrT",
        "outputId": "98a09241-4e3b-4273-a147-4edc7bc0eb44"
      },
      "execution_count": 20,
      "outputs": [
        {
          "output_type": "stream",
          "name": "stdout",
          "text": [
            "[0.31682708 0.69627909]\n"
          ]
        }
      ]
    },
    {
      "cell_type": "code",
      "source": [
        ""
      ],
      "metadata": {
        "id": "zuhTuVe42eiO"
      },
      "execution_count": null,
      "outputs": []
    }
  ]
}