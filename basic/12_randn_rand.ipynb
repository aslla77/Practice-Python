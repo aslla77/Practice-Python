{
  "nbformat": 4,
  "nbformat_minor": 0,
  "metadata": {
    "colab": {
      "name": "12_randn_rand.ipynb",
      "provenance": [],
      "collapsed_sections": [],
      "authorship_tag": "ABX9TyMk6bla5hlwUU+KqKirqc84",
      "include_colab_link": true
    },
    "kernelspec": {
      "name": "python3",
      "display_name": "Python 3"
    },
    "language_info": {
      "name": "python"
    }
  },
  "cells": [
    {
      "cell_type": "markdown",
      "metadata": {
        "id": "view-in-github",
        "colab_type": "text"
      },
      "source": [
        "<a href=\"https://colab.research.google.com/github/aslla77/practice-Python/blob/main/basic/12_randn_rand.ipynb\" target=\"_parent\"><img src=\"https://colab.research.google.com/assets/colab-badge.svg\" alt=\"Open In Colab\"/></a>"
      ]
    },
    {
      "cell_type": "markdown",
      "source": [
        "둘의 차이 비교 "
      ],
      "metadata": {
        "id": "a1AyEL84EnYF"
      }
    },
    {
      "cell_type": "code",
      "execution_count": 1,
      "metadata": {
        "id": "WkLcVzd2EiUS"
      },
      "outputs": [],
      "source": [
        "import numpy as np\n",
        "import pandas as pd\n",
        "import matplotlib.pyplot as plt\n"
      ]
    },
    {
      "cell_type": "code",
      "source": [
        "std_n,mean_n=100,100\n",
        "num_size=1000\n",
        "width=10+1\n",
        "\n",
        "arr_nd=np.random.randn(num_size)*std_n+mean_n  #n이 붙으면 표준 분표를 따르게 된다\n",
        "arr_rd=np.random.rand(num_size)*std_n+mean_n   # 비슷한 확률로 나뉘어서 나타난다\n",
        "\n",
        "step=list(range(mean_n-3*std_n,mean_n+3*std_n+1,int(6*std_n/width))) \n",
        "stepr=list(range(mean_n,mean_n+std_n+1,int(std_n/width)))\n",
        "\n",
        "sum_nd=np.zeros(width-1)\n",
        "sum_rd=np.zeros(width-1)\n",
        "\n",
        "for num in range(num_size):\n",
        "  for nn in range(0,width):\n",
        "    if arr_nd[num]<step[nn]:\n",
        "      sum_nd[nn-1]+=1\n",
        "      break\n",
        "\n",
        "for num in range(num_size):\n",
        "  for nn in range(0,width):\n",
        "    if arr_rd[num]<stepr[nn]:\n",
        "      sum_rd[nn-1]+=1\n",
        "      break\n",
        "\n",
        "print(\"RANGE : 1 2 3 4 5 6 7 8 9\")\n",
        "print(\"sumN=\",sum_nd)\n",
        "print(\"sumR=\",sum_rd)\n",
        "\n",
        "y_axis=sum_nd\n",
        "x_axis=range(len(y_axis))\n",
        "width_n=0.9\n",
        "bar_color='yellow'\n",
        "\n",
        "plt.bar(x_axis,y_axis,width=width_n,color=bar_color)\n",
        "plt.show()\n",
        "\n",
        "y_axis=sum_rd\n",
        "x_axis=range(len(y_axis))\n",
        "width_n=0.9\n",
        "bar_color='green'\n",
        "\n",
        "plt.bar(x_axis,y_axis,width=width_n,color=bar_color)\n",
        "plt.show()"
      ],
      "metadata": {
        "colab": {
          "base_uri": "https://localhost:8080/",
          "height": 566
        },
        "id": "PbOgX7uJE0qE",
        "outputId": "7caa8104-a222-4365-ebcb-3952c4ace178"
      },
      "execution_count": 8,
      "outputs": [
        {
          "output_type": "stream",
          "name": "stdout",
          "text": [
            "RANGE : 1 2 3 4 5 6 7 8 9\n",
            "sumN= [  9.  17.  51. 102. 201. 219. 168. 132.  72.  21.]\n",
            "sumR= [ 84.  96.  80. 105.  93.  86.  90.  89.  93.  86.]\n"
          ]
        },
        {
          "output_type": "display_data",
          "data": {
            "text/plain": [
              "<Figure size 432x288 with 1 Axes>"
            ],
            "image/png": "[encoded data removed]"
          },
          "metadata": {
            "needs_background": "light"
          }
        },
        {
          "output_type": "display_data",
          "data": {
            "text/plain": [
              "<Figure size 432x288 with 1 Axes>"
            ],
            "image/png": "[encoded data removed]"
          },
          "metadata": {
            "needs_background": "light"
          }
        }
      ]
    },
    {
      "cell_type": "markdown",
      "source": [
        "우리가 찾고자 하는 것들은 골고루 분포되어 있는 것보다 몰려서 분포가 되어 있다면 \n",
        "조금 더 찾기 쉬울 것이다."
      ],
      "metadata": {
        "id": "lx-quNd1J5FK"
      }
    },
    {
      "cell_type": "code",
      "source": [
        ""
      ],
      "metadata": {
        "id": "YfPjqggpFoWI"
      },
      "execution_count": null,
      "outputs": []
    }
  ]
}