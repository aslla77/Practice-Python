{
  "nbformat": 4,
  "nbformat_minor": 0,
  "metadata": {
    "colab": {
      "name": "7_Sorftmax.ipynb",
      "provenance": [],
      "collapsed_sections": [],
      "mount_file_id": "1DnNrgyAZVqtCH0mQpM4W6S3fTwk8mIKT",
      "authorship_tag": "ABX9TyOe2rYb53uri/DUzZI0eBk8",
      "include_colab_link": true
    },
    "kernelspec": {
      "name": "python3",
      "display_name": "Python 3"
    },
    "language_info": {
      "name": "python"
    }
  },
  "cells": [
    {
      "cell_type": "markdown",
      "metadata": {
        "id": "view-in-github",
        "colab_type": "text"
      },
      "source": [
        "<a href=\"https://colab.research.google.com/github/aslla77/practice-Python/blob/main/basic/7_Sorftmax.ipynb\" target=\"_parent\"><img src=\"https://colab.research.google.com/assets/colab-badge.svg\" alt=\"Open In Colab\"/></a>"
      ]
    },
    {
      "cell_type": "markdown",
      "source": [
        "아웃풋이 \n",
        "1,7,2 > 10%,70%,20%\n",
        "인게\n",
        "[10,70,20] / [0.01, 0.07, 0.02] 일경우도 같이 나와야한다\n",
        "\n",
        "하지만 0.01과 0.07은 0.06만 차이 나지만 10과 70은 60차이이다 1,7>6\n",
        "\n",
        "이런것을 exp를 이용하여 지수함수로 변화 시킨다\n",
        "\n",
        "이러한 것은\n",
        "최종값 y1,y2,y3를 계산할때 \n",
        "아웃풋이 매우 작으면 ex) 0.00001,0.00007,0.00002\n",
        "이런식이면 큰 차이를 못 나타나서 모든 아웃풋을 33.33%씩 나눠 가질수 있다.\n",
        "\n",
        "지수함수를 쓰면 그 차이를 확실하게 나타낼수 있게 된다.\n"
      ],
      "metadata": {
        "id": "BvqmGZax4Weu"
      }
    },
    {
      "cell_type": "code",
      "execution_count": 1,
      "metadata": {
        "id": "BPE3QES64Dmt"
      },
      "outputs": [],
      "source": [
        "import numpy as np\n",
        "import matplotlib.pyplot as plt"
      ]
    },
    {
      "cell_type": "code",
      "source": [
        "print(np.exp(0.1), np.exp(0.2), np.exp(0.7))"
      ],
      "metadata": {
        "colab": {
          "base_uri": "https://localhost:8080/"
        },
        "id": "IeP6P2Oh6oGM",
        "outputId": "414ebf26-e284-4d07-ce78-e09b0735b633"
      },
      "execution_count": 3,
      "outputs": [
        {
          "output_type": "stream",
          "name": "stdout",
          "text": [
            "1.1051709180756477 1.2214027581601699 2.0137527074704766\n"
          ]
        }
      ]
    },
    {
      "cell_type": "code",
      "source": [
        "print(np.exp(1), np.exp(2), np.exp(7))"
      ],
      "metadata": {
        "colab": {
          "base_uri": "https://localhost:8080/"
        },
        "id": "c1EBsxja6zL3",
        "outputId": "0377b5a2-70d1-46b8-fedd-f182a8fd1fbe"
      },
      "execution_count": 5,
      "outputs": [
        {
          "output_type": "stream",
          "name": "stdout",
          "text": [
            "2.718281828459045 7.38905609893065 1096.6331584284585\n"
          ]
        }
      ]
    },
    {
      "cell_type": "code",
      "source": [
        "print(np.exp(10), np.exp(20), np.exp(70))"
      ],
      "metadata": {
        "colab": {
          "base_uri": "https://localhost:8080/"
        },
        "id": "gilWXrd06685",
        "outputId": "b845f2e3-d334-4559-c32c-d7c7a2e29bf5"
      },
      "execution_count": 6,
      "outputs": [
        {
          "output_type": "stream",
          "name": "stdout",
          "text": [
            "22026.465794806718 485165195.4097903 2.515438670919167e+30\n"
          ]
        }
      ]
    },
    {
      "cell_type": "code",
      "source": [
        "x=np.arange(0,10,0.1)\n",
        "y=np.exp(x)\n",
        "\n",
        "plt.plot(x,y)\n",
        "plt.show()"
      ],
      "metadata": {
        "colab": {
          "base_uri": "https://localhost:8080/",
          "height": 265
        },
        "id": "egq7qZga7BUB",
        "outputId": "34626692-fb05-4526-ba46-6b6b63e18098"
      },
      "execution_count": 14,
      "outputs": [
        {
          "output_type": "display_data",
          "data": {
            "text/plain": [
              "<Figure size 432x288 with 1 Axes>"
            ],
            "image/png": "[encoded data removed]"
          },
          "metadata": {
            "needs_background": "light"
          }
        }
      ]
    },
    {
      "cell_type": "code",
      "source": [
        "def percent(x):\n",
        "  return x / (np.exp(1)+ np.exp(2)+ np.exp(7))\n",
        "\n",
        "for i in [np.exp(1), np.exp(2), np.exp(7)]:\n",
        "  per=percent(i)\n",
        "  print(i, '\\n',per*100,'%\\n')\n",
        "\n",
        "  #소프트 맥스를 써서 판단의 확신을 주는 역활을 한다"
      ],
      "metadata": {
        "colab": {
          "base_uri": "https://localhost:8080/"
        },
        "id": "qkeKdE9H7Vkw",
        "outputId": "b2dd06b1-e7f3-4afd-9889-9b54cc3f1bb1"
      },
      "execution_count": 13,
      "outputs": [
        {
          "output_type": "stream",
          "name": "stdout",
          "text": [
            "2.718281828459045 \n",
            " 0.2456114904450954 %\n",
            "\n",
            "7.38905609893065 \n",
            " 0.6676412513376452 %\n",
            "\n",
            "1096.6331584284585 \n",
            " 99.08674725821727 %\n",
            "\n"
          ]
        }
      ]
    },
    {
      "cell_type": "markdown",
      "source": [
        "소프트 맥스 구현시 주의점\n",
        "\n",
        "y(k)= exp(k)/sum( exp(1 ~ n)) 일때 위 아래에 exp(c)을 곱할 수 있다.\n",
        "\n",
        "\n",
        "y(k)= exp(k)/sum( exp(1 ~ n)) = exp(k+c)/sum( exp(1 +c ~ n+c))\n",
        "\n",
        "\n",
        "밑에 숫자의 큰값이 들어가면 컴퓨터 메모리상 오차가 생길수가 있다.\n",
        "그래서 오차가 큰값이 생길수 있다. \n",
        "\n",
        "왼쪽식의 분모가 매우 크면 오차가 매우 크게 발생을 하여 \n",
        "c값을 가장 큰값의 부호를 바꾸어서 넣으면 exp(n-n) 0의 가장 가깝게 설계를 하여\n",
        "음수여도 0보다 큰값이고 매우 커도 1로 하여 확률값을 얻는다"
      ],
      "metadata": {
        "id": "7AhDsKh981SJ"
      }
    },
    {
      "cell_type": "code",
      "source": [
        "x=np.arange(0,1,0.1)\n",
        "y=np.exp(x)\n",
        "y1=(x+1)\n",
        "\n",
        "plt.plot(x,y)\n",
        "plt.plot(x,y1)\n",
        "plt.show()\n",
        "\n",
        "x=np.arange(0,2,0.1)\n",
        "y=np.exp(x)\n",
        "y1=(x+1)\n",
        "\n",
        "plt.plot(x,y)\n",
        "plt.plot(x,y1)\n",
        "plt.show()"
      ],
      "metadata": {
        "colab": {
          "base_uri": "https://localhost:8080/",
          "height": 513
        },
        "id": "yQbdlv3_8KXN",
        "outputId": "a0bdf1cf-c706-49d3-d91e-2e705dddc505"
      },
      "execution_count": 17,
      "outputs": [
        {
          "output_type": "display_data",
          "data": {
            "text/plain": [
              "<Figure size 432x288 with 1 Axes>"
            ],
            "image/png": "[encoded data removed]"
          },
          "metadata": {
            "needs_background": "light"
          }
        },
        {
          "output_type": "display_data",
          "data": {
            "text/plain": [
              "<Figure size 432x288 with 1 Axes>"
            ],
            "image/png": "[encoded data removed]"
          },
          "metadata": {
            "needs_background": "light"
          }
        }
      ]
    },
    {
      "cell_type": "code",
      "source": [
        "a=np.array([1010,1000,990])\n",
        "c=np.max(a)\n",
        "\n",
        "np.exp(a-c)/np.sum(np.exp(a-c))"
      ],
      "metadata": {
        "colab": {
          "base_uri": "https://localhost:8080/"
        },
        "id": "81o7g9_yKCnS",
        "outputId": "3f41e67a-5787-4241-f20f-5ca6f3176681"
      },
      "execution_count": 20,
      "outputs": [
        {
          "output_type": "execute_result",
          "data": {
            "text/plain": [
              "array([9.99954600e-01, 4.53978686e-05, 2.06106005e-09])"
            ]
          },
          "metadata": {},
          "execution_count": 20
        }
      ]
    }
  ]
}