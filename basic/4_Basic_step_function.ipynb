{
  "nbformat": 4,
  "nbformat_minor": 0,
  "metadata": {
    "colab": {
      "name": "4_Basic_step function.ipynb",
      "provenance": [],
      "collapsed_sections": [],
      "mount_file_id": "14u3rky56wKUaJUAtL_j98beTl1g_tUGS",
      "authorship_tag": "ABX9TyOpJotGqCtaqdmQr3mTyKVz",
      "include_colab_link": true
    },
    "kernelspec": {
      "name": "python3",
      "display_name": "Python 3"
    },
    "language_info": {
      "name": "python"
    }
  },
  "cells": [
    {
      "cell_type": "markdown",
      "metadata": {
        "id": "view-in-github",
        "colab_type": "text"
      },
      "source": [
        "<a href=\"https://colab.research.google.com/github/aslla77/practice-Python/blob/main/basic/4_Basic_step_function.ipynb\" target=\"_parent\"><img src=\"https://colab.research.google.com/assets/colab-badge.svg\" alt=\"Open In Colab\"/></a>"
      ]
    },
    {
      "cell_type": "code",
      "execution_count": null,
      "metadata": {
        "id": "TEv8bh--Vjbh"
      },
      "outputs": [],
      "source": [
        "import numpy as np\n",
        "import matplotlib.pyplot as plt\n"
      ]
    },
    {
      "cell_type": "code",
      "source": [
        "def ML_Perceptron(X,W1,W2):\n",
        "  x=np.array(X)\n",
        "  w1=np.array(W1)\n",
        "  w2=np.array(W2)\n",
        "  s1=np.array([0.0]*len(X))\n",
        "  s2=np.array([0.0]*len(X))\n",
        "  for num in range(len(X)):\n",
        "    s1[num]=(np.sum(x*w1[num])>0)\n",
        "  for num in range(len(X)):\n",
        "    s2[num]=(np.sum(s1*w2[num])>0)\n",
        "  return s2"
      ],
      "metadata": {
        "id": "6lmAAreXb96-"
      },
      "execution_count": null,
      "outputs": []
    },
    {
      "cell_type": "code",
      "source": [
        "W1=[[-0.5,-0.5,0,0,0,0.7],\n",
        "    [0.5,0.5,0,0,0,-0.2],\n",
        "    [0,0,0,0,0,0],\n",
        "    [0,0,0,0,0,0],\n",
        "    [0,0,0,0,0,0],\n",
        "    [0,0,0,0,0,1]]\n",
        "\n",
        "W2=[[0.5,0.5,0,0,0,-0.7],\n",
        "    [0,0,0,0,0,0],\n",
        "    [0,0,0,0,0,0],\n",
        "    [0,0,0,0,0,0],\n",
        "    [0,0,0,0,0,0],\n",
        "    [0,0,0,0,0,0]]\n",
        "\n",
        "X=[[0,0,0,0,0,1],\n",
        "   [0,1,0,0,0,1],\n",
        "   [1,0,0,0,0,1],\n",
        "   [1,1,0,0,0,1]]\n",
        "\n",
        "print('xor Multi Perceptron')\n",
        "for i in X:\n",
        "  print(i[0:2])\n",
        "  print(ML_Perceptron(i,W1,W2)[0],'\\n')"
      ],
      "metadata": {
        "colab": {
          "base_uri": "https://localhost:8080/"
        },
        "id": "DL-EcyCedHSr",
        "outputId": "d6952b3e-bed9-48f2-ed93-280aa0826258"
      },
      "execution_count": null,
      "outputs": [
        {
          "output_type": "stream",
          "name": "stdout",
          "text": [
            "xor Multi Perceptron\n",
            "[0, 0]\n",
            "0.0 \n",
            "\n",
            "[0, 1]\n",
            "1.0 \n",
            "\n",
            "[1, 0]\n",
            "1.0 \n",
            "\n",
            "[1, 1]\n",
            "0.0 \n",
            "\n"
          ]
        }
      ]
    },
    {
      "cell_type": "markdown",
      "source": [
        "W를 자동으로 만들어주기 위해서 신경망을 사용한다."
      ],
      "metadata": {
        "id": "Ndcxix2RizvR"
      }
    },
    {
      "cell_type": "markdown",
      "source": [
        "활성화 함수 \n",
        "\n",
        "계단, 시그모이드, ReLU\n",
        "\n",
        "계단함수: step function 가장 오래되고 기본적인 활성화 함수\n",
        "\n"
      ],
      "metadata": {
        "id": "jCRm6PsJkQdQ"
      }
    },
    {
      "cell_type": "code",
      "source": [
        "#계단함수\n",
        "\n",
        "def step_function(x):\n",
        "  return np.array(x>0,dtype=np.int)\n",
        "\n",
        "x=np.arange(-5.0,5.0,0.1)\n",
        "y=step_function(x)\n",
        "\n",
        "plt.plot(x,y)\n",
        "plt.ylim(-0.1,1.1)\n",
        "plt.show()"
      ],
      "metadata": {
        "id": "rRpw3vE-gk_I",
        "colab": {
          "base_uri": "https://localhost:8080/",
          "height": 338
        },
        "outputId": "a0f4f07f-3867-430c-bad5-31e42e4ef825"
      },
      "execution_count": 16,
      "outputs": [
        {
          "output_type": "stream",
          "name": "stderr",
          "text": [
            "/usr/local/lib/python3.7/dist-packages/ipykernel_launcher.py:4: DeprecationWarning: `np.int` is a deprecated alias for the builtin `int`. To silence this warning, use `int` by itself. Doing this will not modify any behavior and is safe. When replacing `np.int`, you may wish to use e.g. `np.int64` or `np.int32` to specify the precision. If you wish to review your current use, check the release note link for additional information.\n",
            "Deprecated in NumPy 1.20; for more details and guidance: https://numpy.org/devdocs/release/1.20.0-notes.html#deprecations\n",
            "  after removing the cwd from sys.path.\n"
          ]
        },
        {
          "output_type": "display_data",
          "data": {
            "text/plain": [
              "<Figure size 432x288 with 1 Axes>"
            ],
            "image/png": "[encoded data removed]"
          },
          "metadata": {
            "needs_background": "light"
          }
        }
      ]
    }
  ]
}