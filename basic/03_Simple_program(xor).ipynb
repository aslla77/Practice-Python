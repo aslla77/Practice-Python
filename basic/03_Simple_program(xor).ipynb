{
  "nbformat": 4,
  "nbformat_minor": 0,
  "metadata": {
    "colab": {
      "name": "3_Simple program(xor).ipynb",
      "provenance": [],
      "collapsed_sections": [],
      "mount_file_id": "1cRM_azEWtRVyhjApCFXhCkzGcPdewcns",
      "authorship_tag": "ABX9TyMpk9ZniRYCzmT4AMd6B3AW",
      "include_colab_link": true
    },
    "kernelspec": {
      "name": "python3",
      "display_name": "Python 3"
    },
    "language_info": {
      "name": "python"
    }
  },
  "cells": [
    {
      "cell_type": "markdown",
      "metadata": {
        "id": "view-in-github",
        "colab_type": "text"
      },
      "source": [
        "<a href=\"https://colab.research.google.com/github/aslla77/practice-Python/blob/main/basic/3_Simple_program(xor).ipynb\" target=\"_parent\"><img src=\"https://colab.research.google.com/assets/colab-badge.svg\" alt=\"Open In Colab\"/></a>"
      ]
    },
    {
      "cell_type": "code",
      "execution_count": 12,
      "metadata": {
        "id": "7UK8HZbHBQmF"
      },
      "outputs": [],
      "source": [
        "import numpy as np\n",
        "import matplotlib.pyplot as plt\n",
        "import cv2\n",
        "\n",
        "def AND(x1, x2):\n",
        "  x=np.array([x1,x2])\n",
        "  w=np.array([0.5,0.5])\n",
        "  b=-0.7\n",
        "  tmp=np.sum(w*x)+b\n",
        "  if tmp <=0:\n",
        "    return 0\n",
        "  else:\n",
        "    return 1\n",
        "\n",
        "def OR(x1, x2):\n",
        "  x=np.array([x1,x2])\n",
        "  w=np.array([0.5,0.5])\n",
        "  b=-0.2\n",
        "  tmp=np.sum(w*x)+b\n",
        "  if tmp <=0:\n",
        "    return 0\n",
        "  else:\n",
        "    return 1\n",
        "\n",
        "\n",
        "def NAND(x1, x2):\n",
        "  x=np.array([x1,x2])\n",
        "  w=np.array([-0.5,-0.5])\n",
        "  b=0.7\n",
        "  tmp=np.sum(w*x)+b\n",
        "  if tmp <=0:\n",
        "    return 0\n",
        "  else:\n",
        "    return 1"
      ]
    },
    {
      "cell_type": "markdown",
      "source": [
        "xor 함수를 위의 단층퍼셉트론으로는 만들수가 없는 것을 알게된다\n",
        "\n",
        "그래프에서 보면 직선의 위냐 아래냐에 따라서 1과 0을 출력하는데 \n",
        "xor은 직선하나로 구별하기가 힘들었다.\n",
        "\n",
        "그래서 새로운 구조가 탄생한다 \n",
        "\n",
        "히든레이어, 다층퍼셉트론, 멀티레이어 퍼셉트론 MLP\n",
        "\n",
        "x대입 >nand,or>and=y\n",
        "\n",
        "https://www.youtube.com/watch?v=nq3N2x-VJr0&list=PLsS-TVNjbU7clDOjpAZKud3uG8APHDq_M&index=26"
      ],
      "metadata": {
        "id": "flc_HD2LJZ7D"
      }
    },
    {
      "cell_type": "code",
      "source": [
        "def xor(x1,x2):\n",
        "  s1=NAND(x1,x2)\n",
        "  s2=NAND(x1,s1)\n",
        "  s3=NAND(x2,s1)\n",
        "  ans=NAND(s2,s3)\n",
        "  return(ans)\n",
        "\n",
        "x1=[0,1]\n",
        "x2=[0,1]\n",
        "\n",
        "for i in x1:\n",
        "  for j in x2:\n",
        "    ans=xor(i,j)\n",
        "    print('x1=',i,'\\nx2=',j,'\\nans=',ans,'\\n')"
      ],
      "metadata": {
        "colab": {
          "base_uri": "https://localhost:8080/"
        },
        "id": "cm_yQINwB1LO",
        "outputId": "fb3e8cff-971f-433a-a67b-98600d1b8b6f"
      },
      "execution_count": null,
      "outputs": [
        {
          "output_type": "stream",
          "name": "stdout",
          "text": [
            "x1= 0 \n",
            "x2= 0 \n",
            "ans= 0 \n",
            "\n",
            "x1= 0 \n",
            "x2= 1 \n",
            "ans= 1 \n",
            "\n",
            "x1= 1 \n",
            "x2= 0 \n",
            "ans= 1 \n",
            "\n",
            "x1= 1 \n",
            "x2= 1 \n",
            "ans= 0 \n",
            "\n"
          ]
        }
      ]
    },
    {
      "cell_type": "code",
      "source": [
        "def xor_1(x1,x2):\n",
        "  s1=NAND(x1,x2)\n",
        "  s2=OR(x1,x2)\n",
        "  y=AND(s1,s2)\n",
        "  return y\n",
        "\n",
        "x1=[0,1]\n",
        "x2=[0,1]\n",
        "\n",
        "for i in x1:\n",
        "  for j in x2:\n",
        "    ans=xor_1(i,j)\n",
        "    print('x1=',i,'\\nx2=',j,'\\nans=',ans,'\\n')"
      ],
      "metadata": {
        "colab": {
          "base_uri": "https://localhost:8080/"
        },
        "id": "eh37Q4fINYBW",
        "outputId": "bdca45dd-5bed-4045-fb50-db0677635804"
      },
      "execution_count": null,
      "outputs": [
        {
          "output_type": "stream",
          "name": "stdout",
          "text": [
            "x1= 0 \n",
            "x2= 0 \n",
            "ans= 0 \n",
            "\n",
            "x1= 0 \n",
            "x2= 1 \n",
            "ans= 1 \n",
            "\n",
            "x1= 1 \n",
            "x2= 0 \n",
            "ans= 1 \n",
            "\n",
            "x1= 1 \n",
            "x2= 1 \n",
            "ans= 0 \n",
            "\n"
          ]
        }
      ]
    },
    {
      "cell_type": "markdown",
      "source": [
        "위의 구조를 구하기 오래 걸렸다\n",
        "단층 퍼셉트론의 한계를 다층구조로 극복하였다.\n"
      ],
      "metadata": {
        "id": "2AV-VWFxSqjF"
      }
    },
    {
      "cell_type": "code",
      "source": [
        "img=cv2.imread('/content/drive/MyDrive/Colab Notebooks/multi perceptron.png')\n",
        "plt.imshow(img)\n",
        "plt.show()"
      ],
      "metadata": {
        "id": "zmlYDtL-PfQR",
        "colab": {
          "base_uri": "https://localhost:8080/",
          "height": 269
        },
        "outputId": "10009caa-a974-4af4-dc3a-6d854244c187"
      },
      "execution_count": 16,
      "outputs": [
        {
          "output_type": "display_data",
          "data": {
            "text/plain": [
              "<Figure size 432x288 with 1 Axes>"
            ],
            "image/png": "[encoded data removed]"
          },
          "metadata": {
            "needs_background": "light"
          }
        }
      ]
    },
    {
      "cell_type": "code",
      "source": [
        ""
      ],
      "metadata": {
        "id": "J2Mn1t7tT6Sw"
      },
      "execution_count": null,
      "outputs": []
    }
  ]
}
