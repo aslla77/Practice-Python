{
  "nbformat": 4,
  "nbformat_minor": 0,
  "metadata": {
    "colab": {
      "name": "15_Back_ReLU_sigmoid.ipynb",
      "provenance": [],
      "collapsed_sections": [],
      "mount_file_id": "13yIlpApysgv0XVskFOxZufv8hfoe_a5L",
      "authorship_tag": "ABX9TyMmfyc6KdP5rZ4VJGNHD99f",
      "include_colab_link": true
    },
    "kernelspec": {
      "name": "python3",
      "display_name": "Python 3"
    },
    "language_info": {
      "name": "python"
    }
  },
  "cells": [
    {
      "cell_type": "markdown",
      "metadata": {
        "id": "view-in-github",
        "colab_type": "text"
      },
      "source": [
        "<a href=\"https://colab.research.google.com/github/aslla77/practice-Python/blob/main/basic/15_Back_ReLU_sigmoid.ipynb\" target=\"_parent\"><img src=\"https://colab.research.google.com/assets/colab-badge.svg\" alt=\"Open In Colab\"/></a>"
      ]
    },
    {
      "cell_type": "markdown",
      "source": [
        "#ReLU 함수\n",
        "\n",
        "$$ h(x)=\\begin{cases} x (x>0) \\\\ 0 (x \\le 0) \\end {cases} $$\n",
        "\n",
        "$$ y = {\\left\\vert x \\right\\vert + x \\over 2}$$\n",
        "\n",
        "0이상이면 입력값을 그대로 출력 입력이 0 이하면 0으로 출력\n",
        "\n",
        "###복습\n",
        "####계단 함수 (step function)\n",
        "\n",
        "$$ y= {\\left\\vert x \\right\\vert + x \\over 2x} $$\n",
        "\n",
        "값이 1또는 0 밖에 출력이 되지 않는다 \n",
        "\n",
        "####시그모이드 함수 (sigmoid function)\n",
        "\n",
        "$$ y= {1 \\over 1+ e^{-x}} $$\n",
        "\n",
        "반복적으로 계산할 수록 0으로 수렴 "
      ],
      "metadata": {
        "id": "Nw685hAn0VSc"
      }
    },
    {
      "cell_type": "markdown",
      "source": [
        "#ReLU 의 미분\n",
        "\n",
        "$$ h(x)=\\begin{cases} x (x>0) \\\\ 0 (x \\le 0) \\end {cases} $$\n",
        "\n",
        "$$ {\\partial y \\over \\partial x} =\\begin{cases} 1 (x>0) \\\\ 0 (x \\le 0) \\end {cases}$$\n",
        "\n",
        "들어온 값이 x가 0보다 작은지 검사\n",
        "\n",
        "작으면 0 으로 처리 \n",
        "\n",
        "방법 1. if문으로 처리 (단이 값)\n",
        "방법 2. mask를 사용하여 처리"
      ],
      "metadata": {
        "id": "TagSOzJG13g5"
      }
    },
    {
      "cell_type": "code",
      "execution_count": 1,
      "metadata": {
        "id": "KAVbTRga0GCe"
      },
      "outputs": [],
      "source": [
        "import numpy as np\n"
      ]
    },
    {
      "cell_type": "code",
      "source": [
        "xcopy=np.array([[1,-2],[-3,2]])\n",
        "\n",
        "mask=(xcopy<=0)\n",
        "print( 'mask:',mask)\n",
        "\n",
        "xcopy[mask]=0 #처리\n",
        "print(xcopy)"
      ],
      "metadata": {
        "colab": {
          "base_uri": "https://localhost:8080/"
        },
        "id": "RhQUpwHW3bLP",
        "outputId": "4bb9d2f4-d919-479d-9b7b-b829c685bb58"
      },
      "execution_count": 4,
      "outputs": [
        {
          "output_type": "stream",
          "name": "stdout",
          "text": [
            "mask: [[False  True]\n",
            " [ True False]]\n",
            "[[1 0]\n",
            " [0 2]]\n"
          ]
        }
      ]
    },
    {
      "cell_type": "code",
      "source": [
        "#ReLU의 역전파\n",
        "\n",
        "class ReLU:\n",
        "  def __init__(self):\n",
        "     self.mask=None\n",
        "\n",
        "  def forword(self,x):\n",
        "    self.mask=(x<=0)\n",
        "    out=x.copy()\n",
        "    out[self.mask]=0\n",
        "    return out\n",
        "\n",
        "  def backword(self,dout):\n",
        "    dout[self.mask]=0\n",
        "    dx=dout\n",
        "    return dx"
      ],
      "metadata": {
        "id": "Y7ydurMG3zpA"
      },
      "execution_count": 5,
      "outputs": []
    },
    {
      "cell_type": "code",
      "source": [
        "x=np.array([[1,-2],[-3,2]])\n",
        "mask=(x<0)\n",
        "print(mask)\n",
        "\n",
        "ReLU_Layer=ReLU()\n",
        "out=ReLU_Layer.forword(x)\n",
        "print(out)"
      ],
      "metadata": {
        "colab": {
          "base_uri": "https://localhost:8080/"
        },
        "id": "tCHl_V7I5K-E",
        "outputId": "38ada901-3ef9-452e-eb33-b4857d456c3e"
      },
      "execution_count": 16,
      "outputs": [
        {
          "output_type": "stream",
          "name": "stdout",
          "text": [
            "[[False  True]\n",
            " [ True False]]\n",
            "[[1 0]\n",
            " [0 2]]\n"
          ]
        }
      ]
    },
    {
      "cell_type": "code",
      "source": [
        "x_1=np.ones((2,2))\n",
        "dout=ReLU_Layer.backword(x_1)\n",
        "print(dout) "
      ],
      "metadata": {
        "colab": {
          "base_uri": "https://localhost:8080/"
        },
        "id": "O7AQ9r1i5kfv",
        "outputId": "f6585a93-4eb1-4dcd-9314-23ef0ce750aa"
      },
      "execution_count": 15,
      "outputs": [
        {
          "output_type": "stream",
          "name": "stdout",
          "text": [
            "[[1. 0.]\n",
            " [0. 1.]]\n"
          ]
        }
      ]
    },
    {
      "cell_type": "markdown",
      "source": [
        "#sigmoid 의 역전파 \n",
        "###밑의 결과 값을 단순화 하여 순전파의 출력만으로 구성 가능하게 바꿀 것\n",
        "$$ {\\partial L \\over \\partial y}y^2exp(-x) $$\n",
        "\n",
        "$$y={1 \\over 1+ exp(-x}$$\n",
        "\n",
        "y값을 치환\n",
        "\n",
        "$$ {\\partial L \\over \\partial y}{1 \\over (1+ exp(-x))^2}exp(-x) $$\n",
        "\n",
        "$$ {\\partial L \\over \\partial y}{1 \\over 1+ exp(-x)}{exp(-x) \\over 1+ exp(-x)} $$\n",
        "\n",
        "정히하면 \n",
        "\n",
        "$${\\partial L \\over \\partial y}y(1-y)$$"
      ],
      "metadata": {
        "id": "1LoBXH7RBwQt"
      }
    },
    {
      "cell_type": "code",
      "source": [
        "#Sigmoid의 역전파\n",
        "\n",
        "class sigmoid:\n",
        "  def __init__(self):\n",
        "    self.y=None\n",
        "    pass\n",
        "  def forword(self,x):\n",
        "    self.y=1/(1+np.exp(-x))\n",
        "\n",
        "    return 1/(1+np.exp(-x))\n",
        "\n",
        "  def backword(self,dout):\n",
        "    dx=dout*(1.0-self.y)*self.y\n",
        "    return dx\n",
        "  "
      ],
      "metadata": {
        "id": "SG_GRNG_86cK"
      },
      "execution_count": 36,
      "outputs": []
    },
    {
      "cell_type": "code",
      "source": [
        "sigmoid_Layer=sigmoid()\n",
        "\n",
        "x=np.array([[1,5],[10,20]])\n",
        "\n",
        "ans=sigmoid_Layer.forword(x)\n",
        "print(ans)"
      ],
      "metadata": {
        "colab": {
          "base_uri": "https://localhost:8080/"
        },
        "id": "OsLWvlfJ_oTc",
        "outputId": "c595e6e4-c1e4-4466-f607-3fac36349803"
      },
      "execution_count": 39,
      "outputs": [
        {
          "output_type": "stream",
          "name": "stdout",
          "text": [
            "[[0.73105858 0.99330715]\n",
            " [0.9999546  1.        ]]\n"
          ]
        }
      ]
    },
    {
      "cell_type": "code",
      "source": [
        "dout=1\n",
        "dout=sigmoid_Layer.backword(dout)\n",
        "print(dout)"
      ],
      "metadata": {
        "colab": {
          "base_uri": "https://localhost:8080/"
        },
        "id": "0ziYZ7UFAIkd",
        "outputId": "7275847c-98a8-44f5-96ea-1947f39e5916"
      },
      "execution_count": 40,
      "outputs": [
        {
          "output_type": "stream",
          "name": "stdout",
          "text": [
            "[[1.96611933e-01 6.64805667e-03]\n",
            " [4.53958077e-05 2.06115369e-09]]\n"
          ]
        }
      ]
    }
  ]
}