{
  "nbformat": 4,
  "nbformat_minor": 0,
  "metadata": {
    "colab": {
      "name": "5_Sigmoid_ReLU.ipynb",
      "provenance": [],
      "collapsed_sections": [],
      "mount_file_id": "1Zm-rQWE-0Q87BZbDy26iytCvXh-UNm_X",
      "authorship_tag": "ABX9TyOhZFOcOrRp51rDxtRCC2Ht",
      "include_colab_link": true
    },
    "kernelspec": {
      "name": "python3",
      "display_name": "Python 3"
    },
    "language_info": {
      "name": "python"
    }
  },
  "cells": [
    {
      "cell_type": "markdown",
      "metadata": {
        "id": "view-in-github",
        "colab_type": "text"
      },
      "source": [
        "<a href=\"https://colab.research.google.com/github/aslla77/practice-Python/blob/main/basic/5_Sigmoid_ReLU.ipynb\" target=\"_parent\"><img src=\"https://colab.research.google.com/assets/colab-badge.svg\" alt=\"Open In Colab\"/></a>"
      ]
    },
    {
      "cell_type": "markdown",
      "source": [
        "활성화 함수 2탄 시그모이드함수\n",
        "\n",
        "계단 함수가 0에서 불연속적인 점을 보안하였다.\n",
        "\n",
        "끊어지는 부분이 없고/ 모든 부분에서 미분가능하고/ 미분결과가 사용하기 간편한 형태\n",
        "\n"
      ],
      "metadata": {
        "id": "I55z9zy3ovTC"
      }
    },
    {
      "cell_type": "code",
      "execution_count": 1,
      "metadata": {
        "id": "3bcsYAcOoiAu"
      },
      "outputs": [],
      "source": [
        "import numpy as np\n",
        "import matplotlib.pyplot as plt\n"
      ]
    },
    {
      "cell_type": "code",
      "source": [
        "def sigmoid(x):\n",
        "  return 1/(1+np.exp(-x))\n",
        "\n",
        "x=np.arange(-10.0,10.0,0.1)\n",
        "y=sigmoid(x)\n",
        "\n",
        "plt.plot(x,y)\n",
        "plt.ylim(-0.1,1.1)\n",
        "plt.show()"
      ],
      "metadata": {
        "colab": {
          "base_uri": "https://localhost:8080/",
          "height": 265
        },
        "id": "8vxEMxHQpUT3",
        "outputId": "251a342a-a674-48d0-f652-5a97dca3d965"
      },
      "execution_count": 3,
      "outputs": [
        {
          "output_type": "display_data",
          "data": {
            "text/plain": [
              "<Figure size 432x288 with 1 Axes>"
            ],
            "image/png": "[encoded data removed]"
          },
          "metadata": {
            "needs_background": "light"
          }
        }
      ]
    },
    {
      "cell_type": "markdown",
      "source": [
        "위의 그레프와 같이 불연속성이 사라진다.\n",
        "\n",
        "3탄 ReLU"
      ],
      "metadata": {
        "id": "aMADcsuzqMx8"
      }
    },
    {
      "cell_type": "code",
      "source": [
        "def relu(x):\n",
        "  return np.maximum(0,x)\n",
        "x=np.arange(-5,5,0.1)\n",
        "y=relu(x)\n",
        "\n",
        "plt.plot(x,y)\n",
        "plt.ylim(-5,5)\n",
        "plt.show()"
      ],
      "metadata": {
        "colab": {
          "base_uri": "https://localhost:8080/",
          "height": 265
        },
        "id": "RWMND-9XqRN0",
        "outputId": "a1c0cc82-909c-4b3e-d3db-a7f5bf2c240a"
      }, 
      "execution_count": 7,
      "outputs": [
        {
          "output_type": "display_data",
          "data": {
            "text/plain": [
              "<Figure size 432x288 with 1 Axes>"
            ],
            "image/png": "[encoded data removed]"
          },
          "metadata": {
            "needs_background": "light"
          }
        }
      ]
    },
    {
      "cell_type": "markdown",
      "source": [
        "여태까지는 비선형\n",
        "\n",
        "선형은 y=ax+b 같은 경우\n",
        "\n",
        "ReLU를 쓰는 이유\n",
        "\n",
        "Step은 아웃풋이 0또는 1\n",
        "\n",
        "Sigmoid는 아웃풋이 0과 1 사이에 숫자만 나타낸다\n",
        "\n",
        "ReLU는 0보다 이상이면 아웃풋이 데이터값을 그대로 보내줄수있다.\n",
        "\n",
        "여러번 할수록 정보는 정확해지는 것 다른 것에 비해 ReLU의 장점"
      ],
      "metadata": {
        "id": "p8Okv-KBrQlq"
      }
    },
    {
      "cell_type": "code",
      "source": [
        ""
      ],
      "metadata": {
        "id": "rkDZsXZCrXaU"
      },
      "execution_count": null,
      "outputs": []
    }
  ]
}
