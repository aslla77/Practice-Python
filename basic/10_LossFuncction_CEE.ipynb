{
  "nbformat": 4,
  "nbformat_minor": 0,
  "metadata": {
    "colab": {
      "name": "10_LossFuncction_CEE.ipynb",
      "provenance": [],
      "collapsed_sections": [],
      "authorship_tag": "ABX9TyOqZ4hrisRwwft1LuJKeWSD",
      "include_colab_link": true
    },
    "kernelspec": {
      "name": "python3",
      "display_name": "Python 3"
    },
    "language_info": {
      "name": "python"
    }
  },
  "cells": [
    {
      "cell_type": "markdown",
      "metadata": {
        "id": "view-in-github",
        "colab_type": "text"
      },
      "source": [
        "<a href=\"https://colab.research.google.com/github/aslla77/practice-Python/blob/main/basic/10_LossFuncction_CEE.ipynb\" target=\"_parent\"><img src=\"https://colab.research.google.com/assets/colab-badge.svg\" alt=\"Open In Colab\"/></a>"
      ]
    },
    {
      "cell_type": "markdown",
      "source": [
        "##교차엔트로피 오차 CEE(Cross Entropy Error)\n",
        "\n",
        "$$E= -\\sum_{i=1}^N t_i*\\log(y_i)   $$\n",
        "\n",
        "평균 제곱 오차(Mean Square Error)\n",
        "\n",
        "$$MSE= {1\\over N}\\sum_{i=1}^N (y_i-t_i)^2   $$\n",
        "\n",
        "\n"
      ],
      "metadata": {
        "id": "OGA1d_ed_Gyr"
      }
    },
    {
      "cell_type": "code",
      "execution_count": 22,
      "metadata": {
        "id": "c3I-1Z999wC7"
      },
      "outputs": [],
      "source": [
        "import numpy as np\n",
        "import matplotlib.pyplot as plt\n"
      ]
    },
    {
      "cell_type": "code",
      "source": [
        "t=[0,0,1,0,0,0,0,0,0,0]\n",
        "\n",
        "y_1=[.1,.05,.1,.0,.05,.1,.0,.6,.0,.0] #7을 정답으로 인식한 상황\n",
        "y_4=[.1,.05,.1,.0,.05,.0,.0,.0,.7,.0] #7과 5가 0%이되고 8을 정답으로 인식\n",
        "y_5=[.1,.05,.1,.0,.05,.1,.0,.4,.2,.0] #8이 줄고 7이 어느정도 올라서 평탄화 된 과정\n",
        "y57=[.1,.05,.6,.0,.05,.1,.0,.1,.0,.0]"
      ],
      "metadata": {
        "id": "rpQ_nSHg_9Jk"
      },
      "execution_count": 3,
      "outputs": []
    },
    {
      "cell_type": "code",
      "source": [
        "def mse(y,t):\n",
        "  return sum((np.array(t)-np.array(y))**2/len(y))\n",
        "\n",
        "print(mse(y_1,t))\n",
        "print(mse(y_4,t))\n",
        "print(mse(y_5,t))\n",
        "print(mse(y57,t))"
      ],
      "metadata": {
        "colab": {
          "base_uri": "https://localhost:8080/"
        },
        "id": "s7hBAMuzAkBo",
        "outputId": "bb3c83b2-d2fb-4b9d-90d2-b43ec11b8b33"
      },
      "execution_count": 4,
      "outputs": [
        {
          "output_type": "stream",
          "name": "stdout",
          "text": [
            "0.1195\n",
            "0.1315\n",
            "0.10350000000000001\n",
            "0.019500000000000007\n"
          ]
        }
      ]
    },
    {
      "cell_type": "markdown",
      "source": [
        "MSE에서는 위와 같이 정답 2에 상관 되지 않은 부분에서 변경하는데 \n",
        "MSE의 아웃풋 값이 좋아지는 것을 오인하여 잘 못된 정보를 처리 할 수도 있다."
      ],
      "metadata": {
        "id": "cuDzgLXPA4G1"
      }
    },
    {
      "cell_type": "code",
      "source": [
        "def cee(y,t):\n",
        "  y=np.array(y)\n",
        "  t=np.array(t)\n",
        "  delta=1e-7\n",
        "  return -np.sum(t*np.log(y+delta))"
      ],
      "metadata": {
        "id": "Nl3STpD0DCJ_"
      },
      "execution_count": 20,
      "outputs": []
    },
    {
      "cell_type": "code",
      "source": [
        "print(cee(y_1,t))\n",
        "print(cee(y_4,t))\n",
        "print(cee(y_5,t))\n",
        "print(cee(y57,t))"
      ],
      "metadata": {
        "colab": {
          "base_uri": "https://localhost:8080/"
        },
        "id": "w3pF2ncfDPhd",
        "outputId": "37b3afbc-93e4-4610-b3a5-5775373e3cea"
      },
      "execution_count": 21,
      "outputs": [
        {
          "output_type": "stream",
          "name": "stdout",
          "text": [
            "2.302584092994546\n",
            "2.302584092994546\n",
            "2.302584092994546\n",
            "0.510825457099338\n"
          ]
        }
      ]
    },
    {
      "cell_type": "markdown",
      "source": [
        "CEE 는 정답에 관한 수치만 바뀐다\n",
        "\n",
        "log함수를 쓴 이유에 관하여"
      ],
      "metadata": {
        "id": "y5G44qp9EGwi"
      }
    },
    {
      "cell_type": "code",
      "source": [
        "x=np.arange(0,10,0.1)\n",
        "y=np.log(x)\n",
        "zero=np.zeros(len(x))\n",
        "plt.plot(x,y)\n",
        "plt.plot(x,zero,color='black')\n",
        "plt.plot(zero,y,color='black')\n",
        "plt.grid() \n",
        "plt.show()"
      ],
      "metadata": {
        "colab": {
          "base_uri": "https://localhost:8080/",
          "height": 320
        },
        "id": "PlPao88MIr8u",
        "outputId": "5006ca41-63ed-48cc-ed94-d13669b51a0b"
      },
      "execution_count": 31,
      "outputs": [
        {
          "output_type": "stream",
          "name": "stderr",
          "text": [
            "/usr/local/lib/python3.7/dist-packages/ipykernel_launcher.py:2: RuntimeWarning: divide by zero encountered in log\n",
            "  \n"
          ]
        },
        {
          "output_type": "display_data",
          "data": {
            "text/plain": [
              "<Figure size 432x288 with 1 Axes>"
            ],
            "image/png": "[encoded data removed]"
          },
          "metadata": {
            "needs_background": "light"
          }
        }
      ]
    },
    {
      "cell_type": "code",
      "source": [
        "x_1=np.arange(0.01,1,0.01)\n",
        "y_1=-np.log(x_1)\n",
        "\n",
        "plt.plot(x_1,y_1)\n",
        "plt.show()"
      ],
      "metadata": {
        "colab": {
          "base_uri": "https://localhost:8080/",
          "height": 265
        },
        "id": "V8zvzy1EJNVA",
        "outputId": "a5eb5f98-c7b5-4ea9-fa5e-684f5f0c5cae"
      },
      "execution_count": 36,
      "outputs": [
        {
          "output_type": "display_data",
          "data": {
            "text/plain": [
              "<Figure size 432x288 with 1 Axes>"
            ],
            "image/png": "[encoded data removed]"
          },
          "metadata": {
            "needs_background": "light"
          }
        }
      ]
    },
    {
      "cell_type": "markdown",
      "source": [
        "x가 1보다 작은 부분이 아웃풋이 0.~ 값으로 나오기 때문에 위의 -log식을 사용한다 정답과 다를 수록 매우 높은 수치로 다른 값이 나올 것이다\n"
      ],
      "metadata": {
        "id": "FB0ZgJwlKegc"
      }
    }
  ]
}