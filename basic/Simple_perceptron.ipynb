{
  "nbformat": 4,
  "nbformat_minor": 0,
  "metadata": {
    "colab": {
      "name": "Simple perceptron.ipynb",
      "provenance": [],
      "collapsed_sections": [],
      "mount_file_id": "1T-r-PBi8myjNLL6i_h0XbbleBgj7H4Ko",
      "authorship_tag": "ABX9TyNkzvPtIoq/UC9z6ye41+Gt",
      "include_colab_link": true
    },
    "kernelspec": {
      "name": "python3",
      "display_name": "Python 3"
    },
    "language_info": {
      "name": "python"
    }
  },
  "cells": [
    {
      "cell_type": "markdown",
      "metadata": {
        "id": "view-in-github",
        "colab_type": "text"
      },
      "source": [
        "<a href=\"https://colab.research.google.com/github/aslla77/practice-Python/blob/main/basic/Simple_perceptron.ipynb\" target=\"_parent\"><img src=\"https://colab.research.google.com/assets/colab-badge.svg\" alt=\"Open In Colab\"/></a>"
      ]
    },
    {
      "cell_type": "code",
      "execution_count": null,
      "metadata": {
        "colab": {
          "base_uri": "https://localhost:8080/"
        },
        "id": "e5giCte1SPuW",
        "outputId": "c8f693bb-fb3a-4236-e49e-e7db377fd745"
      },
      "outputs": [
        {
          "output_type": "stream",
          "name": "stdout",
          "text": [
            "[-1.00000000e+00 -9.00000000e-01 -8.00000000e-01 -7.00000000e-01\n",
            " -6.00000000e-01 -5.00000000e-01 -4.00000000e-01 -3.00000000e-01\n",
            " -2.00000000e-01 -1.00000000e-01 -2.22044605e-16  1.00000000e-01\n",
            "  2.00000000e-01  3.00000000e-01  4.00000000e-01  5.00000000e-01\n",
            "  6.00000000e-01  7.00000000e-01  8.00000000e-01  9.00000000e-01\n",
            "  1.00000000e+00  1.10000000e+00  1.20000000e+00  1.30000000e+00\n",
            "  1.40000000e+00  1.50000000e+00  1.60000000e+00  1.70000000e+00\n",
            "  1.80000000e+00  1.90000000e+00]\n"
          ]
        }
      ],
      "source": [
        "import numpy as np\n",
        "import matplotlib.pyplot as plt\n",
        "\n",
        "x=np.arange(-1,2,0.1)\n",
        "print(x)"
      ]
    },
    {
      "cell_type": "code",
      "source": [
        "y=3*x+2\n",
        "print(y)\n",
        "\n",
        "x0=[0,]*len(x)\n",
        "y0=[0,]*len(y)\n",
        "print(x0)\n",
        "print(y0)"
      ],
      "metadata": {
        "colab": {
          "base_uri": "https://localhost:8080/"
        },
        "id": "oYI0__WFYkSk",
        "outputId": "70056950-8026-48da-94f7-be8595331ce5"
      },
      "execution_count": null,
      "outputs": [
        {
          "output_type": "stream",
          "name": "stdout",
          "text": [
            "[-1.  -0.7 -0.4 -0.1  0.2  0.5  0.8  1.1  1.4  1.7  2.   2.3  2.6  2.9\n",
            "  3.2  3.5  3.8  4.1  4.4  4.7  5.   5.3  5.6  5.9  6.2  6.5  6.8  7.1\n",
            "  7.4  7.7]\n",
            "[0, 0, 0, 0, 0, 0, 0, 0, 0, 0, 0, 0, 0, 0, 0, 0, 0, 0, 0, 0, 0, 0, 0, 0, 0, 0, 0, 0, 0, 0]\n",
            "[0, 0, 0, 0, 0, 0, 0, 0, 0, 0, 0, 0, 0, 0, 0, 0, 0, 0, 0, 0, 0, 0, 0, 0, 0, 0, 0, 0, 0, 0]\n"
          ]
        }
      ]
    },
    {
      "cell_type": "code",
      "source": [
        "plt.plot(x,y, label='y=3*x+2')\n",
        "plt.plot(x0,y,'k')\n",
        "plt.plot(x,y0,'k')\n",
        "plt.legend()\n",
        "\n",
        "plt.grid()\n",
        "plt.show()"
      ],
      "metadata": {
        "colab": {
          "base_uri": "https://localhost:8080/",
          "height": 266
        },
        "id": "d7mMNDesYsor",
        "outputId": "14815425-58da-48dd-8ace-abeeed4b9ebd"
      },
      "execution_count": null,
      "outputs": [
        {
          "output_type": "display_data",
          "data": {
            "text/plain": [
              "<Figure size 432x288 with 1 Axes>"
            ],
            "image/png": "[encoded data removed]"
          },
          "metadata": {
            "needs_background": "light"
          }
        }
      ]
    },
    {
      "cell_type": "code",
      "source": [
        "def AND(x1, x2):\n",
        "  w1,w2,theta=0.5,0.5,0.7\n",
        "  tmp=x1*w1+w2*x2\n",
        "  if tmp <=theta:\n",
        "    return 0\n",
        "  else:\n",
        "    return 1\n"
      ],
      "metadata": {
        "id": "u3OjGOYlY_0T"
      },
      "execution_count": null,
      "outputs": []
    },
    {
      "cell_type": "code",
      "source": [
        "AND(1,1)"
      ],
      "metadata": {
        "colab": {
          "base_uri": "https://localhost:8080/"
        },
        "id": "wHwO6YxJ9bke",
        "outputId": "f12a9cf7-322a-4b08-b4d8-993d37bb6466"
      },
      "execution_count": null,
      "outputs": [
        {
          "output_type": "execute_result",
          "data": {
            "text/plain": [
              "1"
            ]
          },
          "metadata": {},
          "execution_count": 7
        }
      ]
    },
    {
      "cell_type": "code",
      "source": [
        "def AND(x1, x2):\n",
        "  x=np.array([x1,x2])\n",
        "  w=np.array([0.5,0.5])\n",
        "  b=-0.7\n",
        "  tmp=np.sum(w*x)+b\n",
        "  if tmp <=0:\n",
        "    return 0\n",
        "  else:\n",
        "    return 1\n"
      ],
      "metadata": {
        "id": "SHX3RvG99pzC"
      },
      "execution_count": null,
      "outputs": []
    },
    {
      "cell_type": "code",
      "source": [
        "print(AND(0,1), AND(1,1))"
      ],
      "metadata": {
        "colab": {
          "base_uri": "https://localhost:8080/"
        },
        "id": "ItRVmNGZ-fjO",
        "outputId": "baeb637f-ca07-4e83-e633-704c5929965e"
      },
      "execution_count": null,
      "outputs": [
        {
          "output_type": "stream",
          "name": "stdout",
          "text": [
            "0 1\n"
          ]
        }
      ]
    },
    {
      "cell_type": "code",
      "source": [
        "def OR(x1, x2):\n",
        "  x=np.array([x1,x2])\n",
        "  w=np.array([0.5,0.5])\n",
        "  b=-0.2\n",
        "  tmp=np.sum(w*x)+b\n",
        "  if tmp <=0:\n",
        "    return 0\n",
        "  else:\n",
        "    return 1\n"
      ],
      "metadata": {
        "id": "v84G-00_-xpF"
      },
      "execution_count": null,
      "outputs": []
    },
    {
      "cell_type": "code",
      "source": [
        "print(OR(0,0),OR(1,0),OR(1,1))"
      ],
      "metadata": {
        "colab": {
          "base_uri": "https://localhost:8080/"
        },
        "id": "bhiMOSo7-48s",
        "outputId": "56a6db84-10cc-41c9-dd29-eec706e110e2"
      },
      "execution_count": null,
      "outputs": [
        {
          "output_type": "stream",
          "name": "stdout",
          "text": [
            "0 1 1\n"
          ]
        }
      ]
    },
    {
      "cell_type": "code",
      "source": [
        "#내가 만든거\n",
        "def NAND(x1, x2):\n",
        "  x=np.array([x1,x2])\n",
        "  w=np.array([0.5,0.5])\n",
        "  b=-0.5\n",
        "  tmp=np.sum(w*x)+b\n",
        "  if tmp <=0:\n",
        "    return 1\n",
        "  else:\n",
        "    return 0\n",
        "\n",
        "\n",
        "#강의에서 사용한 함수\n",
        "\n",
        "def NAND(x1, x2):\n",
        "  x=np.array([x1,x2])\n",
        "  w=np.array([-0.5,-0.5])\n",
        "  b=0.7\n",
        "  tmp=np.sum(w*x)+b\n",
        "  if tmp <=0:\n",
        "    return 0\n",
        "  else:\n",
        "    return 1\n",
        "  \n",
        "  #퍼셉트론 함수는 w값과 b값을 설정 해주는 것\n",
        "  #W와 b에 대해서 찾는 것"
      ],
      "metadata": {
        "id": "Q8IlBJ46_NeV"
      },
      "execution_count": null,
      "outputs": []
    },
    {
      "cell_type": "code",
      "source": [
        "print(NAND(0,0),NAND(1,0),NAND(0,1),NAND(1,1))"
      ],
      "metadata": {
        "colab": {
          "base_uri": "https://localhost:8080/"
        },
        "id": "LsudFviO_qTL",
        "outputId": "cbe14c52-7e02-4470-ac42-834d18910eda"
      },
      "execution_count": null,
      "outputs": [
        {
          "output_type": "stream",
          "name": "stdout",
          "text": [
            "1 1 1 0\n"
          ]
        }
      ]
    }
  ]
}