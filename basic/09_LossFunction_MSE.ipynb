{
  "nbformat": 4,
  "nbformat_minor": 0,
  "metadata": {
    "colab": {
      "name": "09_LossFunction_MSE.ipynb",
      "provenance": [],
      "collapsed_sections": [],
      "mount_file_id": "1-GND18exWk06toOJG5e1isZHNA30LAv2",
      "authorship_tag": "ABX9TyNLrYGZR825ZUnmHfMDISBs",
      "include_colab_link": true
    },
    "kernelspec": {
      "name": "python3",
      "display_name": "Python 3"
    },
    "language_info": {
      "name": "python"
    }
  },
  "cells": [
    {
      "cell_type": "markdown",
      "metadata": {
        "id": "view-in-github",
        "colab_type": "text"
      },
      "source": [
        "<a href=\"https://colab.research.google.com/github/aslla77/practice-Python/blob/main/basic/09_LossFunction_MSE.ipynb\" target=\"_parent\"><img src=\"https://colab.research.google.com/assets/colab-badge.svg\" alt=\"Open In Colab\"/></a>"
      ]
    },
    {
      "cell_type": "markdown",
      "source": [
        "##MSE :해답과 최종값이 얼마나 오차값이 생기는 지에 대해 알수있는 수식\n",
        "####MSE(Mean Square Error)\n",
        "\n",
        "$$MSE= {1\\over N}\\sum_{i=1}^N (y_i-t_i)^2   $$\n",
        "\n",
        "아웃풋의 확률과 정답의 확률과 뺀 값을 제곱하여 더하는 계산 했을때 수치가 나올것이다\n",
        "\n",
        "이것을 W,b를 바꿔가면서 계속 계산을 하면 나오는 수치가 낮아지면 더 정답에 가까워 지는것이고 W,b를 바꾸는 방향이 정확해진다는 것이다. 오히려 증가되면 W,b가 바꾸는 방향성이 잘 못 되었다는 것이다."
      ],
      "metadata": {
        "id": "LebRUyFVDsqc"
      }
    },
    {
      "cell_type": "code",
      "execution_count": null,
      "metadata": {
        "id": "7wwBAu4ZCZxd",
        "colab": {
          "base_uri": "https://localhost:8080/"
        },
        "outputId": "087041d7-5436-41ab-a4bd-9bd6c09693e9"
      },
      "outputs": [
        {
          "output_type": "stream",
          "name": "stdout",
          "text": [
            "0.0\n",
            "1.1949999999999998\n",
            "0.1195\n"
          ]
        },
        {
          "output_type": "execute_result",
          "data": {
            "text/plain": [
              "0.1195"
            ]
          },
          "metadata": {},
          "execution_count": 3
        }
      ],
      "source": [
        "import numpy as np\n",
        "import matplotlib.pyplot as plt\n",
        "\n",
        "#t는 정답을 나타내고 있다.\n",
        "#y는 아웃풋의 확률\n",
        "t=[0,0,1,0,0,0,0,0,0,0]\n",
        "y=[.1,.05,.1,0,.05,.1,.0,.6,.0,.0]\n",
        "\n",
        "print(sum((np.array(t)-np.array(y))))\n",
        "print(sum((np.array(t)-np.array(y))**2))\n",
        "print(sum((np.array(t)-np.array(y))**2/len(y)))\n",
        "\n",
        "def mean_square_error(y,t):\n",
        "  return sum((np.array(t)-np.array(y))**2/len(y))\n",
        "\n",
        "mean_square_error(y,t)"
      ]
    },
    {
      "cell_type": "code",
      "source": [
        "y_1=[.1,.05,.6,0,.05,.1,.0,.1,.0,.0]\n",
        "mean_square_error(y_1,t)"
      ],
      "metadata": {
        "id": "WluBsc-K4gdE",
        "colab": {
          "base_uri": "https://localhost:8080/"
        },
        "outputId": "a523da07-df9f-4da4-cfa1-59c57366d808"
      },
      "execution_count": null,
      "outputs": [
        {
          "output_type": "execute_result",
          "data": {
            "text/plain": [
              "0.019500000000000007"
            ]
          },
          "metadata": {},
          "execution_count": 5
        }
      ]
    },
    {
      "cell_type": "markdown",
      "source": [
        "바꿀때마다 MSE값은 바뀌고 이번에 결과값이 작아진 것은 ㄱ"
      ],
      "metadata": {
        "id": "MeMyU2uk5SkG"
      }
    },
    {
      "cell_type": "code",
      "source": [
        ""
      ],
      "metadata": {
        "id": "OIqqfm6-IJCS"
      },
      "execution_count": null,
      "outputs": []
    }
  ]
}