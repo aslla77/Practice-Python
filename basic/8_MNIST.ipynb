{
  "nbformat": 4,
  "nbformat_minor": 0,
  "metadata": {
    "colab": {
      "name": "8_MNIST.ipynb",
      "provenance": [],
      "collapsed_sections": [],
      "mount_file_id": "1W5i9PkSPwfFsVrs7IalrPbA4eY6HAnVg",
      "authorship_tag": "ABX9TyODfdUd46nMxvhcvzshRT0x",
      "include_colab_link": true
    },
    "kernelspec": {
      "name": "python3",
      "display_name": "Python 3"
    },
    "language_info": {
      "name": "python"
    }
  },
  "cells": [
    {
      "cell_type": "markdown",
      "metadata": {
        "id": "view-in-github",
        "colab_type": "text"
      },
      "source": [
        "<a href=\"https://colab.research.google.com/github/aslla77/practice-Python/blob/main/basic/8_MNIST.ipynb\" target=\"_parent\"><img src=\"https://colab.research.google.com/assets/colab-badge.svg\" alt=\"Open In Colab\"/></a>"
      ]
    },
    {
      "cell_type": "markdown",
      "source": [
        "MNIST: 손으로 쓴 숫자들로 이루어진 대형 데이터 베이스 \n",
        "\n",
        "화상처리(숫자인식) 시스템의 테스트"
      ],
      "metadata": {
        "id": "PdXwg2SePSYS"
      }
    },
    {
      "cell_type": "code",
      "execution_count": 72,
      "metadata": {
        "colab": {
          "base_uri": "https://localhost:8080/",
          "height": 281
        },
        "id": "U1D3iEAwKmME",
        "outputId": "204e7609-61cf-4217-a14c-aaada0c0dd2b"
      },
      "outputs": [
        {
          "output_type": "display_data",
          "data": {
            "text/plain": [
              "<Figure size 288x288 with 1 Axes>"
            ],
            "image/png": "[encoded data removed]"
          },
          "metadata": {
            "needs_background": "light"
          }
        }
      ],
      "source": [
        "import numpy as np\n",
        "import matplotlib.pyplot as plt\n",
        "import tensorflow as tf\n",
        "import pickle\n",
        "import time\n",
        "\n",
        "#  MNIST dataset import\n",
        "mnist = tf.keras.datasets.mnist\n",
        "(x_train, y_train), (x_test, y_test) = mnist.load_data()\n",
        "\n",
        "\n",
        "# x_train, x_test = x_train/255.0, x_test/255.0\n",
        "\n",
        "def show(a,b,n):\n",
        "  image = a[n]\n",
        "  image_reshaped = image.reshape(28, 28)\n",
        "  image_reshaped.shape\n",
        "  plt.figure(figsize = (4, 4))\n",
        "  try:\n",
        "    label =b[n]\n",
        "    plt.title(\"sample of \" + str(label))\n",
        "  except:\n",
        "    plt.title(\"sample of \" + str(n))\n",
        "  plt.imshow(image_reshaped, cmap=\"gray\")\n",
        "  plt.show()\n",
        "\n",
        "show(x_train,y_train,0)\n",
        "\n",
        "        "
      ]
    },
    {
      "cell_type": "code",
      "source": [
        "def sigmoid(x):\n",
        "  return 1/(1+np.exp(-x))\n",
        "\n",
        "def sorftmax(x):\n",
        "  c=np.max(x)\n",
        "  return np.exp(x-c)/np.sum(np.exp(x-c))"
      ],
      "metadata": {
        "id": "xoEM-21Nmn1Q"
      },
      "execution_count": 42,
      "outputs": []
    },
    {
      "cell_type": "markdown",
      "source": [
        "학습할 자료\n",
        "-x_train, y_train\n",
        "\n",
        "검증할 데이터\n",
        "-x_test ,y_test"
      ],
      "metadata": {
        "id": "avIh-rGFktTj"
      }
    },
    {
      "cell_type": "code",
      "source": [
        "#x-(데이터의 갯수 , 이미지 행렬)\n",
        "#y-(데이터의 라벨)\n",
        "print(x_train.shape)\n",
        "print(y_train.shape)\n",
        "print(x_test.shape)\n",
        "print(y_test.shape)"
      ],
      "metadata": {
        "colab": {
          "base_uri": "https://localhost:8080/"
        },
        "id": "_IBMxf7ka9QI",
        "outputId": "8496dc5f-185b-4862-d2fb-778e39392ac3"
      },
      "execution_count": 43,
      "outputs": [
        {
          "output_type": "stream",
          "name": "stdout",
          "text": [
            "(60000, 28, 28)\n",
            "(60000,)\n",
            "(10000, 28, 28)\n",
            "(10000,)\n"
          ]
        }
      ]
    },
    {
      "cell_type": "code",
      "source": [
        "def img_show(img):\n",
        "  image_reshaped = img.reshape(28, 28)\n",
        "  image_reshaped.shape\n",
        "  plt.figure(figsize = (4, 4))\n",
        "  plt.imshow(image_reshaped, cmap=\"gray\")\n",
        "  plt.show()\n",
        "\n"
      ],
      "metadata": {
        "id": "UnFXY2DFljS7"
      },
      "execution_count": 44,
      "outputs": []
    },
    {
      "cell_type": "code",
      "source": [
        "img=x_train[35]\n",
        "label=y_train[35]\n",
        "print(label)\n",
        "img_show(img)"
      ],
      "metadata": {
        "colab": {
          "base_uri": "https://localhost:8080/",
          "height": 282
        },
        "id": "YA07xm6Do-5D",
        "outputId": "85aeb83d-9b8a-4336-c85c-5d077413d87f"
      },
      "execution_count": 45,
      "outputs": [
        {
          "output_type": "stream",
          "name": "stdout",
          "text": [
            "5\n"
          ]
        },
        {
          "output_type": "display_data",
          "data": {
            "text/plain": [
              "<Figure size 288x288 with 1 Axes>"
            ],
            "image/png": "[encoded data removed]"
          },
          "metadata": {
            "needs_background": "light"
          }
        }
      ]
    },
    {
      "cell_type": "markdown",
      "source": [
        "입력은 784 (28*28) 이고 결과값은 0~9까지 이고\n",
        "\n",
        "그사이 히든 레이어가 존재 하는데 그 히든 레이어의 데이터값이 sample_weight.pkl에 담겨있다\n",
        "\n",
        "이미 만들어진 것이 얼마나 작동이 잘되는지를 확인 할 것이다."
      ],
      "metadata": {
        "id": "2UQgva9prAzU"
      }
    },
    {
      "cell_type": "code",
      "source": [
        "def get_data():\n",
        "  (x_train, y_train), (x_test, y_test) = mnist.load_data()\n",
        "  return x_test,y_test\n",
        "\n",
        "def init_network():\n",
        "  with open('/content/drive/MyDrive/Colab Notebooks/sample_weight.pkl','rb') as f:\n",
        "    network=pickle.load(f)\n",
        "  return network\n",
        "\n",
        "def predict(network,x):\n",
        "  W1,W2,W3= network['W1'],network['W2'],network['W3']\n",
        "  b1,b2,b3= network['b1'],network['b2'],network['b3']\n",
        "  a1=np.dot(x,W1)+b1\n",
        "  z1=sigmoid(a1)\n",
        "  a2=np.dot(z1,W2)+b2\n",
        "  z2=sigmoid(a2)\n",
        "  a3=np.dot(a2,W3)+b3\n",
        "  y=sorftmax(a3)\n",
        "  return y\n"
      ],
      "metadata": {
        "id": "9BXwyGltpz0b"
      },
      "execution_count": 69,
      "outputs": []
    },
    {
      "cell_type": "code",
      "source": [
        "start = time.time()\n",
        "x,t=get_data()\n",
        "x=x.reshape(x.shape[0],784)\n",
        "network=init_network()\n",
        "accuracy_cnt=0\n",
        "\n",
        "for i in range(len(x)):\n",
        "  y=predict(network,x[i])\n",
        "  p=np.argmax(y)\n",
        "  if p==t[i]:\n",
        "    accuracy_cnt+=1\n",
        "\n",
        "print(\"Accurancy:\"+ str(float(accuracy_cnt/len(x))))\n",
        "\n",
        "time_1=time.time() - start\n",
        "print(\"time :\", time_1)  # 현재시각 - 시작시간 = 실행 시간"
      ],
      "metadata": {
        "colab": {
          "base_uri": "https://localhost:8080/"
        },
        "id": "BnUppWEnsTJd",
        "outputId": "473d19d6-6c5d-4f92-b1db-ff51d9546e00"
      },
      "execution_count": 79,
      "outputs": [
        {
          "output_type": "stream",
          "name": "stderr",
          "text": [
            "/usr/local/lib/python3.7/dist-packages/ipykernel_launcher.py:2: RuntimeWarning: overflow encountered in exp\n",
            "  \n"
          ]
        },
        {
          "output_type": "stream",
          "name": "stdout",
          "text": [
            "Accurancy:0.8923\n",
            "time : 1.2642865180969238\n"
          ]
        }
      ]
    },
    {
      "cell_type": "code",
      "source": [
        "print(network['W1'].shape)\n",
        "print(network['W2'].shape)\n",
        "print(network['W3'].shape)\n"
      ],
      "metadata": {
        "colab": {
          "base_uri": "https://localhost:8080/"
        },
        "id": "bc8_qSRhvltZ",
        "outputId": "7e750623-000c-48e0-f4dd-b5276439143e"
      },
      "execution_count": 50,
      "outputs": [
        {
          "output_type": "stream",
          "name": "stdout",
          "text": [
            "(784, 50)\n",
            "(50, 100)\n",
            "(100, 10)\n"
          ]
        }
      ]
    },
    {
      "cell_type": "markdown",
      "source": [
        "#해석\n",
        "(784x1 or 1x784) * 784x50 =1x50 >\n",
        "\n",
        "1x50 * 50x100= 1x100 >\n",
        "\n",
        "1x100 * 100x10= 1x10\n",
        "\n",
        "마지막 10은 0~9까지의 확률이 나오게된다 소프트 맥스를 활용하여 가장 큰 값을 출력\n",
        "\n",
        "그중 가장 큰 값을 np.max로 가져오고 그값이 y_test의 라벨값과 맞는지 확인\n",
        "\n",
        "그후 예측이 맞는지 확인 해보게 된다"
      ],
      "metadata": {
        "id": "_SMQpxNzwgaq"
      }
    },
    {
      "cell_type": "markdown",
      "source": [
        "#배치 처리\n",
        "\n",
        "\n",
        "*   io(입력 input 출력 output) 에 상대적으로 많은 시간 소요\n",
        "*   메모리가 허용하는 한 한번에 많은 데이터를 읽어옴\n",
        "*   1장씩 사진을 처리하면 1장씩 10000번을 읽어와야하지만\n",
        "*   100장씩 사진을 처리하면 100장씩 100번을 읽어오면됨\n",
        "*   즉 1장씩 만번보다 100장씩 100번 반복에 걸리는 시간이 짧음\n",
        "*   큰 배열을 계산하는 것이 작은 배열을 여러번 계산하는 것보다 빠름"
      ],
      "metadata": {
        "id": "r-BkthZGz53J"
      }
    },
    {
      "cell_type": "code",
      "source": [
        "start = time.time()\n",
        "x,t=get_data()\n",
        "x=x.reshape(x.shape[0],784)\n",
        "network=init_network()\n",
        "batch_size=100\n",
        "accuracy_cnt=0\n",
        "\n",
        "for i in range(0,len(x),100):\n",
        "  x_batch=x[i:i+batch_size]\n",
        "  y_batch=predict(network, x_batch)\n",
        "  p=np.argmax(y_batch, axis=1)\n",
        "  accuracy_cnt+=np.sum(p==t[i:i+batch_size])\n",
        "\n",
        "print(\"Accurancy:\"+ str(float(accuracy_cnt/len(x))))\n",
        "\n",
        "time_2=time.time() - start\n",
        "print(\"time :\", time_2)  # 현재시각 - 시작시간 = 실행 시간"
      ],
      "metadata": {
        "colab": {
          "base_uri": "https://localhost:8080/"
        },
        "id": "UsnoIPJbww2C",
        "outputId": "3ef3f2fb-296f-4bfc-a0a1-411fc0c8e6a1"
      },
      "execution_count": 81,
      "outputs": [
        {
          "output_type": "stream",
          "name": "stdout",
          "text": [
            "Accurancy:0.8923\n",
            "time : 0.43556976318359375\n"
          ]
        },
        {
          "output_type": "stream",
          "name": "stderr",
          "text": [
            "/usr/local/lib/python3.7/dist-packages/ipykernel_launcher.py:2: RuntimeWarning: overflow encountered in exp\n",
            "  \n"
          ]
        }
      ]
    },
    {
      "cell_type": "code",
      "source": [
        "print('\\n한개씩의 소모 시간:',time_1,'\\n100개씩의 소모 시간:',time_2,'\\n시간차:',time_1 - time_2)"
      ],
      "metadata": {
        "colab": {
          "base_uri": "https://localhost:8080/"
        },
        "id": "Hox90oqH4Q12",
        "outputId": "2f253401-dad2-4d03-a5c9-0c1398f42e98"
      },
      "execution_count": 85,
      "outputs": [
        {
          "output_type": "stream",
          "name": "stdout",
          "text": [
            "\n",
            "한개씩의 소모 시간: 1.2642865180969238 \n",
            "100개씩의 소모 시간: 0.43556976318359375 \n",
            "시간차: 0.8287167549133301\n"
          ]
        }
      ]
    },
    {
      "cell_type": "markdown",
      "source": [
        "확실히 코드 실행에서 시간이 차이가 난다\n",
        "\n",
        "Mean Square Error (MSE)\n",
        "\n",
        "MSE=1/N(sum((y-t)^2))"
      ],
      "metadata": {
        "id": "stflZupG4CXt"
      }
    },
    {
      "cell_type": "code",
      "source": [
        "#  모델 \n",
        "model = tf.keras.models.Sequential([\n",
        "    tf.keras.layers.Flatten(input_shape=(28, 28)),\n",
        "    tf.keras.layers.Dense(512, activation=tf.nn.relu),\n",
        "    tf.keras.layers.Dense(10, activation=tf.nn.softmax)\n",
        "])\n",
        "\n",
        "#  모델 컴파일\n",
        "model.compile(optimizer='adam',\n",
        "              loss='sparse_categorical_crossentropy',\n",
        "              metrics=['accuracy'])\n",
        "\n",
        "#  모델 훈련\n",
        "model.fit(x_train, y_train, epochs=5)\n",
        "\n",
        "#  정확도 \n",
        "test_loss, test_acc = model.evaluate(x_test, y_test)\n",
        "print('정확도:', test_acc)"
      ],
      "metadata": {
        "colab": {
          "base_uri": "https://localhost:8080/"
        },
        "id": "KGAQOT3Z7NVU",
        "outputId": "21dd4427-47c8-4f14-f222-805fa28ed95a"
      },
      "execution_count": 86,
      "outputs": [
        {
          "output_type": "stream",
          "name": "stdout",
          "text": [
            "Epoch 1/5\n",
            "1875/1875 [==============================] - 13s 7ms/step - loss: 2.4982 - accuracy: 0.9080\n",
            "Epoch 2/5\n",
            "1875/1875 [==============================] - 9s 5ms/step - loss: 0.3343 - accuracy: 0.9363\n",
            "Epoch 3/5\n",
            "1875/1875 [==============================] - 10s 5ms/step - loss: 0.2976 - accuracy: 0.9418\n",
            "Epoch 4/5\n",
            "1875/1875 [==============================] - 10s 5ms/step - loss: 0.2769 - accuracy: 0.9448\n",
            "Epoch 5/5\n",
            "1875/1875 [==============================] - 10s 5ms/step - loss: 0.2439 - accuracy: 0.9487\n",
            "313/313 [==============================] - 1s 3ms/step - loss: 0.2848 - accuracy: 0.9473\n",
            "정확도: 0.9473000168800354\n"
          ]
        }
      ]
    }
  ]
}