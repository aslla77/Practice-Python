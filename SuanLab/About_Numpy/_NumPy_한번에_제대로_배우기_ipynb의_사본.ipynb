{
  "nbformat": 4,
  "nbformat_minor": 0,
  "metadata": {
    "colab": {
      "name": "_NumPy 한번에 제대로 배우기.ipynb의 사본",
      "provenance": [],
      "collapsed_sections": [],
      "toc_visible": true,
      "include_colab_link": true
    },
    "kernelspec": {
      "name": "python3",
      "display_name": "Python 3"
    }
  },
  "cells": [
    {
      "cell_type": "markdown",
      "metadata": {
        "id": "view-in-github",
        "colab_type": "text"
      },
      "source": [
        "<a href=\"https://colab.research.google.com/github/aslla77/practice-Python/blob/main/SuanLab/About_Numpy/_NumPy_%ED%95%9C%EB%B2%88%EC%97%90_%EC%A0%9C%EB%8C%80%EB%A1%9C_%EB%B0%B0%EC%9A%B0%EA%B8%B0_ipynb%EC%9D%98_%EC%82%AC%EB%B3%B8.ipynb\" target=\"_parent\"><img src=\"https://colab.research.google.com/assets/colab-badge.svg\" alt=\"Open In Colab\"/></a>"
      ]
    },
    {
      "cell_type": "code",
      "source": [
        "from google.colab import drive\n",
        "drive.mount('/content/drive')"
      ],
      "metadata": {
        "colab": {
          "base_uri": "https://localhost:8080/"
        },
        "id": "0Eh32ct0-DlM",
        "outputId": "0013168c-58d9-4612-8277-d7a2fcd349ab"
      },
      "execution_count": 2,
      "outputs": [
        {
          "output_type": "stream",
          "name": "stdout",
          "text": [
            "Mounted at /content/drive\n"
          ]
        }
      ]
    },
    {
      "cell_type": "markdown",
      "metadata": {
        "id": "J_FfQuu2Tb30"
      },
      "source": [
        "# NumPy 한번에 제대로 배우기"
      ]
    },
    {
      "cell_type": "markdown",
      "metadata": {
        "id": "Zgrrh9T2vs8u"
      },
      "source": [
        "\n",
        "\n",
        "---\n",
        "\n"
      ]
    },
    {
      "cell_type": "markdown",
      "metadata": {
        "id": "oR5hNBH-Retd"
      },
      "source": [
        "## NumPy 특징\n",
        "\n",
        "* Numerical Python의 약자\n",
        "* 고성능 과학 계산용 패키지로 강력한 N차원 배열 객체\n",
        "* 범용적 데이터 처리에 사용 가능한 다차원 컨테이너\n",
        "* 정교한 브로드캐스팅(broadcasting) 기능\n",
        "* 파이썬의 자료형 list와 비슷하지만, 더 빠르고 메모리를 효율적으로 관리\n",
        "* 반복문 없이 데이터 배열에 대한 처리를 지원하여 빠르고 편리\n",
        "* 데이터 과학 도구에 대한 생태계의 핵심을 이루고 있음"
      ]
    },
    {
      "cell_type": "code",
      "metadata": {
        "id": "R9klTdhLQ564",
        "colab": {
          "base_uri": "https://localhost:8080/",
          "height": 36
        },
        "outputId": "5bac46c9-8dab-4763-9a58-59d8724e79da"
      },
      "source": [
        "import numpy as np\n",
        "np.__version__"
      ],
      "execution_count": 3,
      "outputs": [
        {
          "output_type": "execute_result",
          "data": {
            "text/plain": [
              "'1.21.6'"
            ],
            "application/vnd.google.colaboratory.intrinsic+json": {
              "type": "string"
            }
          },
          "metadata": {},
          "execution_count": 3
        }
      ]
    },
    {
      "cell_type": "markdown",
      "metadata": {
        "id": "2hSWC5ptGyWP"
      },
      "source": [
        "\n",
        "\n",
        "---\n",
        "\n"
      ]
    },
    {
      "cell_type": "markdown",
      "metadata": {
        "id": "1kgkJZFlVUqk"
      },
      "source": [
        "## 배열 생성"
      ]
    },
    {
      "cell_type": "markdown",
      "metadata": {
        "id": "5eQ4sAkMbzm0"
      },
      "source": [
        "### 리스트로 배열 만들기\n"
      ]
    },
    {
      "cell_type": "code",
      "metadata": {
        "id": "Mtod2jcPWVvV",
        "colab": {
          "base_uri": "https://localhost:8080/"
        },
        "outputId": "fa686421-e2c0-4595-f557-c920a6061b00"
      },
      "source": [
        "a1=np.array([1,2,3])\n",
        "print(a1)\n",
        "print(type(a1))\n",
        "print(a1.shape)\n",
        "print(a1.dtype)"
      ],
      "execution_count": 4,
      "outputs": [
        {
          "output_type": "stream",
          "name": "stdout",
          "text": [
            "[1 2 3]\n",
            "<class 'numpy.ndarray'>\n",
            "(3,)\n",
            "int64\n"
          ]
        }
      ]
    },
    {
      "cell_type": "code",
      "metadata": {
        "id": "vp9tkHH8esXT",
        "colab": {
          "base_uri": "https://localhost:8080/"
        },
        "outputId": "dcab6ec8-0681-433f-8857-298b48a4a226"
      },
      "source": [
        "a2=np.array([[1,2,3],[4,5,6],[7,8,9]])\n",
        "print(a2)"
      ],
      "execution_count": 5,
      "outputs": [
        {
          "output_type": "stream",
          "name": "stdout",
          "text": [
            "[[1 2 3]\n",
            " [4 5 6]\n",
            " [7 8 9]]\n"
          ]
        }
      ]
    },
    {
      "cell_type": "code",
      "metadata": {
        "id": "Baj4gZ2meuJu",
        "colab": {
          "base_uri": "https://localhost:8080/"
        },
        "outputId": "3aaae2f0-d8a7-4c13-c748-c92d4688c84b"
      },
      "source": [
        "a3=np.array([[[1,2,3],[4,5,6],[7,8,9]],\n",
        "             [[1,2,3],[4,5,6],[7,8,9]],\n",
        "             [[1,2,3],[4,5,6],[7,8,9]]])\n",
        "print(a3)\n",
        "print(a3.shape)"
      ],
      "execution_count": 6,
      "outputs": [
        {
          "output_type": "stream",
          "name": "stdout",
          "text": [
            "[[[1 2 3]\n",
            "  [4 5 6]\n",
            "  [7 8 9]]\n",
            "\n",
            " [[1 2 3]\n",
            "  [4 5 6]\n",
            "  [7 8 9]]\n",
            "\n",
            " [[1 2 3]\n",
            "  [4 5 6]\n",
            "  [7 8 9]]]\n",
            "(3, 3, 3)\n"
          ]
        }
      ]
    },
    {
      "cell_type": "markdown",
      "metadata": {
        "id": "PNkKtw4CoSDB"
      },
      "source": [
        "### 배열 생성 및 초기화"
      ]
    },
    {
      "cell_type": "markdown",
      "metadata": {
        "id": "mJVii5p_VfgM"
      },
      "source": [
        "* `zeros()`: 모든 요소를 0으로 초기화"
      ]
    },
    {
      "cell_type": "code",
      "metadata": {
        "id": "W_SF1tVoVTf1",
        "colab": {
          "base_uri": "https://localhost:8080/"
        },
        "outputId": "1deadb22-51ef-45a2-f3e9-2c4ba7d7b966"
      },
      "source": [
        "np.zeros((3,3))"
      ],
      "execution_count": 7,
      "outputs": [
        {
          "output_type": "execute_result",
          "data": {
            "text/plain": [
              "array([[0., 0., 0.],\n",
              "       [0., 0., 0.],\n",
              "       [0., 0., 0.]])"
            ]
          },
          "metadata": {},
          "execution_count": 7
        }
      ]
    },
    {
      "cell_type": "markdown",
      "metadata": {
        "id": "LjYFQrODVqhX"
      },
      "source": [
        "* `ones()`: 모든 요소를 1로 초기화"
      ]
    },
    {
      "cell_type": "code",
      "metadata": {
        "id": "MURoqsMsVeUw",
        "colab": {
          "base_uri": "https://localhost:8080/"
        },
        "outputId": "a4aea003-7572-41e6-b4e2-02249c6cdde2"
      },
      "source": [
        "np.ones((3,3))"
      ],
      "execution_count": 8,
      "outputs": [
        {
          "output_type": "execute_result",
          "data": {
            "text/plain": [
              "array([[1., 1., 1.],\n",
              "       [1., 1., 1.],\n",
              "       [1., 1., 1.]])"
            ]
          },
          "metadata": {},
          "execution_count": 8
        }
      ]
    },
    {
      "cell_type": "markdown",
      "metadata": {
        "id": "jnmm3Cj-cGtx"
      },
      "source": [
        "* `full()`: 모든 요소를 지정한 값으로 초기화"
      ]
    },
    {
      "cell_type": "code",
      "metadata": {
        "id": "oscabrdcV7Ny",
        "colab": {
          "base_uri": "https://localhost:8080/"
        },
        "outputId": "c17f1327-209e-4f84-e02d-113e6228a607"
      },
      "source": [
        "np.full((3,3),10)"
      ],
      "execution_count": 9,
      "outputs": [
        {
          "output_type": "execute_result",
          "data": {
            "text/plain": [
              "array([[10, 10, 10],\n",
              "       [10, 10, 10],\n",
              "       [10, 10, 10]])"
            ]
          },
          "metadata": {},
          "execution_count": 9
        }
      ]
    },
    {
      "cell_type": "markdown",
      "metadata": {
        "id": "0SRI4jbmlIKc"
      },
      "source": [
        "* `eye()`: 단위행렬(identity matrix) 생성\n",
        "  + 주대각선의 원소가 모두 1이고 나머지 원소는 모두 0인 정사각 행렬"
      ]
    },
    {
      "cell_type": "code",
      "metadata": {
        "id": "VceBVLLjk9o5",
        "colab": {
          "base_uri": "https://localhost:8080/"
        },
        "outputId": "e1a8bb17-fa31-4418-c88c-fdd318a92781"
      },
      "source": [
        "np.eye(3)"
      ],
      "execution_count": 10,
      "outputs": [
        {
          "output_type": "execute_result",
          "data": {
            "text/plain": [
              "array([[1., 0., 0.],\n",
              "       [0., 1., 0.],\n",
              "       [0., 0., 1.]])"
            ]
          },
          "metadata": {},
          "execution_count": 10
        }
      ]
    },
    {
      "cell_type": "markdown",
      "metadata": {
        "id": "7CCH1ZMT5R02"
      },
      "source": [
        "* `tri()`: 삼각행렬 생성"
      ]
    },
    {
      "cell_type": "code",
      "metadata": {
        "id": "mLe2Bhj05VYu",
        "colab": {
          "base_uri": "https://localhost:8080/"
        },
        "outputId": "f98521ef-048c-4176-af81-effb9e7c825e"
      },
      "source": [
        "tri=np.tri(3)\n",
        "print(tri,'\\n\\n',tri.T)"
      ],
      "execution_count": 11,
      "outputs": [
        {
          "output_type": "stream",
          "name": "stdout",
          "text": [
            "[[1. 0. 0.]\n",
            " [1. 1. 0.]\n",
            " [1. 1. 1.]] \n",
            "\n",
            " [[1. 1. 1.]\n",
            " [0. 1. 1.]\n",
            " [0. 0. 1.]]\n"
          ]
        }
      ]
    },
    {
      "cell_type": "markdown",
      "metadata": {
        "id": "ObZRA4HclZlO"
      },
      "source": [
        "* `empty()`: 초기화되지 않은 배열 생성\n",
        "  + 초기화가 없어서 배열 생성비용 저렴하고 빠름\n",
        "  + 초기화되지 않아서 기존 메모리 위치에 존재하는 값이 있음"
      ]
    },
    {
      "cell_type": "code",
      "metadata": {
        "id": "I3SoFgiglAkz",
        "colab": {
          "base_uri": "https://localhost:8080/"
        },
        "outputId": "5c9f766b-9b0e-416d-e127-b143e90ef639"
      },
      "source": [
        "np.empty(10)"
      ],
      "execution_count": 12,
      "outputs": [
        {
          "output_type": "execute_result",
          "data": {
            "text/plain": [
              "array([1.90232111e-316, 1.77863633e-322, 0.00000000e+000, 0.00000000e+000,\n",
              "       0.00000000e+000, 1.60094238e+160, 2.10653140e-052, 5.49433381e-090,\n",
              "       7.86931376e-067, 4.34177643e-315])"
            ]
          },
          "metadata": {},
          "execution_count": 12
        }
      ]
    },
    {
      "cell_type": "markdown",
      "metadata": {
        "id": "p3uSl1Ccmi5_"
      },
      "source": [
        "* `_like()`: 지정된 배열과 shape가 같은 행렬 생성\n",
        "  + `np.zeros_like()`\n",
        "  + `np.ones_like()`\n",
        "  + `np.full_like()`\n",
        "  + `np.empty_like()`"
      ]
    },
    {
      "cell_type": "code",
      "metadata": {
        "id": "Ad5RskRRlZLs",
        "colab": {
          "base_uri": "https://localhost:8080/"
        },
        "outputId": "e0b9a91b-d954-434a-e647-f3d99021a33f"
      },
      "source": [
        "np.zeros_like(a1)"
      ],
      "execution_count": 13,
      "outputs": [
        {
          "output_type": "execute_result",
          "data": {
            "text/plain": [
              "array([0, 0, 0])"
            ]
          },
          "metadata": {},
          "execution_count": 13
        }
      ]
    },
    {
      "cell_type": "code",
      "metadata": {
        "id": "KChUHsG003Nf",
        "colab": {
          "base_uri": "https://localhost:8080/"
        },
        "outputId": "a93c5e1e-701d-43bb-83d8-9a770c89f5b2"
      },
      "source": [
        "np.ones_like(a2)"
      ],
      "execution_count": 14,
      "outputs": [
        {
          "output_type": "execute_result",
          "data": {
            "text/plain": [
              "array([[1, 1, 1],\n",
              "       [1, 1, 1],\n",
              "       [1, 1, 1]])"
            ]
          },
          "metadata": {},
          "execution_count": 14
        }
      ]
    },
    {
      "cell_type": "code",
      "metadata": {
        "id": "PUnDz6b305Gg",
        "colab": {
          "base_uri": "https://localhost:8080/"
        },
        "outputId": "810d1da6-3493-4861-dbb0-8ea9e8f540db"
      },
      "source": [
        "np.full_like(a3,10)"
      ],
      "execution_count": 15,
      "outputs": [
        {
          "output_type": "execute_result",
          "data": {
            "text/plain": [
              "array([[[10, 10, 10],\n",
              "        [10, 10, 10],\n",
              "        [10, 10, 10]],\n",
              "\n",
              "       [[10, 10, 10],\n",
              "        [10, 10, 10],\n",
              "        [10, 10, 10]],\n",
              "\n",
              "       [[10, 10, 10],\n",
              "        [10, 10, 10],\n",
              "        [10, 10, 10]]])"
            ]
          },
          "metadata": {},
          "execution_count": 15
        }
      ]
    },
    {
      "cell_type": "markdown",
      "metadata": {
        "id": "apoksGJNrn1z"
      },
      "source": [
        "### 생성한 값으로 배열 생성"
      ]
    },
    {
      "cell_type": "markdown",
      "metadata": {
        "id": "H3nmLct8cnV8"
      },
      "source": [
        "* `arange()`: 정수 범위로 배열 생성"
      ]
    },
    {
      "cell_type": "code",
      "metadata": {
        "id": "mANy4WY4cDKa",
        "colab": {
          "base_uri": "https://localhost:8080/"
        },
        "outputId": "c7194884-0c86-4105-87d3-f069d1382a4d"
      },
      "source": [
        "np.arange(0,10,2)"
      ],
      "execution_count": 16,
      "outputs": [
        {
          "output_type": "execute_result",
          "data": {
            "text/plain": [
              "array([0, 2, 4, 6, 8])"
            ]
          },
          "metadata": {},
          "execution_count": 16
        }
      ]
    },
    {
      "cell_type": "markdown",
      "metadata": {
        "id": "s5kET1e6itlo"
      },
      "source": [
        "* `linspace()`: 범위 내에서 균등 간격의 배열 생성"
      ]
    },
    {
      "cell_type": "code",
      "metadata": {
        "id": "u4q9gI7Zcltz",
        "colab": {
          "base_uri": "https://localhost:8080/"
        },
        "outputId": "27391bb4-8dde-4a3b-e816-99ca22d4fcb4"
      },
      "source": [
        "np.linspace(0,10,5)"
      ],
      "execution_count": 17,
      "outputs": [
        {
          "output_type": "execute_result",
          "data": {
            "text/plain": [
              "array([ 0. ,  2.5,  5. ,  7.5, 10. ])"
            ]
          },
          "metadata": {},
          "execution_count": 17
        }
      ]
    },
    {
      "cell_type": "markdown",
      "metadata": {
        "id": "Eq26d7T3nnAH"
      },
      "source": [
        "* `logspace()`: 범위 내에서 균등간격으로 로그 스케일로 배열 생성"
      ]
    },
    {
      "cell_type": "code",
      "metadata": {
        "id": "-O29WBVEnyXX",
        "colab": {
          "base_uri": "https://localhost:8080/"
        },
        "outputId": "90cc3a4f-ab7c-4eb0-96ea-fefe7435d363"
      },
      "source": [
        "np.logspace(0,10,5)"
      ],
      "execution_count": 18,
      "outputs": [
        {
          "output_type": "execute_result",
          "data": {
            "text/plain": [
              "array([1.00000000e+00, 3.16227766e+02, 1.00000000e+05, 3.16227766e+07,\n",
              "       1.00000000e+10])"
            ]
          },
          "metadata": {},
          "execution_count": 18
        }
      ]
    },
    {
      "cell_type": "markdown",
      "metadata": {
        "id": "6_88s4_Jr7fO"
      },
      "source": [
        "### 랜덤값으로 배열 생성\n"
      ]
    },
    {
      "cell_type": "markdown",
      "metadata": {
        "id": "CoK1cVUkjNMg"
      },
      "source": [
        "* `random.random()`: 랜덤한 수의 배열 생성"
      ]
    },
    {
      "cell_type": "code",
      "metadata": {
        "id": "qJwccKEnjMze",
        "colab": {
          "base_uri": "https://localhost:8080/"
        },
        "outputId": "fd8e9e5a-f8ae-4d5f-a675-1ead5cf57fdb"
      },
      "source": [
        "np.random.random((3,3))"
      ],
      "execution_count": 19,
      "outputs": [
        {
          "output_type": "execute_result",
          "data": {
            "text/plain": [
              "array([[0.44909918, 0.91056718, 0.22360636],\n",
              "       [0.66726351, 0.51181488, 0.72337128],\n",
              "       [0.57152816, 0.29932837, 0.22439701]])"
            ]
          },
          "metadata": {},
          "execution_count": 19
        }
      ]
    },
    {
      "cell_type": "markdown",
      "metadata": {
        "id": "BYsAVwA1kvDI"
      },
      "source": [
        "* `random.randint()`: 일정 구간의 랜덤 정수의 배열 생성"
      ]
    },
    {
      "cell_type": "code",
      "metadata": {
        "id": "oR-UszZ_jqfQ",
        "colab": {
          "base_uri": "https://localhost:8080/"
        },
        "outputId": "cff05493-75b1-4228-fb6f-e91e9779efd2"
      },
      "source": [
        "np.random.randint(0,10,(3,3))"
      ],
      "execution_count": 20,
      "outputs": [
        {
          "output_type": "execute_result",
          "data": {
            "text/plain": [
              "array([[4, 1, 5],\n",
              "       [4, 0, 0],\n",
              "       [0, 5, 9]])"
            ]
          },
          "metadata": {},
          "execution_count": 20
        }
      ]
    },
    {
      "cell_type": "markdown",
      "metadata": {
        "id": "2r557WHsjrL3"
      },
      "source": [
        "* `random.normal()`: 정규분포(normal distribution)를 고려한 랜덤한 수의 배열 생성\n",
        "* 평균=0, 표준편차=1, 3 x 3 배열"
      ]
    },
    {
      "cell_type": "code",
      "metadata": {
        "id": "Oan3bSpHi2Wq",
        "colab": {
          "base_uri": "https://localhost:8080/"
        },
        "outputId": "bafcbd22-1bdd-4f5b-f27e-b5c20a8d2573"
      },
      "source": [
        "np.random.normal(0,1,(3,3))"
      ],
      "execution_count": 21,
      "outputs": [
        {
          "output_type": "execute_result",
          "data": {
            "text/plain": [
              "array([[-1.80622928,  1.68539002,  0.54318077],\n",
              "       [ 1.00346276,  2.52633167, -0.11172889],\n",
              "       [-1.28491797,  0.41893558,  0.7418011 ]])"
            ]
          },
          "metadata": {},
          "execution_count": 21
        }
      ]
    },
    {
      "cell_type": "markdown",
      "metadata": {
        "id": "fPO-D1rHsrFw"
      },
      "source": [
        "* `random.rand()`: 균등분포(uniform distribution)를 고려한 랜덤한 수의 배열 생성"
      ]
    },
    {
      "cell_type": "code",
      "metadata": {
        "id": "DxiyEjnXnDUT",
        "colab": {
          "base_uri": "https://localhost:8080/"
        },
        "outputId": "549a70e3-33e0-496f-d8da-7f0b99127008"
      },
      "source": [
        "np.random.rand(10)"
      ],
      "execution_count": 22,
      "outputs": [
        {
          "output_type": "execute_result",
          "data": {
            "text/plain": [
              "array([0.66638615, 0.99169228, 0.7514298 , 0.66369671, 0.69011397,\n",
              "       0.15783292, 0.21194114, 0.14252103, 0.10833926, 0.0323293 ])"
            ]
          },
          "metadata": {},
          "execution_count": 22
        }
      ]
    },
    {
      "cell_type": "markdown",
      "metadata": {
        "id": "IegH2dsPLQgd"
      },
      "source": [
        "* `random.randn()`: 표준 정규 분포(standard normal distribution)를 고려한 랜덤한 수의 배열 생성"
      ]
    },
    {
      "cell_type": "code",
      "metadata": {
        "id": "V61VHa-JLIma",
        "colab": {
          "base_uri": "https://localhost:8080/"
        },
        "outputId": "657a4c4f-8a24-49d8-e42c-0eb0b953659d"
      },
      "source": [
        "np.random.randn(10)"
      ],
      "execution_count": 23,
      "outputs": [
        {
          "output_type": "execute_result",
          "data": {
            "text/plain": [
              "array([-0.31201464, -0.43088231,  1.63981547, -0.54953207, -0.29892308,\n",
              "        2.03745107, -0.40539251, -0.65559785, -1.52050063, -1.64334547])"
            ]
          },
          "metadata": {},
          "execution_count": 23
        }
      ]
    },
    {
      "cell_type": "markdown",
      "metadata": {
        "id": "5ts0cYLQL_pT"
      },
      "source": [
        "### 표준 데이터 타입"
      ]
    },
    {
      "cell_type": "code",
      "metadata": {
        "id": "rxqTqAFKL73y",
        "colab": {
          "base_uri": "https://localhost:8080/"
        },
        "outputId": "62a69bf1-49a8-44d1-ffd9-f02984571ca9"
      },
      "source": [
        "np.zeros(20,dtype=int)"
      ],
      "execution_count": 24,
      "outputs": [
        {
          "output_type": "execute_result",
          "data": {
            "text/plain": [
              "array([0, 0, 0, 0, 0, 0, 0, 0, 0, 0, 0, 0, 0, 0, 0, 0, 0, 0, 0, 0])"
            ]
          },
          "metadata": {},
          "execution_count": 24
        }
      ]
    },
    {
      "cell_type": "code",
      "metadata": {
        "id": "o9TuSl6HIsXr",
        "colab": {
          "base_uri": "https://localhost:8080/"
        },
        "outputId": "4d2b9063-ccb3-410f-9ab2-35c217317879"
      },
      "source": [
        "np.ones((3,3),dtype=bool)"
      ],
      "execution_count": 25,
      "outputs": [
        {
          "output_type": "execute_result",
          "data": {
            "text/plain": [
              "array([[ True,  True,  True],\n",
              "       [ True,  True,  True],\n",
              "       [ True,  True,  True]])"
            ]
          },
          "metadata": {},
          "execution_count": 25
        }
      ]
    },
    {
      "cell_type": "code",
      "metadata": {
        "id": "w-TciNfzEhY0",
        "colab": {
          "base_uri": "https://localhost:8080/"
        },
        "outputId": "3e4e85cf-c797-4948-8f78-aadc4b25c7c6"
      },
      "source": [
        "np.full((3,3),1.0,dtype=float)"
      ],
      "execution_count": 26,
      "outputs": [
        {
          "output_type": "execute_result",
          "data": {
            "text/plain": [
              "array([[1., 1., 1.],\n",
              "       [1., 1., 1.],\n",
              "       [1., 1., 1.]])"
            ]
          },
          "metadata": {},
          "execution_count": 26
        }
      ]
    },
    {
      "cell_type": "markdown",
      "metadata": {
        "id": "1qFumu-p-0mQ"
      },
      "source": [
        "### 날짜/시간 배열 생성\n"
      ]
    },
    {
      "cell_type": "code",
      "metadata": {
        "id": "D8ozvTUf-6Rr",
        "colab": {
          "base_uri": "https://localhost:8080/"
        },
        "outputId": "19cbf129-1fe1-41af-ba9e-5fb53f839e7a"
      },
      "source": [
        "date=np.array('2022-08-26',dtype=np.datetime64)\n",
        "date"
      ],
      "execution_count": 27,
      "outputs": [
        {
          "output_type": "execute_result",
          "data": {
            "text/plain": [
              "array('2022-08-26', dtype='datetime64[D]')"
            ]
          },
          "metadata": {},
          "execution_count": 27
        }
      ]
    },
    {
      "cell_type": "code",
      "metadata": {
        "id": "XIjLUkn6_K3J",
        "colab": {
          "base_uri": "https://localhost:8080/"
        },
        "outputId": "b44102e6-0575-4b5d-9a6c-7dfb12d36fef"
      },
      "source": [
        "date+np.arange(12)"
      ],
      "execution_count": 28,
      "outputs": [
        {
          "output_type": "execute_result",
          "data": {
            "text/plain": [
              "array(['2022-08-26', '2022-08-27', '2022-08-28', '2022-08-29',\n",
              "       '2022-08-30', '2022-08-31', '2022-09-01', '2022-09-02',\n",
              "       '2022-09-03', '2022-09-04', '2022-09-05', '2022-09-06'],\n",
              "      dtype='datetime64[D]')"
            ]
          },
          "metadata": {},
          "execution_count": 28
        }
      ]
    },
    {
      "cell_type": "code",
      "metadata": {
        "id": "EO7yE5VR_Wlh",
        "colab": {
          "base_uri": "https://localhost:8080/"
        },
        "outputId": "bcc716ec-5da2-4cad-aaa9-152ceb93f78a"
      },
      "source": [
        "datetime=np.datetime64('2022-08-26 12:00')\n",
        "datetime"
      ],
      "execution_count": 29,
      "outputs": [
        {
          "output_type": "execute_result",
          "data": {
            "text/plain": [
              "numpy.datetime64('2022-08-26T12:00')"
            ]
          },
          "metadata": {},
          "execution_count": 29
        }
      ]
    },
    {
      "cell_type": "code",
      "metadata": {
        "id": "3dnOlf9i_kzX",
        "colab": {
          "base_uri": "https://localhost:8080/"
        },
        "outputId": "a8834d6a-db97-4991-acc7-90709dc1464e"
      },
      "source": [
        "datetime=np.datetime64('2022-08-26 12:00:12.34','ns')\n",
        "datetime"
      ],
      "execution_count": 30,
      "outputs": [
        {
          "output_type": "execute_result",
          "data": {
            "text/plain": [
              "numpy.datetime64('2022-08-26T12:00:12.340000000')"
            ]
          },
          "metadata": {},
          "execution_count": 30
        }
      ]
    },
    {
      "cell_type": "markdown",
      "metadata": {
        "id": "5AREIamhGxAr"
      },
      "source": [
        "\n",
        "\n",
        "---\n",
        "\n"
      ]
    },
    {
      "cell_type": "markdown",
      "metadata": {
        "id": "d88tkTqbBE5V"
      },
      "source": [
        "## 배열 조회"
      ]
    },
    {
      "cell_type": "markdown",
      "metadata": {
        "id": "vRqwfbjtFnPn"
      },
      "source": [
        "### 배열 속성 정보"
      ]
    },
    {
      "cell_type": "code",
      "metadata": {
        "id": "R5Rlcll7GXrM"
      },
      "source": [
        "def array_info(array):\n",
        "  print(array)\n",
        "  print('ndim:',array.ndim)\n",
        "  print('shape:',array.shape)\n",
        "  print('dtype:',array.dtype)\n",
        "  print('size:',array.size)\n",
        "  print('items:',array.itemsize) #각하나가 8byte를 가지고 있다\n",
        "  print('nbyte:',array.nbytes)   #전체 byte의 크기\n",
        "  print('strides:',array.strides)#다음차원으로 넘어가기 위한 단위 0인덱스에서 2인데스로\n"
      ],
      "execution_count": 31,
      "outputs": []
    },
    {
      "cell_type": "code",
      "metadata": {
        "id": "Na59LwA7KXZV",
        "colab": {
          "base_uri": "https://localhost:8080/"
        },
        "outputId": "abbec431-47f4-410a-dd63-8940935b981b"
      },
      "source": [
        "array_info(a1)"
      ],
      "execution_count": 32,
      "outputs": [
        {
          "output_type": "stream",
          "name": "stdout",
          "text": [
            "[1 2 3]\n",
            "ndim: 1\n",
            "shape: (3,)\n",
            "dtype: int64\n",
            "size: 3\n",
            "items: 8\n",
            "nbyte: 24\n",
            "strides: (8,)\n"
          ]
        }
      ]
    },
    {
      "cell_type": "code",
      "metadata": {
        "id": "Urzr_LsdLah0",
        "colab": {
          "base_uri": "https://localhost:8080/"
        },
        "outputId": "5094b149-e7c2-4832-9cde-42fcfecb2446"
      },
      "source": [
        "array_info(a2)"
      ],
      "execution_count": 33,
      "outputs": [
        {
          "output_type": "stream",
          "name": "stdout",
          "text": [
            "[[1 2 3]\n",
            " [4 5 6]\n",
            " [7 8 9]]\n",
            "ndim: 2\n",
            "shape: (3, 3)\n",
            "dtype: int64\n",
            "size: 9\n",
            "items: 8\n",
            "nbyte: 72\n",
            "strides: (24, 8)\n"
          ]
        }
      ]
    },
    {
      "cell_type": "code",
      "metadata": {
        "id": "jktqh1lsLf4V",
        "colab": {
          "base_uri": "https://localhost:8080/"
        },
        "outputId": "68b3b78f-79f8-42f9-d8f3-047f34509375"
      },
      "source": [
        "array_info(a3)"
      ],
      "execution_count": 34,
      "outputs": [
        {
          "output_type": "stream",
          "name": "stdout",
          "text": [
            "[[[1 2 3]\n",
            "  [4 5 6]\n",
            "  [7 8 9]]\n",
            "\n",
            " [[1 2 3]\n",
            "  [4 5 6]\n",
            "  [7 8 9]]\n",
            "\n",
            " [[1 2 3]\n",
            "  [4 5 6]\n",
            "  [7 8 9]]]\n",
            "ndim: 3\n",
            "shape: (3, 3, 3)\n",
            "dtype: int64\n",
            "size: 27\n",
            "items: 8\n",
            "nbyte: 216\n",
            "strides: (72, 24, 8)\n"
          ]
        }
      ]
    },
    {
      "cell_type": "markdown",
      "metadata": {
        "id": "LV1WfdBWFqDu"
      },
      "source": [
        "### 인덱싱(Indexing)"
      ]
    },
    {
      "cell_type": "code",
      "metadata": {
        "id": "Nyb7eDmGFr5m",
        "colab": {
          "base_uri": "https://localhost:8080/"
        },
        "outputId": "ff02e8a0-7383-4ae7-9c52-0dea16888923"
      },
      "source": [
        "print(a1)\n",
        "print(a1[0])\n",
        "print(a1[2])\n",
        "print(a1[-1])\n",
        "print(a1[-2])"
      ],
      "execution_count": 35,
      "outputs": [
        {
          "output_type": "stream",
          "name": "stdout",
          "text": [
            "[1 2 3]\n",
            "1\n",
            "3\n",
            "3\n",
            "2\n"
          ]
        }
      ]
    },
    {
      "cell_type": "code",
      "metadata": {
        "id": "uHMNcQW3Kn-h",
        "colab": {
          "base_uri": "https://localhost:8080/"
        },
        "outputId": "f43d306d-1869-4fe4-cc1f-ddf962c9418a"
      },
      "source": [
        "print(a2)\n",
        "print(a2[0,0])\n",
        "print(a2[2,2])\n",
        "print(a2[-1,1])\n",
        "print(a2[-2,-1])"
      ],
      "execution_count": 36,
      "outputs": [
        {
          "output_type": "stream",
          "name": "stdout",
          "text": [
            "[[1 2 3]\n",
            " [4 5 6]\n",
            " [7 8 9]]\n",
            "1\n",
            "9\n",
            "8\n",
            "6\n"
          ]
        }
      ]
    },
    {
      "cell_type": "code",
      "metadata": {
        "id": "IX5yDMGiMxYZ",
        "colab": {
          "base_uri": "https://localhost:8080/"
        },
        "outputId": "0e42a27c-a7b2-4e5d-de6d-c2b10e47bbb5"
      },
      "source": [
        "print(a3)\n",
        "print(a3[0,0,0])\n",
        "print(a3[2,2,2])\n",
        "print(a3[-1,-1,-1])\n",
        "print(a3[-2,-2,0])"
      ],
      "execution_count": 37,
      "outputs": [
        {
          "output_type": "stream",
          "name": "stdout",
          "text": [
            "[[[1 2 3]\n",
            "  [4 5 6]\n",
            "  [7 8 9]]\n",
            "\n",
            " [[1 2 3]\n",
            "  [4 5 6]\n",
            "  [7 8 9]]\n",
            "\n",
            " [[1 2 3]\n",
            "  [4 5 6]\n",
            "  [7 8 9]]]\n",
            "1\n",
            "9\n",
            "9\n",
            "4\n"
          ]
        }
      ]
    },
    {
      "cell_type": "markdown",
      "metadata": {
        "id": "uSeXu2y_O4cu"
      },
      "source": [
        "### 슬라이싱(Slicing)"
      ]
    },
    {
      "cell_type": "markdown",
      "metadata": {
        "id": "1hikO_6ZPp5m"
      },
      "source": [
        "* 슬라이싱 구문: `a[start:stop:step]`\n",
        "* 기본값: start=0, stop=ndim, step=1"
      ]
    },
    {
      "cell_type": "code",
      "metadata": {
        "id": "PYZOOCoVO7BF",
        "colab": {
          "base_uri": "https://localhost:8080/"
        },
        "outputId": "b27b3fe7-01d9-402c-d864-30fd8c512f0b"
      },
      "source": [
        "print(a1)\n",
        "print(a1[0:2])\n",
        "print(a1[::-1])\n",
        "print(a1[::2])"
      ],
      "execution_count": 38,
      "outputs": [
        {
          "output_type": "stream",
          "name": "stdout",
          "text": [
            "[1 2 3]\n",
            "[1 2]\n",
            "[3 2 1]\n",
            "[1 3]\n"
          ]
        }
      ]
    },
    {
      "cell_type": "code",
      "metadata": {
        "id": "oULOFrBQWs1G",
        "colab": {
          "base_uri": "https://localhost:8080/"
        },
        "outputId": "44b159cd-3564-4a4d-a7dd-4ce327eb47db"
      },
      "source": [
        "print(a2)\n",
        "print(a2[1])\n",
        "print(a2[1,:])\n",
        "print(a2[:2,:2])\n",
        "print(a2[1:,::-1])\n",
        "print(a2[::-1,::-1])"
      ],
      "execution_count": 39,
      "outputs": [
        {
          "output_type": "stream",
          "name": "stdout",
          "text": [
            "[[1 2 3]\n",
            " [4 5 6]\n",
            " [7 8 9]]\n",
            "[4 5 6]\n",
            "[4 5 6]\n",
            "[[1 2]\n",
            " [4 5]]\n",
            "[[6 5 4]\n",
            " [9 8 7]]\n",
            "[[9 8 7]\n",
            " [6 5 4]\n",
            " [3 2 1]]\n"
          ]
        }
      ]
    },
    {
      "cell_type": "markdown",
      "metadata": {
        "id": "LD52bXAsBgbH"
      },
      "source": [
        "### 불리언 인덱싱(Boolean Indexing)\n",
        "\n",
        "* 배열 각 요소의 선택 여부를 불리언(True or False)로 지정\n",
        "* True 값인 인덱스의 값만 조회"
      ]
    },
    {
      "cell_type": "code",
      "metadata": {
        "id": "pOvNsH2oBgz-",
        "colab": {
          "base_uri": "https://localhost:8080/"
        },
        "outputId": "9370e2cd-95a4-4083-b5b4-343b3b9e0b78"
      },
      "source": [
        "print(a1)\n",
        "bi=[False,True,True]\n",
        "print(a1[bi])\n",
        "print(a1[a1>2])"
      ],
      "execution_count": 40,
      "outputs": [
        {
          "output_type": "stream",
          "name": "stdout",
          "text": [
            "[1 2 3]\n",
            "[2 3]\n",
            "[3]\n"
          ]
        }
      ]
    },
    {
      "cell_type": "code",
      "metadata": {
        "id": "EFfquM2kWHAU",
        "colab": {
          "base_uri": "https://localhost:8080/"
        },
        "outputId": "20dcf251-e787-4d1a-e4e7-7ca0ff905e05"
      },
      "source": [
        "print(a2)\n",
        "bi=np.random.randint(0,2,(3,3),dtype=bool)\n",
        "print(bi)\n",
        "print(a2[bi])"
      ],
      "execution_count": 41,
      "outputs": [
        {
          "output_type": "stream",
          "name": "stdout",
          "text": [
            "[[1 2 3]\n",
            " [4 5 6]\n",
            " [7 8 9]]\n",
            "[[False False  True]\n",
            " [False  True False]\n",
            " [False  True  True]]\n",
            "[3 5 8 9]\n"
          ]
        }
      ]
    },
    {
      "cell_type": "markdown",
      "metadata": {
        "id": "R5hes-hdBujH"
      },
      "source": [
        "### 팬시 인덱싱(Fancy Indedxing)"
      ]
    },
    {
      "cell_type": "code",
      "metadata": {
        "id": "z-Luw5fzBx30",
        "colab": {
          "base_uri": "https://localhost:8080/"
        },
        "outputId": "8708833f-22bb-40ac-f8d3-4f11224d35ec"
      },
      "source": [
        "print(a1)\n",
        "print([a1[0],a1[2]])\n",
        "idx=[0,2]\n",
        "print(a1[idx])\n",
        "\n",
        "ind=np.array([[0,1],\n",
        "             [2,0]])\n",
        "\n",
        "print(a1[ind])"
      ],
      "execution_count": 42,
      "outputs": [
        {
          "output_type": "stream",
          "name": "stdout",
          "text": [
            "[1 2 3]\n",
            "[1, 3]\n",
            "[1 3]\n",
            "[[1 2]\n",
            " [3 1]]\n"
          ]
        }
      ]
    },
    {
      "cell_type": "code",
      "metadata": {
        "id": "p_Dd0oiJahgj",
        "colab": {
          "base_uri": "https://localhost:8080/"
        },
        "outputId": "c9b7d745-c29e-44f3-963c-0a8d9d2fc776"
      },
      "source": [
        "print(a2)\n",
        "row=np.array([0,2])\n",
        "col=np.array([1,2])\n",
        "\n",
        "print(a2[row,col])\n",
        "print(a2[row,:])\n",
        "print(a2[:,col])"
      ],
      "execution_count": 43,
      "outputs": [
        {
          "output_type": "stream",
          "name": "stdout",
          "text": [
            "[[1 2 3]\n",
            " [4 5 6]\n",
            " [7 8 9]]\n",
            "[2 9]\n",
            "[[1 2 3]\n",
            " [7 8 9]]\n",
            "[[2 3]\n",
            " [5 6]\n",
            " [8 9]]\n"
          ]
        }
      ]
    },
    {
      "cell_type": "markdown",
      "metadata": {
        "id": "F71_PQF1GvTs"
      },
      "source": [
        "\n",
        "\n",
        "---\n",
        "\n"
      ]
    },
    {
      "cell_type": "markdown",
      "metadata": {
        "id": "zDI5yQ58O-IX"
      },
      "source": [
        "## 배열 값 삽입/수정/삭제/복사"
      ]
    },
    {
      "cell_type": "markdown",
      "metadata": {
        "id": "zajd1qpVOQYy"
      },
      "source": [
        "### 배열 값 삽입\n",
        "\n",
        "* `insert()`: 배열의 특정 위치에 값 삽입\n",
        "* axis를 지정하지 않으면 1차원 배열로 변환\n",
        "* 추가할 방향을 axis로 지정\n",
        "* 원본 배열 변경없이 새로운 배열 반환"
      ]
    },
    {
      "cell_type": "code",
      "metadata": {
        "id": "sedRT54rP395",
        "colab": {
          "base_uri": "https://localhost:8080/"
        },
        "outputId": "03eb2d6f-be4d-492c-8529-5db2f2d1f5a6"
      },
      "source": [
        "print(a1)\n",
        "\n",
        "b1=np.insert(a1,0,10)\n",
        "\n",
        "print(b1)\n",
        "print(a1)\n",
        "\n",
        "x1=np.insert(a1, 1,10)\n",
        "print(x1)"
      ],
      "execution_count": 44,
      "outputs": [
        {
          "output_type": "stream",
          "name": "stdout",
          "text": [
            "[1 2 3]\n",
            "[10  1  2  3]\n",
            "[1 2 3]\n",
            "[ 1 10  2  3]\n"
          ]
        }
      ]
    },
    {
      "cell_type": "code",
      "metadata": {
        "id": "zNmu1E4iQ6h-",
        "colab": {
          "base_uri": "https://localhost:8080/"
        },
        "outputId": "c75f9b30-aca2-4d96-cb23-0a280cfe99f6"
      },
      "source": [
        "print(a2)\n",
        "\n",
        "b2=np.insert(a2,1,10,axis=0)\n",
        "c2=np.insert(a2,1,10,axis=1)\n",
        "print(b2)\n",
        "print(c2)"
      ],
      "execution_count": 45,
      "outputs": [
        {
          "output_type": "stream",
          "name": "stdout",
          "text": [
            "[[1 2 3]\n",
            " [4 5 6]\n",
            " [7 8 9]]\n",
            "[[ 1  2  3]\n",
            " [10 10 10]\n",
            " [ 4  5  6]\n",
            " [ 7  8  9]]\n",
            "[[ 1 10  2  3]\n",
            " [ 4 10  5  6]\n",
            " [ 7 10  8  9]]\n"
          ]
        }
      ]
    },
    {
      "cell_type": "markdown",
      "metadata": {
        "id": "OlEzG4ffNjyL"
      },
      "source": [
        "### 배열 값 수정\n",
        "\n",
        "* 배열의 인덱싱으로 접근하여 값 수정"
      ]
    },
    {
      "cell_type": "code",
      "metadata": {
        "id": "ec43i1KWNjeN",
        "colab": {
          "base_uri": "https://localhost:8080/"
        },
        "outputId": "53466bca-86c1-417d-e8e9-6a93cd0d32cc"
      },
      "source": [
        "print(a1)\n",
        "\n",
        "\n",
        "a1[:1]=9\n",
        "print(a1)\n",
        "\n",
        "i=np.array([1,2])\n",
        "a1[i]=9\n",
        "print(a1)"
      ],
      "execution_count": 46,
      "outputs": [
        {
          "output_type": "stream",
          "name": "stdout",
          "text": [
            "[1 2 3]\n",
            "[9 2 3]\n",
            "[9 9 9]\n"
          ]
        }
      ]
    },
    {
      "cell_type": "code",
      "metadata": {
        "id": "IApNNx3NOMQh",
        "colab": {
          "base_uri": "https://localhost:8080/"
        },
        "outputId": "14b5b3b8-5976-4cd7-efba-ff8b9ebcfaae"
      },
      "source": [
        "print(a2)\n",
        "a2[0,0]=1\n",
        "a2[1,1]=2\n",
        "a2[2,2]=3\n",
        "a2[0]=1\n",
        "print(a2)"
      ],
      "execution_count": 47,
      "outputs": [
        {
          "output_type": "stream",
          "name": "stdout",
          "text": [
            "[[1 2 3]\n",
            " [4 5 6]\n",
            " [7 8 9]]\n",
            "[[1 1 1]\n",
            " [4 2 6]\n",
            " [7 8 3]]\n"
          ]
        }
      ]
    },
    {
      "cell_type": "markdown",
      "metadata": {
        "id": "emV7DgrITPcn"
      },
      "source": [
        "### 배열 값 삭제\n",
        "\n",
        "* `delete()`: 배열의 특정 위치에 값 삭제\n",
        "* axis를 지정하지 않으면 1차원 배열로 변환\n",
        "* 삭제할 방향을 axis로 지정\n",
        "* 원본 배열 변경없이 새로운 배열 반환"
      ]
    },
    {
      "cell_type": "code",
      "metadata": {
        "id": "I3k_Yx8lTRJ2",
        "colab": {
          "base_uri": "https://localhost:8080/"
        },
        "outputId": "f0d00984-7673-497b-b181-b7cb1567db41"
      },
      "source": [
        "a1=np.arange(1,6,1)\n",
        "print(a1)\n",
        "b1=np.delete(a1,1)\n",
        "print(b1)"
      ],
      "execution_count": 48,
      "outputs": [
        {
          "output_type": "stream",
          "name": "stdout",
          "text": [
            "[1 2 3 4 5]\n",
            "[1 3 4 5]\n"
          ]
        }
      ]
    },
    {
      "cell_type": "code",
      "metadata": {
        "id": "tRTwMIfJTq_y",
        "colab": {
          "base_uri": "https://localhost:8080/"
        },
        "outputId": "32415160-289a-4946-d8c1-bcb301029d5d"
      },
      "source": [
        "print(a2)\n",
        "b2=np.delete(a2,1,axis=0)\n",
        "print(b2)\n",
        "c2=np.delete(a2,1,axis=1)\n",
        "print(c2)"
      ],
      "execution_count": 49,
      "outputs": [
        {
          "output_type": "stream",
          "name": "stdout",
          "text": [
            "[[1 1 1]\n",
            " [4 2 6]\n",
            " [7 8 3]]\n",
            "[[1 1 1]\n",
            " [7 8 3]]\n",
            "[[1 1]\n",
            " [4 6]\n",
            " [7 3]]\n"
          ]
        }
      ]
    },
    {
      "cell_type": "markdown",
      "metadata": {
        "id": "UydkYxV8Z6Fx"
      },
      "source": [
        "### 배열 복사\n",
        "\n",
        "* 리스트 자료형과 달리 배열의 슬라이스는 복사본이 아님"
      ]
    },
    {
      "cell_type": "code",
      "metadata": {
        "id": "n2_0L8KWZ7wH",
        "colab": {
          "base_uri": "https://localhost:8080/"
        },
        "outputId": "a2605c6d-2d2f-4ab4-aee7-6c163b544666"
      },
      "source": [
        "print(a2)\n",
        "\n",
        "print(a2[:2,:2])\n",
        "\n",
        "a2_sub=a2[:2,:2]\n",
        "print(a2_sub)\n",
        "a2_sub[:,1]=0\n",
        "print(a2) #원본 배열도 0으로 바뀌어 버렸다 그래서 리스트 자료형과 다르다는 것\n"
      ],
      "execution_count": 50,
      "outputs": [
        {
          "output_type": "stream",
          "name": "stdout",
          "text": [
            "[[1 1 1]\n",
            " [4 2 6]\n",
            " [7 8 3]]\n",
            "[[1 1]\n",
            " [4 2]]\n",
            "[[1 1]\n",
            " [4 2]]\n",
            "[[1 0 1]\n",
            " [4 0 6]\n",
            " [7 8 3]]\n"
          ]
        }
      ]
    },
    {
      "cell_type": "markdown",
      "metadata": {
        "id": "UrQqOC1Eat5l"
      },
      "source": [
        "\n",
        "* `copy()`: 배열이나 하위 배열 내의 값을 명시적으로 복사"
      ]
    },
    {
      "cell_type": "code",
      "metadata": {
        "id": "hLBZ7Qn6bAKO",
        "colab": {
          "base_uri": "https://localhost:8080/"
        },
        "outputId": "1d9f229f-99c1-4ee7-80a8-b751823d4df2"
      },
      "source": [
        "print(a2)\n",
        "a2_sub_copy=a2[:2,:2].copy()\n",
        "print(a2_sub_copy)\n",
        "\n",
        "a2_sub_copy[:,1]=1\n",
        "print(a2_sub_copy)\n",
        "print(a2) #복사되어 다른 값이 되지 않는다"
      ],
      "execution_count": 51,
      "outputs": [
        {
          "output_type": "stream",
          "name": "stdout",
          "text": [
            "[[1 0 1]\n",
            " [4 0 6]\n",
            " [7 8 3]]\n",
            "[[1 0]\n",
            " [4 0]]\n",
            "[[1 1]\n",
            " [4 1]]\n",
            "[[1 0 1]\n",
            " [4 0 6]\n",
            " [7 8 3]]\n"
          ]
        }
      ]
    },
    {
      "cell_type": "markdown",
      "metadata": {
        "id": "4HTc9FXOGtA7"
      },
      "source": [
        "\n",
        "\n",
        "---\n",
        "\n"
      ]
    },
    {
      "cell_type": "markdown",
      "metadata": {
        "id": "XVZY082__yV6"
      },
      "source": [
        "## 배열 변환"
      ]
    },
    {
      "cell_type": "markdown",
      "metadata": {
        "id": "Ec09aPeBO58M"
      },
      "source": [
        "### 배열 전치 및 축 변경"
      ]
    },
    {
      "cell_type": "code",
      "metadata": {
        "id": "anYByBpoWZmj",
        "colab": {
          "base_uri": "https://localhost:8080/"
        },
        "outputId": "1040f286-a83b-45fd-a02c-77e9ac98500a"
      },
      "source": [
        "print(a2)\n",
        "\n",
        "print(a2.T)"
      ],
      "execution_count": 52,
      "outputs": [
        {
          "output_type": "stream",
          "name": "stdout",
          "text": [
            "[[1 0 1]\n",
            " [4 0 6]\n",
            " [7 8 3]]\n",
            "[[1 4 7]\n",
            " [0 0 8]\n",
            " [1 6 3]]\n"
          ]
        }
      ]
    },
    {
      "cell_type": "code",
      "metadata": {
        "id": "wg4XC6kiRnZo",
        "colab": {
          "base_uri": "https://localhost:8080/"
        },
        "outputId": "a7d3e11c-f1f0-4596-a3c3-e7ccb5cdf2af"
      },
      "source": [
        "print(a3)\n",
        "print(a3.T)"
      ],
      "execution_count": 53,
      "outputs": [
        {
          "output_type": "stream",
          "name": "stdout",
          "text": [
            "[[[1 2 3]\n",
            "  [4 5 6]\n",
            "  [7 8 9]]\n",
            "\n",
            " [[1 2 3]\n",
            "  [4 5 6]\n",
            "  [7 8 9]]\n",
            "\n",
            " [[1 2 3]\n",
            "  [4 5 6]\n",
            "  [7 8 9]]]\n",
            "[[[1 1 1]\n",
            "  [4 4 4]\n",
            "  [7 7 7]]\n",
            "\n",
            " [[2 2 2]\n",
            "  [5 5 5]\n",
            "  [8 8 8]]\n",
            "\n",
            " [[3 3 3]\n",
            "  [6 6 6]\n",
            "  [9 9 9]]]\n"
          ]
        }
      ]
    },
    {
      "cell_type": "code",
      "metadata": {
        "id": "6lPwXL8rRTfI",
        "colab": {
          "base_uri": "https://localhost:8080/"
        },
        "outputId": "ecbad560-10b1-474c-82ef-70983edf58a0"
      },
      "source": [
        "print(a2)\n",
        "print(a2.swapaxes(1,0))"
      ],
      "execution_count": 54,
      "outputs": [
        {
          "output_type": "stream",
          "name": "stdout",
          "text": [
            "[[1 0 1]\n",
            " [4 0 6]\n",
            " [7 8 3]]\n",
            "[[1 4 7]\n",
            " [0 0 8]\n",
            " [1 6 3]]\n"
          ]
        }
      ]
    },
    {
      "cell_type": "code",
      "metadata": {
        "id": "oLbEHtijRewH",
        "colab": {
          "base_uri": "https://localhost:8080/"
        },
        "outputId": "4f9ece0a-08f2-4fb1-e73e-bff2e682314b"
      },
      "source": [
        "print(a3)\n",
        "print(a3.swapaxes(0,1))\n",
        "print(a3.swapaxes(1,2))"
      ],
      "execution_count": 55,
      "outputs": [
        {
          "output_type": "stream",
          "name": "stdout",
          "text": [
            "[[[1 2 3]\n",
            "  [4 5 6]\n",
            "  [7 8 9]]\n",
            "\n",
            " [[1 2 3]\n",
            "  [4 5 6]\n",
            "  [7 8 9]]\n",
            "\n",
            " [[1 2 3]\n",
            "  [4 5 6]\n",
            "  [7 8 9]]]\n",
            "[[[1 2 3]\n",
            "  [1 2 3]\n",
            "  [1 2 3]]\n",
            "\n",
            " [[4 5 6]\n",
            "  [4 5 6]\n",
            "  [4 5 6]]\n",
            "\n",
            " [[7 8 9]\n",
            "  [7 8 9]\n",
            "  [7 8 9]]]\n",
            "[[[1 4 7]\n",
            "  [2 5 8]\n",
            "  [3 6 9]]\n",
            "\n",
            " [[1 4 7]\n",
            "  [2 5 8]\n",
            "  [3 6 9]]\n",
            "\n",
            " [[1 4 7]\n",
            "  [2 5 8]\n",
            "  [3 6 9]]]\n"
          ]
        }
      ]
    },
    {
      "cell_type": "markdown",
      "metadata": {
        "id": "M7xN8WdOdb_S"
      },
      "source": [
        "### 배열 재구조화\n"
      ]
    },
    {
      "cell_type": "markdown",
      "metadata": {
        "id": "JwZJMpXGfY0V"
      },
      "source": [
        "* `reshape()`: 배열의 형상을 변경"
      ]
    },
    {
      "cell_type": "code",
      "metadata": {
        "id": "SlGQ17VQdd8i",
        "colab": {
          "base_uri": "https://localhost:8080/"
        },
        "outputId": "5b64c496-110c-4c12-d441-8f3bef0b3445"
      },
      "source": [
        "n1=np.arange(1,10,1)\n",
        "print(n1)\n",
        "print(n1.reshape(3,3))"
      ],
      "execution_count": 56,
      "outputs": [
        {
          "output_type": "stream",
          "name": "stdout",
          "text": [
            "[1 2 3 4 5 6 7 8 9]\n",
            "[[1 2 3]\n",
            " [4 5 6]\n",
            " [7 8 9]]\n"
          ]
        }
      ]
    },
    {
      "cell_type": "markdown",
      "metadata": {
        "id": "y_U1W-fQfuQY"
      },
      "source": [
        "* `newaxis()`: 새로운 축 추가"
      ]
    },
    {
      "cell_type": "code",
      "metadata": {
        "id": "COif_weCfkGo",
        "colab": {
          "base_uri": "https://localhost:8080/"
        },
        "outputId": "e33a3fc5-3a55-4907-d9e7-c79f0bfda354"
      },
      "source": [
        "print(n1)\n",
        "\n",
        "print(n1[np.newaxis,:5])\n",
        "print(n1[:5,np.newaxis])"
      ],
      "execution_count": 57,
      "outputs": [
        {
          "output_type": "stream",
          "name": "stdout",
          "text": [
            "[1 2 3 4 5 6 7 8 9]\n",
            "[[1 2 3 4 5]]\n",
            "[[1]\n",
            " [2]\n",
            " [3]\n",
            " [4]\n",
            " [5]]\n"
          ]
        }
      ]
    },
    {
      "cell_type": "markdown",
      "metadata": {
        "id": "FR82RSDggbcJ"
      },
      "source": [
        "### 배열 크기 변경"
      ]
    },
    {
      "cell_type": "markdown",
      "metadata": {
        "id": "D1LuDMVFl4tc"
      },
      "source": [
        "* 배열 모양만 변경"
      ]
    },
    {
      "cell_type": "code",
      "metadata": {
        "id": "7B6pHlfxgdSJ",
        "colab": {
          "base_uri": "https://localhost:8080/"
        },
        "outputId": "c3048cf3-bf36-45fd-b13e-bed368e7a01a"
      },
      "source": [
        "n2=np.random.randint(0,10,(2,5))\n",
        "print(n2)\n",
        "\n",
        "n2.resize((5,2))\n",
        "print(n2)"
      ],
      "execution_count": 58,
      "outputs": [
        {
          "output_type": "stream",
          "name": "stdout",
          "text": [
            "[[4 7 8 5 9]\n",
            " [3 2 5 4 2]]\n",
            "[[4 7]\n",
            " [8 5]\n",
            " [9 3]\n",
            " [2 5]\n",
            " [4 2]]\n"
          ]
        }
      ]
    },
    {
      "cell_type": "markdown",
      "metadata": {
        "id": "s0adm-h9l6sv"
      },
      "source": [
        "* 배열 크기 증가\n",
        "* 남은 공간은 0으로 채워짐"
      ]
    },
    {
      "cell_type": "code",
      "metadata": {
        "id": "IrX0UcjrlWRV",
        "colab": {
          "base_uri": "https://localhost:8080/"
        },
        "outputId": "a159299a-f742-4a3f-8ed8-7ddbfc813a77"
      },
      "source": [
        "n2.resize((5,5),refcheck=False)\n",
        "print(n2)"
      ],
      "execution_count": 59,
      "outputs": [
        {
          "output_type": "stream",
          "name": "stdout",
          "text": [
            "[[4 7 8 5 9]\n",
            " [3 2 5 4 2]\n",
            " [0 0 0 0 0]\n",
            " [0 0 0 0 0]\n",
            " [0 0 0 0 0]]\n"
          ]
        }
      ]
    },
    {
      "cell_type": "markdown",
      "metadata": {
        "id": "78hPDEzfl9JB"
      },
      "source": [
        "* 배열 크기 감소\n",
        "* 포함되지 않은 값은 삭제됨"
      ]
    },
    {
      "cell_type": "code",
      "metadata": {
        "id": "fJWrwhc6lmjW",
        "colab": {
          "base_uri": "https://localhost:8080/"
        },
        "outputId": "8ae2f8ec-a262-435e-ee81-f1a02eea1710"
      },
      "source": [
        "n2.resize((3,3),refcheck=False)\n",
        "print(n2)"
      ],
      "execution_count": 60,
      "outputs": [
        {
          "output_type": "stream",
          "name": "stdout",
          "text": [
            "[[4 7 8]\n",
            " [5 9 3]\n",
            " [2 5 4]]\n"
          ]
        }
      ]
    },
    {
      "cell_type": "markdown",
      "metadata": {
        "id": "r9z2gD_pHyx9"
      },
      "source": [
        "### 배열 추가\n",
        "\n",
        "* `append()`: 배열의 끝에 값 추가"
      ]
    },
    {
      "cell_type": "code",
      "metadata": {
        "id": "fH4lpQKNH5s1",
        "colab": {
          "base_uri": "https://localhost:8080/"
        },
        "outputId": "93a86d11-4787-4fab-d459-adf113267fd7"
      },
      "source": [
        "a2=np.arange(1,10).reshape(3,3)\n",
        "print(a2)\n",
        "b2=np.arange(10,19).reshape(3,3)\n",
        "print(b2)\n",
        "\n"
      ],
      "execution_count": 61,
      "outputs": [
        {
          "output_type": "stream",
          "name": "stdout",
          "text": [
            "[[1 2 3]\n",
            " [4 5 6]\n",
            " [7 8 9]]\n",
            "[[10 11 12]\n",
            " [13 14 15]\n",
            " [16 17 18]]\n"
          ]
        }
      ]
    },
    {
      "cell_type": "markdown",
      "metadata": {
        "id": "n8SMl5VVIquk"
      },
      "source": [
        "* axis 지정이 없으면 1차원 배열 형태로 변형되어 결합"
      ]
    },
    {
      "cell_type": "code",
      "metadata": {
        "id": "LRltk3yFIVsV",
        "colab": {
          "base_uri": "https://localhost:8080/"
        },
        "outputId": "ccd61a11-a438-4ae0-b3cb-5b7966bc772c"
      },
      "source": [
        "c2=np.append(a2,b2)\n",
        "print(c2)\n",
        "\n"
      ],
      "execution_count": 62,
      "outputs": [
        {
          "output_type": "stream",
          "name": "stdout",
          "text": [
            "[ 1  2  3  4  5  6  7  8  9 10 11 12 13 14 15 16 17 18]\n"
          ]
        }
      ]
    },
    {
      "cell_type": "markdown",
      "metadata": {
        "id": "sVW2UFVZJfpR"
      },
      "source": [
        "* axis를 0으로 지정\n",
        "* shape[0]을 제외한 나머지 shape은 같아야 함"
      ]
    },
    {
      "cell_type": "code",
      "metadata": {
        "id": "nwJ4xLOeIbMg",
        "colab": {
          "base_uri": "https://localhost:8080/"
        },
        "outputId": "caf0409f-2bd8-4900-9c33-8894f4640f57"
      },
      "source": [
        "c2=np.append(a2,b2,axis=0)\n",
        "print(c2)\n"
      ],
      "execution_count": 63,
      "outputs": [
        {
          "output_type": "stream",
          "name": "stdout",
          "text": [
            "[[ 1  2  3]\n",
            " [ 4  5  6]\n",
            " [ 7  8  9]\n",
            " [10 11 12]\n",
            " [13 14 15]\n",
            " [16 17 18]]\n"
          ]
        }
      ]
    },
    {
      "cell_type": "markdown",
      "metadata": {
        "id": "4YXxzygaJmj-"
      },
      "source": [
        "* axis를 1로 지정\n",
        "* shape[1]을 제외한 나머지 shape은 같아야 함"
      ]
    },
    {
      "cell_type": "code",
      "metadata": {
        "id": "JYE4_5gAJmYe",
        "colab": {
          "base_uri": "https://localhost:8080/"
        },
        "outputId": "990e1fd6-5dde-4858-a5c8-7d848ad63b37"
      },
      "source": [
        "c2=np.append(a2,b2,axis=1 )\n",
        "print(c2)"
      ],
      "execution_count": 64,
      "outputs": [
        {
          "output_type": "stream",
          "name": "stdout",
          "text": [
            "[[ 1  2  3 10 11 12]\n",
            " [ 4  5  6 13 14 15]\n",
            " [ 7  8  9 16 17 18]]\n"
          ]
        }
      ]
    },
    {
      "cell_type": "markdown",
      "metadata": {
        "id": "9sTza3b2hoe4"
      },
      "source": [
        "### 배열 연결"
      ]
    },
    {
      "cell_type": "markdown",
      "metadata": {
        "id": "TRun2NPYj8Ct"
      },
      "source": [
        "* `concatenate()`: 튜플이나 배열의 리스트를 인수로 사용해 배열 연결"
      ]
    },
    {
      "cell_type": "code",
      "metadata": {
        "id": "lmEqdPifhrB_",
        "colab": {
          "base_uri": "https://localhost:8080/"
        },
        "outputId": "c1254966-425b-4a72-d0d2-cff3a3dabd5e"
      },
      "source": [
        "a1=np.array([1,3,5])\n",
        "b1=np.array([2,4,6])\n",
        "\n",
        "np.concatenate([a1,b1])"
      ],
      "execution_count": 65,
      "outputs": [
        {
          "output_type": "execute_result",
          "data": {
            "text/plain": [
              "array([1, 3, 5, 2, 4, 6])"
            ]
          },
          "metadata": {},
          "execution_count": 65
        }
      ]
    },
    {
      "cell_type": "code",
      "metadata": {
        "id": "IkoTNIt2k0tp",
        "colab": {
          "base_uri": "https://localhost:8080/"
        },
        "outputId": "a639825a-6ebd-476f-c064-c5860dda57b3"
      },
      "source": [
        "c1=np.array([7,8,9])\n",
        "\n",
        "np.concatenate([a1,b1,c1])"
      ],
      "execution_count": 66,
      "outputs": [
        {
          "output_type": "execute_result",
          "data": {
            "text/plain": [
              "array([1, 3, 5, 2, 4, 6, 7, 8, 9])"
            ]
          },
          "metadata": {},
          "execution_count": 66
        }
      ]
    },
    {
      "cell_type": "code",
      "metadata": {
        "id": "vX0SCYX3lEs2",
        "colab": {
          "base_uri": "https://localhost:8080/"
        },
        "outputId": "281a0e06-fe06-47d7-c3a8-cc7c1f03c465"
      },
      "source": [
        "a2=np.array([[1,2,3],\n",
        "             [4,5,6]])\n",
        "\n",
        "np.concatenate([a2,a2])"
      ],
      "execution_count": 67,
      "outputs": [
        {
          "output_type": "execute_result",
          "data": {
            "text/plain": [
              "array([[1, 2, 3],\n",
              "       [4, 5, 6],\n",
              "       [1, 2, 3],\n",
              "       [4, 5, 6]])"
            ]
          },
          "metadata": {},
          "execution_count": 67
        }
      ]
    },
    {
      "cell_type": "code",
      "metadata": {
        "id": "Rv6xGva7lxHP",
        "colab": {
          "base_uri": "https://localhost:8080/"
        },
        "outputId": "b737b945-920f-485d-cbea-6008fd729c34"
      },
      "source": [
        "a2=np.array([[1,2,3],\n",
        "             [4,5,6]])\n",
        "\n",
        "np.concatenate([a2,a2],axis=1)"
      ],
      "execution_count": 68,
      "outputs": [
        {
          "output_type": "execute_result",
          "data": {
            "text/plain": [
              "array([[1, 2, 3, 1, 2, 3],\n",
              "       [4, 5, 6, 4, 5, 6]])"
            ]
          },
          "metadata": {},
          "execution_count": 68
        }
      ]
    },
    {
      "cell_type": "markdown",
      "metadata": {
        "id": "MbiBbx4nl2KD"
      },
      "source": [
        "* `vstack()`: 수직 스택(vertical stack), 1차원으로 연결"
      ]
    },
    {
      "cell_type": "code",
      "metadata": {
        "id": "HkHJwdBMl_qi",
        "colab": {
          "base_uri": "https://localhost:8080/"
        },
        "outputId": "ec395341-aac8-4398-8f70-bc99e5e08c0a"
      },
      "source": [
        "np.vstack([a2,a2])"
      ],
      "execution_count": 69,
      "outputs": [
        {
          "output_type": "execute_result",
          "data": {
            "text/plain": [
              "array([[1, 2, 3],\n",
              "       [4, 5, 6],\n",
              "       [1, 2, 3],\n",
              "       [4, 5, 6]])"
            ]
          },
          "metadata": {},
          "execution_count": 69
        }
      ]
    },
    {
      "cell_type": "markdown",
      "metadata": {
        "id": "-hTlAnWxmHA_"
      },
      "source": [
        "* `hstack()`: 수평 스택(horizontal stack), 2차원으로 연결"
      ]
    },
    {
      "cell_type": "code",
      "metadata": {
        "id": "-HsGlAytmNEz",
        "colab": {
          "base_uri": "https://localhost:8080/"
        },
        "outputId": "d3f84a7a-2c5a-42fe-d317-3ef9487c0dde"
      },
      "source": [
        "np.hstack([a2,a2])"
      ],
      "execution_count": 70,
      "outputs": [
        {
          "output_type": "execute_result",
          "data": {
            "text/plain": [
              "array([[1, 2, 3, 1, 2, 3],\n",
              "       [4, 5, 6, 4, 5, 6]])"
            ]
          },
          "metadata": {},
          "execution_count": 70
        }
      ]
    },
    {
      "cell_type": "markdown",
      "metadata": {
        "id": "CshM6LURmUhV"
      },
      "source": [
        "* `dstack()`: 깊이 스택(depth stack), 3차원으로 연결"
      ]
    },
    {
      "cell_type": "code",
      "metadata": {
        "id": "TFBdRddpmU4m",
        "colab": {
          "base_uri": "https://localhost:8080/"
        },
        "outputId": "6762006e-b20f-417a-e844-79b1063aa3a5"
      },
      "source": [
        "np.dstack([a2,a2])"
      ],
      "execution_count": 71,
      "outputs": [
        {
          "output_type": "execute_result",
          "data": {
            "text/plain": [
              "array([[[1, 1],\n",
              "        [2, 2],\n",
              "        [3, 3]],\n",
              "\n",
              "       [[4, 4],\n",
              "        [5, 5],\n",
              "        [6, 6]]])"
            ]
          },
          "metadata": {},
          "execution_count": 71
        }
      ]
    },
    {
      "cell_type": "markdown",
      "metadata": {
        "id": "JUBtc4UnpaSz"
      },
      "source": [
        "* `stack()`: 새로운 차원으로 연결"
      ]
    },
    {
      "cell_type": "code",
      "metadata": {
        "id": "JzoujQ9_pHS5",
        "colab": {
          "base_uri": "https://localhost:8080/"
        },
        "outputId": "267e9503-16e3-41c4-a067-aae666015cb0"
      },
      "source": [
        "np.stack([a2,a2])"
      ],
      "execution_count": 72,
      "outputs": [
        {
          "output_type": "execute_result",
          "data": {
            "text/plain": [
              "array([[[1, 2, 3],\n",
              "        [4, 5, 6]],\n",
              "\n",
              "       [[1, 2, 3],\n",
              "        [4, 5, 6]]])"
            ]
          },
          "metadata": {},
          "execution_count": 72
        }
      ]
    },
    {
      "cell_type": "markdown",
      "metadata": {
        "id": "eYz74NYKo8iH"
      },
      "source": [
        "### 배열 분할"
      ]
    },
    {
      "cell_type": "markdown",
      "metadata": {
        "id": "wjt2zku5pBmF"
      },
      "source": [
        "* `split()`: 배열 분할"
      ]
    },
    {
      "cell_type": "code",
      "metadata": {
        "id": "H_2e71heo-Eq",
        "colab": {
          "base_uri": "https://localhost:8080/"
        },
        "outputId": "53112084-1bc2-473d-cb9d-d2d75ff60bf8"
      },
      "source": [
        "a1=np.arange(0,10)\n",
        "\n",
        "print(a1)\n",
        "\n",
        "b1,c1=np.split(a1,[5])\n",
        "print(b1,c1)\n",
        "\n",
        "b1,c1,d1,e1,f1=np.split(a1,[2,4,6,8])\n",
        "print(b1,c1,d1,e1,f1)"
      ],
      "execution_count": 73,
      "outputs": [
        {
          "output_type": "stream",
          "name": "stdout",
          "text": [
            "[0 1 2 3 4 5 6 7 8 9]\n",
            "[0 1 2 3 4] [5 6 7 8 9]\n",
            "[0 1] [2 3] [4 5] [6 7] [8 9]\n"
          ]
        }
      ]
    },
    {
      "cell_type": "markdown",
      "metadata": {
        "id": "IvvdCQcKsCLn"
      },
      "source": [
        "* `vsplit()`: 수직 분할, 1차원으로 분할"
      ]
    },
    {
      "cell_type": "code",
      "metadata": {
        "id": "GdMYlsiLsCoe",
        "colab": {
          "base_uri": "https://localhost:8080/"
        },
        "outputId": "e3f2bb7c-f4bd-4fab-e818-59e125f458a2"
      },
      "source": [
        "a2=np.arange(1,10).reshape(3,3)\n",
        "\n",
        "b2,c2=np.vsplit(a2,[2])\n",
        "print(b2)\n",
        "print(c2)"
      ],
      "execution_count": 74,
      "outputs": [
        {
          "output_type": "stream",
          "name": "stdout",
          "text": [
            "[[1 2 3]\n",
            " [4 5 6]]\n",
            "[[7 8 9]]\n"
          ]
        }
      ]
    },
    {
      "cell_type": "markdown",
      "metadata": {
        "id": "1aC0a034rSXi"
      },
      "source": [
        "* `hsplit()`: 수평 분할, 2차원으로 분할"
      ]
    },
    {
      "cell_type": "code",
      "metadata": {
        "id": "ShMnE_bnrSBJ",
        "colab": {
          "base_uri": "https://localhost:8080/"
        },
        "outputId": "d4034188-6a45-4782-9253-0ec64709a2c6"
      },
      "source": [
        "a2=np.arange(1,10).reshape(3,3)\n",
        "\n",
        "b2,c2=np.hsplit(a2,[2])\n",
        "print(b2)\n",
        "print(c2)"
      ],
      "execution_count": 75,
      "outputs": [
        {
          "output_type": "stream",
          "name": "stdout",
          "text": [
            "[[1 2]\n",
            " [4 5]\n",
            " [7 8]]\n",
            "[[3]\n",
            " [6]\n",
            " [9]]\n"
          ]
        }
      ]
    },
    {
      "cell_type": "markdown",
      "metadata": {
        "id": "Pz3BDD8qsQER"
      },
      "source": [
        "* `dsplit()`: 깊이 분할, 3차원으로 분할"
      ]
    },
    {
      "cell_type": "code",
      "metadata": {
        "id": "DqHFGd43sQYj",
        "colab": {
          "base_uri": "https://localhost:8080/"
        },
        "outputId": "43bbd9ac-2784-40a9-8320-6a27595b1727"
      },
      "source": [
        "a3=np.arange(1,28).reshape(3,3,3)\n",
        "print(a3)\n",
        "b3,c3=np.dsplit(a3,[2])\n",
        "print(b3)\n",
        "print(c3)"
      ],
      "execution_count": 76,
      "outputs": [
        {
          "output_type": "stream",
          "name": "stdout",
          "text": [
            "[[[ 1  2  3]\n",
            "  [ 4  5  6]\n",
            "  [ 7  8  9]]\n",
            "\n",
            " [[10 11 12]\n",
            "  [13 14 15]\n",
            "  [16 17 18]]\n",
            "\n",
            " [[19 20 21]\n",
            "  [22 23 24]\n",
            "  [25 26 27]]]\n",
            "[[[ 1  2]\n",
            "  [ 4  5]\n",
            "  [ 7  8]]\n",
            "\n",
            " [[10 11]\n",
            "  [13 14]\n",
            "  [16 17]]\n",
            "\n",
            " [[19 20]\n",
            "  [22 23]\n",
            "  [25 26]]]\n",
            "[[[ 3]\n",
            "  [ 6]\n",
            "  [ 9]]\n",
            "\n",
            " [[12]\n",
            "  [15]\n",
            "  [18]]\n",
            "\n",
            " [[21]\n",
            "  [24]\n",
            "  [27]]]\n"
          ]
        }
      ]
    },
    {
      "cell_type": "markdown",
      "metadata": {
        "id": "rK-zrDZuGoVd"
      },
      "source": [
        "\n",
        "\n",
        "---\n",
        "\n"
      ]
    },
    {
      "cell_type": "markdown",
      "metadata": {
        "id": "Vc-iSWewJ3C1"
      },
      "source": [
        "## 배열 연산\n",
        "\n",
        "* NumPy의 배열 연산은 벡터화(vectorized) 연산을 사용\n",
        "* 일반적으로 NumPy의 범용 함수(universal functions)를 통해 구현\n",
        "* 배열 요소에 대한 반복적인 계산을 효율적으로 수행"
      ]
    },
    {
      "cell_type": "markdown",
      "metadata": {
        "id": "Pg2er1A2w3cz"
      },
      "source": [
        "### 브로드캐스팅(Broadcasting)"
      ]
    },
    {
      "cell_type": "code",
      "metadata": {
        "id": "IGU-HRgr20nj",
        "colab": {
          "base_uri": "https://localhost:8080/"
        },
        "outputId": "33a4c138-5755-4475-8efa-8abd9b5b0666"
      },
      "source": [
        "a1=np.array([1,2,3])\n",
        "print(a1)\n",
        "print(a1+5)"
      ],
      "execution_count": 77,
      "outputs": [
        {
          "output_type": "stream",
          "name": "stdout",
          "text": [
            "[1 2 3]\n",
            "[6 7 8]\n"
          ]
        }
      ]
    },
    {
      "cell_type": "code",
      "metadata": {
        "id": "IAzsmIAn1HNt",
        "colab": {
          "base_uri": "https://localhost:8080/"
        },
        "outputId": "8098bdd1-a635-4cb4-8aff-13bff064518f"
      },
      "source": [
        "a2=np.array([[1,2,3],\n",
        "            [4,5,6],[7,8,9]])\n",
        "print(a2)\n",
        "print(a1+a2)\n",
        "\n",
        "b2=np.array([1,2,3]).reshape(3,1)\n",
        "print(b2)\n",
        "print(a1+b2)"
      ],
      "execution_count": 78,
      "outputs": [
        {
          "output_type": "stream",
          "name": "stdout",
          "text": [
            "[[1 2 3]\n",
            " [4 5 6]\n",
            " [7 8 9]]\n",
            "[[ 2  4  6]\n",
            " [ 5  7  9]\n",
            " [ 8 10 12]]\n",
            "[[1]\n",
            " [2]\n",
            " [3]]\n",
            "[[2 3 4]\n",
            " [3 4 5]\n",
            " [4 5 6]]\n"
          ]
        }
      ]
    },
    {
      "cell_type": "markdown",
      "metadata": {
        "id": "NZzLHHLmwl_b"
      },
      "source": [
        "### 산술 연산(Arithmetic Operators)"
      ]
    },
    {
      "cell_type": "code",
      "metadata": {
        "id": "jHrIjHGEi05k",
        "colab": {
          "base_uri": "https://localhost:8080/"
        },
        "outputId": "bfc49f19-c7f7-4ea2-e6fc-e9c878d96d3f"
      },
      "source": [
        "a1=np.arange(1,10)\n",
        "print(a1)\n",
        "#더하기\n",
        "print(a1+1)\n",
        "print(np.add(a1,10))\n",
        "#빼기\n",
        "print(a1-2)\n",
        "print(np.subtract(a1,10))\n",
        "#음수로 만들기\n",
        "print(-a1)\n",
        "print(np.negative(a1))\n",
        "#곱하기\n",
        "print(a1*2)\n",
        "print(np.multiply(a1,2))\n",
        "#나누기\n",
        "print(a1/2)\n",
        "print(np.divide(a1,2))\n",
        "#몫 구하기 버림;\n",
        "print(a1//2)\n",
        "print(np.floor_divide(a1,2))\n",
        "#제곱\n",
        "print(a1**2)\n",
        "print(np.power(a1,2))\n",
        "#나머지\n",
        "print(a1%2)\n",
        "print(np.mod(a1,2))"
      ],
      "execution_count": 79,
      "outputs": [
        {
          "output_type": "stream",
          "name": "stdout",
          "text": [
            "[1 2 3 4 5 6 7 8 9]\n",
            "[ 2  3  4  5  6  7  8  9 10]\n",
            "[11 12 13 14 15 16 17 18 19]\n",
            "[-1  0  1  2  3  4  5  6  7]\n",
            "[-9 -8 -7 -6 -5 -4 -3 -2 -1]\n",
            "[-1 -2 -3 -4 -5 -6 -7 -8 -9]\n",
            "[-1 -2 -3 -4 -5 -6 -7 -8 -9]\n",
            "[ 2  4  6  8 10 12 14 16 18]\n",
            "[ 2  4  6  8 10 12 14 16 18]\n",
            "[0.5 1.  1.5 2.  2.5 3.  3.5 4.  4.5]\n",
            "[0.5 1.  1.5 2.  2.5 3.  3.5 4.  4.5]\n",
            "[0 1 1 2 2 3 3 4 4]\n",
            "[0 1 1 2 2 3 3 4 4]\n",
            "[ 1  4  9 16 25 36 49 64 81]\n",
            "[ 1  4  9 16 25 36 49 64 81]\n",
            "[1 0 1 0 1 0 1 0 1]\n",
            "[1 0 1 0 1 0 1 0 1]\n"
          ]
        }
      ]
    },
    {
      "cell_type": "code",
      "metadata": {
        "id": "sMUYzXk3psgC",
        "colab": {
          "base_uri": "https://localhost:8080/"
        },
        "outputId": "efda2dd5-458f-41b8-c9e0-6c6ce4cb1485"
      },
      "source": [
        "a1=np.arange(1,10)\n",
        "print(a1)\n",
        "b1=np.random.randint(1,10, size=9)\n",
        "print(b1)\n",
        "print(a1+b1)\n",
        "print(a1-b1)\n",
        "print(a1*b1)\n",
        "print(a1/b1)\n",
        "print(a1//b1)\n",
        "print(a1%b1)\n",
        "print(a1**b1)"
      ],
      "execution_count": 80,
      "outputs": [
        {
          "output_type": "stream",
          "name": "stdout",
          "text": [
            "[1 2 3 4 5 6 7 8 9]\n",
            "[2 2 4 7 4 3 9 2 6]\n",
            "[ 3  4  7 11  9  9 16 10 15]\n",
            "[-1  0 -1 -3  1  3 -2  6  3]\n",
            "[ 2  4 12 28 20 18 63 16 54]\n",
            "[0.5        1.         0.75       0.57142857 1.25       2.\n",
            " 0.77777778 4.         1.5       ]\n",
            "[0 1 0 0 1 2 0 4 1]\n",
            "[1 0 3 4 1 0 7 0 3]\n",
            "[       1        4       81    16384      625      216 40353607       64\n",
            "   531441]\n"
          ]
        }
      ]
    },
    {
      "cell_type": "code",
      "metadata": {
        "id": "ZkyjPmk5onPK",
        "colab": {
          "base_uri": "https://localhost:8080/"
        },
        "outputId": "38c2b243-7212-403f-b975-7ad4ddd949ff"
      },
      "source": [
        "a2=np.arange(1,10).reshape(3,3)\n",
        "print(a2)\n",
        "b2=np.random.randint(1,10, size=9).reshape(3,3)\n",
        "print(b2)\n",
        "print(a2+b2)\n",
        "print(a2-b2)\n",
        "print(a2*b2)\n",
        "print(a2/b2)\n",
        "print(a2//b2)\n",
        "print(a2**b2)\n",
        "print(a2%b2)\n"
      ],
      "execution_count": 81,
      "outputs": [
        {
          "output_type": "stream",
          "name": "stdout",
          "text": [
            "[[1 2 3]\n",
            " [4 5 6]\n",
            " [7 8 9]]\n",
            "[[3 7 7]\n",
            " [4 6 6]\n",
            " [3 9 1]]\n",
            "[[ 4  9 10]\n",
            " [ 8 11 12]\n",
            " [10 17 10]]\n",
            "[[-2 -5 -4]\n",
            " [ 0 -1  0]\n",
            " [ 4 -1  8]]\n",
            "[[ 3 14 21]\n",
            " [16 30 36]\n",
            " [21 72  9]]\n",
            "[[0.33333333 0.28571429 0.42857143]\n",
            " [1.         0.83333333 1.        ]\n",
            " [2.33333333 0.88888889 9.        ]]\n",
            "[[0 0 0]\n",
            " [1 0 1]\n",
            " [2 0 9]]\n",
            "[[        1       128      2187]\n",
            " [      256     15625     46656]\n",
            " [      343 134217728         9]]\n",
            "[[1 2 3]\n",
            " [0 5 0]\n",
            " [1 8 0]]\n"
          ]
        }
      ]
    },
    {
      "cell_type": "markdown",
      "metadata": {
        "id": "hxG_aECas3a9"
      },
      "source": [
        "#### 절대값 함수(Absolute Function)\n",
        "\n",
        "* `absolute()`, `abs()`: 내장된 절대값 함수"
      ]
    },
    {
      "cell_type": "code",
      "metadata": {
        "id": "YmX-0LvWs7qM",
        "colab": {
          "base_uri": "https://localhost:8080/"
        },
        "outputId": "7fe0064f-8896-4631-fc40-8368f3ca8f4f"
      },
      "source": [
        "a1=np.random.randint(-10,10,size=5)\n",
        "print(a1)\n",
        "print(np.absolute(a1))\n",
        "print(np.abs(a1))"
      ],
      "execution_count": 82,
      "outputs": [
        {
          "output_type": "stream",
          "name": "stdout",
          "text": [
            "[-4  6 -8 -1 -6]\n",
            "[4 6 8 1 6]\n",
            "[4 6 8 1 6]\n"
          ]
        }
      ]
    },
    {
      "cell_type": "markdown",
      "metadata": {
        "id": "U5uE3sVtzRvA"
      },
      "source": [
        "#### 제곱/제곱근 함수\n",
        "\n",
        "* `square`, `sqrt`: 제곱, 제곱근 함수"
      ]
    },
    {
      "cell_type": "code",
      "metadata": {
        "id": "ggnIxDGzzTfX",
        "colab": {
          "base_uri": "https://localhost:8080/"
        },
        "outputId": "6c8a1214-e47f-422f-e518-b5d3ec47d710"
      },
      "source": [
        "print(a1)\n",
        "print(np.square(a1))\n",
        "print(np.sqrt(a1))"
      ],
      "execution_count": 83,
      "outputs": [
        {
          "output_type": "stream",
          "name": "stdout",
          "text": [
            "[-4  6 -8 -1 -6]\n",
            "[16 36 64  1 36]\n",
            "[       nan 2.44948974        nan        nan        nan]\n"
          ]
        },
        {
          "output_type": "stream",
          "name": "stderr",
          "text": [
            "/usr/local/lib/python3.7/dist-packages/ipykernel_launcher.py:3: RuntimeWarning: invalid value encountered in sqrt\n",
            "  This is separate from the ipykernel package so we can avoid doing imports until\n"
          ]
        }
      ]
    },
    {
      "cell_type": "markdown",
      "metadata": {
        "id": "tWh1aQ50vRhB"
      },
      "source": [
        "#### 지수와 로그 함수 (Exponential and Log Function)"
      ]
    },
    {
      "cell_type": "code",
      "metadata": {
        "id": "Dygt3AyHvTZz",
        "colab": {
          "base_uri": "https://localhost:8080/"
        },
        "outputId": "356ea738-7704-4d9b-aeb2-a04a687245fa"
      },
      "source": [
        "a1=np.random.randint(1,10,size=5)\n",
        "print(a1)\n",
        "print(np.exp(a1))\n",
        "print(np.exp2(a1))\n",
        "print(np.power(a1,2))"
      ],
      "execution_count": 84,
      "outputs": [
        {
          "output_type": "stream",
          "name": "stdout",
          "text": [
            "[5 2 3 4 4]\n",
            "[148.4131591    7.3890561   20.08553692  54.59815003  54.59815003]\n",
            "[32.  4.  8. 16. 16.]\n",
            "[25  4  9 16 16]\n"
          ]
        }
      ]
    },
    {
      "cell_type": "code",
      "metadata": {
        "id": "YB0BzwxDvnkT",
        "colab": {
          "base_uri": "https://localhost:8080/"
        },
        "outputId": "c3fe8ae8-cd74-4e90-82bc-556d7f3e9c5f"
      },
      "source": [
        "print(a1)\n",
        "print(np.log(a1))\n",
        "print(np.log2(a1))\n",
        "print(np.log10(a1))"
      ],
      "execution_count": 85,
      "outputs": [
        {
          "output_type": "stream",
          "name": "stdout",
          "text": [
            "[5 2 3 4 4]\n",
            "[1.60943791 0.69314718 1.09861229 1.38629436 1.38629436]\n",
            "[2.32192809 1.         1.5849625  2.         2.        ]\n",
            "[0.69897    0.30103    0.47712125 0.60205999 0.60205999]\n"
          ]
        }
      ]
    },
    {
      "cell_type": "markdown",
      "metadata": {
        "id": "wE_p9AxjtdJ9"
      },
      "source": [
        "#### 삼각 함수(Trigonometrical Function)\n"
      ]
    },
    {
      "cell_type": "code",
      "metadata": {
        "id": "6bOSPS81tuo5",
        "colab": {
          "base_uri": "https://localhost:8080/"
        },
        "outputId": "578139af-d0d7-4f67-ac97-ca279dce8467"
      },
      "source": [
        "t=np.linspace(0,np.pi,3)\n",
        "print(t)\n",
        "print(np.sin(t))\n",
        "print(np.cos(t))\n",
        "print(np.tan(t))"
      ],
      "execution_count": 86,
      "outputs": [
        {
          "output_type": "stream",
          "name": "stdout",
          "text": [
            "[0.         1.57079633 3.14159265]\n",
            "[0.0000000e+00 1.0000000e+00 1.2246468e-16]\n",
            "[ 1.000000e+00  6.123234e-17 -1.000000e+00]\n",
            "[ 0.00000000e+00  1.63312394e+16 -1.22464680e-16]\n"
          ]
        }
      ]
    },
    {
      "cell_type": "code",
      "metadata": {
        "id": "v7m-AQW9uJ9u",
        "colab": {
          "base_uri": "https://localhost:8080/"
        },
        "outputId": "fcfa6388-4478-47a2-99ba-1cc93279e70d"
      },
      "source": [
        "x=[-1,0,1]\n",
        "print(x)\n",
        "print(np.arcsin(x))\n",
        "print(np.arccos(x))\n",
        "print(np.arctan(x))"
      ],
      "execution_count": 87,
      "outputs": [
        {
          "output_type": "stream",
          "name": "stdout",
          "text": [
            "[-1, 0, 1]\n",
            "[-1.57079633  0.          1.57079633]\n",
            "[3.14159265 1.57079633 0.        ]\n",
            "[-0.78539816  0.          0.78539816]\n"
          ]
        }
      ]
    },
    {
      "cell_type": "markdown",
      "metadata": {
        "id": "hKJtYUVWwxQy"
      },
      "source": [
        "### 집계 함수(Aggregate Functions)\n",
        "\n",
        "- NAN안전 모드가 존재하고 있다\n",
        "- NAN이 들어와도 에러가 아닌 안전한 값이 나온다."
      ]
    },
    {
      "cell_type": "markdown",
      "metadata": {
        "id": "GdxMrX5l9m6W"
      },
      "source": [
        "#### sum(): 합 계산"
      ]
    },
    {
      "cell_type": "code",
      "metadata": {
        "id": "AJQ3GjLI0cZU",
        "colab": {
          "base_uri": "https://localhost:8080/"
        },
        "outputId": "a1b594ae-08d9-49f2-a76e-342769f24a3e"
      },
      "source": [
        "a2=np.random.randint(1,10,size=(3,3))\n",
        "print(a2)\n",
        "\n",
        "print(a2.sum(),np.sum(a2))\n",
        "print(a2.sum(axis=0),np.sum(a2,axis=0))\n",
        "print(a2.sum(axis=1),np.sum(a2,axis=1))\n"
      ],
      "execution_count": 88,
      "outputs": [
        {
          "output_type": "stream",
          "name": "stdout",
          "text": [
            "[[5 3 2]\n",
            " [6 8 3]\n",
            " [5 7 7]]\n",
            "46 46\n",
            "[16 18 12] [16 18 12]\n",
            "[10 17 19] [10 17 19]\n"
          ]
        }
      ]
    },
    {
      "cell_type": "markdown",
      "metadata": {
        "id": "U4W4iIb9J4Zd"
      },
      "source": [
        "#### cumsum(): 누적합 계산"
      ]
    },
    {
      "cell_type": "code",
      "metadata": {
        "id": "SRZWZD3UJ4wo",
        "colab": {
          "base_uri": "https://localhost:8080/"
        },
        "outputId": "be70b14e-85c3-4c35-f3c3-f010cc3d0b48"
      },
      "source": [
        "print(a2)\n",
        "\n",
        "print(np.cumsum(a2))\n",
        "print(np.cumsum(a2,axis=0))\n",
        "print(np.cumsum(a2,axis=1))"
      ],
      "execution_count": 89,
      "outputs": [
        {
          "output_type": "stream",
          "name": "stdout",
          "text": [
            "[[5 3 2]\n",
            " [6 8 3]\n",
            " [5 7 7]]\n",
            "[ 5  8 10 16 24 27 32 39 46]\n",
            "[[ 5  3  2]\n",
            " [11 11  5]\n",
            " [16 18 12]]\n",
            "[[ 5  8 10]\n",
            " [ 6 14 17]\n",
            " [ 5 12 19]]\n"
          ]
        }
      ]
    },
    {
      "cell_type": "markdown",
      "metadata": {
        "id": "pVaJRWQ-LV0f"
      },
      "source": [
        "#### diff(): 차분 계산"
      ]
    },
    {
      "cell_type": "code",
      "metadata": {
        "id": "yKjnWtGVLWJj",
        "colab": {
          "base_uri": "https://localhost:8080/"
        },
        "outputId": "92000161-3974-4595-f6c4-1e938b41eef3"
      },
      "source": [
        "print(a2)\n",
        "\n",
        "print(np.diff(a2))\n",
        "print(np.diff(a2,axis=0))\n",
        "print(np.diff(a2,axis=1))"
      ],
      "execution_count": 90,
      "outputs": [
        {
          "output_type": "stream",
          "name": "stdout",
          "text": [
            "[[5 3 2]\n",
            " [6 8 3]\n",
            " [5 7 7]]\n",
            "[[-2 -1]\n",
            " [ 2 -5]\n",
            " [ 2  0]]\n",
            "[[ 1  5  1]\n",
            " [-1 -1  4]]\n",
            "[[-2 -1]\n",
            " [ 2 -5]\n",
            " [ 2  0]]\n"
          ]
        }
      ]
    },
    {
      "cell_type": "markdown",
      "metadata": {
        "id": "b6I38HfA9vGL"
      },
      "source": [
        "#### prod(): 곱 계산"
      ]
    },
    {
      "cell_type": "code",
      "metadata": {
        "id": "rGPMXGe89y0O",
        "colab": {
          "base_uri": "https://localhost:8080/"
        },
        "outputId": "af1b93eb-1d5c-484b-afae-66a588073c38"
      },
      "source": [
        "print(a2)\n",
        "\n",
        "print(np.prod(a2))\n",
        "print(np.prod(a2,axis=0))\n",
        "print(np.prod(a2,axis=1))"
      ],
      "execution_count": 91,
      "outputs": [
        {
          "output_type": "stream",
          "name": "stdout",
          "text": [
            "[[5 3 2]\n",
            " [6 8 3]\n",
            " [5 7 7]]\n",
            "1058400\n",
            "[150 168  42]\n",
            "[ 30 144 245]\n"
          ]
        }
      ]
    },
    {
      "cell_type": "markdown",
      "metadata": {
        "id": "RwaoVUGcKkkE"
      },
      "source": [
        "#### cumprod(): 누적곱 계산"
      ]
    },
    {
      "cell_type": "code",
      "metadata": {
        "id": "jwYoX9inKk4D",
        "colab": {
          "base_uri": "https://localhost:8080/"
        },
        "outputId": "852d11e2-2126-49e9-c04b-3ea37c699773"
      },
      "source": [
        "print(np.cumprod(a2))\n",
        "print(np.cumprod(a2,axis=0))\n",
        "print(np.cumprod(a2,axis=1))"
      ],
      "execution_count": 92,
      "outputs": [
        {
          "output_type": "stream",
          "name": "stdout",
          "text": [
            "[      5      15      30     180    1440    4320   21600  151200 1058400]\n",
            "[[  5   3   2]\n",
            " [ 30  24   6]\n",
            " [150 168  42]]\n",
            "[[  5  15  30]\n",
            " [  6  48 144]\n",
            " [  5  35 245]]\n"
          ]
        }
      ]
    },
    {
      "cell_type": "markdown",
      "metadata": {
        "id": "_LMAbL9hMV7T"
      },
      "source": [
        "#### dot()/matmul(): 점곱/행렬곱 계산"
      ]
    },
    {
      "cell_type": "code",
      "metadata": {
        "id": "xC6FBzF0MWW1",
        "colab": {
          "base_uri": "https://localhost:8080/"
        },
        "outputId": "7380cdeb-2739-4ca2-eda1-684451724e7d"
      },
      "source": [
        "print(a2)\n",
        "b2=np.ones_like(a2)\n",
        "print(b2)\n",
        "print(np.dot(a2,b2))\n",
        "print(np.matmul(a2,b2))"
      ],
      "execution_count": 93,
      "outputs": [
        {
          "output_type": "stream",
          "name": "stdout",
          "text": [
            "[[5 3 2]\n",
            " [6 8 3]\n",
            " [5 7 7]]\n",
            "[[1 1 1]\n",
            " [1 1 1]\n",
            " [1 1 1]]\n",
            "[[10 10 10]\n",
            " [17 17 17]\n",
            " [19 19 19]]\n",
            "[[10 10 10]\n",
            " [17 17 17]\n",
            " [19 19 19]]\n"
          ]
        }
      ]
    },
    {
      "cell_type": "markdown",
      "metadata": {
        "id": "juVk3vnjPu31"
      },
      "source": [
        "#### tensordot(): 텐서곱 계산"
      ]
    },
    {
      "cell_type": "code",
      "metadata": {
        "id": "3LrcLOcjPvNI",
        "colab": {
          "base_uri": "https://localhost:8080/"
        },
        "outputId": "5c621a2b-8da8-4bac-e679-9cff16dfcf03"
      },
      "source": [
        "print(a2)\n",
        "print(b2)\n",
        "\n",
        "print(np.tensordot(a2,b2))\n",
        "print(np.tensordot(a2,b2,axes=0))\n",
        "print(np.tensordot(a2,b2,axes=1))"
      ],
      "execution_count": 94,
      "outputs": [
        {
          "output_type": "stream",
          "name": "stdout",
          "text": [
            "[[5 3 2]\n",
            " [6 8 3]\n",
            " [5 7 7]]\n",
            "[[1 1 1]\n",
            " [1 1 1]\n",
            " [1 1 1]]\n",
            "46\n",
            "[[[[5 5 5]\n",
            "   [5 5 5]\n",
            "   [5 5 5]]\n",
            "\n",
            "  [[3 3 3]\n",
            "   [3 3 3]\n",
            "   [3 3 3]]\n",
            "\n",
            "  [[2 2 2]\n",
            "   [2 2 2]\n",
            "   [2 2 2]]]\n",
            "\n",
            "\n",
            " [[[6 6 6]\n",
            "   [6 6 6]\n",
            "   [6 6 6]]\n",
            "\n",
            "  [[8 8 8]\n",
            "   [8 8 8]\n",
            "   [8 8 8]]\n",
            "\n",
            "  [[3 3 3]\n",
            "   [3 3 3]\n",
            "   [3 3 3]]]\n",
            "\n",
            "\n",
            " [[[5 5 5]\n",
            "   [5 5 5]\n",
            "   [5 5 5]]\n",
            "\n",
            "  [[7 7 7]\n",
            "   [7 7 7]\n",
            "   [7 7 7]]\n",
            "\n",
            "  [[7 7 7]\n",
            "   [7 7 7]\n",
            "   [7 7 7]]]]\n",
            "[[10 10 10]\n",
            " [17 17 17]\n",
            " [19 19 19]]\n"
          ]
        }
      ]
    },
    {
      "cell_type": "markdown",
      "metadata": {
        "id": "UzmZhB5TNRMX"
      },
      "source": [
        "#### cross(): 벡터곱"
      ]
    },
    {
      "cell_type": "code",
      "metadata": {
        "id": "xvT2hy1FNRkU",
        "colab": {
          "base_uri": "https://localhost:8080/"
        },
        "outputId": "3cbe4ccf-7e53-4d25-93e0-6b6ba3dd2be8"
      },
      "source": [
        "x=[1,2,3]\n",
        "y=[4,5,6]\n",
        "print(np.cross(x,y))\n"
      ],
      "execution_count": 95,
      "outputs": [
        {
          "output_type": "stream",
          "name": "stdout",
          "text": [
            "[-3  6 -3]\n"
          ]
        }
      ]
    },
    {
      "cell_type": "markdown",
      "metadata": {
        "id": "SJVYmtrSO5YL"
      },
      "source": [
        "#### inner()/outer(): 내적/외적"
      ]
    },
    {
      "cell_type": "code",
      "metadata": {
        "id": "HJpomax7O5s6",
        "colab": {
          "base_uri": "https://localhost:8080/"
        },
        "outputId": "4d730bd7-5ed3-41b4-f9d9-5a7f70ec456e"
      },
      "source": [
        "print(a2)\n",
        "print(b2)\n",
        "\n",
        "print(np.inner(a2,b2))\n",
        "print(np.outer(a2,b2))"
      ],
      "execution_count": 96,
      "outputs": [
        {
          "output_type": "stream",
          "name": "stdout",
          "text": [
            "[[5 3 2]\n",
            " [6 8 3]\n",
            " [5 7 7]]\n",
            "[[1 1 1]\n",
            " [1 1 1]\n",
            " [1 1 1]]\n",
            "[[10 10 10]\n",
            " [17 17 17]\n",
            " [19 19 19]]\n",
            "[[5 5 5 5 5 5 5 5 5]\n",
            " [3 3 3 3 3 3 3 3 3]\n",
            " [2 2 2 2 2 2 2 2 2]\n",
            " [6 6 6 6 6 6 6 6 6]\n",
            " [8 8 8 8 8 8 8 8 8]\n",
            " [3 3 3 3 3 3 3 3 3]\n",
            " [5 5 5 5 5 5 5 5 5]\n",
            " [7 7 7 7 7 7 7 7 7]\n",
            " [7 7 7 7 7 7 7 7 7]]\n"
          ]
        }
      ]
    },
    {
      "cell_type": "markdown",
      "metadata": {
        "id": "9CIotQgI_RQ-"
      },
      "source": [
        "#### mean(): 평균 계산"
      ]
    },
    {
      "cell_type": "code",
      "metadata": {
        "id": "g96wAEOT_bUk",
        "colab": {
          "base_uri": "https://localhost:8080/"
        },
        "outputId": "dbd37e8e-84d7-4874-eed7-bacbd612d6ab"
      },
      "source": [
        "print(a2)\n",
        "\n",
        "print(np.mean(a2))\n",
        "print(np.mean(a2,axis=0))\n",
        "print(np.mean(a2,axis=1))"
      ],
      "execution_count": 97,
      "outputs": [
        {
          "output_type": "stream",
          "name": "stdout",
          "text": [
            "[[5 3 2]\n",
            " [6 8 3]\n",
            " [5 7 7]]\n",
            "5.111111111111111\n",
            "[5.33333333 6.         4.        ]\n",
            "[3.33333333 5.66666667 6.33333333]\n"
          ]
        }
      ]
    },
    {
      "cell_type": "markdown",
      "metadata": {
        "id": "wAG_zijP_Z5o"
      },
      "source": [
        "#### std(): 표준 편차 계산"
      ]
    },
    {
      "cell_type": "code",
      "metadata": {
        "id": "hlpnuyug_TXA",
        "colab": {
          "base_uri": "https://localhost:8080/"
        },
        "outputId": "f555762c-f407-45e5-9c09-04e3d57bd9ff"
      },
      "source": [
        "print(a2)\n",
        "\n",
        "print(np.std(a2))\n",
        "print(np.std(a2,axis=0))\n",
        "print(np.std(a2,axis=1))"
      ],
      "execution_count": 98,
      "outputs": [
        {
          "output_type": "stream",
          "name": "stdout",
          "text": [
            "[[5 3 2]\n",
            " [6 8 3]\n",
            " [5 7 7]]\n",
            "1.9688939051854832\n",
            "[0.47140452 2.1602469  2.1602469 ]\n",
            "[1.24721913 2.05480467 0.94280904]\n"
          ]
        }
      ]
    },
    {
      "cell_type": "markdown",
      "metadata": {
        "id": "5FFTCCDaAEhx"
      },
      "source": [
        "#### var(): 분산 계산"
      ]
    },
    {
      "cell_type": "code",
      "metadata": {
        "id": "CRMNkSdzAGZG",
        "colab": {
          "base_uri": "https://localhost:8080/"
        },
        "outputId": "a96f831d-ba65-4601-ae0c-82d814239fa3"
      },
      "source": [
        "print(a2)\n",
        "\n",
        "print(np.var(a2))\n",
        "print(np.var(a2,axis=0))\n",
        "print(np.var(a2,axis=1))"
      ],
      "execution_count": 100,
      "outputs": [
        {
          "output_type": "stream",
          "name": "stdout",
          "text": [
            "[[5 3 2]\n",
            " [6 8 3]\n",
            " [5 7 7]]\n",
            "3.8765432098765427\n",
            "[0.22222222 4.66666667 4.66666667]\n",
            "[1.55555556 4.22222222 0.88888889]\n"
          ]
        }
      ]
    },
    {
      "cell_type": "markdown",
      "metadata": {
        "id": "QFeh-4tmCCrU"
      },
      "source": [
        "#### min(): 최소값"
      ]
    },
    {
      "cell_type": "code",
      "metadata": {
        "id": "SMNCfYBQCEtf",
        "colab": {
          "base_uri": "https://localhost:8080/"
        },
        "outputId": "012551fe-5f23-4e5b-8a47-f58c33822cb3"
      },
      "source": [
        "print(a2)\n",
        "\n",
        "print(np.min(a2))\n",
        "print(np.min(a2,axis=0))\n",
        "print(np.min(a2,axis=1))"
      ],
      "execution_count": 101,
      "outputs": [
        {
          "output_type": "stream",
          "name": "stdout",
          "text": [
            "[[5 3 2]\n",
            " [6 8 3]\n",
            " [5 7 7]]\n",
            "2\n",
            "[5 3 2]\n",
            "[2 3 5]\n"
          ]
        }
      ]
    },
    {
      "cell_type": "markdown",
      "metadata": {
        "id": "A3n_JBnBJ2bo"
      },
      "source": [
        "#### max(): 최대값"
      ]
    },
    {
      "cell_type": "code",
      "metadata": {
        "id": "FmuOFKGAJ6Pf",
        "colab": {
          "base_uri": "https://localhost:8080/"
        },
        "outputId": "2997288c-147f-400c-de20-1a58a5cefc2d"
      },
      "source": [
        "print(a2)\n",
        "\n",
        "print(np.max(a2))\n",
        "print(np.max(a2,axis=0))\n",
        "print(np.max(a2,axis=1))"
      ],
      "execution_count": 102,
      "outputs": [
        {
          "output_type": "stream",
          "name": "stdout",
          "text": [
            "[[5 3 2]\n",
            " [6 8 3]\n",
            " [5 7 7]]\n",
            "8\n",
            "[6 8 7]\n",
            "[5 8 7]\n"
          ]
        }
      ]
    },
    {
      "cell_type": "markdown",
      "metadata": {
        "id": "PvGOKDP0J_5b"
      },
      "source": [
        "#### argmin(): 최소값 인덱스"
      ]
    },
    {
      "cell_type": "code",
      "metadata": {
        "id": "1ILP7L3yKCqA",
        "colab": {
          "base_uri": "https://localhost:8080/"
        },
        "outputId": "7923a9e5-7767-4d24-dd04-6ea8e35dc987"
      },
      "source": [
        "print(a2)\n",
        "\n",
        "print(np.argmin(a2))\n",
        "print(np.argmin(a2,axis=0))\n",
        "print(np.argmin(a2,axis=1))"
      ],
      "execution_count": 103,
      "outputs": [
        {
          "output_type": "stream",
          "name": "stdout",
          "text": [
            "[[5 3 2]\n",
            " [6 8 3]\n",
            " [5 7 7]]\n",
            "2\n",
            "[0 0 0]\n",
            "[2 2 0]\n"
          ]
        }
      ]
    },
    {
      "cell_type": "markdown",
      "metadata": {
        "id": "23IcSctIKbUa"
      },
      "source": [
        "#### argmax(): 최대값 인덱스"
      ]
    },
    {
      "cell_type": "code",
      "metadata": {
        "id": "2m21cfCFKd-Q",
        "colab": {
          "base_uri": "https://localhost:8080/"
        },
        "outputId": "2d7bdd7e-1c8c-4228-9376-e2df3b539f33"
      },
      "source": [
        "print(a2)\n",
        "\n",
        "print(np.argmax(a2))\n",
        "print(np.argmax(a2,axis=0))\n",
        "print(np.argmax(a2,axis=1))"
      ],
      "execution_count": 104,
      "outputs": [
        {
          "output_type": "stream",
          "name": "stdout",
          "text": [
            "[[5 3 2]\n",
            " [6 8 3]\n",
            " [5 7 7]]\n",
            "4\n",
            "[1 1 2]\n",
            "[0 1 1]\n"
          ]
        }
      ]
    },
    {
      "cell_type": "markdown",
      "metadata": {
        "id": "3TjeNFQLKuZb"
      },
      "source": [
        "#### median(): 중앙값"
      ]
    },
    {
      "cell_type": "code",
      "metadata": {
        "id": "kSLN17bpKwv6",
        "colab": {
          "base_uri": "https://localhost:8080/"
        },
        "outputId": "f13a9f69-9063-44c0-ecf6-cf9acd431842"
      },
      "source": [
        "print(a2)\n",
        "\n",
        "print(np.median(a2))\n",
        "print(np.median(a2,axis=0))\n",
        "print(np.median(a2,axis=1))"
      ],
      "execution_count": 105,
      "outputs": [
        {
          "output_type": "stream",
          "name": "stdout",
          "text": [
            "[[5 3 2]\n",
            " [6 8 3]\n",
            " [5 7 7]]\n",
            "5.0\n",
            "[5. 7. 3.]\n",
            "[3. 6. 7.]\n"
          ]
        }
      ]
    },
    {
      "cell_type": "markdown",
      "metadata": {
        "id": "df-Id-nhLs3L"
      },
      "source": [
        "#### percentile(): 백분위 수\n",
        "\n"
      ]
    },
    {
      "cell_type": "code",
      "metadata": {
        "id": "N-TCx9hnLvhK",
        "colab": {
          "base_uri": "https://localhost:8080/"
        },
        "outputId": "935e308e-c7b2-49e7-896b-f06617b4b0f1"
      },
      "source": [
        "a1=np.array([0,1,2,3])\n",
        "print(a1)\n",
        "print(np.percentile(a1,[0,20,40,60,80,100],interpolation='linear'))\n",
        "print(np.percentile(a1,[0,20,40,60,80,100],interpolation='higher'))\n",
        "print(np.percentile(a1,[0,20,40,60,80,100],interpolation='lower'))\n",
        "print(np.percentile(a1,[0,20,40,60,80,100],interpolation='nearest'))\n",
        "print(np.percentile(a1,[0,20,40,60,80,100],interpolation='midpoint'))"
      ],
      "execution_count": 107,
      "outputs": [
        {
          "output_type": "stream",
          "name": "stdout",
          "text": [
            "[0 1 2 3]\n",
            "[0.  0.6 1.2 1.8 2.4 3. ]\n",
            "[0 1 2 2 3 3]\n",
            "[0 0 1 1 2 3]\n",
            "[0 1 1 2 2 3]\n",
            "[0.  0.5 1.5 1.5 2.5 3. ]\n"
          ]
        }
      ]
    },
    {
      "cell_type": "markdown",
      "metadata": {
        "id": "x0NnNsvvNDIs"
      },
      "source": [
        "#### any()"
      ]
    },
    {
      "cell_type": "code",
      "metadata": {
        "id": "I1XDqsFxOMvA",
        "colab": {
          "base_uri": "https://localhost:8080/"
        },
        "outputId": "ce25240f-2ebf-4264-86cd-27f6f10ee045"
      },
      "source": [
        "a2=np.array([[False,False,False],\n",
        "            [False,True,True],\n",
        "             [False,True,True]])\n",
        "print(a2)\n",
        "\n",
        "print(np.any(a2))\n",
        "print(np.any(a2,axis=0))\n",
        "print(np.any(a2,axis=1))"
      ],
      "execution_count": 108,
      "outputs": [
        {
          "output_type": "stream",
          "name": "stdout",
          "text": [
            "[[False False False]\n",
            " [False  True  True]\n",
            " [False  True  True]]\n",
            "True\n",
            "[False  True  True]\n",
            "[False  True  True]\n"
          ]
        }
      ]
    },
    {
      "cell_type": "markdown",
      "metadata": {
        "id": "Uw-wjYgyONBZ"
      },
      "source": [
        "#### all()"
      ]
    },
    {
      "cell_type": "code",
      "metadata": {
        "id": "sXi2AHOHONYq",
        "colab": {
          "base_uri": "https://localhost:8080/"
        },
        "outputId": "8a9daf7b-4b54-4f80-ad6e-6dea19252fc9"
      },
      "source": [
        "a2=np.array([[False,False,True],\n",
        "            [True,True,True],\n",
        "             [False,True,True]])\n",
        "print(a2)\n",
        "\n",
        "print(np.all(a2))\n",
        "print(np.all(a2,axis=0))\n",
        "print(np.all(a2,axis=1))"
      ],
      "execution_count": 112,
      "outputs": [
        {
          "output_type": "stream",
          "name": "stdout",
          "text": [
            "[[False False  True]\n",
            " [ True  True  True]\n",
            " [False  True  True]]\n",
            "False\n",
            "[False False  True]\n",
            "[False  True False]\n"
          ]
        }
      ]
    },
    {
      "cell_type": "markdown",
      "metadata": {
        "id": "0n7lgzmUwqr1"
      },
      "source": [
        "### 비교 연산(Comparison Operators)\n"
      ]
    },
    {
      "cell_type": "code",
      "metadata": {
        "id": "E00V-nBTVnCu",
        "colab": {
          "base_uri": "https://localhost:8080/"
        },
        "outputId": "03c72e81-c3a5-4de9-834f-1d79f1fca1b4"
      },
      "source": [
        "a1=np.arange(1,10)\n",
        "print(a1)\n",
        "\n",
        "print(a1==5)\n",
        "print(a1!=5)\n",
        "print(a1<5)\n",
        "print(a1<=5)\n",
        "print(a1>5)\n",
        "print(a1>=5)"
      ],
      "execution_count": 115,
      "outputs": [
        {
          "output_type": "stream",
          "name": "stdout",
          "text": [
            "[1 2 3 4 5 6 7 8 9]\n",
            "[False False False False  True False False False False]\n",
            "[ True  True  True  True False  True  True  True  True]\n",
            "[ True  True  True  True False False False False False]\n",
            "[ True  True  True  True  True False False False False]\n",
            "[False False False False False  True  True  True  True]\n",
            "[False False False False  True  True  True  True  True]\n"
          ]
        }
      ]
    },
    {
      "cell_type": "code",
      "metadata": {
        "id": "3MwV1CU1WsWS",
        "colab": {
          "base_uri": "https://localhost:8080/"
        },
        "outputId": "1a289c2f-223a-46cd-d1a7-4cf39fd69ca2"
      },
      "source": [
        "a2=np.arange(1,10).reshape(3,3)\n",
        "print(a2)\n",
        "\n",
        "print(np.sum(a2))\n",
        "print(np.count_nonzero(a2>5))\n",
        "print(np.sum(a2>5))\n",
        "print(np.sum(a2>5,axis=0))\n",
        "print(np.sum(a2>5,axis=1))\n",
        "\n",
        "print(np.any(a2>5,axis=0))\n",
        "print(np.any(a2>5,axis=1))\n",
        "print(np.all(a2>5,axis=0))\n",
        "print(np.all(a2>5,axis=1))"
      ],
      "execution_count": 118,
      "outputs": [
        {
          "output_type": "stream",
          "name": "stdout",
          "text": [
            "[[1 2 3]\n",
            " [4 5 6]\n",
            " [7 8 9]]\n",
            "45\n",
            "4\n",
            "4\n",
            "[1 1 2]\n",
            "[0 1 3]\n",
            "[ True  True  True]\n",
            "[False  True  True]\n",
            "[False False False]\n",
            "[False False  True]\n"
          ]
        }
      ]
    },
    {
      "cell_type": "code",
      "metadata": {
        "id": "D4cuMoyEPn8R",
        "colab": {
          "base_uri": "https://localhost:8080/"
        },
        "outputId": "5beb1f13-b288-415a-d405-05a3ca4dd6f8"
      },
      "source": [
        "a1=np.array([1,2,3,4,5])\n",
        "print(a1)\n",
        "b1=np.array([1,2,3,3,4])\n",
        "print(b1)\n",
        "\n",
        "print(np.isclose(a1,b1))"
      ],
      "execution_count": 119,
      "outputs": [
        {
          "output_type": "stream",
          "name": "stdout",
          "text": [
            "[1 2 3 4 5]\n",
            "[1 2 3 3 4]\n",
            "[ True  True  True False False]\n"
          ]
        }
      ]
    },
    {
      "cell_type": "code",
      "metadata": {
        "id": "af9VSc6FyMBh",
        "colab": {
          "base_uri": "https://localhost:8080/"
        },
        "outputId": "c991fbf2-b369-4642-a05f-c415ad461c74"
      },
      "source": [
        "a1=np.array([np.nan,2,np.inf,4,np.NINF])\n",
        "print(a1)\n",
        "print(np.isnan(a1))   #nan만 트루\n",
        "print(np.isinf(a1))   #inf만 트루 음수도 가능\n",
        "print(np.isfinite(a1)) #숫자만 트루"
      ],
      "execution_count": 122,
      "outputs": [
        {
          "output_type": "stream",
          "name": "stdout",
          "text": [
            "[ nan   2.  inf   4. -inf]\n",
            "[ True False False False False]\n",
            "[False False  True False  True]\n",
            "[False  True False  True False]\n"
          ]
        }
      ]
    },
    {
      "cell_type": "markdown",
      "metadata": {
        "id": "4BHMetMlYmt-"
      },
      "source": [
        "#### 불리언 연산자(Boolean Operators)\n"
      ]
    },
    {
      "cell_type": "code",
      "metadata": {
        "id": "ZV1-8DkUHOZq",
        "colab": {
          "base_uri": "https://localhost:8080/"
        },
        "outputId": "e8fa0d76-e9ae-45e4-bdf9-94a853343df7"
      },
      "source": [
        "a2=np.arange(1,10).reshape(3,3)\n",
        "print(a2)\n",
        "#and\n",
        "print((a2>5)&(a2<8))\n",
        "print(a2[(a2>5)&(a2<8)])\n",
        "#or\n",
        "print((a2>5)|(a2<8))\n",
        "print(a2[(a2>5)|(a2<8)])\n",
        "#xor\n",
        "print((a2>5)^(a2<8))\n",
        "print(a2[(a2>5)^(a2<8)])\n",
        "#not\n",
        "print(~(a2>5))\n",
        "print(a2[~(a2>5)])"
      ],
      "execution_count": 126,
      "outputs": [
        {
          "output_type": "stream",
          "name": "stdout",
          "text": [
            "[[1 2 3]\n",
            " [4 5 6]\n",
            " [7 8 9]]\n",
            "[[False False False]\n",
            " [False False  True]\n",
            " [ True False False]]\n",
            "[6 7]\n",
            "[[ True  True  True]\n",
            " [ True  True  True]\n",
            " [ True  True  True]]\n",
            "[1 2 3 4 5 6 7 8 9]\n",
            "[[ True  True  True]\n",
            " [ True  True False]\n",
            " [False  True  True]]\n",
            "[1 2 3 4 5 8 9]\n",
            "[[ True  True  True]\n",
            " [ True  True False]\n",
            " [False False False]]\n",
            "[1 2 3 4 5]\n"
          ]
        }
      ]
    },
    {
      "cell_type": "markdown",
      "metadata": {
        "id": "FlQJVeGBxIFw"
      },
      "source": [
        "### 배열 정렬"
      ]
    },
    {
      "cell_type": "code",
      "metadata": {
        "id": "x0sodUMqLU37",
        "colab": {
          "base_uri": "https://localhost:8080/"
        },
        "outputId": "2509bed4-5306-4b65-a846-e11c0c8bd88e"
      },
      "source": [
        "a1=np.random.randint(1,10,size=10)\n",
        "print(a1)\n",
        "print(np.sort(a1))\n",
        "print(a1)\n",
        "print(np.argsort(a1))\n",
        "print(a1)\n",
        "\n",
        "print(a1.sort())\n",
        "print(a1)"
      ],
      "execution_count": 129,
      "outputs": [
        {
          "output_type": "stream",
          "name": "stdout",
          "text": [
            "[7 9 6 9 7 7 5 6 9 8]\n",
            "[5 6 6 7 7 7 8 9 9 9]\n",
            "[7 9 6 9 7 7 5 6 9 8]\n",
            "[6 2 7 0 4 5 9 1 3 8]\n",
            "[7 9 6 9 7 7 5 6 9 8]\n",
            "None\n",
            "[5 6 6 7 7 7 8 9 9 9]\n"
          ]
        }
      ]
    },
    {
      "cell_type": "code",
      "metadata": {
        "id": "FO_sO5POzeMp",
        "colab": {
          "base_uri": "https://localhost:8080/"
        },
        "outputId": "6f4c5c0b-9f4c-4efd-9736-8c18872447d1"
      },
      "source": [
        "a2=np.random.randint(1,10,size=(3,3))\n",
        "print(a2)\n",
        "\n",
        "print(np.sort(a2,axis=0))\n",
        "print(np.sort(a2,axis=1))"
      ],
      "execution_count": 132,
      "outputs": [
        {
          "output_type": "stream",
          "name": "stdout",
          "text": [
            "[[3 7 4]\n",
            " [6 4 8]\n",
            " [9 4 2]]\n",
            "[[3 4 2]\n",
            " [6 4 4]\n",
            " [9 7 8]]\n",
            "[[3 4 7]\n",
            " [4 6 8]\n",
            " [2 4 9]]\n"
          ]
        }
      ]
    },
    {
      "cell_type": "markdown",
      "metadata": {
        "id": "yYSItPz_00sZ"
      },
      "source": [
        "#### 부분 정렬\n",
        "\n",
        "* `partition()`: 배열에서 k개의 작은 값을 반환"
      ]
    },
    {
      "cell_type": "code",
      "metadata": {
        "id": "QQwov4N00YFP",
        "colab": {
          "base_uri": "https://localhost:8080/"
        },
        "outputId": "1e06d94b-7de6-4d4c-e3f0-a48ffe42d78f"
      },
      "source": [
        "a1=np.random.randint(1,10,size=10)\n",
        "print(a1)\n",
        "print(np.partition(a1,3))"
      ],
      "execution_count": 133,
      "outputs": [
        {
          "output_type": "stream",
          "name": "stdout",
          "text": [
            "[6 9 9 1 6 6 6 2 5 3]\n",
            "[1 2 3 5 6 6 6 9 9 6]\n"
          ]
        }
      ]
    },
    {
      "cell_type": "code",
      "source": [
        "a2=np.random.randint(1,10,size=(5,5))\n",
        "print(a2)\n",
        "print(np.partition(a2,3))\n",
        "print(np.partition(a2,3,axis=0))\n",
        "print(np.partition(a2,3,axis=1))"
      ],
      "metadata": {
        "colab": {
          "base_uri": "https://localhost:8080/"
        },
        "id": "hpnj2QxHEdXy",
        "outputId": "23181d23-2a3d-4f6a-f1c7-31cd376a6b1e"
      },
      "execution_count": 134,
      "outputs": [
        {
          "output_type": "stream",
          "name": "stdout",
          "text": [
            "[[3 3 9 9 8]\n",
            " [1 7 6 6 7]\n",
            " [4 3 1 4 2]\n",
            " [3 7 7 9 3]\n",
            " [2 4 1 9 4]]\n",
            "[[3 3 8 9 9]\n",
            " [6 1 6 7 7]\n",
            " [1 2 3 4 4]\n",
            " [3 3 7 7 9]\n",
            " [1 2 4 4 9]]\n",
            "[[1 3 1 6 3]\n",
            " [2 3 1 4 2]\n",
            " [3 4 6 9 4]\n",
            " [3 7 7 9 7]\n",
            " [4 7 9 9 8]]\n",
            "[[3 3 8 9 9]\n",
            " [6 1 6 7 7]\n",
            " [1 2 3 4 4]\n",
            " [3 3 7 7 9]\n",
            " [1 2 4 4 9]]\n"
          ]
        }
      ]
    },
    {
      "cell_type": "markdown",
      "metadata": {
        "id": "77DSA72ML5cI"
      },
      "source": [
        "## 배열 입출력\n"
      ]
    },
    {
      "cell_type": "code",
      "metadata": {
        "id": "da-Mm_gzIs7U",
        "colab": {
          "base_uri": "https://localhost:8080/"
        },
        "outputId": "32fa4d7f-cc81-4c3d-bd80-2c7c26650730"
      },
      "source": [
        "a2=np.random.randint(1,10,size=(5,5))\n",
        "print(a2)\n",
        "\n",
        "np.save(\"a\",a2) #바이너리 파일로 저장\n",
        "!ls"
      ],
      "execution_count": 135,
      "outputs": [
        {
          "output_type": "stream",
          "name": "stdout",
          "text": [
            "[[4 5 2 5 8]\n",
            " [7 6 9 2 6]\n",
            " [7 2 9 5 8]\n",
            " [4 6 9 3 5]\n",
            " [4 4 4 5 1]]\n",
            "a.npy  drive  sample_data\n"
          ]
        }
      ]
    },
    {
      "cell_type": "code",
      "metadata": {
        "id": "pFOWyDvAsf11",
        "colab": {
          "base_uri": "https://localhost:8080/"
        },
        "outputId": "6f3b1d38-d970-44b3-ff59-42b3a45a4c07"
      },
      "source": [
        "b2=np.random.randint(1,10,size=(5,5))\n",
        "\n",
        "print(b2)\n",
        "\n",
        "np.savez(\"ab\",a2,b2) #여러개저장\n",
        "!ls"
      ],
      "execution_count": 138,
      "outputs": [
        {
          "output_type": "stream",
          "name": "stdout",
          "text": [
            "[[2 7 5 6 7]\n",
            " [9 9 2 2 2]\n",
            " [6 4 1 9 4]\n",
            " [8 8 6 3 8]\n",
            " [9 2 2 6 3]]\n",
            "ab.npz\ta.npy  drive  sample_data\n"
          ]
        }
      ]
    },
    {
      "cell_type": "code",
      "metadata": {
        "id": "Hvb_ilyisoIV",
        "colab": {
          "base_uri": "https://localhost:8080/"
        },
        "outputId": "9e78e193-1b04-41e5-b4dc-e20219141ac9"
      },
      "source": [
        "npy=np.load(\"a.npy\")\n",
        "print(npy)"
      ],
      "execution_count": 139,
      "outputs": [
        {
          "output_type": "stream",
          "name": "stdout",
          "text": [
            "[[4 5 2 5 8]\n",
            " [7 6 9 2 6]\n",
            " [7 2 9 5 8]\n",
            " [4 6 9 3 5]\n",
            " [4 4 4 5 1]]\n"
          ]
        }
      ]
    },
    {
      "cell_type": "code",
      "metadata": {
        "id": "ArWZfL31s1wU",
        "colab": {
          "base_uri": "https://localhost:8080/"
        },
        "outputId": "99b21e77-0091-4194-ab24-74ee4f10f581"
      },
      "source": [
        "npz=np.load('ab.npz')\n",
        "print(npz.files)\n",
        "print(npz['arr_0'])\n",
        "print(npz['arr_1'])"
      ],
      "execution_count": 141,
      "outputs": [
        {
          "output_type": "stream",
          "name": "stdout",
          "text": [
            "['arr_0', 'arr_1']\n",
            "[[4 5 2 5 8]\n",
            " [7 6 9 2 6]\n",
            " [7 2 9 5 8]\n",
            " [4 6 9 3 5]\n",
            " [4 4 4 5 1]]\n",
            "[[2 7 5 6 7]\n",
            " [9 9 2 2 2]\n",
            " [6 4 1 9 4]\n",
            " [8 8 6 3 8]\n",
            " [9 2 2 6 3]]\n"
          ]
        }
      ]
    },
    {
      "cell_type": "code",
      "metadata": {
        "id": "che4cEJEs2Tr",
        "colab": {
          "base_uri": "https://localhost:8080/"
        },
        "outputId": "8406dd09-bf5d-4a36-c7e2-30bbe9266818"
      },
      "source": [
        "print(a2)\n",
        "\n",
        "np.savetxt('a.csv',a2,delimiter=',')\n",
        "!ls"
      ],
      "execution_count": 142,
      "outputs": [
        {
          "output_type": "stream",
          "name": "stdout",
          "text": [
            "[[4 5 2 5 8]\n",
            " [7 6 9 2 6]\n",
            " [7 2 9 5 8]\n",
            " [4 6 9 3 5]\n",
            " [4 4 4 5 1]]\n",
            "ab.npz\ta.csv  a.npy  drive  sample_data\n"
          ]
        }
      ]
    },
    {
      "cell_type": "code",
      "metadata": {
        "id": "X2yIUsYvtMj6",
        "colab": {
          "base_uri": "https://localhost:8080/"
        },
        "outputId": "c7cc69a1-79d1-438e-b79b-99ca92000dea"
      },
      "source": [
        "!cat a.csv"
      ],
      "execution_count": 143,
      "outputs": [
        {
          "output_type": "stream",
          "name": "stdout",
          "text": [
            "4.000000000000000000e+00,5.000000000000000000e+00,2.000000000000000000e+00,5.000000000000000000e+00,8.000000000000000000e+00\n",
            "7.000000000000000000e+00,6.000000000000000000e+00,9.000000000000000000e+00,2.000000000000000000e+00,6.000000000000000000e+00\n",
            "7.000000000000000000e+00,2.000000000000000000e+00,9.000000000000000000e+00,5.000000000000000000e+00,8.000000000000000000e+00\n",
            "4.000000000000000000e+00,6.000000000000000000e+00,9.000000000000000000e+00,3.000000000000000000e+00,5.000000000000000000e+00\n",
            "4.000000000000000000e+00,4.000000000000000000e+00,4.000000000000000000e+00,5.000000000000000000e+00,1.000000000000000000e+00\n"
          ]
        }
      ]
    },
    {
      "cell_type": "code",
      "metadata": {
        "id": "Yj5ec-CYtaH1",
        "colab": {
          "base_uri": "https://localhost:8080/"
        },
        "outputId": "c0410a68-e1ae-4cc0-956a-ef7cfd16d5a1"
      },
      "source": [
        "csv=np.loadtxt('a.csv',delimiter=',')\n",
        "print(csv)"
      ],
      "execution_count": 144,
      "outputs": [
        {
          "output_type": "stream",
          "name": "stdout",
          "text": [
            "[[4. 5. 2. 5. 8.]\n",
            " [7. 6. 9. 2. 6.]\n",
            " [7. 2. 9. 5. 8.]\n",
            " [4. 6. 9. 3. 5.]\n",
            " [4. 4. 4. 5. 1.]]\n"
          ]
        }
      ]
    },
    {
      "cell_type": "code",
      "metadata": {
        "id": "_NIDrc-VuPmv",
        "colab": {
          "base_uri": "https://localhost:8080/"
        },
        "outputId": "15184a8c-a9c7-43d3-a5a0-76f4666ebef8"
      },
      "source": [
        "print(b2)\n",
        "np.savetxt('b.csv',b2,delimiter=',',fmt='%.2e',header='c1,c2,c3,c4,c5')"
      ],
      "execution_count": 146,
      "outputs": [
        {
          "output_type": "stream",
          "name": "stdout",
          "text": [
            "[[2 7 5 6 7]\n",
            " [9 9 2 2 2]\n",
            " [6 4 1 9 4]\n",
            " [8 8 6 3 8]\n",
            " [9 2 2 6 3]]\n"
          ]
        }
      ]
    },
    {
      "cell_type": "code",
      "metadata": {
        "id": "bPhmIoVBuQMf",
        "colab": {
          "base_uri": "https://localhost:8080/"
        },
        "outputId": "7bc0cc61-742b-4734-ee3b-8b3320acf636"
      },
      "source": [
        "!cat b.csv"
      ],
      "execution_count": 147,
      "outputs": [
        {
          "output_type": "stream",
          "name": "stdout",
          "text": [
            "# c1,c2,c3,c4,c5\n",
            "2.00e+00,7.00e+00,5.00e+00,6.00e+00,7.00e+00\n",
            "9.00e+00,9.00e+00,2.00e+00,2.00e+00,2.00e+00\n",
            "6.00e+00,4.00e+00,1.00e+00,9.00e+00,4.00e+00\n",
            "8.00e+00,8.00e+00,6.00e+00,3.00e+00,8.00e+00\n",
            "9.00e+00,2.00e+00,2.00e+00,6.00e+00,3.00e+00\n"
          ]
        }
      ]
    },
    {
      "cell_type": "code",
      "metadata": {
        "id": "FeB2p4azuTDv",
        "colab": {
          "base_uri": "https://localhost:8080/"
        },
        "outputId": "ddbab281-eb41-4c65-9852-497824b141a9"
      },
      "source": [
        "csv=np.loadtxt('b.csv',delimiter=',')\n",
        "print(csv)"
      ],
      "execution_count": 148,
      "outputs": [
        {
          "output_type": "stream",
          "name": "stdout",
          "text": [
            "[[2. 7. 5. 6. 7.]\n",
            " [9. 9. 2. 2. 2.]\n",
            " [6. 4. 1. 9. 4.]\n",
            " [8. 8. 6. 3. 8.]\n",
            " [9. 2. 2. 6. 3.]]\n"
          ]
        }
      ]
    },
    {
      "cell_type": "markdown",
      "metadata": {
        "id": "JM2Ghx2NGloN"
      },
      "source": [
        "\n",
        "\n",
        "---\n",
        "\n"
      ]
    }
  ]
}