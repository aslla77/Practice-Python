{
  "nbformat": 4,
  "nbformat_minor": 0,
  "metadata": {
    "colab": {
      "name": "np and matplotlib.ipynb",
      "provenance": [],
      "collapsed_sections": [],
      "mount_file_id": "1g6Ob1w0A7dv_xeznNhpr7u3AE5gtcggB",
      "authorship_tag": "ABX9TyOukYAIzWWTOMrQhtgYUFIN",
      "include_colab_link": true
    },
    "kernelspec": {
      "name": "python3",
      "display_name": "Python 3"
    },
    "language_info": {
      "name": "python"
    }
  },
  "cells": [
    {
      "cell_type": "markdown",
      "metadata": {
        "id": "view-in-github",
        "colab_type": "text"
      },
      "source": [
        "<a href=\"https://colab.research.google.com/github/aslla77/practice-Python/blob/main/np_and_matplotlib.ipynb\" target=\"_parent\"><img src=\"https://colab.research.google.com/assets/colab-badge.svg\" alt=\"Open In Colab\"/></a>"
      ]
    },
    {
      "cell_type": "code",
      "execution_count": null,
      "metadata": {
        "id": "6EU6KurxME_2"
      },
      "outputs": [],
      "source": [
        "import numpy as np\n",
        "import matplotlib.pyplot as plt\n"
      ]
    },
    {
      "cell_type": "code",
      "source": [
        "A=np.array([[1,2],[3,4]])\n",
        "print('A=\\n',A)\n",
        "print(A.shape)\n",
        "print(A.dtype)\n",
        "\n",
        "B=np.array([[3,0],[0,6]])\n",
        "print('B=\\n',B)\n",
        "print('A+B=\\n',A+B)\n",
        "print('A*B=\\n',A*B)\n",
        "\n",
        "print('A*10=\\n',A*10)"
      ],
      "metadata": {
        "colab": {
          "base_uri": "https://localhost:8080/"
        },
        "id": "JPNHIUZXM-wU",
        "outputId": "01e05805-f76a-42c6-ceea-8ed33cf53c18"
      },
      "execution_count": null,
      "outputs": [
        {
          "output_type": "stream",
          "name": "stdout",
          "text": [
            "A=\n",
            " [[1 2]\n",
            " [3 4]]\n",
            "(2, 2)\n",
            "int64\n",
            "B=\n",
            " [[3 0]\n",
            " [0 6]]\n",
            "A+B=\n",
            " [[ 4  2]\n",
            " [ 3 10]]\n",
            "A*B=\n",
            " [[ 3  0]\n",
            " [ 0 24]]\n",
            "A*10=\n",
            " [[10 20]\n",
            " [30 40]]\n"
          ]
        }
      ]
    },
    {
      "cell_type": "code",
      "source": [
        "#브로드캐스트\n",
        "C=np.array([10,20])\n",
        "print(A*C)"
      ],
      "metadata": {
        "colab": {
          "base_uri": "https://localhost:8080/"
        },
        "id": "GMGXpnwuNNpy",
        "outputId": "f13e96fa-687e-46b5-c276-97f6b114e42c"
      },
      "execution_count": null,
      "outputs": [
        {
          "output_type": "stream",
          "name": "stdout",
          "text": [
            "[[10 40]\n",
            " [30 80]]\n"
          ]
        }
      ]
    },
    {
      "cell_type": "code",
      "source": [
        "X=np.array([[51,54],[14,19],[0,4]])\n",
        "print(X)\n",
        "X=X.flatten()\n",
        "print(X,'\\n')\n",
        "\n",
        "X1=X[np.array([0,2,4])]\n",
        "print(X1,'\\n')\n",
        "print(X>15,'\\n')\n",
        "print(X[X>15])"
      ],
      "metadata": {
        "colab": {
          "base_uri": "https://localhost:8080/"
        },
        "id": "NOtzRoZmOgOX",
        "outputId": "8c3f15ba-7c67-4240-eb68-b00fb9e550e5"
      },
      "execution_count": null,
      "outputs": [
        {
          "output_type": "stream",
          "name": "stdout",
          "text": [
            "[[51 54]\n",
            " [14 19]\n",
            " [ 0  4]]\n",
            "[51 54 14 19  0  4] \n",
            "\n",
            "[51 14  0] \n",
            "\n",
            "[ True  True False  True False False] \n",
            "\n",
            "[51 54 19]\n"
          ]
        }
      ]
    },
    {
      "cell_type": "code",
      "source": [
        "x=np.arange(0,6.5,0.1)\n",
        "y=np.sin(x)\n",
        "\n",
        "plt.plot(x,y)"
      ],
      "metadata": {
        "colab": {
          "base_uri": "https://localhost:8080/",
          "height": 283
        },
        "id": "wA14ifsxQCWd",
        "outputId": "086595bc-e04f-4013-acab-e72e7fbea0f1"
      },
      "execution_count": null,
      "outputs": [
        {
          "output_type": "execute_result",
          "data": {
            "text/plain": [
              "[<matplotlib.lines.Line2D at 0x7f4e0f582110>]"
            ]
          },
          "metadata": {},
          "execution_count": 26
        },
        {
          "output_type": "display_data",
          "data": {
            "text/plain": [
              "<Figure size 432x288 with 1 Axes>"
            ],
            "image/png": "[encoded data removed]"
          },
          "metadata": {
            "needs_background": "light"
          }
        }
      ]
    },
    {
      "cell_type": "code",
      "source": [
        "y1=np.sin(x)\n",
        "y2=np.cos(x)\n"
      ],
      "metadata": {
        "id": "yGdfg-WkQnf4"
      },
      "execution_count": null,
      "outputs": []
    },
    {
      "cell_type": "code",
      "source": [
        "plt.plot(x,y1,label='sin')\n",
        "plt.plot(x,y2,label='cos',linestyle='--')\n",
        "plt.xlabel('x')\n",
        "plt.ylabel('y')\n",
        "plt.title('sin&cos')\n",
        "plt.legend()\n",
        "plt.show()"
      ],
      "metadata": {
        "colab": {
          "base_uri": "https://localhost:8080/",
          "height": 295
        },
        "id": "ud4ba5xsQyQO",
        "outputId": "eb96429e-bcb2-47e3-f1e3-95f1e05c9420"
      },
      "execution_count": null,
      "outputs": [
        {
          "output_type": "display_data",
          "data": {
            "text/plain": [
              "<Figure size 432x288 with 1 Axes>"
            ],
            "image/png": "[encoded data removed]"
          },
          "metadata": {
            "needs_background": "light"
          }
        }
      ]
    },
    {
      "cell_type": "code",
      "source": [
        "!git clone https://github.com/aslla77/practice-Python.git"
      ],
      "metadata": {
        "id": "nbca_E1fRe6h",
        "colab": {
          "base_uri": "https://localhost:8080/"
        },
        "outputId": "14d3128f-0d1f-4b22-8ff4-6b84fa33f036"
      },
      "execution_count": null,
      "outputs": [
        {
          "output_type": "stream",
          "name": "stdout",
          "text": [
            "Cloning into 'practice-Python'...\n",
            "warning: You appear to have cloned an empty repository.\n"
          ]
        }
      ]
    },
    {
      "cell_type": "code",
      "source": [
        "\n"
      ],
      "metadata": {
        "colab": {
          "base_uri": "https://localhost:8080/",
          "height": 134
        },
        "id": "8IDAzEMAJOFx",
        "outputId": "d9e035b5-023c-48e1-c08a-0dcc16e07889"
      },
      "execution_count": null,
      "outputs": [
        {
          "output_type": "error",
          "ename": "SyntaxError",
          "evalue": "ignored",
          "traceback": [
            "\u001b[0;36m  File \u001b[0;32m\"<ipython-input-6-68ba0d0c8169>\"\u001b[0;36m, line \u001b[0;32m1\u001b[0m\n\u001b[0;31m    git remote add origin https://github.com/aslla77/practice-Python.git\u001b[0m\n\u001b[0m             ^\u001b[0m\n\u001b[0;31mSyntaxError\u001b[0m\u001b[0;31m:\u001b[0m invalid syntax\n"
          ]
        }
      ]
    }
  ]
}