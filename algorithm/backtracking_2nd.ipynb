{
  "nbformat": 4,
  "nbformat_minor": 0,
  "metadata": {
    "colab": {
      "name": "26_.ipynb",
      "provenance": [],
      "collapsed_sections": [],
      "mount_file_id": "1hY49YEbabBtQ8pipUeyvkEnxzVIT5ICM",
      "authorship_tag": "ABX9TyOdKtOd6ZUXeKH0KcKHifJR",
      "include_colab_link": true
    },
    "kernelspec": {
      "name": "python3",
      "display_name": "Python 3"
    },
    "language_info": {
      "name": "python"
    }
  },
  "cells": [
    {
      "cell_type": "markdown",
      "metadata": {
        "id": "view-in-github",
        "colab_type": "text"
      },
      "source": [
        "<a href=\"https://colab.research.google.com/github/aslla77/practice-Python/blob/main/algorithm/backtracking_2nd.ipynb\" target=\"_parent\"><img src=\"https://colab.research.google.com/assets/colab-badge.svg\" alt=\"Open In Colab\"/></a>"
      ]
    },
    {
      "cell_type": "markdown",
      "source": [
        "#백준 14889번 문제 백트래킹 연습용\n",
        "\n",
        "코드는 잘 돌아가지만 아쉽게 백준에서 시간초과가 나오게 되었다.\n",
        "\n",
        "combination함수를 사용하지 않고 만들다가 for문이 과하게 나타나서 그런것 같다"
      ],
      "metadata": {
        "id": "XqKFqNviNStU"
      }
    },
    {
      "cell_type": "code",
      "execution_count": 28,
      "metadata": {
        "colab": {
          "base_uri": "https://localhost:8080/"
        },
        "id": "6t2EBTfl3zCf",
        "outputId": "ea78036e-4bf8-425d-f0de-077ac32c2d84"
      },
      "outputs": [
        {
          "output_type": "stream",
          "name": "stdout",
          "text": [
            "{0, 1, 2} {3, 4, 5}\n",
            "{0, 1, 3} {2, 4, 5}\n",
            "{0, 1, 4} {2, 3, 5}\n",
            "{0, 1, 5} {2, 3, 4}\n",
            "{0, 2, 3} {1, 4, 5}\n",
            "{0, 2, 4} {1, 3, 5}\n",
            "{0, 2, 5} {1, 3, 4}\n",
            "{0, 4, 3} {1, 2, 5}\n",
            "{0, 3, 5} {1, 2, 4}\n",
            "{0, 5, 4} {1, 2, 3}\n",
            "2\n"
          ]
        }
      ],
      "source": [
        "# N=4\n",
        "# datas=[[0, 1, 2, 3],\n",
        "# [4, 0, 5, 6],\n",
        "# [7, 1, 0, 2],\n",
        "# [3, 4, 5, 0]]\n",
        "\n",
        "N=6\n",
        "datas=[[0, 1, 2, 3, 4, 5],\n",
        "[1, 0, 2, 3, 4, 5],\n",
        "[1, 2 ,0 ,3 ,4 ,5],\n",
        "[1, 2 ,3 ,0 ,4 ,5],\n",
        "[1, 2 ,3 ,4 ,0 ,5],\n",
        "[1, 2 ,3 ,4 ,5 ,0]]\n",
        "c=0\n",
        "\n",
        "def maketeam():\n",
        "    global team1,c\n",
        "    if len(team1)==N//2:\n",
        "        findmin()\n",
        "        return\n",
        "    for i in range(N):\n",
        "        if i in team1 or list(team1)[-1]>i:\n",
        "            continue\n",
        "        team1.add(i)\n",
        "        maketeam()\n",
        "        team1.remove(i)\n",
        "\n",
        "def findmin():\n",
        "    global Min\n",
        "    score1=0\n",
        "    score2=0\n",
        "    team2=player-team1\n",
        "    print(team1,team2)\n",
        "    for i in team1:\n",
        "        for j in team1:\n",
        "            score1+=data[i][j]\n",
        "    for i in team2:\n",
        "        for j in team2:\n",
        "            score2+=data[i][j]\n",
        "    if abs(score1-score2)<Min:\n",
        "        Min=abs(score1-score2)\n",
        "\n",
        "Min=1e9\n",
        "\n",
        "data={}\n",
        "team1={0}\n",
        "player=set(list(i for i in range(N)))\n",
        "for i in range(len(datas)):\n",
        "    data[i]=datas[i]\n",
        "\n",
        "maketeam() \n",
        "print(Min)\n",
        "\n"
      ]
    }
  ]
}