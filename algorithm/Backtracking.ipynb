{
  "nbformat": 4,
  "nbformat_minor": 0,
  "metadata": {
    "colab": {
      "name": "Backtracking.ipynb",
      "provenance": [],
      "collapsed_sections": [],
      "authorship_tag": "ABX9TyONOBLa9T/3jM7niEWdG7Tx",
      "include_colab_link": true
    },
    "kernelspec": {
      "name": "python3",
      "display_name": "Python 3"
    },
    "language_info": {
      "name": "python"
    }
  },
  "cells": [
    {
      "cell_type": "markdown",
      "metadata": {
        "id": "view-in-github",
        "colab_type": "text"
      },
      "source": [
        "<a href=\"https://colab.research.google.com/github/aslla77/practice-Python/blob/main/algorithm/Backtracking.ipynb\" target=\"_parent\"><img src=\"https://colab.research.google.com/assets/colab-badge.svg\" alt=\"Open In Colab\"/></a>"
      ]
    },
    {
      "cell_type": "markdown",
      "source": [
        "#백트래킹(Backtracking)\n",
        "- 모든 경우의 수를 전부 고려하는 알고리즘. 상태공간을 트리로 나타낼 수 있을 때 적합한 방식이다. \n",
        "- 일종의 트리 탐색 알고리즘이라고 봐도 된다. \n",
        "- 방식에 따라서 깊이우선탐색(Depth First Search, DFS)과 너비우선탐색(Breadth First Search, BFS), 최선 우선 탐색(Best First Search/Heuristic Search)이 있다. \n",
        "- 그냥 뇌없이 짤 수 있다는 것이 장점이다.\n",
        "\n",
        "*출처 나무위키(백트래킹): https://namu.wiki/w/%EB%B0%B1%ED%8A%B8%EB%9E%98%ED%82%B9*"
      ],
      "metadata": {
        "id": "fOeQ8WAYDr3W"
      }
    },
    {
      "cell_type": "markdown",
      "source": [
        "##EX) 백준 백트래킹 연습 문제\n",
        "15469번 문제\n",
        "\n",
        "https://www.acmicpc.net/problem/15649"
      ],
      "metadata": {
        "id": "UARKrJY9ESru"
      }
    },
    {
      "cell_type": "code",
      "source": [
        "def dfs():\n",
        "    if len(s) == m:\n",
        "        print(' '.join(map(str, s)))\n",
        "        return\n",
        "    for i in range(1, n+1):\n",
        "        if visited[i]:\n",
        "            continue\n",
        "        visited[i] = True\n",
        "        s.append(i)\n",
        "        dfs()\n",
        "        s.pop()\n",
        "        visited[i] = False\n",
        "            \n",
        "#n=3,m=1\n",
        "n, m = map(int, input().split())\n",
        "s = []\n",
        "visited = [False] * (n+1)\n",
        "\n",
        "dfs()"
      ],
      "metadata": {
        "colab": {
          "base_uri": "https://localhost:8080/"
        },
        "id": "2uBAXCGhEcQC",
        "outputId": "995d7ad8-b92d-4ea5-c92c-3d243880667f"
      },
      "execution_count": 11,
      "outputs": [
        {
          "output_type": "stream",
          "name": "stdout",
          "text": [
            "4 4\n",
            "1 2 3 4\n",
            "1 2 4 3\n",
            "1 3 2 4\n",
            "1 3 4 2\n",
            "1 4 2 3\n",
            "1 4 3 2\n",
            "2 1 3 4\n",
            "2 1 4 3\n",
            "2 3 1 4\n",
            "2 3 4 1\n",
            "2 4 1 3\n",
            "2 4 3 1\n",
            "3 1 2 4\n",
            "3 1 4 2\n",
            "3 2 1 4\n",
            "3 2 4 1\n",
            "3 4 1 2\n",
            "3 4 2 1\n",
            "4 1 2 3\n",
            "4 1 3 2\n",
            "4 2 1 3\n",
            "4 2 3 1\n",
            "4 3 1 2\n",
            "4 3 2 1\n"
          ]
        }
      ]
    },
    {
      "cell_type": "markdown",
      "source": [
        "##EX) 백준 백트래킹 연습 문제\n",
        "15650번 문제\n",
        "\n",
        "https://www.acmicpc.net/problem/15650"
      ],
      "metadata": {
        "id": "glYGA5uKEk7c"
      }
    },
    {
      "cell_type": "code",
      "source": [
        "def back():\n",
        "    if len(s)==m and sorted(s)==s:\n",
        "        print(' '.join(map(str, s)))\n",
        "        return\n",
        "    elif len(s)==m and sorted(s)!=s:\n",
        "        return\n",
        "    for i in range(1,n+1):\n",
        "        if visit[i]:\n",
        "            continue\n",
        "        visit[i]=True\n",
        "        s.append(i)\n",
        "        back()\n",
        "        s.pop()\n",
        "        visit[i]=False\n",
        "        \n",
        "        \n",
        "n,m=map(int,input().split())\n",
        "visit=[False]*(n+1)\n",
        "s=[]\n",
        "\n",
        "back()"
      ],
      "metadata": {
        "colab": {
          "base_uri": "https://localhost:8080/"
        },
        "id": "PlaNf9kmEkRF",
        "outputId": "0f2b3cd6-c5b8-41ed-fa9f-cd708bf6aee6"
      },
      "execution_count": 17,
      "outputs": [
        {
          "output_type": "stream",
          "name": "stdout",
          "text": [
            "4 4\n",
            "1 2 3 4\n"
          ]
        }
      ]
    },
    {
      "cell_type": "markdown",
      "source": [
        "EX) 백준 백트래킹 연습 문제\n",
        "15651번 문제\n",
        "\n",
        "https://www.acmicpc.net/problem/15651"
      ],
      "metadata": {
        "id": "TcbTWklvExPF"
      }
    },
    {
      "cell_type": "code",
      "source": [
        "def back():\n",
        "    if len(s)==m:\n",
        "        print(' '.join(map(str,s)))\n",
        "        return\n",
        "    for i in range(1,n+1):\n",
        "        s.append(i)\n",
        "        back()\n",
        "        s.pop()\n",
        "        \n",
        "n,m=map(int,input().split())\n",
        "s=[]\n",
        "back()"
      ],
      "metadata": {
        "colab": {
          "base_uri": "https://localhost:8080/"
        },
        "id": "8wi8cm2pE3Yd",
        "outputId": "981e72a1-0446-4339-b63a-ea3baee7b52e"
      },
      "execution_count": 14,
      "outputs": [
        {
          "output_type": "stream",
          "name": "stdout",
          "text": [
            "3 2\n",
            "1 1\n",
            "1 2\n",
            "1 3\n",
            "2 1\n",
            "2 2\n",
            "2 3\n",
            "3 1\n",
            "3 2\n",
            "3 3\n"
          ]
        }
      ]
    }
  ]
}