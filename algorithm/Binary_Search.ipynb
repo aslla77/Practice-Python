{
  "nbformat": 4,
  "nbformat_minor": 0,
  "metadata": {
    "colab": {
      "name": "Binary Search.ipynb",
      "provenance": [],
      "collapsed_sections": [],
      "authorship_tag": "ABX9TyOg11eyeNqBpYvLQRQOMyEY",
      "include_colab_link": true
    },
    "kernelspec": {
      "name": "python3",
      "display_name": "Python 3"
    },
    "language_info": {
      "name": "python"
    }
  },
  "cells": [
    {
      "cell_type": "markdown",
      "metadata": {
        "id": "view-in-github",
        "colab_type": "text"
      },
      "source": [
        "<a href=\"https://colab.research.google.com/github/aslla77/practice-Python/blob/main/algorithm/Binary_Search.ipynb\" target=\"_parent\"><img src=\"https://colab.research.google.com/assets/colab-badge.svg\" alt=\"Open In Colab\"/></a>"
      ]
    },
    {
      "cell_type": "markdown",
      "source": [
        "#이분탐색, 이진탐색(Binary Search)\n",
        "\n",
        "- 정렬 등과 함께 가장 기초인 알고리즘으로 꼽히는 문제. 검색 범위를 줄여 나가면서 원하는 데이터를 검색하는 알고리즘이다.\n",
        "\n",
        "- 이진 탐색 알고리즘(二進探索algorithm, Binary Search Algorithm)은 컴퓨터과학, 수학 등에서 오름차순으로 정렬된 정수의 리스트를 같은 크기의 두 부분 리스트로 나누고 필요한 부분에서만 탐색하도록 제한하여 원하는 원소를 찾는 알고리즘이다. 리스트의 중간 부분에 찾는 원소가 있는지 확인하고, 없으면 위쪽에 있는지 아래쪽에 있는지 판단하여 맨 앞부터 검색하거나 중간부터 검색한다.\n",
        "\n",
        "- 단, 이진 탐색을 위해서는 자료가 순서에 따라 정렬되어 있어야 한다.\n",
        "\n",
        " *출처 위키백과(이진탐색): https://ko.wikipedia.org/wiki/%EC%9C%A0%ED%81%B4%EB%A6%AC%EB%93%9C_%ED%98%B8%EC%A0%9C%EB%B2%95*"
      ],
      "metadata": {
        "id": "LHLJcb7HkBWG"
      }
    },
    {
      "cell_type": "code",
      "execution_count": 1,
      "metadata": {
        "id": "U8_dxdX6j5od"
      },
      "outputs": [],
      "source": [
        "import numpy as np\n",
        "import time"
      ]
    },
    {
      "cell_type": "code",
      "source": [
        "#1부터 500까지의 데이터 목록 추출\n",
        "data=np.arange(1,10001,1)\n",
        "print(len(data))"
      ],
      "metadata": {
        "colab": {
          "base_uri": "https://localhost:8080/"
        },
        "id": "wSoeYBqIlPAB",
        "outputId": "5698cc3e-affc-4d50-cefb-5eddecc592c5"
      },
      "execution_count": 21,
      "outputs": [
        {
          "output_type": "stream",
          "name": "stdout",
          "text": [
            "10000\n"
          ]
        }
      ]
    },
    {
      "cell_type": "markdown",
      "source": [
        "###EX)데이터가 존재하는지 찾는 함수 있으면 1 없으면 0\n"
      ],
      "metadata": {
        "id": "xOsGVucqnLfB"
      }
    },
    {
      "cell_type": "code",
      "source": [
        "def binary_search(x):\n",
        "  low=0\n",
        "  high=10000-1\n",
        "  while low<=high:\n",
        "    mid=(high+low)//2\n",
        "    print(data[mid],end=' ')\n",
        "    if data[mid]==x:\n",
        "      return 1\n",
        "    elif data[mid]>x:\n",
        "      high=mid-1\n",
        "    else:\n",
        "      low=mid+1\n",
        "  return 0\n",
        "\n",
        "\n",
        "print('\\n',binary_search(10000))\n",
        "\n",
        "#존재 하지 않는 데이터의 경우\n",
        "print('\\n',binary_search(2.4))\n"
      ],
      "metadata": {
        "colab": {
          "base_uri": "https://localhost:8080/"
        },
        "id": "dy_tinqYlbjh",
        "outputId": "35966bc8-8630-4e82-b8d5-7ff44e1fcd60"
      },
      "execution_count": 22,
      "outputs": [
        {
          "output_type": "stream",
          "name": "stdout",
          "text": [
            "5000 7500 8750 9375 9688 9844 9922 9961 9981 9991 9996 9998 9999 10000 \n",
            " 1\n",
            "5000 2500 1250 625 312 156 78 39 19 9 4 2 3 \n",
            " 0\n"
          ]
        }
      ]
    }
  ]
}