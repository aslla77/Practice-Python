{
  "nbformat": 4,
  "nbformat_minor": 0,
  "metadata": {
    "colab": {
      "name": "Euclidean algorithm.ipynb",
      "provenance": [],
      "authorship_tag": "ABX9TyNQGuukVcrWrcBtoJln+6ut",
      "include_colab_link": true
    },
    "kernelspec": {
      "name": "python3",
      "display_name": "Python 3"
    },
    "language_info": {
      "name": "python"
    }
  },
  "cells": [
    {
      "cell_type": "markdown",
      "metadata": {
        "id": "view-in-github",
        "colab_type": "text"
      },
      "source": [
        "<a href=\"https://colab.research.google.com/github/aslla77/practice-Python/blob/main/algorithm/Euclidean_algorithm.ipynb\" target=\"_parent\"><img src=\"https://colab.research.google.com/assets/colab-badge.svg\" alt=\"Open In Colab\"/></a>"
      ]
    },
    {
      "cell_type": "markdown",
      "source": [
        "#유클리드 호제법(-互除法, Euclidean algorithm) \n",
        "- 유클리드 호제법 또는 유클리드 알고리즘은 2개의 자연수 또는 정식(整式)의 최대공약수를 구하는 알고리즘의 하나이다. \n",
        "\n",
        "- 호제법이란 말은 두 수가 서로(互) 상대방 수를 나누어(除)서 결국 원하는 수를 얻는 알고리즘을 나타낸다. 2개의 자연수(또는 정식) a, b에 대해서 a를 b로 나눈 나머지를 r이라 하면(단, a>b), a와 b의 최대공약수는 b와 r의 최대공약수와 같다. \n",
        "\n",
        "- 이 성질에 따라, b를 r로 나눈 나머지 r'를 구하고, 다시 r을 r'로 나눈 나머지를 구하는 과정을 반복하여 나머지가 0이 되었을 때 나누는 수가 a와 b의 최대공약수이다. \n",
        "\n",
        "- 이는 명시적으로 기술된 가장 오래된 알고리즘으로서도 알려져 있으며, 기원전 300년경에 쓰인 《원론》 제7권, 명제 1부터 3까지에 해당한다. \n",
        "\n",
        "*출처 위키백과(유클리드 호제법): https://ko.wikipedia.org/wiki/%EC%9C%A0%ED%81%B4%EB%A6%AC%EB%93%9C_%ED%98%B8%EC%A0%9C%EB%B2%95*\n",
        "\n",
        "*위의 주소를 들어가보면 사진과 다양한 예시를 보실수 있습니다*"
      ],
      "metadata": {
        "id": "LezXH7TRsPxR"
      }
    },
    {
      "cell_type": "markdown",
      "source": [
        "제가 사용한 방법은 재귀함수를 사용하여 최대공약수(common_factor)를 구하는 방법입니다"
      ],
      "metadata": {
        "id": "45PxX8QrtQoK"
      }
    },
    {
      "cell_type": "code",
      "execution_count": 5,
      "metadata": {
        "colab": {
          "base_uri": "https://localhost:8080/"
        },
        "id": "y-aoqvdRsOOu",
        "outputId": "a90cea51-ebee-4a7b-e5aa-666f732a285a"
      },
      "outputs": [
        {
          "output_type": "stream",
          "name": "stdout",
          "text": [
            "8\n",
            "5\n",
            "10\n"
          ]
        }
      ],
      "source": [
        "def find_common_factor(x):\n",
        "\tif max(x)%min(x) == 0:\n",
        "\t\treturn min(x)\n",
        "\telse:\n",
        "\t\treturn find_common_factor([min(x), max(x)%min(x)])\n",
        "  \n",
        "print(find_common_factor([24,16]))\n",
        "print(find_common_factor([25,15]))\n",
        "print(find_common_factor([100,10]))"
      ]
    },
    {
      "cell_type": "markdown",
      "source": [
        "##EX) 톱니바퀴 문제\n",
        "- 백준 3036번 문제:  https://www.acmicpc.net/problem/3036\n",
        "\n",
        "- 톱니 바퀴 반지름 여러개가 주어지고 가장 처음이 준 반지름의 바퀴가 한바퀴 돌 때 각각 나머지 톱니가 얼마나 돌아가는지에 대해서\n",
        "\n",
        "ex) 8,4,2 인 톱니가 주어졌다. 8인 톱니가 한바퀴 돌면\n",
        "\n",
        "4는 2/1바퀴\n",
        "2는 4/1바퀴\n",
        "\n",
        "여기서 주의 할껀 분수 형태로 나타내는데 이 경우 분모와 분자는 최대공약수로 나눠야 옳은 값이 나온다\n",
        "\n",
        "24,16=> 최소공배수 8 =>결과는 3/2바퀴"
      ],
      "metadata": {
        "id": "laxuF1eJuNNv"
      }
    },
    {
      "cell_type": "code",
      "source": [
        "def Gear(x):\n",
        "  for i in range(1,len(x)):\n",
        "      ans=find_common_factor([x[0],x[i]])\n",
        "      print('{0:d}일경우 >{1:d}/{2:d}'.format(x[i],int(x[0]/ans),int(x[i]/ans)))\n",
        "\n",
        "print('[8,4,2]')\n",
        "Gear([8,4,2])\n",
        "print('[15,3,5]')\n",
        "Gear([15,3,5])\n",
        "print('[24,16,20]')\n",
        "Gear([24,16,20])\n",
        "print('[19,17]')\n",
        "Gear([19,17])"
      ],
      "metadata": {
        "colab": {
          "base_uri": "https://localhost:8080/"
        },
        "id": "fJH9pB-KuLH8",
        "outputId": "7b48ae9f-89af-45ef-f053-092c0af1039e"
      },
      "execution_count": 9,
      "outputs": [
        {
          "output_type": "stream",
          "name": "stdout",
          "text": [
            "[8,4,2]\n",
            "4일경우 >2/1\n",
            "2일경우 >4/1\n",
            "[15,3,5]\n",
            "3일경우 >5/1\n",
            "5일경우 >3/1\n",
            "[24,16,20]\n",
            "16일경우 >3/2\n",
            "20일경우 >6/5\n",
            "[19,17]\n",
            "17일경우 >19/17\n"
          ]
        }
      ]
    }
  ]
}
