{
  "nbformat": 4,
  "nbformat_minor": 0,
  "metadata": {
    "colab": {
      "name": "18_CNN_CIFAR10_version2.ipynb",
      "provenance": [],
      "collapsed_sections": [],
      "mount_file_id": "1HptRHjUT6tfIDQqnnguCvclubOSXHBd9",
      "authorship_tag": "ABX9TyOnlh6ijKGXJ92qvvFiSGt8",
      "include_colab_link": true
    },
    "kernelspec": {
      "name": "python3",
      "display_name": "Python 3"
    },
    "language_info": {
      "name": "python"
    },
    "accelerator": "GPU",
    "gpuClass": "standard"
  },
  "cells": [
    {
      "cell_type": "markdown",
      "metadata": {
        "id": "view-in-github",
        "colab_type": "text"
      },
      "source": [
        "<a href=\"https://colab.research.google.com/github/aslla77/practice-Python/blob/main/2nd/18_CNN_CIFAR10_version2.ipynb\" target=\"_parent\"><img src=\"https://colab.research.google.com/assets/colab-badge.svg\" alt=\"Open In Colab\"/></a>"
      ]
    },
    {
      "cell_type": "markdown",
      "source": [
        "#version 2\n",
        "- 이전 CIFAR10에서는 약 70퍼 대의 정확도를 나왔는데 이번에는 여러 레이어로 정확도를 높일 예정이다"
      ],
      "metadata": {
        "id": "gBj0PQXdlc1m"
      }
    },
    {
      "cell_type": "code",
      "execution_count": 1,
      "metadata": {
        "id": "tIRdLKcvggIP"
      },
      "outputs": [],
      "source": [
        "import numpy as np\n",
        "import matplotlib.pyplot as plt\n",
        "import tensorflow as tf\n",
        "\n",
        "from tensorflow.keras.models import Sequential\n",
        "from tensorflow.keras.layers import Conv2D,MaxPool2D\n",
        "from tensorflow.keras.layers import Flatten,Dense,Dropout\n",
        "\n",
        "from tensorflow.keras.optimizers import Adam\n",
        "from tensorflow.keras.preprocessing.image import ImageDataGenerator\n"
      ]
    },
    {
      "cell_type": "code",
      "source": [
        "cifar=tf.keras.datasets.cifar10\n",
        "(x_train,t_train),(x_test,t_test)=cifar.load_data()\n",
        "\n",
        "x_train,x_test=x_train/255.,x_test/255."
      ],
      "metadata": {
        "id": "Dj69-pCJmFI8"
      },
      "execution_count": 2,
      "outputs": []
    },
    {
      "cell_type": "code",
      "source": [
        "#이미지 보강 \n",
        "gen=ImageDataGenerator(rotation_range=20,\n",
        "                       shear_range=0.2,\n",
        "                       width_shift_range=0.2,\n",
        "                       height_shift_range=0.2,\n",
        "                       horizontal_flip=True)\n",
        "\n",
        "augment_ratio=1.5 #전체 데이터의 150%\n",
        "augment_size=int(augment_ratio*x_train.shape[0])\n",
        "\n",
        "randidx=np.random.randint(x_train.shape[0],size=augment_size)\n",
        "\n",
        "x_augmented=x_train[randidx].copy()\n",
        "t_augmented=t_train[randidx].copy()\n",
        "\n",
        "x_augmented,t_augmented=gen.flow(x_augmented,t_augmented,\n",
        "                                 batch_size=augment_size,\n",
        "                                 shuffle=False).next()\n",
        "\n",
        "x_train=np.concatenate((x_train,x_augmented))                \n",
        "t_train=np.concatenate((t_train,t_augmented))   \n",
        "\n",
        "s=np.arange(x_train.shape[0])\n",
        "np.random.shuffle(s)\n",
        "\n",
        "x_train=x_train[s]\n",
        "t_train=t_train[s]"
      ],
      "metadata": {
        "id": "L68hvxTfoH7L"
      },
      "execution_count": 3,
      "outputs": []
    },
    {
      "cell_type": "code",
      "source": [
        "cnn=Sequential()\n",
        "\n",
        "cnn.add(Conv2D(32,(3,3),activation='relu',padding='same',input_shape=(32,32,3)))\n",
        "cnn.add(Conv2D(32,(3,3),activation='relu',padding='same'))\n",
        "cnn.add(MaxPool2D(pool_size=(2,2)))\n",
        "cnn.add(Dropout(0.25))\n",
        "\n",
        "cnn.add(Conv2D(64,(3,3),activation='relu',padding='same'))\n",
        "cnn.add(Conv2D(64,(3,3),activation='relu',padding='same'))\n",
        "cnn.add(MaxPool2D(pool_size=(2,2)))\n",
        "cnn.add(Dropout(0.25))\n",
        "\n",
        "cnn.add(Conv2D(128,(3,3),activation='relu',padding='same'))\n",
        "cnn.add(MaxPool2D(pool_size=(2,2)))\n",
        "cnn.add(Dropout(0.25))\n",
        "cnn.add(Conv2D(128,(3,3),activation='relu',padding='same'))\n",
        "cnn.add(MaxPool2D(pool_size=(2,2)))\n",
        "cnn.add(Dropout(0.25))\n",
        "cnn.add(Conv2D(256,(3,3),activation='relu',padding='same'))\n",
        "cnn.add(MaxPool2D(pool_size=(2,2)))\n",
        "cnn.add(Dropout(0.25))\n",
        "\n",
        "cnn.add(Flatten())\n",
        "\n",
        "cnn.add(Dense(128,activation='relu'))\n",
        "cnn.add(Dropout(0.5))\n",
        "cnn.add(Dense(10,activation='softmax'))"
      ],
      "metadata": {
        "id": "MvuTAVI7meLm"
      },
      "execution_count": 4,
      "outputs": []
    },
    {
      "cell_type": "code",
      "source": [
        "cnn.compile(loss='sparse_categorical_crossentropy',optimizer=Adam(),metrics=['accuracy'])\n",
        "\n",
        "hist=cnn.fit(x_train,t_train,batch_size=256,epochs=50,validation_data=(x_test,t_test))"
      ],
      "metadata": {
        "colab": {
          "base_uri": "https://localhost:8080/"
        },
        "id": "maxoHHDZqWlN",
        "outputId": "17237c40-57f3-4e0c-e46a-d629c9034e05"
      },
      "execution_count": 5,
      "outputs": [
        {
          "output_type": "stream",
          "name": "stdout",
          "text": [
            "Epoch 1/50\n",
            "489/489 [==============================] - 24s 26ms/step - loss: 1.8064 - accuracy: 0.3184 - val_loss: 1.2837 - val_accuracy: 0.5330\n",
            "Epoch 2/50\n",
            "489/489 [==============================] - 12s 25ms/step - loss: 1.3492 - accuracy: 0.5138 - val_loss: 1.1010 - val_accuracy: 0.6061\n",
            "Epoch 3/50\n",
            "489/489 [==============================] - 12s 25ms/step - loss: 1.1673 - accuracy: 0.5883 - val_loss: 0.9485 - val_accuracy: 0.6591\n",
            "Epoch 4/50\n",
            "489/489 [==============================] - 12s 25ms/step - loss: 1.0455 - accuracy: 0.6350 - val_loss: 0.8107 - val_accuracy: 0.7105\n",
            "Epoch 5/50\n",
            "489/489 [==============================] - 12s 25ms/step - loss: 0.9634 - accuracy: 0.6671 - val_loss: 0.8277 - val_accuracy: 0.7091\n",
            "Epoch 6/50\n",
            "489/489 [==============================] - 12s 25ms/step - loss: 0.9061 - accuracy: 0.6884 - val_loss: 0.7218 - val_accuracy: 0.7468\n",
            "Epoch 7/50\n",
            "489/489 [==============================] - 12s 25ms/step - loss: 0.8647 - accuracy: 0.7041 - val_loss: 0.6734 - val_accuracy: 0.7670\n",
            "Epoch 8/50\n",
            "489/489 [==============================] - 12s 25ms/step - loss: 0.8229 - accuracy: 0.7189 - val_loss: 0.6392 - val_accuracy: 0.7776\n",
            "Epoch 9/50\n",
            "489/489 [==============================] - 12s 25ms/step - loss: 0.7917 - accuracy: 0.7289 - val_loss: 0.6345 - val_accuracy: 0.7766\n",
            "Epoch 10/50\n",
            "489/489 [==============================] - 12s 25ms/step - loss: 0.7645 - accuracy: 0.7404 - val_loss: 0.6287 - val_accuracy: 0.7869\n",
            "Epoch 11/50\n",
            "489/489 [==============================] - 12s 25ms/step - loss: 0.7394 - accuracy: 0.7489 - val_loss: 0.5776 - val_accuracy: 0.8038\n",
            "Epoch 12/50\n",
            "489/489 [==============================] - 12s 25ms/step - loss: 0.7304 - accuracy: 0.7531 - val_loss: 0.6393 - val_accuracy: 0.7840\n",
            "Epoch 13/50\n",
            "489/489 [==============================] - 12s 25ms/step - loss: 0.7078 - accuracy: 0.7587 - val_loss: 0.5379 - val_accuracy: 0.8139\n",
            "Epoch 14/50\n",
            "489/489 [==============================] - 12s 25ms/step - loss: 0.6937 - accuracy: 0.7654 - val_loss: 0.5424 - val_accuracy: 0.8133\n",
            "Epoch 15/50\n",
            "489/489 [==============================] - 12s 25ms/step - loss: 0.6843 - accuracy: 0.7673 - val_loss: 0.5456 - val_accuracy: 0.8136\n",
            "Epoch 16/50\n",
            "489/489 [==============================] - 12s 25ms/step - loss: 0.6700 - accuracy: 0.7739 - val_loss: 0.5441 - val_accuracy: 0.8123\n",
            "Epoch 17/50\n",
            "489/489 [==============================] - 12s 25ms/step - loss: 0.6614 - accuracy: 0.7764 - val_loss: 0.5432 - val_accuracy: 0.8165\n",
            "Epoch 18/50\n",
            "489/489 [==============================] - 12s 25ms/step - loss: 0.6475 - accuracy: 0.7808 - val_loss: 0.5033 - val_accuracy: 0.8280\n",
            "Epoch 19/50\n",
            "489/489 [==============================] - 12s 25ms/step - loss: 0.6385 - accuracy: 0.7846 - val_loss: 0.5159 - val_accuracy: 0.8244\n",
            "Epoch 20/50\n",
            "489/489 [==============================] - 12s 25ms/step - loss: 0.6258 - accuracy: 0.7887 - val_loss: 0.5222 - val_accuracy: 0.8258\n",
            "Epoch 21/50\n",
            "489/489 [==============================] - 12s 25ms/step - loss: 0.6250 - accuracy: 0.7880 - val_loss: 0.5037 - val_accuracy: 0.8310\n",
            "Epoch 22/50\n",
            "489/489 [==============================] - 12s 25ms/step - loss: 0.6213 - accuracy: 0.7897 - val_loss: 0.5183 - val_accuracy: 0.8251\n",
            "Epoch 23/50\n",
            "489/489 [==============================] - 12s 25ms/step - loss: 0.6084 - accuracy: 0.7952 - val_loss: 0.4857 - val_accuracy: 0.8369\n",
            "Epoch 24/50\n",
            "489/489 [==============================] - 12s 25ms/step - loss: 0.6014 - accuracy: 0.7957 - val_loss: 0.4912 - val_accuracy: 0.8377\n",
            "Epoch 25/50\n",
            "489/489 [==============================] - 12s 25ms/step - loss: 0.6017 - accuracy: 0.7965 - val_loss: 0.5062 - val_accuracy: 0.8314\n",
            "Epoch 26/50\n",
            "489/489 [==============================] - 12s 25ms/step - loss: 0.5895 - accuracy: 0.7993 - val_loss: 0.4885 - val_accuracy: 0.8380\n",
            "Epoch 27/50\n",
            "489/489 [==============================] - 12s 25ms/step - loss: 0.5826 - accuracy: 0.8028 - val_loss: 0.4929 - val_accuracy: 0.8355\n",
            "Epoch 28/50\n",
            "489/489 [==============================] - 12s 25ms/step - loss: 0.5800 - accuracy: 0.8036 - val_loss: 0.4978 - val_accuracy: 0.8323\n",
            "Epoch 29/50\n",
            "489/489 [==============================] - 12s 25ms/step - loss: 0.5759 - accuracy: 0.8048 - val_loss: 0.5297 - val_accuracy: 0.8222\n",
            "Epoch 30/50\n",
            "489/489 [==============================] - 12s 25ms/step - loss: 0.5774 - accuracy: 0.8068 - val_loss: 0.4829 - val_accuracy: 0.8413\n",
            "Epoch 31/50\n",
            "489/489 [==============================] - 12s 25ms/step - loss: 0.5649 - accuracy: 0.8093 - val_loss: 0.5048 - val_accuracy: 0.8315\n",
            "Epoch 32/50\n",
            "489/489 [==============================] - 12s 25ms/step - loss: 0.5662 - accuracy: 0.8094 - val_loss: 0.4682 - val_accuracy: 0.8454\n",
            "Epoch 33/50\n",
            "489/489 [==============================] - 12s 25ms/step - loss: 0.5597 - accuracy: 0.8109 - val_loss: 0.4838 - val_accuracy: 0.8364\n",
            "Epoch 34/50\n",
            "489/489 [==============================] - 12s 25ms/step - loss: 0.5547 - accuracy: 0.8129 - val_loss: 0.4740 - val_accuracy: 0.8444\n",
            "Epoch 35/50\n",
            "489/489 [==============================] - 12s 25ms/step - loss: 0.5537 - accuracy: 0.8131 - val_loss: 0.4830 - val_accuracy: 0.8433\n",
            "Epoch 36/50\n",
            "489/489 [==============================] - 12s 25ms/step - loss: 0.5508 - accuracy: 0.8131 - val_loss: 0.4735 - val_accuracy: 0.8432\n",
            "Epoch 37/50\n",
            "489/489 [==============================] - 12s 25ms/step - loss: 0.5472 - accuracy: 0.8148 - val_loss: 0.4602 - val_accuracy: 0.8449\n",
            "Epoch 38/50\n",
            "489/489 [==============================] - 12s 25ms/step - loss: 0.5417 - accuracy: 0.8158 - val_loss: 0.4850 - val_accuracy: 0.8413\n",
            "Epoch 39/50\n",
            "489/489 [==============================] - 12s 25ms/step - loss: 0.5361 - accuracy: 0.8187 - val_loss: 0.4675 - val_accuracy: 0.8449\n",
            "Epoch 40/50\n",
            "489/489 [==============================] - 12s 25ms/step - loss: 0.5386 - accuracy: 0.8192 - val_loss: 0.4842 - val_accuracy: 0.8380\n",
            "Epoch 41/50\n",
            "489/489 [==============================] - 12s 25ms/step - loss: 0.5349 - accuracy: 0.8192 - val_loss: 0.4599 - val_accuracy: 0.8479\n",
            "Epoch 42/50\n",
            "489/489 [==============================] - 13s 26ms/step - loss: 0.5355 - accuracy: 0.8181 - val_loss: 0.4635 - val_accuracy: 0.8483\n",
            "Epoch 43/50\n",
            "489/489 [==============================] - 13s 26ms/step - loss: 0.5281 - accuracy: 0.8219 - val_loss: 0.4676 - val_accuracy: 0.8424\n",
            "Epoch 44/50\n",
            "489/489 [==============================] - 12s 25ms/step - loss: 0.5271 - accuracy: 0.8212 - val_loss: 0.4946 - val_accuracy: 0.8406\n",
            "Epoch 45/50\n",
            "489/489 [==============================] - 12s 25ms/step - loss: 0.5230 - accuracy: 0.8235 - val_loss: 0.4698 - val_accuracy: 0.8450\n",
            "Epoch 46/50\n",
            "489/489 [==============================] - 12s 25ms/step - loss: 0.5166 - accuracy: 0.8258 - val_loss: 0.4647 - val_accuracy: 0.8497\n",
            "Epoch 47/50\n",
            "489/489 [==============================] - 12s 25ms/step - loss: 0.5167 - accuracy: 0.8273 - val_loss: 0.4736 - val_accuracy: 0.8473\n",
            "Epoch 48/50\n",
            "489/489 [==============================] - 12s 25ms/step - loss: 0.5179 - accuracy: 0.8246 - val_loss: 0.4716 - val_accuracy: 0.8465\n",
            "Epoch 49/50\n",
            "489/489 [==============================] - 12s 25ms/step - loss: 0.5109 - accuracy: 0.8291 - val_loss: 0.4674 - val_accuracy: 0.8449\n",
            "Epoch 50/50\n",
            "489/489 [==============================] - 12s 25ms/step - loss: 0.5082 - accuracy: 0.8280 - val_loss: 0.4486 - val_accuracy: 0.8538\n"
          ]
        }
      ]
    },
    {
      "cell_type": "code",
      "source": [
        "cnn.evaluate(x_test,t_test)"
      ],
      "metadata": {
        "colab": {
          "base_uri": "https://localhost:8080/"
        },
        "id": "qvHEsmVWsYhp",
        "outputId": "c3565f03-52be-4058-c1c0-9ab226506273"
      },
      "execution_count": 6,
      "outputs": [
        {
          "output_type": "stream",
          "name": "stdout",
          "text": [
            "313/313 [==============================] - 1s 3ms/step - loss: 0.4486 - accuracy: 0.8538\n"
          ]
        },
        {
          "output_type": "execute_result",
          "data": {
            "text/plain": [
              "[0.44855424761772156, 0.8537999987602234]"
            ]
          },
          "metadata": {},
          "execution_count": 6
        }
      ]
    },
    {
      "cell_type": "code",
      "source": [
        "plt.title('accuracy trend')\n",
        "\n",
        "plt.ylabel('accuracy')\n",
        "plt.xlabel('epochs')\n",
        "plt.grid()\n",
        "\n",
        "plt.plot(hist.history['accuracy'],label='train accuracy')\n",
        "plt.plot(hist.history['val_accuracy'],label='validation accuracy')\n",
        "\n",
        "plt.legend(loc='best')\n",
        "\n",
        "plt.show()"
      ],
      "metadata": {
        "colab": {
          "base_uri": "https://localhost:8080/",
          "height": 295
        },
        "id": "QNa-jW2ouNBi",
        "outputId": "dbbdd00d-c41e-4940-82e2-109913582843"
      },
      "execution_count": 7,
      "outputs": [
        {
          "output_type": "display_data",
          "data": {
            "text/plain": [
              "<Figure size 432x288 with 1 Axes>"
            ],
            "image/png": "[encoded data removed]"
          },
          "metadata": {
            "needs_background": "light"
          }
        }
      ]
    },
    {
      "cell_type": "code",
      "source": [
        "plt.title('loss trend')\n",
        "\n",
        "plt.ylabel('loss')\n",
        "plt.xlabel('epochs')\n",
        "plt.grid()\n",
        "\n",
        "plt.plot(hist.history['loss'],label='train loss')\n",
        "plt.plot(hist.history['val_loss'],label='validation loss')\n",
        "\n",
        "plt.legend(loc='best')\n",
        "\n",
        "plt.show()"
      ],
      "metadata": {
        "colab": {
          "base_uri": "https://localhost:8080/",
          "height": 295
        },
        "id": "r646DyoquNbR",
        "outputId": "2050519d-a1d7-4125-8324-4c70b7f4961f"
      },
      "execution_count": 8,
      "outputs": [
        {
          "output_type": "display_data",
          "data": {
            "text/plain": [
              "<Figure size 432x288 with 1 Axes>"
            ],
            "image/png": "[encoded data removed]"
          },
          "metadata": {
            "needs_background": "light"
          }
        }
      ]
    }
  ]
}