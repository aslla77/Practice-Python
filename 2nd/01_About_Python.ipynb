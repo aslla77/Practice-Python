{
  "nbformat": 4,
  "nbformat_minor": 0,
  "metadata": {
    "colab": {
      "name": "01_About_Python.ipynb",
      "provenance": [],
      "collapsed_sections": [],
      "mount_file_id": "12ySBWOfdsZumfepM7EHwBRPV7RP6Nrlm",
      "authorship_tag": "ABX9TyNeeNZcPLXRUQATPEzcU82h",
      "include_colab_link": true
    },
    "kernelspec": {
      "name": "python3",
      "display_name": "Python 3"
    },
    "language_info": {
      "name": "python"
    }
  },
  "cells": [
    {
      "cell_type": "markdown",
      "metadata": {
        "id": "view-in-github",
        "colab_type": "text"
      },
      "source": [
        "<a href=\"https://colab.research.google.com/github/aslla77/practice-Python/blob/main/2nd/01_About_Python.ipynb\" target=\"_parent\"><img src=\"https://colab.research.google.com/assets/colab-badge.svg\" alt=\"Open In Colab\"/></a>"
      ]
    },
    {
      "cell_type": "markdown",
      "source": [
        "#About Lambda"
      ],
      "metadata": {
        "id": "GWNPFQ77QanE"
      }
    },
    {
      "cell_type": "code",
      "execution_count": 27,
      "metadata": {
        "colab": {
          "base_uri": "https://localhost:8080/"
        },
        "id": "_TIJb4bI-zGn",
        "outputId": "be158334-192e-4e56-eaf4-cb5c06246a14"
      },
      "outputs": [
        {
          "output_type": "stream",
          "name": "stdout",
          "text": [
            "100\n",
            "101\n",
            "102\n"
          ]
        }
      ],
      "source": [
        "f= lambda x :x+100\n",
        "\n",
        "for i in range(3):\n",
        "  print(f(i))\n",
        "\n",
        "#수치미분 이나 활성화 함수등을 표현할 때 사용된다"
      ]
    },
    {
      "cell_type": "code",
      "source": [
        ""
      ],
      "metadata": {
        "id": "wy2VHO_PQe6W"
      },
      "execution_count": null,
      "outputs": []
    },
    {
      "cell_type": "code",
      "source": [
        "def hello():\n",
        "  print('hello')\n",
        "\n",
        "def test(s,t):\n",
        "  print(s,t)\n",
        "\n",
        "s=100\n",
        "t=200\n",
        "\n",
        "fx=lambda x,y:test(s,t)\n",
        "fy=lambda x,y:hello()\n",
        "\n",
        "fx(500,600)\n",
        "fy(300,600)"
      ],
      "metadata": {
        "colab": {
          "base_uri": "https://localhost:8080/"
        },
        "id": "QTmwZDy4P2hm",
        "outputId": "b7c421c4-8e2c-4b8e-c807-52342468bc42"
      },
      "execution_count": 2,
      "outputs": [
        {
          "output_type": "stream",
          "name": "stdout",
          "text": [
            "100 200\n",
            "hello\n"
          ]
        }
      ]
    },
    {
      "cell_type": "markdown",
      "source": [
        "#with 구문 \n",
        "\n",
        "f= open('파일 주소','w')\n",
        "f.write('asdasd')\n",
        "f.close()\n",
        "\n",
        "를 with 함수를 사용하면\n",
        "\n",
        "with open(\"파일 주소\",'w') as f\n",
        "  f.write('asdasd')\n",
        "\n",
        "로 짧게 변환이 가능하다\n",
        "\n",
        "딥러닝 프레임 워크인 TensorFlow 의 session을 사용시 자주 사용됨"
      ],
      "metadata": {
        "id": "lz4xU9XXQ-sx"
      }
    },
    {
      "cell_type": "code",
      "source": [
        "import numpy as np"
      ],
      "metadata": {
        "id": "JnPrghcUQf1K"
      },
      "execution_count": 3,
      "outputs": []
    },
    {
      "cell_type": "code",
      "source": [
        "A=np.array([1,2,3])\n",
        "B=np.array([[1,2,3],[4,5,6]])\n",
        "\n",
        "\n",
        "print(A.shape,B.shape,'\\n') #행렬의 형태\n",
        "print(A.ndim,B.ndim,'\\n') #차원\n",
        "\n",
        "print(B,'\\n')\n",
        "print(B.reshape(3,2).shape,'\\n')\n",
        "print(B.reshape(3,2),'\\n')\n"
      ],
      "metadata": {
        "colab": {
          "base_uri": "https://localhost:8080/"
        },
        "id": "Xmz3ZtNvR1V-",
        "outputId": "2554d054-e8cc-473d-9854-83506aee6dfa"
      },
      "execution_count": 18,
      "outputs": [
        {
          "output_type": "stream",
          "name": "stdout",
          "text": [
            "(3,) (2, 3) \n",
            "\n",
            "1 2 \n",
            "\n",
            "[[1 2 3]\n",
            " [4 5 6]] \n",
            "\n",
            "(3, 2) \n",
            "\n",
            "[[1 2]\n",
            " [3 4]\n",
            " [5 6]] \n",
            "\n",
            "[[1 4]\n",
            " [2 5]\n",
            " [3 6]]\n",
            "(3, 2)\n"
          ]
        }
      ]
    },
    {
      "cell_type": "code",
      "source": [
        "#np.dot으로 혁과값을 다양하게 만들수 있다\n",
        "#dot은 머신러닝과 이미지 프로세싱 분야에서 자주 사용된다.\n",
        "print(A.shape, B.T.shape)\n",
        "print(np.dot(A,B.T))\n",
        "\n",
        "print(np.dot(A,B))#배열이 맞지 않아서 실행이 되지 않는다"
      ],
      "metadata": {
        "colab": {
          "base_uri": "https://localhost:8080/",
          "height": 276
        },
        "id": "V7IqWkzZS-tv",
        "outputId": "f2c0730a-502c-48f6-ba7e-a761bb87d303"
      },
      "execution_count": 22,
      "outputs": [
        {
          "output_type": "stream",
          "name": "stdout",
          "text": [
            "(3,) (3, 2)\n",
            "[14 32]\n"
          ]
        },
        {
          "output_type": "error",
          "ename": "ValueError",
          "evalue": "ignored",
          "traceback": [
            "\u001b[0;31m---------------------------------------------------------------------------\u001b[0m",
            "\u001b[0;31mValueError\u001b[0m                                Traceback (most recent call last)",
            "\u001b[0;32m<ipython-input-22-fdf6a272648d>\u001b[0m in \u001b[0;36m<module>\u001b[0;34m()\u001b[0m\n\u001b[1;32m      2\u001b[0m \u001b[0mprint\u001b[0m\u001b[0;34m(\u001b[0m\u001b[0mnp\u001b[0m\u001b[0;34m.\u001b[0m\u001b[0mdot\u001b[0m\u001b[0;34m(\u001b[0m\u001b[0mA\u001b[0m\u001b[0;34m,\u001b[0m\u001b[0mB\u001b[0m\u001b[0;34m.\u001b[0m\u001b[0mT\u001b[0m\u001b[0;34m)\u001b[0m\u001b[0;34m)\u001b[0m\u001b[0;34m\u001b[0m\u001b[0;34m\u001b[0m\u001b[0m\n\u001b[1;32m      3\u001b[0m \u001b[0;34m\u001b[0m\u001b[0m\n\u001b[0;32m----> 4\u001b[0;31m \u001b[0mprint\u001b[0m\u001b[0;34m(\u001b[0m\u001b[0mnp\u001b[0m\u001b[0;34m.\u001b[0m\u001b[0mdot\u001b[0m\u001b[0;34m(\u001b[0m\u001b[0mA\u001b[0m\u001b[0;34m,\u001b[0m\u001b[0mB\u001b[0m\u001b[0;34m)\u001b[0m\u001b[0;34m)\u001b[0m\u001b[0;34m\u001b[0m\u001b[0;34m\u001b[0m\u001b[0m\n\u001b[0m",
            "\u001b[0;32m<__array_function__ internals>\u001b[0m in \u001b[0;36mdot\u001b[0;34m(*args, **kwargs)\u001b[0m\n",
            "\u001b[0;31mValueError\u001b[0m: shapes (3,) and (2,3) not aligned: 3 (dim 0) != 2 (dim 0)"
          ]
        }
      ]
    },
    {
      "cell_type": "code",
      "source": [
        "#broadcast는 행렬이 맞지 않아도 사용이 되게 바꾸어 준다.\n",
        "#이러한 기능 사칙연산에서만 가능해진다.\n",
        "\n",
        "print(A+5)\n",
        "#위와 같은 경우는 [5,5,5]로 만들어서 덧셈 실행"
      ],
      "metadata": {
        "colab": {
          "base_uri": "https://localhost:8080/"
        },
        "id": "z_GgY4WuTXHl",
        "outputId": "c3d04b1b-206e-4b2b-c03d-769a9e374bfe"
      },
      "execution_count": 23,
      "outputs": [
        {
          "output_type": "stream",
          "name": "stdout",
          "text": [
            "[6 7 8]\n"
          ]
        }
      ]
    },
    {
      "cell_type": "code",
      "source": [
        "#전치 행렬\n",
        "#행과렬을 바꾸어준다\n",
        "print(B.T)\n",
        "print(B.T.shape)\n",
        "\n",
        "#백터는 열과 행을 가지지 않아 전치해도 같다\n",
        "print(A.shape)\n",
        "print(A.T.shape)"
      ],
      "metadata": {
        "colab": {
          "base_uri": "https://localhost:8080/"
        },
        "id": "-DesLn4WUP9K",
        "outputId": "c8a50d14-7e7b-487e-9269-fb2c123a901a"
      },
      "execution_count": 25,
      "outputs": [
        {
          "output_type": "stream",
          "name": "stdout",
          "text": [
            "[[1 4]\n",
            " [2 5]\n",
            " [3 6]]\n",
            "(3, 2)\n",
            "(3,)\n",
            "(3,)\n"
          ]
        }
      ]
    },
    {
      "cell_type": "code",
      "source": [
        "#iterator\n",
        "A_1=np.array([[10,20,30,40],[50,60,70,80]])\n",
        "\n",
        "it=np.nditer(A_1,flags=['multi_index'],op_flags=['readwrite'])\n",
        "\n",
        "while not it.finished:\n",
        "  index=it.multi_index\n",
        "  print(index)\n",
        "  print('Current==',A_1[index])\n",
        "  it.iternext()"
      ],
      "metadata": {
        "colab": {
          "base_uri": "https://localhost:8080/"
        },
        "id": "M9IWAU5GWIcO",
        "outputId": "05359516-f95f-4003-96a9-ec35dbb06ffa"
      },
      "execution_count": 29,
      "outputs": [
        {
          "output_type": "stream",
          "name": "stdout",
          "text": [
            "(0, 0)\n",
            "Current== 10\n",
            "(0, 1)\n",
            "Current== 20\n",
            "(0, 2)\n",
            "Current== 30\n",
            "(0, 3)\n",
            "Current== 40\n",
            "(1, 0)\n",
            "Current== 50\n",
            "(1, 1)\n",
            "Current== 60\n",
            "(1, 2)\n",
            "Current== 70\n",
            "(1, 3)\n",
            "Current== 80\n"
          ]
        }
      ]
    },
    {
      "cell_type": "code",
      "source": [
        "A_2=np.array([[10,20,30],[40,50,60]])\n",
        "row=np.array([70,80,90]).reshape(1,3)\n",
        "column=np.array([1000,2000]).reshape(2,1)\n",
        "\n",
        "A_3=np.concatenate((A_2,row),axis=0)\n",
        "A_4=np.concatenate((A_2,column),axis=1)\n",
        "\n",
        "print(A_3.shape,'\\n',A_3,'\\n')\n",
        "print(A_4.shape,'\\n',A_4,'\\n')\n",
        "\n",
        "#머신러닝 회귀(regression) 코드 구현시 가중치와 바이어스 를 별도로 구분하지 않고 하나의 행렬로 취급을 하기위한 프로그래밍 구현하기 위한 기술"
      ],
      "metadata": {
        "colab": {
          "base_uri": "https://localhost:8080/"
        },
        "id": "wOz4pDfJXvqy",
        "outputId": "f3b358d5-3f63-4a32-b360-90b8cf725545"
      },
      "execution_count": 39,
      "outputs": [
        {
          "output_type": "stream",
          "name": "stdout",
          "text": [
            "(3, 3) \n",
            " [[10 20 30]\n",
            " [40 50 60]\n",
            " [70 80 90]] \n",
            "\n",
            "(2, 4) \n",
            " [[  10   20   30 1000]\n",
            " [  40   50   60 2000]] \n",
            "\n"
          ]
        }
      ]
    },
    {
      "cell_type": "markdown",
      "source": [
        "#numpy.loadtxt()\n",
        "\n",
        "(,)로 구분된 데이터를 read하기 위한 함수\n",
        "리턴은 행렬이다\n",
        "\n",
        "머신러닝 코드에서 입력과 정답 데이터를 분리 하는 기법"
      ],
      "metadata": {
        "id": "kqV4u4pObqZy"
      }
    },
    {
      "cell_type": "code",
      "source": [
        ""
      ],
      "metadata": {
        "id": "9JN5sNgpbeb5"
      },
      "execution_count": null,
      "outputs": []
    }
  ]
}