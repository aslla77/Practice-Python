{
  "nbformat": 4,
  "nbformat_minor": 0,
  "metadata": {
    "colab": {
      "name": "15_CNN.ipynb",
      "provenance": [],
      "collapsed_sections": [],
      "mount_file_id": "1HR2Nd0LpwC02KUtyrRdUMnxruGFrSFal",
      "authorship_tag": "ABX9TyNxRea+0xbWjKfNbU3cm+jD",
      "include_colab_link": true
    },
    "kernelspec": {
      "name": "python3",
      "display_name": "Python 3"
    },
    "language_info": {
      "name": "python"
    },
    "accelerator": "GPU",
    "gpuClass": "standard"
  },
  "cells": [
    {
      "cell_type": "markdown",
      "metadata": {
        "id": "view-in-github",
        "colab_type": "text"
      },
      "source": [
        "<a href=\"https://colab.research.google.com/github/aslla77/practice-Python/blob/main/2nd/15_CNN.ipynb\" target=\"_parent\"><img src=\"https://colab.research.google.com/assets/colab-badge.svg\" alt=\"Open In Colab\"/></a>"
      ]
    },
    {
      "cell_type": "markdown",
      "source": [
        "#CNN\n",
        "\n",
        "##컨볼루션(Convolution) 개념\n",
        "\n",
        "$$ f(t)*g(t)= \\int\\limits_{-\\infty}^{+\\infty}f(\\tau)g(t-\\tau)d\\tau$$\n",
        "\n",
        "시간의 변화에 따른 연산\n",
        "\n",
        "$$ f(t)*g(t)= \\int\\limits_{-\\infty}^{+\\infty}f(t)g(x-t)dx$$\n",
        "\n",
        "1. 타우 대신에 x\n",
        "2. 시간 t만큼 전이\n",
        "3. 곱셈(f*g)\n",
        "4. 덧셈(integral)\n",
        "\n",
        "####해석1\n",
        "* 시간의 흐름에 따라 데이터 g(x)가 이동하면서, 입력 데이터 f(x)를 평균적으로 얼마나 변화 시키는지 나타내는 것을 컨볼루션(Convolution)으로 정의 할 수 있음\n",
        "\n",
        "####해석2\n",
        "* 시간의 흐름에 따라 움직이는 데이터 g(x)에 의해서 입력데이터 f(x)가 평균적으로 얼마나 변하는지 나타내는 것을 컨볼루션(Convolution)으로 정의 할 수 있음"
      ],
      "metadata": {
        "id": "fo-S9ync36Kl"
      }
    },
    {
      "cell_type": "markdown",
      "source": [
        "#CNN 아키텍처, 특징맵, 풀링, 패딩\n",
        "\n",
        "##CNN의 아키텍처\n",
        "* 은닉층이 하는 일을 CNN에서는 컨볼루션층에서 실행하게 된다\n",
        "\n",
        "* conv(컨불루션,convolution)\n",
        "  * 컨볼루션 연산을 통해 입력데이터 A1의 특징을 추출\n",
        "\n",
        "* ReLU\n",
        "  * ReLU함수 이용 0이하는 제거\n",
        "\n",
        "* pooling(풀링)\n",
        "  * 입력 정보를 최대값, 최소값, 평균값 등으로 압축하여 데이터 연산량을 줄여주는 역활 수행 \n",
        "\n",
        "  ex) 4개의 값중 가장 큰값만 보내는 행동\n",
        "\n",
        "* padding(패딩)\n",
        "  * 입력 데이터 주변을 특정 값 (예를 들어 0) 으로 채우는 것\n",
        "  * 입력 데이터가 컨볼루션 연산을 하면 할 수록 줄어드는 단점을 방지하기 위해 실행\n",
        "  \n",
        "  ex) 4*4에 외곽에 0을 채워서 6*6을 하고 컨볼루션을 하면 4*4 가 나옴\n",
        "  패딩을 하여 데이터가 작아지는 것을 막흠\n",
        "\n"
      ],
      "metadata": {
        "id": "15YyXChgs1Sn"
      }
    },
    {
      "cell_type": "markdown",
      "source": [
        "##출력 데이터의 크기 계산\n",
        "\n",
        "##입력 크기 (H,W), 필터 크기(FH,FW) , 패딩(P), 스트라이드(S) 일때 출력 데이터 크기 (OH,OW)\n",
        "\n",
        "$$OH={H+2P-FH\\over S} +1$$\n",
        "$$OW={W+2P-FW\\over S} +1$$"
      ],
      "metadata": {
        "id": "pIEI0adnLXvf"
      }
    },
    {
      "cell_type": "markdown",
      "source": [
        "##CNN에서 사용하는 api\n",
        "\n",
        "* conv\n",
        "  conv2D(**input_shape=(높이,넓이,채널)와 kernel_size(,),filters=**,strides=(,),activation='',use_bias=True,padding='')\n",
        "  첫레이어 제외 다음부터는 input_shape없이 가능\n",
        "\n",
        "* pool\n",
        "  MaxPool2D(pool_size=(,),padding=)\n",
        "  pool_size=(2,2)dlaus 2*2행렬안에서 최대값만 남기는 연산을 수행\n",
        "\n",
        "* Flat\n",
        "  Flatten(높이,넓이,채널),3차원 텐서를 1차원 벡터로 만들어준다\n",
        "\n",
        "* Dense\n",
        "  그동안 사용한 레이어와 같다 완전 연결층을 나타냄\n",
        "* Dropout\n",
        "  Dropout(rate=0.2) 학습과정중에 rate에 지정된 비율만큼 층과 층 사이에 연결을 귾어서 네트워크에 과적함을 막는 역활을 수행함"
      ],
      "metadata": {
        "id": "6E9i5BOcM-TE"
      }
    },
    {
      "cell_type": "code",
      "execution_count": 2,
      "metadata": {
        "id": "dkIExbhX3yxv",
        "colab": {
          "base_uri": "https://localhost:8080/"
        },
        "outputId": "35b6c5ee-3129-45e7-815e-f4160eb2ef5a"
      },
      "outputs": [
        {
          "output_type": "execute_result",
          "data": {
            "text/plain": [
              "[name: \"/device:CPU:0\"\n",
              " device_type: \"CPU\"\n",
              " memory_limit: 268435456\n",
              " locality {\n",
              " }\n",
              " incarnation: 15565291055454608560\n",
              " xla_global_id: -1, name: \"/device:GPU:0\"\n",
              " device_type: \"GPU\"\n",
              " memory_limit: 14444920832\n",
              " locality {\n",
              "   bus_id: 1\n",
              "   links {\n",
              "   }\n",
              " }\n",
              " incarnation: 14303386244014407740\n",
              " physical_device_desc: \"device: 0, name: Tesla T4, pci bus id: 0000:00:04.0, compute capability: 7.5\"\n",
              " xla_global_id: 416903419]"
            ]
          },
          "metadata": {},
          "execution_count": 2
        }
      ],
      "source": [
        "import numpy as np\n",
        "import matplotlib.pyplot as plt\n",
        "import tensorflow as tf\n",
        "from sklearn.metrics import confusion_matrix\n",
        "import seaborn as sns\n",
        "from tensorflow.keras.models import Sequential\n",
        "from tensorflow.keras.layers import Conv2D,MaxPool2D\n",
        "from tensorflow.keras.layers import Flatten,Dense,Dropout\n",
        "from tensorflow.python.client import device_lib\n",
        "device_lib.list_local_devices()"
      ]
    },
    {
      "cell_type": "code",
      "source": [
        "mnist=tf.keras.datasets.mnist\n",
        "(x_train,t_train),(x_test,t_test)=mnist.load_data()\n",
        "\n",
        "x_train=x_train.reshape(-1,28,28,1)\n",
        "x_test=x_test.reshape(-1,28,28,1)\n",
        "\n",
        "print(x_train.shape)\n",
        "print(x_test.shape)\n",
        "\n",
        "x_train,x_test=x_train.astype(np.float32)/255.,x_test.astype(np.float32)/255."
      ],
      "metadata": {
        "colab": {
          "base_uri": "https://localhost:8080/"
        },
        "id": "1BWtvB82Zvss",
        "outputId": "17252181-84ed-4d8b-ce76-8622ead7568c"
      },
      "execution_count": 3,
      "outputs": [
        {
          "output_type": "stream",
          "name": "stdout",
          "text": [
            "Downloading data from https://storage.googleapis.com/tensorflow/tf-keras-datasets/mnist.npz\n",
            "11493376/11490434 [==============================] - 0s 0us/step\n",
            "11501568/11490434 [==============================] - 0s 0us/step\n",
            "(60000, 28, 28, 1)\n",
            "(10000, 28, 28, 1)\n"
          ]
        }
      ]
    },
    {
      "cell_type": "code",
      "source": [
        "cnn=Sequential()\n",
        "\n",
        "cnn.add(Conv2D(input_shape=(28,28,1),kernel_size=(3,3),filters=32,activation='relu'))\n",
        "cnn.add(Conv2D(kernel_size=(3,3),filters=64,activation='relu'))\n",
        "cnn.add(MaxPool2D(pool_size=(2,2)))\n",
        "cnn.add(Dropout(0.25))\n",
        "\n",
        "cnn.add(Flatten())\n",
        "\n",
        "cnn.add(Dense(128,activation='relu'))\n",
        "cnn.add(Dropout(0.5))\n",
        "cnn.add(Dense(10,activation='softmax'))\n",
        "\n"
      ],
      "metadata": {
        "id": "OhsHCoR0QaPP"
      },
      "execution_count": 4,
      "outputs": []
    },
    {
      "cell_type": "code",
      "source": [
        "cnn.compile(loss='sparse_categorical_crossentropy',optimizer=tf.keras.optimizers.Adam(),metrics=['accuracy'])\n",
        "\n",
        "hist=cnn.fit(x_train,t_train,batch_size=128,epochs=30,validation_data=(x_test,t_test))"
      ],
      "metadata": {
        "colab": {
          "base_uri": "https://localhost:8080/"
        },
        "id": "_t_B_XuYRnZK",
        "outputId": "67eefb5f-9a12-4f25-c05a-ccc00e816d6f"
      },
      "execution_count": 5,
      "outputs": [
        {
          "output_type": "stream",
          "name": "stdout",
          "text": [
            "Epoch 1/30\n",
            "469/469 [==============================] - 16s 10ms/step - loss: 0.2516 - accuracy: 0.9234 - val_loss: 0.0521 - val_accuracy: 0.9832\n",
            "Epoch 2/30\n",
            "469/469 [==============================] - 4s 9ms/step - loss: 0.0864 - accuracy: 0.9741 - val_loss: 0.0370 - val_accuracy: 0.9879\n",
            "Epoch 3/30\n",
            "469/469 [==============================] - 4s 9ms/step - loss: 0.0648 - accuracy: 0.9804 - val_loss: 0.0306 - val_accuracy: 0.9899\n",
            "Epoch 4/30\n",
            "469/469 [==============================] - 4s 9ms/step - loss: 0.0554 - accuracy: 0.9831 - val_loss: 0.0330 - val_accuracy: 0.9889\n",
            "Epoch 5/30\n",
            "469/469 [==============================] - 4s 9ms/step - loss: 0.0457 - accuracy: 0.9861 - val_loss: 0.0304 - val_accuracy: 0.9900\n",
            "Epoch 6/30\n",
            "469/469 [==============================] - 4s 9ms/step - loss: 0.0398 - accuracy: 0.9876 - val_loss: 0.0306 - val_accuracy: 0.9899\n",
            "Epoch 7/30\n",
            "469/469 [==============================] - 4s 9ms/step - loss: 0.0382 - accuracy: 0.9877 - val_loss: 0.0286 - val_accuracy: 0.9916\n",
            "Epoch 8/30\n",
            "469/469 [==============================] - 4s 9ms/step - loss: 0.0331 - accuracy: 0.9895 - val_loss: 0.0303 - val_accuracy: 0.9906\n",
            "Epoch 9/30\n",
            "469/469 [==============================] - 4s 9ms/step - loss: 0.0308 - accuracy: 0.9902 - val_loss: 0.0285 - val_accuracy: 0.9922\n",
            "Epoch 10/30\n",
            "469/469 [==============================] - 4s 9ms/step - loss: 0.0260 - accuracy: 0.9917 - val_loss: 0.0295 - val_accuracy: 0.9916\n",
            "Epoch 11/30\n",
            "469/469 [==============================] - 4s 9ms/step - loss: 0.0236 - accuracy: 0.9926 - val_loss: 0.0280 - val_accuracy: 0.9924\n",
            "Epoch 12/30\n",
            "469/469 [==============================] - 4s 9ms/step - loss: 0.0221 - accuracy: 0.9928 - val_loss: 0.0274 - val_accuracy: 0.9927\n",
            "Epoch 13/30\n",
            "469/469 [==============================] - 4s 9ms/step - loss: 0.0208 - accuracy: 0.9931 - val_loss: 0.0352 - val_accuracy: 0.9907\n",
            "Epoch 14/30\n",
            "469/469 [==============================] - 4s 9ms/step - loss: 0.0192 - accuracy: 0.9935 - val_loss: 0.0321 - val_accuracy: 0.9917\n",
            "Epoch 15/30\n",
            "469/469 [==============================] - 4s 9ms/step - loss: 0.0186 - accuracy: 0.9936 - val_loss: 0.0329 - val_accuracy: 0.9916\n",
            "Epoch 16/30\n",
            "469/469 [==============================] - 4s 9ms/step - loss: 0.0179 - accuracy: 0.9943 - val_loss: 0.0295 - val_accuracy: 0.9928\n",
            "Epoch 17/30\n",
            "469/469 [==============================] - 4s 9ms/step - loss: 0.0163 - accuracy: 0.9944 - val_loss: 0.0303 - val_accuracy: 0.9919\n",
            "Epoch 18/30\n",
            "469/469 [==============================] - 4s 9ms/step - loss: 0.0178 - accuracy: 0.9943 - val_loss: 0.0299 - val_accuracy: 0.9917\n",
            "Epoch 19/30\n",
            "469/469 [==============================] - 4s 9ms/step - loss: 0.0153 - accuracy: 0.9947 - val_loss: 0.0301 - val_accuracy: 0.9916\n",
            "Epoch 20/30\n",
            "469/469 [==============================] - 4s 9ms/step - loss: 0.0143 - accuracy: 0.9948 - val_loss: 0.0349 - val_accuracy: 0.9919\n",
            "Epoch 21/30\n",
            "469/469 [==============================] - 4s 9ms/step - loss: 0.0146 - accuracy: 0.9952 - val_loss: 0.0273 - val_accuracy: 0.9928\n",
            "Epoch 22/30\n",
            "469/469 [==============================] - 4s 9ms/step - loss: 0.0139 - accuracy: 0.9952 - val_loss: 0.0334 - val_accuracy: 0.9912\n",
            "Epoch 23/30\n",
            "469/469 [==============================] - 4s 9ms/step - loss: 0.0129 - accuracy: 0.9958 - val_loss: 0.0290 - val_accuracy: 0.9930\n",
            "Epoch 24/30\n",
            "469/469 [==============================] - 4s 9ms/step - loss: 0.0127 - accuracy: 0.9958 - val_loss: 0.0297 - val_accuracy: 0.9924\n",
            "Epoch 25/30\n",
            "469/469 [==============================] - 5s 10ms/step - loss: 0.0124 - accuracy: 0.9960 - val_loss: 0.0290 - val_accuracy: 0.9933\n",
            "Epoch 26/30\n",
            "469/469 [==============================] - 4s 9ms/step - loss: 0.0107 - accuracy: 0.9963 - val_loss: 0.0279 - val_accuracy: 0.9932\n",
            "Epoch 27/30\n",
            "469/469 [==============================] - 4s 9ms/step - loss: 0.0112 - accuracy: 0.9965 - val_loss: 0.0312 - val_accuracy: 0.9930\n",
            "Epoch 28/30\n",
            "469/469 [==============================] - 4s 9ms/step - loss: 0.0111 - accuracy: 0.9962 - val_loss: 0.0329 - val_accuracy: 0.9935\n",
            "Epoch 29/30\n",
            "469/469 [==============================] - 4s 9ms/step - loss: 0.0103 - accuracy: 0.9963 - val_loss: 0.0302 - val_accuracy: 0.9934\n",
            "Epoch 30/30\n",
            "469/469 [==============================] - 4s 9ms/step - loss: 0.0103 - accuracy: 0.9967 - val_loss: 0.0275 - val_accuracy: 0.9932\n"
          ]
        }
      ]
    },
    {
      "cell_type": "code",
      "source": [
        "cnn.evaluate(x_test,t_test)"
      ],
      "metadata": {
        "colab": {
          "base_uri": "https://localhost:8080/"
        },
        "id": "piQhwvLfS1uT",
        "outputId": "a9910db3-d96f-4390-8118-3588c77ab78c"
      },
      "execution_count": 6,
      "outputs": [
        {
          "output_type": "stream",
          "name": "stdout",
          "text": [
            "313/313 [==============================] - 1s 3ms/step - loss: 0.0275 - accuracy: 0.9932\n"
          ]
        },
        {
          "output_type": "execute_result",
          "data": {
            "text/plain": [
              "[0.027538299560546875, 0.9932000041007996]"
            ]
          },
          "metadata": {},
          "execution_count": 6
        }
      ]
    },
    {
      "cell_type": "code",
      "source": [
        "plt.title('loss trend')\n",
        "\n",
        "plt.ylabel('loss')\n",
        "plt.xlabel('epochs')\n",
        "plt.grid()\n",
        "\n",
        "plt.plot(hist.history['loss'],label='train loss')\n",
        "plt.plot(hist.history['val_loss'],label='validation loss')\n",
        "\n",
        "plt.legend(loc='best')\n",
        "\n",
        "plt.show()"
      ],
      "metadata": {
        "colab": {
          "base_uri": "https://localhost:8080/",
          "height": 295
        },
        "id": "NJsezi4qjy1v",
        "outputId": "fbb89b4d-9cf5-4555-b17a-ac97fb969372"
      },
      "execution_count": 7,
      "outputs": [
        {
          "output_type": "display_data",
          "data": {
            "text/plain": [
              "<Figure size 432x288 with 1 Axes>"
            ],
            "image/png": "[encoded data removed]"
          },
          "metadata": {
            "needs_background": "light"
          }
        }
      ]
    },
    {
      "cell_type": "code",
      "source": [
        "plt.title('accuracy trend')\n",
        "\n",
        "plt.ylabel('accuracy')\n",
        "plt.xlabel('epochs')\n",
        "plt.grid()\n",
        "\n",
        "plt.plot(hist.history['accuracy'],label='train accuracy')\n",
        "plt.plot(hist.history['val_accuracy'],label='validation accuracy')\n",
        "\n",
        "plt.legend(loc='best')\n",
        "\n",
        "plt.show()"
      ],
      "metadata": {
        "colab": {
          "base_uri": "https://localhost:8080/",
          "height": 295
        },
        "id": "cdVtQvwzj4-o",
        "outputId": "fdbca5c5-c59d-4a1c-fc46-873d7289be76"
      },
      "execution_count": 8,
      "outputs": [
        {
          "output_type": "display_data",
          "data": {
            "text/plain": [
              "<Figure size 432x288 with 1 Axes>"
            ],
            "image/png": "[encoded data removed]"
          },
          "metadata": {
            "needs_background": "light"
          }
        }
      ]
    },
    {
      "cell_type": "code",
      "source": [
        "fmnist=tf.keras.datasets.fashion_mnist\n",
        "(x_train,t_train),(x_test,t_test)=fmnist.load_data()\n",
        "\n",
        "x_train=x_train.reshape(-1,28,28,1)\n",
        "x_test=x_test.reshape(-1,28,28,1)\n",
        "\n",
        "print(x_train.shape)\n",
        "print(x_test.shape)\n",
        "\n",
        "x_train,x_test=x_train.astype(np.float32)/255.,x_test.astype(np.float32)/255."
      ],
      "metadata": {
        "colab": {
          "base_uri": "https://localhost:8080/"
        },
        "id": "-8eyJEi6PMna",
        "outputId": "3ffb7e8c-a915-4b79-b22c-cb2a4197d483"
      },
      "execution_count": 9,
      "outputs": [
        {
          "output_type": "stream",
          "name": "stdout",
          "text": [
            "Downloading data from https://storage.googleapis.com/tensorflow/tf-keras-datasets/train-labels-idx1-ubyte.gz\n",
            "32768/29515 [=================================] - 0s 0us/step\n",
            "40960/29515 [=========================================] - 0s 0us/step\n",
            "Downloading data from https://storage.googleapis.com/tensorflow/tf-keras-datasets/train-images-idx3-ubyte.gz\n",
            "26427392/26421880 [==============================] - 0s 0us/step\n",
            "26435584/26421880 [==============================] - 0s 0us/step\n",
            "Downloading data from https://storage.googleapis.com/tensorflow/tf-keras-datasets/t10k-labels-idx1-ubyte.gz\n",
            "16384/5148 [===============================================================================================] - 0s 0us/step\n",
            "Downloading data from https://storage.googleapis.com/tensorflow/tf-keras-datasets/t10k-images-idx3-ubyte.gz\n",
            "4423680/4422102 [==============================] - 0s 0us/step\n",
            "4431872/4422102 [==============================] - 0s 0us/step\n",
            "(60000, 28, 28, 1)\n",
            "(10000, 28, 28, 1)\n"
          ]
        }
      ]
    },
    {
      "cell_type": "code",
      "source": [
        "hist=cnn.fit(x_train,t_train,batch_size=128,epochs=30,validation_data=(x_test,t_test))"
      ],
      "metadata": {
        "colab": {
          "base_uri": "https://localhost:8080/"
        },
        "id": "WsqEg4nZkavx",
        "outputId": "58c935d6-885b-4cee-b571-f3604c485d2b"
      },
      "execution_count": 10,
      "outputs": [
        {
          "output_type": "stream",
          "name": "stdout",
          "text": [
            "Epoch 1/30\n",
            "469/469 [==============================] - 4s 9ms/step - loss: 0.6109 - accuracy: 0.7988 - val_loss: 0.3630 - val_accuracy: 0.8663\n",
            "Epoch 2/30\n",
            "469/469 [==============================] - 4s 9ms/step - loss: 0.3843 - accuracy: 0.8605 - val_loss: 0.3200 - val_accuracy: 0.8861\n",
            "Epoch 3/30\n",
            "469/469 [==============================] - 4s 9ms/step - loss: 0.3411 - accuracy: 0.8749 - val_loss: 0.3050 - val_accuracy: 0.8919\n",
            "Epoch 4/30\n",
            "469/469 [==============================] - 4s 9ms/step - loss: 0.3171 - accuracy: 0.8833 - val_loss: 0.2828 - val_accuracy: 0.8998\n",
            "Epoch 5/30\n",
            "469/469 [==============================] - 5s 12ms/step - loss: 0.3000 - accuracy: 0.8903 - val_loss: 0.2823 - val_accuracy: 0.8978\n",
            "Epoch 6/30\n",
            "469/469 [==============================] - 4s 9ms/step - loss: 0.2802 - accuracy: 0.8973 - val_loss: 0.2671 - val_accuracy: 0.9031\n",
            "Epoch 7/30\n",
            "469/469 [==============================] - 5s 10ms/step - loss: 0.2667 - accuracy: 0.9017 - val_loss: 0.2568 - val_accuracy: 0.9098\n",
            "Epoch 8/30\n",
            "469/469 [==============================] - 5s 11ms/step - loss: 0.2538 - accuracy: 0.9064 - val_loss: 0.2561 - val_accuracy: 0.9074\n",
            "Epoch 9/30\n",
            "469/469 [==============================] - 6s 12ms/step - loss: 0.2422 - accuracy: 0.9092 - val_loss: 0.2509 - val_accuracy: 0.9103\n",
            "Epoch 10/30\n",
            "469/469 [==============================] - 4s 9ms/step - loss: 0.2326 - accuracy: 0.9131 - val_loss: 0.2437 - val_accuracy: 0.9144\n",
            "Epoch 11/30\n",
            "469/469 [==============================] - 4s 9ms/step - loss: 0.2224 - accuracy: 0.9170 - val_loss: 0.2565 - val_accuracy: 0.9093\n",
            "Epoch 12/30\n",
            "469/469 [==============================] - 4s 9ms/step - loss: 0.2139 - accuracy: 0.9200 - val_loss: 0.2409 - val_accuracy: 0.9151\n",
            "Epoch 13/30\n",
            "469/469 [==============================] - 4s 9ms/step - loss: 0.2092 - accuracy: 0.9221 - val_loss: 0.2459 - val_accuracy: 0.9141\n",
            "Epoch 14/30\n",
            "469/469 [==============================] - 4s 9ms/step - loss: 0.1980 - accuracy: 0.9253 - val_loss: 0.2452 - val_accuracy: 0.9168\n",
            "Epoch 15/30\n",
            "469/469 [==============================] - 4s 9ms/step - loss: 0.1913 - accuracy: 0.9285 - val_loss: 0.2391 - val_accuracy: 0.9195\n",
            "Epoch 16/30\n",
            "469/469 [==============================] - 4s 9ms/step - loss: 0.1849 - accuracy: 0.9294 - val_loss: 0.2360 - val_accuracy: 0.9194\n",
            "Epoch 17/30\n",
            "469/469 [==============================] - 4s 9ms/step - loss: 0.1779 - accuracy: 0.9315 - val_loss: 0.2454 - val_accuracy: 0.9172\n",
            "Epoch 18/30\n",
            "469/469 [==============================] - 4s 9ms/step - loss: 0.1720 - accuracy: 0.9349 - val_loss: 0.2405 - val_accuracy: 0.9185\n",
            "Epoch 19/30\n",
            "469/469 [==============================] - 4s 9ms/step - loss: 0.1656 - accuracy: 0.9367 - val_loss: 0.2504 - val_accuracy: 0.9206\n",
            "Epoch 20/30\n",
            "469/469 [==============================] - 4s 9ms/step - loss: 0.1612 - accuracy: 0.9388 - val_loss: 0.2484 - val_accuracy: 0.9183\n",
            "Epoch 21/30\n",
            "469/469 [==============================] - 4s 9ms/step - loss: 0.1552 - accuracy: 0.9409 - val_loss: 0.2350 - val_accuracy: 0.9230\n",
            "Epoch 22/30\n",
            "469/469 [==============================] - 4s 9ms/step - loss: 0.1509 - accuracy: 0.9430 - val_loss: 0.2518 - val_accuracy: 0.9217\n",
            "Epoch 23/30\n",
            "469/469 [==============================] - 4s 9ms/step - loss: 0.1475 - accuracy: 0.9435 - val_loss: 0.2522 - val_accuracy: 0.9212\n",
            "Epoch 24/30\n",
            "469/469 [==============================] - 4s 9ms/step - loss: 0.1420 - accuracy: 0.9455 - val_loss: 0.2482 - val_accuracy: 0.9240\n",
            "Epoch 25/30\n",
            "469/469 [==============================] - 4s 9ms/step - loss: 0.1372 - accuracy: 0.9463 - val_loss: 0.2502 - val_accuracy: 0.9215\n",
            "Epoch 26/30\n",
            "469/469 [==============================] - 4s 9ms/step - loss: 0.1355 - accuracy: 0.9488 - val_loss: 0.2541 - val_accuracy: 0.9233\n",
            "Epoch 27/30\n",
            "469/469 [==============================] - 4s 9ms/step - loss: 0.1315 - accuracy: 0.9507 - val_loss: 0.2501 - val_accuracy: 0.9234\n",
            "Epoch 28/30\n",
            "469/469 [==============================] - 4s 9ms/step - loss: 0.1273 - accuracy: 0.9512 - val_loss: 0.2566 - val_accuracy: 0.9212\n",
            "Epoch 29/30\n",
            "469/469 [==============================] - 4s 9ms/step - loss: 0.1244 - accuracy: 0.9518 - val_loss: 0.2561 - val_accuracy: 0.9256\n",
            "Epoch 30/30\n",
            "469/469 [==============================] - 4s 9ms/step - loss: 0.1207 - accuracy: 0.9534 - val_loss: 0.2601 - val_accuracy: 0.9255\n"
          ]
        }
      ]
    },
    {
      "cell_type": "code",
      "source": [
        "cnn.evaluate(x_test,t_test)"
      ],
      "metadata": {
        "colab": {
          "base_uri": "https://localhost:8080/"
        },
        "id": "MQ93IOQDkfwl",
        "outputId": "f52bb34f-664a-4e2a-f367-a2cca30c4e39"
      },
      "execution_count": 11,
      "outputs": [
        {
          "output_type": "stream",
          "name": "stdout",
          "text": [
            "313/313 [==============================] - 1s 3ms/step - loss: 0.2601 - accuracy: 0.9255\n"
          ]
        },
        {
          "output_type": "execute_result",
          "data": {
            "text/plain": [
              "[0.2601381242275238, 0.9254999756813049]"
            ]
          },
          "metadata": {},
          "execution_count": 11
        }
      ]
    },
    {
      "cell_type": "code",
      "source": [
        "plt.title('loss trend')\n",
        "\n",
        "plt.ylabel('loss')\n",
        "plt.xlabel('epochs')\n",
        "plt.grid()\n",
        "\n",
        "plt.plot(hist.history['loss'],label='train loss')\n",
        "plt.plot(hist.history['val_loss'],label='validation loss')\n",
        "\n",
        "plt.legend(loc='best')\n",
        "\n",
        "plt.show()"
      ],
      "metadata": {
        "colab": {
          "base_uri": "https://localhost:8080/",
          "height": 295
        },
        "id": "0dtt8TXgknT_",
        "outputId": "0c405aa9-4f1f-4844-f230-d1fb588fa684"
      },
      "execution_count": 12,
      "outputs": [
        {
          "output_type": "display_data",
          "data": {
            "text/plain": [
              "<Figure size 432x288 with 1 Axes>"
            ],
            "image/png": "[encoded data removed]"
          },
          "metadata": {
            "needs_background": "light"
          }
        }
      ]
    },
    {
      "cell_type": "code",
      "source": [
        "plt.title('accuracy trend')\n",
        "\n",
        "plt.ylabel('accuracy')\n",
        "plt.xlabel('epochs')\n",
        "plt.grid()\n",
        "\n",
        "plt.plot(hist.history['accuracy'],label='train accuracy')\n",
        "plt.plot(hist.history['val_accuracy'],label='validation accuracy')\n",
        "\n",
        "plt.legend(loc='best')\n",
        "\n",
        "plt.show()"
      ],
      "metadata": {
        "colab": {
          "base_uri": "https://localhost:8080/",
          "height": 295
        },
        "id": "6B3rFA__krPE",
        "outputId": "4a0d21ba-2c10-4656-c320-cb6f3cce970d"
      },
      "execution_count": 13,
      "outputs": [
        {
          "output_type": "display_data",
          "data": {
            "text/plain": [
              "<Figure size 432x288 with 1 Axes>"
            ],
            "image/png": "[encoded data removed]"
          },
          "metadata": {
            "needs_background": "light"
          }
        }
      ]
    }
  ]
}