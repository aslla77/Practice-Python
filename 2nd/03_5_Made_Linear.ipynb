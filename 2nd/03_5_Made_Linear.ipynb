{
  "nbformat": 4,
  "nbformat_minor": 0,
  "metadata": {
    "colab": {
      "name": "03.5_Made_Linear.ipynb",
      "provenance": [],
      "authorship_tag": "ABX9TyPgCddcdqNEtVgaJJMMHAhI",
      "include_colab_link": true
    },
    "kernelspec": {
      "name": "python3",
      "display_name": "Python 3"
    },
    "language_info": {
      "name": "python"
    }
  },
  "cells": [
    {
      "cell_type": "markdown",
      "metadata": {
        "id": "view-in-github",
        "colab_type": "text"
      },
      "source": [
        "<a href=\"https://colab.research.google.com/github/aslla77/practice-Python/blob/main/2nd/03_5_Made_Linear.ipynb\" target=\"_parent\"><img src=\"https://colab.research.google.com/assets/colab-badge.svg\" alt=\"Open In Colab\"/></a>"
      ]
    },
    {
      "cell_type": "code",
      "source": [
        "import numpy as np\n",
        "import matplotlib.pyplot as plt"
      ],
      "metadata": {
        "id": "56bn6-BfUC-K"
      },
      "execution_count": 5,
      "outputs": []
    },
    {
      "cell_type": "code",
      "source": [
        "x_train=np.array([9.,14.,21.,27.,32.,37.])\n",
        "y_train=np.array([74.,81.,86.,90.,88.,92.])\n",
        "print(x_train.shape,y_train.shape)\n",
        "plt.plot(x_train,y_train,'o')\n",
        "plt.grid()\n",
        "plt.show()"
      ],
      "metadata": {
        "colab": {
          "base_uri": "https://localhost:8080/",
          "height": 283
        },
        "id": "BKdwARS6UPD7",
        "outputId": "df5d7be1-d3e1-418f-b45d-7664f054a4f4"
      },
      "execution_count": 20,
      "outputs": [
        {
          "output_type": "stream",
          "name": "stdout",
          "text": [
            "(6,) (6,)\n"
          ]
        },
        {
          "output_type": "display_data",
          "data": {
            "text/plain": [
              "<Figure size 432x288 with 1 Axes>"
            ],
            "image/png": "[encoded data removed]"
          },
          "metadata": {
            "needs_background": "light"
          }
        }
      ]
    },
    {
      "cell_type": "code",
      "source": [
        "class point2:\n",
        "  def __init__(self):\n",
        "    self.H=None\n",
        "    self.Hlist=[]\n",
        "    self.count=0\n",
        "\n",
        "  def findH(self,x,y):\n",
        "    sdv=np.sum(x*y)\n",
        "    sd2=np.sum(x*x)\n",
        "    self.H=sdv/sd2\n",
        "    return self.H\n",
        "  \n",
        "  def findHconstant(self,x,y):\n",
        "    eps=1.0E-5\n",
        "    c=0.1\n",
        "    Svd=np.sum(x*y)\n",
        "    Sv2=np.sum(x*x)\n",
        "    DeltaH=c*(Svd-self.H*Sv2)\n",
        "\n",
        "    while (np.abs(DeltaH)>eps):\n",
        "      self.count+=1\n",
        "      self.Hlist.append(H)\n",
        "      self.H+=DeltaH\n",
        "      DeltaH=c*(Svd-self.H*Sv2)\n",
        "    return self.H\n"
      ],
      "metadata": {
        "id": "ncPrb8PsVp0-"
      },
      "execution_count": 53,
      "outputs": []
    },
    {
      "cell_type": "code",
      "source": [
        "point1=point2()\n",
        "H=point1.findH(x_train,y_train)"
      ],
      "metadata": {
        "id": "iBAX1IGAWNA2"
      },
      "execution_count": 22,
      "outputs": []
    },
    {
      "cell_type": "code",
      "source": [
        "x=np.arange(0,40,1)\n",
        "y=H*x\n",
        "print(H)\n",
        "\n",
        "plt.plot(x_train,y_train,'o')\n",
        "plt.plot(x,y)\n",
        "plt.grid()\n",
        "plt.legend\n",
        "plt.show()"
      ],
      "metadata": {
        "colab": {
          "base_uri": "https://localhost:8080/",
          "height": 283
        },
        "id": "YFk-lUpJx9Wr",
        "outputId": "35aec1f5-674c-4c0f-cf76-828a04d121c6"
      },
      "execution_count": 26,
      "outputs": [
        {
          "output_type": "stream",
          "name": "stdout",
          "text": [
            "3.191666666666667\n"
          ]
        },
        {
          "output_type": "display_data",
          "data": {
            "text/plain": [
              "<Figure size 432x288 with 1 Axes>"
            ],
            "image/png": "[encoded data removed]"
          },
          "metadata": {
            "needs_background": "light"
          }
        }
      ]
    },
    {
      "cell_type": "code",
      "source": [
        "DH=point1.findHconstant(x_train,y_train)\n",
        "\n",
        "y_1=DH*x\n",
        "\n",
        "plt.plot(x_train,y_train,'o')\n",
        "plt.plot(x,y,color='yellow')\n",
        "plt.plot(x,y_1,color='green')\n",
        "plt.grid()\n",
        "plt.legend\n",
        "plt.show()"
      ],
      "metadata": {
        "colab": {
          "base_uri": "https://localhost:8080/",
          "height": 265
        },
        "id": "9EIuC27Yzg2Q",
        "outputId": "5d384966-cba6-4742-ede2-d925475793b2"
      },
      "execution_count": 55,
      "outputs": [
        {
          "output_type": "display_data",
          "data": {
            "text/plain": [
              "<Figure size 432x288 with 1 Axes>"
            ],
            "image/png": "[encoded data removed]"
          },
          "metadata": {
            "needs_background": "light"
          }
        }
      ]
    }
  ]
}