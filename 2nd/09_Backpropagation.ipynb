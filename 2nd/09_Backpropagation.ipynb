{
  "nbformat": 4,
  "nbformat_minor": 0,
  "metadata": {
    "colab": {
      "name": "09_Backpropagation.ipynb",
      "provenance": [],
      "collapsed_sections": [],
      "mount_file_id": "1PLfABKYHNaMAWoKz0-_NumqjmzJjmYlB",
      "authorship_tag": "ABX9TyOkMIoUtkat6yMhzEugPT6X",
      "include_colab_link": true
    },
    "kernelspec": {
      "name": "python3",
      "display_name": "Python 3"
    },
    "language_info": {
      "name": "python"
    }
  },
  "cells": [
    {
      "cell_type": "markdown",
      "metadata": {
        "id": "view-in-github",
        "colab_type": "text"
      },
      "source": [
        "<a href=\"https://colab.research.google.com/github/aslla77/practice-Python/blob/main/2nd/09_Backpropagation.ipynb\" target=\"_parent\"><img src=\"https://colab.research.google.com/assets/colab-badge.svg\" alt=\"Open In Colab\"/></a>"
      ]
    },
    {
      "cell_type": "code",
      "execution_count": null,
      "metadata": {
        "id": "sGSJyuqS7Q3i"
      },
      "outputs": [],
      "source": [
        "import numpy as np\n",
        "import matplotlib.pyplot as plt\n",
        "import tensorflow as tf\n",
        "import keras"
      ]
    },
    {
      "cell_type": "code",
      "source": [
        "mnist=tf.keras.datasets.mnist\n",
        "(x_train,t_train),(x_test,t_test)=mnist.load_data()\n",
        "x_train,x_test=x_train/255 ,x_test/255\n",
        "x_train,x_test=x_train.reshape(x_train.shape[0],28*28) ,x_test.reshape(x_test.shape[0],28*28)\n",
        "t_trdata=np.zeros([t_train.shape[0],10])\n",
        "t_tdata=np.zeros([t_test.shape[0],10])\n",
        "for i in t_train:\n",
        "  t_trdata[i]=1\n",
        "for i in t_test:\n",
        "  t_tdata[i]=1"
      ],
      "metadata": {
        "colab": {
          "base_uri": "https://localhost:8080/"
        },
        "id": "5mDW5aXe8bT6",
        "outputId": "49b49370-f1b0-49c5-9161-d49481c2c0bc"
      },
      "execution_count": null,
      "outputs": [
        {
          "output_type": "stream",
          "name": "stdout",
          "text": [
            "Downloading data from https://storage.googleapis.com/tensorflow/tf-keras-datasets/mnist.npz\n",
            "11493376/11490434 [==============================] - 0s 0us/step\n",
            "11501568/11490434 [==============================] - 0s 0us/step\n"
          ]
        }
      ]
    },
    {
      "cell_type": "code",
      "source": [
        "def numerical_derivative(f,x):\n",
        "  delta1=1e-7\n",
        "  grads=np.zero_like(x)\n",
        "  it=np.ndither(x,flags=['multi_idx'],op_flags=['readwrite'])\n",
        "  while not it.finish:\n",
        "    idx=it.multi_idx\n",
        "    tmp_val=x[idx]\n",
        "    x[idx]=float(tmp_val)+delta1\n",
        "    fx1=f(x)\n",
        "\n",
        "    x[idx]=tmp_val-delta1\n",
        "    fx2=f(x)\n",
        "\n",
        "    grads[idx]=(fx1-fx2)/(2*delta1)\n",
        "\n",
        "    x[idx]=tmp_val\n",
        "    it.iternext()\n",
        "  return grads\n",
        "\n",
        "def sigmoid(x):\n",
        "  return 1/(1+np.exp(-x))\n",
        "\n",
        "def sigmoid_grads(x):\n",
        "  return (1-sigmoid(x))*sigmoid(x)\n"
      ],
      "metadata": {
        "id": "SkHQjWW49fPx"
      },
      "execution_count": null,
      "outputs": []
    },
    {
      "cell_type": "code",
      "source": [
        "class Mnist_test:\n",
        "  def __init__(self,inputlayer,hiddenlayer,outlayer):\n",
        "    self.inputlayer=inputlayer\n",
        "    self.hiddenlayer=hiddenlayer\n",
        "    self.outlayer=outlayer\n",
        "    self.params={}\n",
        "    self.params['W1']=np.random.rand(self.inputlayer,self.hiddenlayer)\n",
        "    self.params['b1']=np.random.rand(self.hiddenlayer)\n",
        "    self.params['W2']=np.random.rand(self.hiddenlayer,self.outlayer)\n",
        "    self.params['b2']=np.random.rand(self.outlayer)\n",
        "\n",
        "  def feed_forword(self):\n",
        "    delta1=1e-7\n",
        "    a1=np.dot(self.x,self.params['W1'])+self.params['b1']\n",
        "    z1=sigmoid(a1)\n",
        "    a2=np.dot(z1,self.params['W2'])+self.params['b2']\n",
        "    y=sigmoid(a2)\n",
        "    return -np.sum(self.t*np.log(y+delta1)+(1-self.t)*np.log(1-y+delta1))\n",
        "\n",
        "  def train(self,x,t):\n",
        "    self.x=x\n",
        "    self.t=tf\n",
        "    grads={}\n",
        "    #backword\n",
        "    E=self.feed_forword()\n",
        "    da1=\n",
        "    dz1=sigmoid_grads(E)\n",
        "    grads['W2'] = np.dot(z1.T, dz1)\n",
        "    grads['b2'] = np.sum(dy, axis=0)\n",
        "\n",
        "    da1 = np.dot(dy, W2.T)\n",
        "    dz1 = sigmoid_grad(a1) * da1\n",
        "    grads['W1'] = np.dot(x.T, dz1)\n",
        "    grads['b1'] = np.sum(dz1, axis=0)\n",
        "\n",
        "    return grads\n",
        "\n",
        "\n",
        "  def accuracy(self,test_data):\n",
        "    pass\n",
        "  def error_value(self):\n",
        "    pass\n",
        "  def predict(self,x):\n",
        "    a1=np.dot(self.x,self.params['W1'])+self.params['b1']\n",
        "    z1=sigmoid(a1)\n",
        "    a2=np.dot(self.x,self.params['W2'])+self.params['b2']\n",
        "    y=sigmoid(a2)\n",
        "    return np.argmax(y)\n"
      ],
      "metadata": {
        "id": "EGRM41IE_GIM"
      },
      "execution_count": null,
      "outputs": []
    },
    {
      "cell_type": "code",
      "source": [
        "nn=Mnist_test(784,100,10)\n",
        "trainnig_rate=1e-3\n",
        "for step in range(3000):\n",
        "  idx=np.random.randint(0,59999)\n",
        "  grads=nn.train(x_train[idx],t_train[idx])\n",
        "\n",
        "  for grd in ('W1','b1','W2','b2'):\n",
        "    nn.params[grd]-=trainnig_rate*grads[grd]\n",
        "\n",
        "ans=nn.predict(x_test[0])\n",
        "print(ans,t_test[0])"
      ],
      "metadata": {
        "colab": {
          "base_uri": "https://localhost:8080/",
          "height": 420
        },
        "id": "RtP91-FQA3mq",
        "outputId": "9bf4536e-49e4-483b-cd96-d60c511b0dcd"
      },
      "execution_count": null,
      "outputs": [
        {
          "output_type": "stream",
          "name": "stdout",
          "text": [
            "(100,) (10,)\n"
          ]
        },
        {
          "output_type": "error",
          "ename": "ValueError",
          "evalue": "ignored",
          "traceback": [
            "\u001b[0;31m---------------------------------------------------------------------------\u001b[0m",
            "\u001b[0;31mValueError\u001b[0m                                Traceback (most recent call last)",
            "\u001b[0;32m<ipython-input-16-d7f3762a592e>\u001b[0m in \u001b[0;36m<module>\u001b[0;34m()\u001b[0m\n\u001b[1;32m      3\u001b[0m \u001b[0;32mfor\u001b[0m \u001b[0mstep\u001b[0m \u001b[0;32min\u001b[0m \u001b[0mrange\u001b[0m\u001b[0;34m(\u001b[0m\u001b[0;36m3000\u001b[0m\u001b[0;34m)\u001b[0m\u001b[0;34m:\u001b[0m\u001b[0;34m\u001b[0m\u001b[0;34m\u001b[0m\u001b[0m\n\u001b[1;32m      4\u001b[0m   \u001b[0midx\u001b[0m\u001b[0;34m=\u001b[0m\u001b[0mnp\u001b[0m\u001b[0;34m.\u001b[0m\u001b[0mrandom\u001b[0m\u001b[0;34m.\u001b[0m\u001b[0mrandint\u001b[0m\u001b[0;34m(\u001b[0m\u001b[0;36m0\u001b[0m\u001b[0;34m,\u001b[0m\u001b[0;36m59999\u001b[0m\u001b[0;34m)\u001b[0m\u001b[0;34m\u001b[0m\u001b[0;34m\u001b[0m\u001b[0m\n\u001b[0;32m----> 5\u001b[0;31m   \u001b[0mgrads\u001b[0m\u001b[0;34m=\u001b[0m\u001b[0mnn\u001b[0m\u001b[0;34m.\u001b[0m\u001b[0mtrain\u001b[0m\u001b[0;34m(\u001b[0m\u001b[0mx_train\u001b[0m\u001b[0;34m[\u001b[0m\u001b[0midx\u001b[0m\u001b[0;34m]\u001b[0m\u001b[0;34m,\u001b[0m\u001b[0mt_train\u001b[0m\u001b[0;34m[\u001b[0m\u001b[0midx\u001b[0m\u001b[0;34m]\u001b[0m\u001b[0;34m)\u001b[0m\u001b[0;34m\u001b[0m\u001b[0;34m\u001b[0m\u001b[0m\n\u001b[0m\u001b[1;32m      6\u001b[0m \u001b[0;34m\u001b[0m\u001b[0m\n\u001b[1;32m      7\u001b[0m   \u001b[0;32mfor\u001b[0m \u001b[0mgrd\u001b[0m \u001b[0;32min\u001b[0m \u001b[0;34m(\u001b[0m\u001b[0;34m'W1'\u001b[0m\u001b[0;34m,\u001b[0m\u001b[0;34m'b1'\u001b[0m\u001b[0;34m,\u001b[0m\u001b[0;34m'W2'\u001b[0m\u001b[0;34m,\u001b[0m\u001b[0;34m'b2'\u001b[0m\u001b[0;34m)\u001b[0m\u001b[0;34m:\u001b[0m\u001b[0;34m\u001b[0m\u001b[0;34m\u001b[0m\u001b[0m\n",
            "\u001b[0;32m<ipython-input-15-5ccbb80ac224>\u001b[0m in \u001b[0;36mtrain\u001b[0;34m(self, x, t)\u001b[0m\n\u001b[1;32m     21\u001b[0m     \u001b[0mdy\u001b[0m \u001b[0;34m=\u001b[0m \u001b[0;34m(\u001b[0m\u001b[0my\u001b[0m \u001b[0;34m-\u001b[0m \u001b[0mt\u001b[0m\u001b[0;34m)\u001b[0m \u001b[0;34m/\u001b[0m \u001b[0mlen\u001b[0m\u001b[0;34m(\u001b[0m\u001b[0my\u001b[0m\u001b[0;34m)\u001b[0m\u001b[0;34m\u001b[0m\u001b[0;34m\u001b[0m\u001b[0m\n\u001b[1;32m     22\u001b[0m     \u001b[0mprint\u001b[0m\u001b[0;34m(\u001b[0m\u001b[0mz1\u001b[0m\u001b[0;34m.\u001b[0m\u001b[0mshape\u001b[0m\u001b[0;34m,\u001b[0m\u001b[0mdy\u001b[0m\u001b[0;34m.\u001b[0m\u001b[0mshape\u001b[0m\u001b[0;34m)\u001b[0m\u001b[0;34m\u001b[0m\u001b[0;34m\u001b[0m\u001b[0m\n\u001b[0;32m---> 23\u001b[0;31m     \u001b[0mgrads\u001b[0m\u001b[0;34m[\u001b[0m\u001b[0;34m'W2'\u001b[0m\u001b[0;34m]\u001b[0m \u001b[0;34m=\u001b[0m \u001b[0mnp\u001b[0m\u001b[0;34m.\u001b[0m\u001b[0mdot\u001b[0m\u001b[0;34m(\u001b[0m\u001b[0mz1\u001b[0m\u001b[0;34m.\u001b[0m\u001b[0mT\u001b[0m\u001b[0;34m,\u001b[0m \u001b[0mdy\u001b[0m\u001b[0;34m)\u001b[0m\u001b[0;34m\u001b[0m\u001b[0;34m\u001b[0m\u001b[0m\n\u001b[0m\u001b[1;32m     24\u001b[0m     \u001b[0mgrads\u001b[0m\u001b[0;34m[\u001b[0m\u001b[0;34m'b2'\u001b[0m\u001b[0;34m]\u001b[0m \u001b[0;34m=\u001b[0m \u001b[0mnp\u001b[0m\u001b[0;34m.\u001b[0m\u001b[0msum\u001b[0m\u001b[0;34m(\u001b[0m\u001b[0mdy\u001b[0m\u001b[0;34m,\u001b[0m \u001b[0maxis\u001b[0m\u001b[0;34m=\u001b[0m\u001b[0;36m0\u001b[0m\u001b[0;34m)\u001b[0m\u001b[0;34m\u001b[0m\u001b[0;34m\u001b[0m\u001b[0m\n\u001b[1;32m     25\u001b[0m \u001b[0;34m\u001b[0m\u001b[0m\n",
            "\u001b[0;32m<__array_function__ internals>\u001b[0m in \u001b[0;36mdot\u001b[0;34m(*args, **kwargs)\u001b[0m\n",
            "\u001b[0;31mValueError\u001b[0m: shapes (100,) and (10,) not aligned: 100 (dim 0) != 10 (dim 0)"
          ]
        }
      ]
    }
  ]
}