{
  "nbformat": 4,
  "nbformat_minor": 0,
  "metadata": {
    "colab": {
      "name": "16_CNN_CIFAR.ipynb",
      "provenance": [],
      "collapsed_sections": [],
      "mount_file_id": "1HmXzpjqamyuCnr6mbCaVggmIIt9Elsoc",
      "authorship_tag": "ABX9TyMPn5duVaVRZcRsnXLSWs0m",
      "include_colab_link": true
    },
    "kernelspec": {
      "name": "python3",
      "display_name": "Python 3"
    },
    "language_info": {
      "name": "python"
    },
    "accelerator": "GPU",
    "gpuClass": "standard"
  },
  "cells": [
    {
      "cell_type": "markdown",
      "metadata": {
        "id": "view-in-github",
        "colab_type": "text"
      },
      "source": [
        "<a href=\"https://colab.research.google.com/github/aslla77/practice-Python/blob/main/2nd/16_CNN_CIFAR.ipynb\" target=\"_parent\"><img src=\"https://colab.research.google.com/assets/colab-badge.svg\" alt=\"Open In Colab\"/></a>"
      ]
    },
    {
      "cell_type": "markdown",
      "source": [
        "#CIFAR10\n",
        "- 10 개의 각각의 이밎들이 존재하고 32*32*3의 작은 컬러 데이터들로 구성이 되어 있다."
      ],
      "metadata": {
        "id": "TqHfBFmCwhnW"
      }
    },
    {
      "cell_type": "code",
      "execution_count": 1,
      "metadata": {
        "colab": {
          "base_uri": "https://localhost:8080/"
        },
        "id": "geJ2tjU0lMpz",
        "outputId": "d197a2a6-3d84-4910-8505-cd499c736914"
      },
      "outputs": [
        {
          "output_type": "execute_result",
          "data": {
            "text/plain": [
              "[name: \"/device:CPU:0\"\n",
              " device_type: \"CPU\"\n",
              " memory_limit: 268435456\n",
              " locality {\n",
              " }\n",
              " incarnation: 10964617256491905039\n",
              " xla_global_id: -1, name: \"/device:GPU:0\"\n",
              " device_type: \"GPU\"\n",
              " memory_limit: 14444920832\n",
              " locality {\n",
              "   bus_id: 1\n",
              "   links {\n",
              "   }\n",
              " }\n",
              " incarnation: 17499210362994483834\n",
              " physical_device_desc: \"device: 0, name: Tesla T4, pci bus id: 0000:00:04.0, compute capability: 7.5\"\n",
              " xla_global_id: 416903419]"
            ]
          },
          "metadata": {},
          "execution_count": 1
        }
      ],
      "source": [
        "import numpy as np\n",
        "import matplotlib.pyplot as plt\n",
        "import tensorflow as tf\n",
        "from sklearn.metrics import confusion_matrix\n",
        "import seaborn as sns\n",
        "from tensorflow.keras.models import Sequential\n",
        "from tensorflow.keras.layers import Conv2D,MaxPool2D\n",
        "from tensorflow.keras.layers import Flatten,Dense,Dropout\n",
        "from tensorflow.python.client import device_lib\n",
        "device_lib.list_local_devices()"
      ]
    },
    {
      "cell_type": "code",
      "source": [
        "cifar10=tf.keras.datasets.cifar10\n",
        "(x_train,t_train),(x_test,t_test)=cifar10.load_data()\n",
        "\n",
        "x_train=x_train.reshape(-1,32,32,3)\n",
        "x_test=x_test.reshape(-1,32,32,3)\n",
        "\n",
        "print(x_train.shape)\n",
        "print(x_test.shape)\n",
        "\n",
        "x_train,x_test=x_train.astype(np.float32)/255.,x_test.astype(np.float32)/255."
      ],
      "metadata": {
        "colab": {
          "base_uri": "https://localhost:8080/"
        },
        "id": "7-LEhE7xw7zg",
        "outputId": "4693431e-1a33-4ff8-d4ed-ccd451a4e8e3"
      },
      "execution_count": 2,
      "outputs": [
        {
          "output_type": "stream",
          "name": "stdout",
          "text": [
            "Downloading data from https://www.cs.toronto.edu/~kriz/cifar-10-python.tar.gz\n",
            "170500096/170498071 [==============================] - 2s 0us/step\n",
            "170508288/170498071 [==============================] - 2s 0us/step\n",
            "(50000, 32, 32, 3)\n",
            "(10000, 32, 32, 3)\n"
          ]
        }
      ]
    },
    {
      "cell_type": "code",
      "source": [
        "cnn=Sequential()\n",
        "\n",
        "cnn.add(Conv2D(input_shape=(32,32,3),kernel_size=(3,3),filters=32,activation='relu'))\n",
        "cnn.add(Conv2D(kernel_size=(3,3),filters=64,activation='relu'))\n",
        "cnn.add(MaxPool2D(pool_size=(2,2)))\n",
        "cnn.add(Dropout(0.25))\n",
        "\n",
        "cnn.add(Flatten())\n",
        "\n",
        "cnn.add(Dense(128,activation='relu'))\n",
        "cnn.add(Dropout(0.5))\n",
        "cnn.add(Dense(10,activation='softmax')) "
      ],
      "metadata": {
        "id": "v6ym7JzNmx7c"
      },
      "execution_count": 9,
      "outputs": []
    },
    {
      "cell_type": "code",
      "source": [
        "cnn.compile(loss='sparse_categorical_crossentropy',optimizer=tf.keras.optimizers.Adam(),metrics=['accuracy'])\n",
        "\n",
        "hist=cnn.fit(x_train,t_train,batch_size=128,epochs=30,validation_data=(x_test,t_test))"
      ],
      "metadata": {
        "colab": {
          "base_uri": "https://localhost:8080/"
        },
        "id": "rsXG-Voyw3o7",
        "outputId": "d4148ec2-4ef2-4c27-ef5c-6589a408d9f5"
      },
      "execution_count": 10,
      "outputs": [
        {
          "output_type": "stream",
          "name": "stdout",
          "text": [
            "Epoch 1/30\n",
            "391/391 [==============================] - 16s 13ms/step - loss: 1.6695 - accuracy: 0.3909 - val_loss: 1.2636 - val_accuracy: 0.5518\n",
            "Epoch 2/30\n",
            "391/391 [==============================] - 4s 11ms/step - loss: 1.3327 - accuracy: 0.5255 - val_loss: 1.1337 - val_accuracy: 0.6089\n",
            "Epoch 3/30\n",
            "391/391 [==============================] - 5s 12ms/step - loss: 1.1995 - accuracy: 0.5744 - val_loss: 1.0569 - val_accuracy: 0.6298\n",
            "Epoch 4/30\n",
            "391/391 [==============================] - 4s 11ms/step - loss: 1.1205 - accuracy: 0.6061 - val_loss: 1.0162 - val_accuracy: 0.6479\n",
            "Epoch 5/30\n",
            "391/391 [==============================] - 4s 11ms/step - loss: 1.0613 - accuracy: 0.6244 - val_loss: 0.9390 - val_accuracy: 0.6671\n",
            "Epoch 6/30\n",
            "391/391 [==============================] - 4s 11ms/step - loss: 1.0029 - accuracy: 0.6448 - val_loss: 0.9374 - val_accuracy: 0.6666\n",
            "Epoch 7/30\n",
            "391/391 [==============================] - 4s 11ms/step - loss: 0.9655 - accuracy: 0.6573 - val_loss: 0.9237 - val_accuracy: 0.6724\n",
            "Epoch 8/30\n",
            "391/391 [==============================] - 4s 11ms/step - loss: 0.9231 - accuracy: 0.6705 - val_loss: 0.8809 - val_accuracy: 0.6921\n",
            "Epoch 9/30\n",
            "391/391 [==============================] - 4s 11ms/step - loss: 0.8905 - accuracy: 0.6839 - val_loss: 0.8720 - val_accuracy: 0.6921\n",
            "Epoch 10/30\n",
            "391/391 [==============================] - 6s 15ms/step - loss: 0.8677 - accuracy: 0.6896 - val_loss: 0.8726 - val_accuracy: 0.6933\n",
            "Epoch 11/30\n",
            "391/391 [==============================] - 6s 15ms/step - loss: 0.8281 - accuracy: 0.7022 - val_loss: 0.8744 - val_accuracy: 0.6930\n",
            "Epoch 12/30\n",
            "391/391 [==============================] - 6s 15ms/step - loss: 0.8030 - accuracy: 0.7106 - val_loss: 0.8711 - val_accuracy: 0.6931\n",
            "Epoch 13/30\n",
            "391/391 [==============================] - 5s 12ms/step - loss: 0.7751 - accuracy: 0.7223 - val_loss: 0.8756 - val_accuracy: 0.6996\n",
            "Epoch 14/30\n",
            "391/391 [==============================] - 4s 11ms/step - loss: 0.7545 - accuracy: 0.7289 - val_loss: 0.8791 - val_accuracy: 0.6976\n",
            "Epoch 15/30\n",
            "391/391 [==============================] - 4s 11ms/step - loss: 0.7281 - accuracy: 0.7369 - val_loss: 0.8783 - val_accuracy: 0.6971\n",
            "Epoch 16/30\n",
            "391/391 [==============================] - 5s 12ms/step - loss: 0.7099 - accuracy: 0.7417 - val_loss: 0.8620 - val_accuracy: 0.7019\n",
            "Epoch 17/30\n",
            "391/391 [==============================] - 5s 12ms/step - loss: 0.6898 - accuracy: 0.7511 - val_loss: 0.8565 - val_accuracy: 0.7056\n",
            "Epoch 18/30\n",
            "391/391 [==============================] - 5s 12ms/step - loss: 0.6719 - accuracy: 0.7588 - val_loss: 0.8637 - val_accuracy: 0.7021\n",
            "Epoch 19/30\n",
            "391/391 [==============================] - 4s 11ms/step - loss: 0.6510 - accuracy: 0.7625 - val_loss: 0.8723 - val_accuracy: 0.7060\n",
            "Epoch 20/30\n",
            "391/391 [==============================] - 4s 11ms/step - loss: 0.6387 - accuracy: 0.7660 - val_loss: 0.8789 - val_accuracy: 0.7042\n",
            "Epoch 21/30\n",
            "391/391 [==============================] - 5s 12ms/step - loss: 0.6174 - accuracy: 0.7718 - val_loss: 0.8489 - val_accuracy: 0.7119\n",
            "Epoch 22/30\n",
            "391/391 [==============================] - 4s 11ms/step - loss: 0.6045 - accuracy: 0.7776 - val_loss: 0.8604 - val_accuracy: 0.7151\n",
            "Epoch 23/30\n",
            "391/391 [==============================] - 5s 12ms/step - loss: 0.5903 - accuracy: 0.7827 - val_loss: 0.8905 - val_accuracy: 0.7103\n",
            "Epoch 24/30\n",
            "391/391 [==============================] - 4s 11ms/step - loss: 0.5719 - accuracy: 0.7874 - val_loss: 0.8790 - val_accuracy: 0.7139\n",
            "Epoch 25/30\n",
            "391/391 [==============================] - 5s 12ms/step - loss: 0.5549 - accuracy: 0.7946 - val_loss: 0.8885 - val_accuracy: 0.7136\n",
            "Epoch 26/30\n",
            "391/391 [==============================] - 4s 11ms/step - loss: 0.5510 - accuracy: 0.7963 - val_loss: 0.8849 - val_accuracy: 0.7144\n",
            "Epoch 27/30\n",
            "391/391 [==============================] - 5s 12ms/step - loss: 0.5322 - accuracy: 0.8018 - val_loss: 0.9060 - val_accuracy: 0.7096\n",
            "Epoch 28/30\n",
            "391/391 [==============================] - 5s 12ms/step - loss: 0.5268 - accuracy: 0.8046 - val_loss: 0.9039 - val_accuracy: 0.7088\n",
            "Epoch 29/30\n",
            "391/391 [==============================] - 5s 12ms/step - loss: 0.5164 - accuracy: 0.8094 - val_loss: 0.9203 - val_accuracy: 0.7122\n",
            "Epoch 30/30\n",
            "391/391 [==============================] - 5s 12ms/step - loss: 0.5083 - accuracy: 0.8130 - val_loss: 0.9363 - val_accuracy: 0.7100\n"
          ]
        }
      ]
    },
    {
      "cell_type": "code",
      "source": [
        "cnn.evaluate(x_test,t_test)"
      ],
      "metadata": {
        "colab": {
          "base_uri": "https://localhost:8080/"
        },
        "id": "ppfJUYGfw59X",
        "outputId": "a384ff22-1531-4f06-d4d5-4e41988518d8"
      },
      "execution_count": 11,
      "outputs": [
        {
          "output_type": "stream",
          "name": "stdout",
          "text": [
            "313/313 [==============================] - 1s 3ms/step - loss: 0.9363 - accuracy: 0.7100\n"
          ]
        },
        {
          "output_type": "execute_result",
          "data": {
            "text/plain": [
              "[0.9362658262252808, 0.7099999785423279]"
            ]
          },
          "metadata": {},
          "execution_count": 11
        }
      ]
    },
    {
      "cell_type": "code",
      "source": [
        "plt.title('loss trend')\n",
        "\n",
        "plt.ylabel('loss')\n",
        "plt.xlabel('epochs')\n",
        "plt.grid()\n",
        "\n",
        "plt.plot(hist.history['loss'],label='train loss')\n",
        "plt.plot(hist.history['val_loss'],label='validation loss')\n",
        "\n",
        "plt.legend(loc='best')\n",
        "\n",
        "plt.show()\n"
      ],
      "metadata": {
        "colab": {
          "base_uri": "https://localhost:8080/",
          "height": 295
        },
        "id": "NmJMAJiUx6IJ",
        "outputId": "cb9b82b4-1fb6-42ec-84ac-09320689c2ce"
      },
      "execution_count": 12,
      "outputs": [
        {
          "output_type": "display_data",
          "data": {
            "text/plain": [
              "<Figure size 432x288 with 1 Axes>"
            ],
            "image/png": "[encoded data removed]"
          },
          "metadata": {
            "needs_background": "light"
          }
        }
      ]
    },
    {
      "cell_type": "code",
      "source": [
        "plt.title('accuracy trend')\n",
        "\n",
        "plt.ylabel('accuracy')\n",
        "plt.xlabel('epochs')\n",
        "plt.grid()\n",
        "\n",
        "plt.plot(hist.history['accuracy'],label='train accuracy')\n",
        "plt.plot(hist.history['val_accuracy'],label='validation accuracy')\n",
        "\n",
        "plt.legend(loc='best')\n",
        "\n",
        "plt.show()"
      ],
      "metadata": {
        "colab": {
          "base_uri": "https://localhost:8080/",
          "height": 295
        },
        "id": "Fe4cKFBGx9j4",
        "outputId": "4fa97672-264f-48e3-df22-b10a6fb8ff44"
      },
      "execution_count": 13,
      "outputs": [
        {
          "output_type": "display_data",
          "data": {
            "text/plain": [
              "<Figure size 432x288 with 1 Axes>"
            ],
            "image/png": "[encoded data removed]"
          },
          "metadata": {
            "needs_background": "light"
          }
        }
      ]
    },
    {
      "cell_type": "markdown",
      "source": [
        "#$$ CNN의 성능 향상 (오버피팅\\Downarrow 정확도 \\Uparrow )$$\n",
        "* 더 많은 레이어 쌓기\n",
        "  * 컨볼루션 레이어가 중첩된 더 깊은 구조가 될수록 성능은 크게 개선됨\n",
        "\n",
        "* 이미지 데이터 보강 (Iamge Data Augmentation)\n",
        "  * 딥러닝에서는 많은 학습 데이터를 사용하면 성능을 개선 시킬 수 있음\n",
        "\n",
        "* 높은 해상도(High Resolution)학습 데이터 확보\n",
        "  * 동일한 CNN구조 라면 높은 해상도의 학습데이터를 통해서 성능을 개선 시킬 수 있음\n",
        "\n",
        "* L1 Norm,L2 Norm등의 가중치 규제(Regularization),Dropout, 배치 정규화(Batch Normalization) 등을 통해 성능을 개선 가능"
      ],
      "metadata": {
        "id": "T59nokO5JGTS"
      }
    }
  ]
}