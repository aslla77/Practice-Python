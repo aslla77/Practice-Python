{
  "nbformat": 4,
  "nbformat_minor": 0,
  "metadata": {
    "colab": {
      "name": "21_GRU.ipynb",
      "provenance": [],
      "collapsed_sections": [],
      "mount_file_id": "1Gp9fGGPFWU6Uk7Uzfw_YCyTLvt2Zex5m",
      "authorship_tag": "ABX9TyMNhk46EW+QmQJ2c+OL0e03",
      "include_colab_link": true
    },
    "kernelspec": {
      "name": "python3",
      "display_name": "Python 3"
    },
    "language_info": {
      "name": "python"
    },
    "accelerator": "GPU",
    "gpuClass": "standard"
  },
  "cells": [
    {
      "cell_type": "markdown",
      "metadata": {
        "id": "view-in-github",
        "colab_type": "text"
      },
      "source": [
        "<a href=\"https://colab.research.google.com/github/aslla77/practice-Python/blob/main/2nd/21_GRU.ipynb\" target=\"_parent\"><img src=\"https://colab.research.google.com/assets/colab-badge.svg\" alt=\"Open In Colab\"/></a>"
      ]
    },
    {
      "cell_type": "markdown",
      "source": [
        "#GRU\n",
        "## LSTM과 비슷 하지만, 더 간단한 구조이다\n",
        "- cell state가 없고 GRU 출력 H값이 그역활을 대신함\n",
        "- Reset gate ,Update gate 2가지만 존재\n",
        "  - sigmoid 2번 tanh 1번만 사용하여 연산이 줄어든다\n",
        "  - LSTM은 활성화 함수가 5번 존재(sigmoid 3, tanh 2)\n",
        "\n",
        "\n"
      ],
      "metadata": {
        "id": "H5PVFbfgebt-"
      }
    },
    {
      "cell_type": "code",
      "execution_count": 1,
      "metadata": {
        "id": "35KqsjbneSfX"
      },
      "outputs": [],
      "source": [
        "import numpy as np\n",
        "import matplotlib.pyplot as plt\n",
        "import pandas as pd\n",
        "import tensorflow as tf\n",
        "\n",
        "from tensorflow.keras.models import Sequential\n",
        "from tensorflow.keras.layers import GRU,Dense,Dropout"
      ]
    },
    {
      "cell_type": "code",
      "source": [
        "filename='/content/drive/MyDrive/005930.KS.csv'\n",
        "\n",
        "#20년치 데이터 불러오기\n",
        "\n",
        "raw_df=pd.read_csv(filename)\n",
        "\n",
        "raw_df.head()"
      ],
      "metadata": {
        "colab": {
          "base_uri": "https://localhost:8080/",
          "height": 206
        },
        "id": "9ZDAA22gKwdj",
        "outputId": "0dc52e98-df72-43ae-9d42-b28e69568007"
      },
      "execution_count": 2,
      "outputs": [
        {
          "output_type": "execute_result",
          "data": {
            "text/plain": [
              "         Date    Open    High     Low   Close    Adj Close    Volume\n",
              "0  2002-08-12  6380.0  6420.0  6260.0  6340.0  4797.509766  38830000\n",
              "1  2002-08-13  6340.0  6490.0  6340.0  6490.0  4911.016113  19635000\n",
              "2  2002-08-14  6440.0  6460.0  6360.0  6440.0  4873.179199  35980000\n",
              "3  2002-08-15  6440.0  6440.0  6440.0  6440.0  4873.179199         0\n",
              "4  2002-08-16  6600.0  6660.0  6500.0  6510.0  4926.148926  31750000"
            ],
            "text/html": [
              "\n",
              "  <div id=\"df-f54ab8eb-1c2b-4b4f-a5f5-843dd5f8ffd3\">\n",
              "    <div class=\"colab-df-container\">\n",
              "      <div>\n",
              "<style scoped>\n",
              "    .dataframe tbody tr th:only-of-type {\n",
              "        vertical-align: middle;\n",
              "    }\n",
              "\n",
              "    .dataframe tbody tr th {\n",
              "        vertical-align: top;\n",
              "    }\n",
              "\n",
              "    .dataframe thead th {\n",
              "        text-align: right;\n",
              "    }\n",
              "</style>\n",
              "<table border=\"1\" class=\"dataframe\">\n",
              "  <thead>\n",
              "    <tr style=\"text-align: right;\">\n",
              "      <th></th>\n",
              "      <th>Date</th>\n",
              "      <th>Open</th>\n",
              "      <th>High</th>\n",
              "      <th>Low</th>\n",
              "      <th>Close</th>\n",
              "      <th>Adj Close</th>\n",
              "      <th>Volume</th>\n",
              "    </tr>\n",
              "  </thead>\n",
              "  <tbody>\n",
              "    <tr>\n",
              "      <th>0</th>\n",
              "      <td>2002-08-12</td>\n",
              "      <td>6380.0</td>\n",
              "      <td>6420.0</td>\n",
              "      <td>6260.0</td>\n",
              "      <td>6340.0</td>\n",
              "      <td>4797.509766</td>\n",
              "      <td>38830000</td>\n",
              "    </tr>\n",
              "    <tr>\n",
              "      <th>1</th>\n",
              "      <td>2002-08-13</td>\n",
              "      <td>6340.0</td>\n",
              "      <td>6490.0</td>\n",
              "      <td>6340.0</td>\n",
              "      <td>6490.0</td>\n",
              "      <td>4911.016113</td>\n",
              "      <td>19635000</td>\n",
              "    </tr>\n",
              "    <tr>\n",
              "      <th>2</th>\n",
              "      <td>2002-08-14</td>\n",
              "      <td>6440.0</td>\n",
              "      <td>6460.0</td>\n",
              "      <td>6360.0</td>\n",
              "      <td>6440.0</td>\n",
              "      <td>4873.179199</td>\n",
              "      <td>35980000</td>\n",
              "    </tr>\n",
              "    <tr>\n",
              "      <th>3</th>\n",
              "      <td>2002-08-15</td>\n",
              "      <td>6440.0</td>\n",
              "      <td>6440.0</td>\n",
              "      <td>6440.0</td>\n",
              "      <td>6440.0</td>\n",
              "      <td>4873.179199</td>\n",
              "      <td>0</td>\n",
              "    </tr>\n",
              "    <tr>\n",
              "      <th>4</th>\n",
              "      <td>2002-08-16</td>\n",
              "      <td>6600.0</td>\n",
              "      <td>6660.0</td>\n",
              "      <td>6500.0</td>\n",
              "      <td>6510.0</td>\n",
              "      <td>4926.148926</td>\n",
              "      <td>31750000</td>\n",
              "    </tr>\n",
              "  </tbody>\n",
              "</table>\n",
              "</div>\n",
              "      <button class=\"colab-df-convert\" onclick=\"convertToInteractive('df-f54ab8eb-1c2b-4b4f-a5f5-843dd5f8ffd3')\"\n",
              "              title=\"Convert this dataframe to an interactive table.\"\n",
              "              style=\"display:none;\">\n",
              "        \n",
              "  <svg xmlns=\"http://www.w3.org/2000/svg\" height=\"24px\"viewBox=\"0 0 24 24\"\n",
              "       width=\"24px\">\n",
              "    <path d=\"M0 0h24v24H0V0z\" fill=\"none\"/>\n",
              "    <path d=\"M18.56 5.44l.94 2.06.94-2.06 2.06-.94-2.06-.94-.94-2.06-.94 2.06-2.06.94zm-11 1L8.5 8.5l.94-2.06 2.06-.94-2.06-.94L8.5 2.5l-.94 2.06-2.06.94zm10 10l.94 2.06.94-2.06 2.06-.94-2.06-.94-.94-2.06-.94 2.06-2.06.94z\"/><path d=\"M17.41 7.96l-1.37-1.37c-.4-.4-.92-.59-1.43-.59-.52 0-1.04.2-1.43.59L10.3 9.45l-7.72 7.72c-.78.78-.78 2.05 0 2.83L4 21.41c.39.39.9.59 1.41.59.51 0 1.02-.2 1.41-.59l7.78-7.78 2.81-2.81c.8-.78.8-2.07 0-2.86zM5.41 20L4 18.59l7.72-7.72 1.47 1.35L5.41 20z\"/>\n",
              "  </svg>\n",
              "      </button>\n",
              "      \n",
              "  <style>\n",
              "    .colab-df-container {\n",
              "      display:flex;\n",
              "      flex-wrap:wrap;\n",
              "      gap: 12px;\n",
              "    }\n",
              "\n",
              "    .colab-df-convert {\n",
              "      background-color: #E8F0FE;\n",
              "      border: none;\n",
              "      border-radius: 50%;\n",
              "      cursor: pointer;\n",
              "      display: none;\n",
              "      fill: #1967D2;\n",
              "      height: 32px;\n",
              "      padding: 0 0 0 0;\n",
              "      width: 32px;\n",
              "    }\n",
              "\n",
              "    .colab-df-convert:hover {\n",
              "      background-color: #E2EBFA;\n",
              "      box-shadow: 0px 1px 2px rgba(60, 64, 67, 0.3), 0px 1px 3px 1px rgba(60, 64, 67, 0.15);\n",
              "      fill: #174EA6;\n",
              "    }\n",
              "\n",
              "    [theme=dark] .colab-df-convert {\n",
              "      background-color: #3B4455;\n",
              "      fill: #D2E3FC;\n",
              "    }\n",
              "\n",
              "    [theme=dark] .colab-df-convert:hover {\n",
              "      background-color: #434B5C;\n",
              "      box-shadow: 0px 1px 3px 1px rgba(0, 0, 0, 0.15);\n",
              "      filter: drop-shadow(0px 1px 2px rgba(0, 0, 0, 0.3));\n",
              "      fill: #FFFFFF;\n",
              "    }\n",
              "  </style>\n",
              "\n",
              "      <script>\n",
              "        const buttonEl =\n",
              "          document.querySelector('#df-f54ab8eb-1c2b-4b4f-a5f5-843dd5f8ffd3 button.colab-df-convert');\n",
              "        buttonEl.style.display =\n",
              "          google.colab.kernel.accessAllowed ? 'block' : 'none';\n",
              "\n",
              "        async function convertToInteractive(key) {\n",
              "          const element = document.querySelector('#df-f54ab8eb-1c2b-4b4f-a5f5-843dd5f8ffd3');\n",
              "          const dataTable =\n",
              "            await google.colab.kernel.invokeFunction('convertToInteractive',\n",
              "                                                     [key], {});\n",
              "          if (!dataTable) return;\n",
              "\n",
              "          const docLinkHtml = 'Like what you see? Visit the ' +\n",
              "            '<a target=\"_blank\" href=https://colab.research.google.com/notebooks/data_table.ipynb>data table notebook</a>'\n",
              "            + ' to learn more about interactive tables.';\n",
              "          element.innerHTML = '';\n",
              "          dataTable['output_type'] = 'display_data';\n",
              "          await google.colab.output.renderOutput(dataTable, element);\n",
              "          const docLink = document.createElement('div');\n",
              "          docLink.innerHTML = docLinkHtml;\n",
              "          element.appendChild(docLink);\n",
              "        }\n",
              "      </script>\n",
              "    </div>\n",
              "  </div>\n",
              "  "
            ]
          },
          "metadata": {},
          "execution_count": 2
        }
      ]
    },
    {
      "cell_type": "code",
      "source": [
        "#3일 평균이동선과 5일 평균이동선 생성\n",
        "ma5 = raw_df['Adj Close'].rolling(window=5).mean()\n",
        "ma3 = raw_df['Adj Close'].rolling(window=3).mean()\n",
        "\n",
        "raw_df.insert(len(raw_df.columns), \"3MA\", ma3)\n",
        "raw_df.insert(len(raw_df.columns), \"5MA\", ma5)\n",
        "raw_df.head()"
      ],
      "metadata": {
        "colab": {
          "base_uri": "https://localhost:8080/",
          "height": 206
        },
        "id": "XyJ-9xg3UuMG",
        "outputId": "65104546-2688-4c77-90c3-f07262544435"
      },
      "execution_count": 3,
      "outputs": [
        {
          "output_type": "execute_result",
          "data": {
            "text/plain": [
              "         Date    Open    High     Low   Close    Adj Close    Volume  \\\n",
              "0  2002-08-12  6380.0  6420.0  6260.0  6340.0  4797.509766  38830000   \n",
              "1  2002-08-13  6340.0  6490.0  6340.0  6490.0  4911.016113  19635000   \n",
              "2  2002-08-14  6440.0  6460.0  6360.0  6440.0  4873.179199  35980000   \n",
              "3  2002-08-15  6440.0  6440.0  6440.0  6440.0  4873.179199         0   \n",
              "4  2002-08-16  6600.0  6660.0  6500.0  6510.0  4926.148926  31750000   \n",
              "\n",
              "           3MA          5MA  \n",
              "0          NaN          NaN  \n",
              "1          NaN          NaN  \n",
              "2  4860.568359          NaN  \n",
              "3  4885.791504          NaN  \n",
              "4  4890.835775  4876.206641  "
            ],
            "text/html": [
              "\n",
              "  <div id=\"df-74481fd0-6dc1-4b2d-ab75-35b93d58b862\">\n",
              "    <div class=\"colab-df-container\">\n",
              "      <div>\n",
              "<style scoped>\n",
              "    .dataframe tbody tr th:only-of-type {\n",
              "        vertical-align: middle;\n",
              "    }\n",
              "\n",
              "    .dataframe tbody tr th {\n",
              "        vertical-align: top;\n",
              "    }\n",
              "\n",
              "    .dataframe thead th {\n",
              "        text-align: right;\n",
              "    }\n",
              "</style>\n",
              "<table border=\"1\" class=\"dataframe\">\n",
              "  <thead>\n",
              "    <tr style=\"text-align: right;\">\n",
              "      <th></th>\n",
              "      <th>Date</th>\n",
              "      <th>Open</th>\n",
              "      <th>High</th>\n",
              "      <th>Low</th>\n",
              "      <th>Close</th>\n",
              "      <th>Adj Close</th>\n",
              "      <th>Volume</th>\n",
              "      <th>3MA</th>\n",
              "      <th>5MA</th>\n",
              "    </tr>\n",
              "  </thead>\n",
              "  <tbody>\n",
              "    <tr>\n",
              "      <th>0</th>\n",
              "      <td>2002-08-12</td>\n",
              "      <td>6380.0</td>\n",
              "      <td>6420.0</td>\n",
              "      <td>6260.0</td>\n",
              "      <td>6340.0</td>\n",
              "      <td>4797.509766</td>\n",
              "      <td>38830000</td>\n",
              "      <td>NaN</td>\n",
              "      <td>NaN</td>\n",
              "    </tr>\n",
              "    <tr>\n",
              "      <th>1</th>\n",
              "      <td>2002-08-13</td>\n",
              "      <td>6340.0</td>\n",
              "      <td>6490.0</td>\n",
              "      <td>6340.0</td>\n",
              "      <td>6490.0</td>\n",
              "      <td>4911.016113</td>\n",
              "      <td>19635000</td>\n",
              "      <td>NaN</td>\n",
              "      <td>NaN</td>\n",
              "    </tr>\n",
              "    <tr>\n",
              "      <th>2</th>\n",
              "      <td>2002-08-14</td>\n",
              "      <td>6440.0</td>\n",
              "      <td>6460.0</td>\n",
              "      <td>6360.0</td>\n",
              "      <td>6440.0</td>\n",
              "      <td>4873.179199</td>\n",
              "      <td>35980000</td>\n",
              "      <td>4860.568359</td>\n",
              "      <td>NaN</td>\n",
              "    </tr>\n",
              "    <tr>\n",
              "      <th>3</th>\n",
              "      <td>2002-08-15</td>\n",
              "      <td>6440.0</td>\n",
              "      <td>6440.0</td>\n",
              "      <td>6440.0</td>\n",
              "      <td>6440.0</td>\n",
              "      <td>4873.179199</td>\n",
              "      <td>0</td>\n",
              "      <td>4885.791504</td>\n",
              "      <td>NaN</td>\n",
              "    </tr>\n",
              "    <tr>\n",
              "      <th>4</th>\n",
              "      <td>2002-08-16</td>\n",
              "      <td>6600.0</td>\n",
              "      <td>6660.0</td>\n",
              "      <td>6500.0</td>\n",
              "      <td>6510.0</td>\n",
              "      <td>4926.148926</td>\n",
              "      <td>31750000</td>\n",
              "      <td>4890.835775</td>\n",
              "      <td>4876.206641</td>\n",
              "    </tr>\n",
              "  </tbody>\n",
              "</table>\n",
              "</div>\n",
              "      <button class=\"colab-df-convert\" onclick=\"convertToInteractive('df-74481fd0-6dc1-4b2d-ab75-35b93d58b862')\"\n",
              "              title=\"Convert this dataframe to an interactive table.\"\n",
              "              style=\"display:none;\">\n",
              "        \n",
              "  <svg xmlns=\"http://www.w3.org/2000/svg\" height=\"24px\"viewBox=\"0 0 24 24\"\n",
              "       width=\"24px\">\n",
              "    <path d=\"M0 0h24v24H0V0z\" fill=\"none\"/>\n",
              "    <path d=\"M18.56 5.44l.94 2.06.94-2.06 2.06-.94-2.06-.94-.94-2.06-.94 2.06-2.06.94zm-11 1L8.5 8.5l.94-2.06 2.06-.94-2.06-.94L8.5 2.5l-.94 2.06-2.06.94zm10 10l.94 2.06.94-2.06 2.06-.94-2.06-.94-.94-2.06-.94 2.06-2.06.94z\"/><path d=\"M17.41 7.96l-1.37-1.37c-.4-.4-.92-.59-1.43-.59-.52 0-1.04.2-1.43.59L10.3 9.45l-7.72 7.72c-.78.78-.78 2.05 0 2.83L4 21.41c.39.39.9.59 1.41.59.51 0 1.02-.2 1.41-.59l7.78-7.78 2.81-2.81c.8-.78.8-2.07 0-2.86zM5.41 20L4 18.59l7.72-7.72 1.47 1.35L5.41 20z\"/>\n",
              "  </svg>\n",
              "      </button>\n",
              "      \n",
              "  <style>\n",
              "    .colab-df-container {\n",
              "      display:flex;\n",
              "      flex-wrap:wrap;\n",
              "      gap: 12px;\n",
              "    }\n",
              "\n",
              "    .colab-df-convert {\n",
              "      background-color: #E8F0FE;\n",
              "      border: none;\n",
              "      border-radius: 50%;\n",
              "      cursor: pointer;\n",
              "      display: none;\n",
              "      fill: #1967D2;\n",
              "      height: 32px;\n",
              "      padding: 0 0 0 0;\n",
              "      width: 32px;\n",
              "    }\n",
              "\n",
              "    .colab-df-convert:hover {\n",
              "      background-color: #E2EBFA;\n",
              "      box-shadow: 0px 1px 2px rgba(60, 64, 67, 0.3), 0px 1px 3px 1px rgba(60, 64, 67, 0.15);\n",
              "      fill: #174EA6;\n",
              "    }\n",
              "\n",
              "    [theme=dark] .colab-df-convert {\n",
              "      background-color: #3B4455;\n",
              "      fill: #D2E3FC;\n",
              "    }\n",
              "\n",
              "    [theme=dark] .colab-df-convert:hover {\n",
              "      background-color: #434B5C;\n",
              "      box-shadow: 0px 1px 3px 1px rgba(0, 0, 0, 0.15);\n",
              "      filter: drop-shadow(0px 1px 2px rgba(0, 0, 0, 0.3));\n",
              "      fill: #FFFFFF;\n",
              "    }\n",
              "  </style>\n",
              "\n",
              "      <script>\n",
              "        const buttonEl =\n",
              "          document.querySelector('#df-74481fd0-6dc1-4b2d-ab75-35b93d58b862 button.colab-df-convert');\n",
              "        buttonEl.style.display =\n",
              "          google.colab.kernel.accessAllowed ? 'block' : 'none';\n",
              "\n",
              "        async function convertToInteractive(key) {\n",
              "          const element = document.querySelector('#df-74481fd0-6dc1-4b2d-ab75-35b93d58b862');\n",
              "          const dataTable =\n",
              "            await google.colab.kernel.invokeFunction('convertToInteractive',\n",
              "                                                     [key], {});\n",
              "          if (!dataTable) return;\n",
              "\n",
              "          const docLinkHtml = 'Like what you see? Visit the ' +\n",
              "            '<a target=\"_blank\" href=https://colab.research.google.com/notebooks/data_table.ipynb>data table notebook</a>'\n",
              "            + ' to learn more about interactive tables.';\n",
              "          element.innerHTML = '';\n",
              "          dataTable['output_type'] = 'display_data';\n",
              "          await google.colab.output.renderOutput(dataTable, element);\n",
              "          const docLink = document.createElement('div');\n",
              "          docLink.innerHTML = docLinkHtml;\n",
              "          element.appendChild(docLink);\n",
              "        }\n",
              "      </script>\n",
              "    </div>\n",
              "  </div>\n",
              "  "
            ]
          },
          "metadata": {},
          "execution_count": 3
        }
      ]
    },
    {
      "cell_type": "code",
      "source": [
        "plt.figure(figsize=(7,4))\n",
        "\n",
        "plt.title('SAMSUNG ELECTRONIC STOCK PRICE')\n",
        "plt.ylabel('pric(won)')\n",
        "plt.xlabel('period (day)')\n",
        "\n",
        "plt.plot(raw_df['Adj Close'],label='Adj Close',color='b')\n",
        "plt.legend(loc='best')\n",
        "plt.show()\n",
        "#LSTM 이용하여 20년간 의 주가 데이터 학습 그리고 예측"
      ],
      "metadata": {
        "colab": {
          "base_uri": "https://localhost:8080/",
          "height": 295
        },
        "id": "yWOotQM8Uvhs",
        "outputId": "0a0e9722-16f3-4ce9-f3b6-e472b78b5001"
      },
      "execution_count": 4,
      "outputs": [
        {
          "output_type": "display_data",
          "data": {
            "text/plain": [
              "<Figure size 504x288 with 1 Axes>"
            ],
            "image/png": "[encoded data removed]"
          },
          "metadata": {
            "needs_background": "light"
          }
        }
      ]
    },
    {
      "cell_type": "code",
      "source": [
        "raw_df.isnull().sum()"
      ],
      "metadata": {
        "colab": {
          "base_uri": "https://localhost:8080/"
        },
        "id": "wf-wjnHnU1KZ",
        "outputId": "f35fcb8a-188d-44ac-f7c9-d95f72c814e2"
      },
      "execution_count": 5,
      "outputs": [
        {
          "output_type": "execute_result",
          "data": {
            "text/plain": [
              "Date         0\n",
              "Open         0\n",
              "High         0\n",
              "Low          0\n",
              "Close        0\n",
              "Adj Close    0\n",
              "Volume       0\n",
              "3MA          2\n",
              "5MA          4\n",
              "dtype: int64"
            ]
          },
          "metadata": {},
          "execution_count": 5
        }
      ]
    },
    {
      "cell_type": "code",
      "source": [
        "raw_df['Volume']=raw_df['Volume'].replace(0,np.nan)\n",
        "\n",
        "raw_df=raw_df.dropna()\n",
        "raw_df.isnull().sum()"
      ],
      "metadata": {
        "colab": {
          "base_uri": "https://localhost:8080/"
        },
        "id": "0TxEdetQU4D6",
        "outputId": "6b75b780-0e6a-43e2-e052-36982c42f287"
      },
      "execution_count": 6,
      "outputs": [
        {
          "output_type": "execute_result",
          "data": {
            "text/plain": [
              "Date         0\n",
              "Open         0\n",
              "High         0\n",
              "Low          0\n",
              "Close        0\n",
              "Adj Close    0\n",
              "Volume       0\n",
              "3MA          0\n",
              "5MA          0\n",
              "dtype: int64"
            ]
          },
          "metadata": {},
          "execution_count": 6
        }
      ]
    },
    {
      "cell_type": "code",
      "source": [
        "#정규화\n",
        "from sklearn.preprocessing import MinMaxScaler\n",
        "\n",
        "scaler=MinMaxScaler()\n",
        "\n",
        "scale_cols=['Open','High','Low','Close','Adj Close',\n",
        "            '3MA','5MA','Volume']\n",
        "\n",
        "scaled_df=scaler.fit_transform(raw_df[scale_cols])\n",
        "\n",
        "print(type(scaled_df),'\\n')\n",
        "\n",
        "scaled_df= pd.DataFrame(scaled_df,columns=scale_cols)\n",
        "\n",
        "print(scaled_df)"
      ],
      "metadata": {
        "colab": {
          "base_uri": "https://localhost:8080/"
        },
        "id": "lov2kqn1U9jA",
        "outputId": "fef5d8dd-bfae-4eae-ccec-d7456750b754"
      },
      "execution_count": 7,
      "outputs": [
        {
          "output_type": "stream",
          "name": "stdout",
          "text": [
            "<class 'numpy.ndarray'> \n",
            "\n",
            "          Open      High       Low     Close  Adj Close       3MA       5MA  \\\n",
            "0     0.015062  0.013138  0.015538  0.013083   0.010055  0.009311  0.008929   \n",
            "1     0.015533  0.013576  0.016368  0.014835   0.011401  0.009974  0.009511   \n",
            "2     0.017416  0.016203  0.018740  0.017872   0.013736  0.011421  0.010292   \n",
            "3     0.018828  0.016860  0.019689  0.018806   0.014454  0.012897  0.011311   \n",
            "4     0.020240  0.017517  0.020638  0.018222   0.014005  0.013771  0.012238   \n",
            "...        ...       ...       ...       ...        ...       ...       ...   \n",
            "4918  0.659920  0.612437  0.657217  0.647237   0.672937  0.682808  0.687618   \n",
            "4919  0.650506  0.604773  0.645356  0.637893   0.663446  0.676835  0.683533   \n",
            "4920  0.630501  0.588351  0.633495  0.627380   0.652769  0.667278  0.678246   \n",
            "4921  0.638739  0.597110  0.641798  0.636725   0.662260  0.663694  0.674401   \n",
            "4922  0.637562  0.604773  0.642984  0.640229   0.665819  0.664490  0.671277   \n",
            "\n",
            "        Volume  \n",
            "0     0.349780  \n",
            "1     0.255229  \n",
            "2     0.468147  \n",
            "3     0.441243  \n",
            "4     0.436446  \n",
            "...        ...  \n",
            "4918  0.124437  \n",
            "4919  0.200938  \n",
            "4920  0.199098  \n",
            "4921  0.166655  \n",
            "4922  0.118020  \n",
            "\n",
            "[4923 rows x 8 columns]\n"
          ]
        }
      ]
    },
    {
      "cell_type": "code",
      "source": [
        "#입력 데이터와 정답 데이터 정의 후 numpyfh 변환하여 데이터 전처리 과정을 완료함\n",
        "\n",
        "feature_cols=['3MA','5MA','Adj Close']# 입력 데이터\n",
        "label_cols=['Adj Close'] #정답 데이터\n",
        "\n",
        "label_df=pd.DataFrame(scaled_df,columns=label_cols)\n",
        "feature_df=pd.DataFrame(scaled_df,columns=feature_cols)\n",
        "\n",
        "print(feature_df)\n",
        "print(label_df)\n",
        "\n",
        "label_np=label_df.to_numpy()\n",
        "feature_np=feature_df.to_numpy()"
      ],
      "metadata": {
        "colab": {
          "base_uri": "https://localhost:8080/"
        },
        "id": "tI-IsoArVCb1",
        "outputId": "35fa6ce1-e036-4cc1-9e43-45bcba42589e"
      },
      "execution_count": 8,
      "outputs": [
        {
          "output_type": "stream",
          "name": "stdout",
          "text": [
            "           3MA       5MA  Adj Close\n",
            "0     0.009311  0.008929   0.010055\n",
            "1     0.009974  0.009511   0.011401\n",
            "2     0.011421  0.010292   0.013736\n",
            "3     0.012897  0.011311   0.014454\n",
            "4     0.013771  0.012238   0.014005\n",
            "...        ...       ...        ...\n",
            "4918  0.682808  0.687618   0.672937\n",
            "4919  0.676835  0.683533   0.663446\n",
            "4920  0.667278  0.678246   0.652769\n",
            "4921  0.663694  0.674401   0.662260\n",
            "4922  0.664490  0.671277   0.665819\n",
            "\n",
            "[4923 rows x 3 columns]\n",
            "      Adj Close\n",
            "0      0.010055\n",
            "1      0.011401\n",
            "2      0.013736\n",
            "3      0.014454\n",
            "4      0.014005\n",
            "...         ...\n",
            "4918   0.672937\n",
            "4919   0.663446\n",
            "4920   0.652769\n",
            "4921   0.662260\n",
            "4922   0.665819\n",
            "\n",
            "[4923 rows x 1 columns]\n"
          ]
        }
      ]
    },
    {
      "cell_type": "code",
      "source": [
        "#딥러닝 과정\n",
        "def make_sequene_dataset(feature,label,window_size): #입력 파라미터\n",
        "\n",
        "  feature_list=[]\n",
        "  label_list=[]\n",
        "\n",
        "  for i in range(len(feature)-window_size):\n",
        "\n",
        "    feature_list.append(feature[i:i+window_size])\n",
        "    label_list.append(label[i+window_size])\n",
        "\n",
        "  return np.array(feature_list),np.array(label_list)\n",
        "\n",
        "window_size=40\n",
        "\n",
        "X,Y=make_sequene_dataset(feature_np,label_np,window_size)\n",
        "\n",
        "print(X.shape,Y.shape)"
      ],
      "metadata": {
        "colab": {
          "base_uri": "https://localhost:8080/"
        },
        "id": "SU38d06tVDds",
        "outputId": "3c1d2730-a94d-423b-d86c-6673830ec410"
      },
      "execution_count": 9,
      "outputs": [
        {
          "output_type": "stream",
          "name": "stdout",
          "text": [
            "(4883, 40, 3) (4883, 1)\n"
          ]
        }
      ]
    },
    {
      "cell_type": "code",
      "source": [
        "split=-200\n",
        "\n",
        "x_train=X[0:split]\n",
        "y_train=Y[0:split]\n",
        "\n",
        "x_test=X[split:]\n",
        "y_test=Y[split:]\n",
        "\n",
        "model=Sequential()\n",
        "\n",
        "model.add(GRU(256,\n",
        "               activation='tanh',\n",
        "               input_shape=x_train[0].shape))\n",
        "\n",
        "model.add(Dense(1,activation='linear'))\n",
        "\n",
        "model.summary()"
      ],
      "metadata": {
        "colab": {
          "base_uri": "https://localhost:8080/"
        },
        "id": "KbKzoqT7VF8H",
        "outputId": "1fffe29f-c2fa-4309-9616-48b96f67b74f"
      },
      "execution_count": 10,
      "outputs": [
        {
          "output_type": "stream",
          "name": "stdout",
          "text": [
            "Model: \"sequential\"\n",
            "_________________________________________________________________\n",
            " Layer (type)                Output Shape              Param #   \n",
            "=================================================================\n",
            " gru (GRU)                   (None, 256)               200448    \n",
            "                                                                 \n",
            " dense (Dense)               (None, 1)                 257       \n",
            "                                                                 \n",
            "=================================================================\n",
            "Total params: 200,705\n",
            "Trainable params: 200,705\n",
            "Non-trainable params: 0\n",
            "_________________________________________________________________\n"
          ]
        }
      ]
    },
    {
      "cell_type": "code",
      "source": [
        "from tensorflow.keras.callbacks import EarlyStopping\n",
        "\n",
        "model.compile(loss='mse',optimizer='adam',metrics=['mae'])\n",
        "\n",
        "early_stop=EarlyStopping(monitor='val_loss',patience=5)\n",
        "\n",
        "model.fit(x_train,y_train,validation_data=(x_test,y_test),epochs=100,batch_size=16,callbacks=[early_stop])"
      ],
      "metadata": {
        "colab": {
          "base_uri": "https://localhost:8080/"
        },
        "id": "vPHmugmBVkt7",
        "outputId": "2ec451fb-3c0d-47dc-c6a1-2545bcb179bf"
      },
      "execution_count": 11,
      "outputs": [
        {
          "output_type": "stream",
          "name": "stdout",
          "text": [
            "Epoch 1/100\n",
            "293/293 [==============================] - 13s 13ms/step - loss: 0.0011 - mae: 0.0124 - val_loss: 2.9813e-04 - val_mae: 0.0136\n",
            "Epoch 2/100\n",
            "293/293 [==============================] - 3s 9ms/step - loss: 8.2223e-05 - mae: 0.0059 - val_loss: 2.1937e-04 - val_mae: 0.0114\n",
            "Epoch 3/100\n",
            "293/293 [==============================] - 2s 8ms/step - loss: 8.0947e-05 - mae: 0.0058 - val_loss: 2.5130e-04 - val_mae: 0.0124\n",
            "Epoch 4/100\n",
            "293/293 [==============================] - 2s 6ms/step - loss: 7.6319e-05 - mae: 0.0057 - val_loss: 1.7757e-04 - val_mae: 0.0102\n",
            "Epoch 5/100\n",
            "293/293 [==============================] - 2s 5ms/step - loss: 8.0501e-05 - mae: 0.0060 - val_loss: 3.8327e-04 - val_mae: 0.0166\n",
            "Epoch 6/100\n",
            "293/293 [==============================] - 2s 6ms/step - loss: 7.0524e-05 - mae: 0.0055 - val_loss: 1.5357e-04 - val_mae: 0.0095\n",
            "Epoch 7/100\n",
            "293/293 [==============================] - 2s 5ms/step - loss: 5.7337e-05 - mae: 0.0050 - val_loss: 1.5548e-04 - val_mae: 0.0096\n",
            "Epoch 8/100\n",
            "293/293 [==============================] - 2s 5ms/step - loss: 5.8500e-05 - mae: 0.0051 - val_loss: 1.3875e-04 - val_mae: 0.0090\n",
            "Epoch 9/100\n",
            "293/293 [==============================] - 2s 5ms/step - loss: 5.6636e-05 - mae: 0.0050 - val_loss: 1.4574e-04 - val_mae: 0.0091\n",
            "Epoch 10/100\n",
            "293/293 [==============================] - 2s 6ms/step - loss: 5.5577e-05 - mae: 0.0050 - val_loss: 1.3129e-04 - val_mae: 0.0087\n",
            "Epoch 11/100\n",
            "293/293 [==============================] - 2s 8ms/step - loss: 5.3782e-05 - mae: 0.0050 - val_loss: 1.7898e-04 - val_mae: 0.0107\n",
            "Epoch 12/100\n",
            "293/293 [==============================] - 2s 6ms/step - loss: 5.5436e-05 - mae: 0.0050 - val_loss: 3.0952e-04 - val_mae: 0.0152\n",
            "Epoch 13/100\n",
            "293/293 [==============================] - 2s 6ms/step - loss: 5.9702e-05 - mae: 0.0052 - val_loss: 4.7566e-04 - val_mae: 0.0197\n",
            "Epoch 14/100\n",
            "293/293 [==============================] - 2s 6ms/step - loss: 4.9580e-05 - mae: 0.0047 - val_loss: 1.4053e-04 - val_mae: 0.0088\n",
            "Epoch 15/100\n",
            "293/293 [==============================] - 2s 5ms/step - loss: 4.6316e-05 - mae: 0.0046 - val_loss: 1.3040e-04 - val_mae: 0.0084\n",
            "Epoch 16/100\n",
            "293/293 [==============================] - 2s 5ms/step - loss: 4.7265e-05 - mae: 0.0046 - val_loss: 2.0400e-04 - val_mae: 0.0118\n",
            "Epoch 17/100\n",
            "293/293 [==============================] - 2s 5ms/step - loss: 5.5779e-05 - mae: 0.0051 - val_loss: 1.5150e-04 - val_mae: 0.0096\n",
            "Epoch 18/100\n",
            "293/293 [==============================] - 2s 5ms/step - loss: 4.6818e-05 - mae: 0.0046 - val_loss: 1.7831e-04 - val_mae: 0.0102\n",
            "Epoch 19/100\n",
            "293/293 [==============================] - 2s 5ms/step - loss: 4.9578e-05 - mae: 0.0048 - val_loss: 2.2405e-04 - val_mae: 0.0125\n",
            "Epoch 20/100\n",
            "293/293 [==============================] - 2s 6ms/step - loss: 5.1858e-05 - mae: 0.0048 - val_loss: 1.2809e-04 - val_mae: 0.0084\n",
            "Epoch 21/100\n",
            "293/293 [==============================] - 2s 5ms/step - loss: 5.8636e-05 - mae: 0.0052 - val_loss: 1.2589e-04 - val_mae: 0.0082\n",
            "Epoch 22/100\n",
            "293/293 [==============================] - 2s 5ms/step - loss: 5.3530e-05 - mae: 0.0049 - val_loss: 1.9060e-04 - val_mae: 0.0113\n",
            "Epoch 23/100\n",
            "293/293 [==============================] - 2s 6ms/step - loss: 5.3413e-05 - mae: 0.0049 - val_loss: 2.1883e-04 - val_mae: 0.0116\n",
            "Epoch 24/100\n",
            "293/293 [==============================] - 2s 5ms/step - loss: 5.7486e-05 - mae: 0.0051 - val_loss: 2.1521e-04 - val_mae: 0.0121\n",
            "Epoch 25/100\n",
            "293/293 [==============================] - 2s 5ms/step - loss: 5.1717e-05 - mae: 0.0048 - val_loss: 1.5849e-04 - val_mae: 0.0094\n",
            "Epoch 26/100\n",
            "293/293 [==============================] - 2s 5ms/step - loss: 4.8971e-05 - mae: 0.0048 - val_loss: 2.5127e-04 - val_mae: 0.0134\n"
          ]
        },
        {
          "output_type": "execute_result",
          "data": {
            "text/plain": [
              "<keras.callbacks.History at 0x7fac4049e290>"
            ]
          },
          "metadata": {},
          "execution_count": 11
        }
      ]
    },
    {
      "cell_type": "code",
      "source": [
        "pred= model.predict(x_test)\n",
        "\n",
        "plt.figure(figsize=(12,6))\n",
        "plt.title('3MA+5MA+Adj Close,window_size=40')\n",
        "plt.ylabel('adj close')\n",
        "plt.xlabel('period')\n",
        "plt.plot(y_test, label='actual')\n",
        "plt.plot(pred, label='prediction')\n",
        "plt.grid()\n",
        "plt.legend(loc='best')\n",
        "\n",
        "plt.show()"
      ],
      "metadata": {
        "colab": {
          "base_uri": "https://localhost:8080/",
          "height": 404
        },
        "id": "nUkfRrrpVneq",
        "outputId": "362b237d-c217-4ab9-92b6-b2f3394f1895"
      },
      "execution_count": 12,
      "outputs": [
        {
          "output_type": "display_data",
          "data": {
            "text/plain": [
              "<Figure size 864x432 with 1 Axes>"
            ],
            "image/png": "[encoded data removed]"
          },
          "metadata": {
            "needs_background": "light"
          }
        }
      ]
    }
  ]
}