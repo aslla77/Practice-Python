{
  "nbformat": 4,
  "nbformat_minor": 0,
  "metadata": {
    "colab": {
      "name": "25_GTSRB_Project.ipynb",
      "provenance": [],
      "mount_file_id": "1QGTWDC_2MJTCDNqKfnYLOFks4P2o9gJi",
      "authorship_tag": "ABX9TyPmMJFZTezl4lHffmZ02cdB",
      "include_colab_link": true
    },
    "kernelspec": {
      "name": "python3",
      "display_name": "Python 3"
    },
    "language_info": {
      "name": "python"
    }
  },
  "cells": [
    {
      "cell_type": "markdown",
      "metadata": {
        "id": "view-in-github",
        "colab_type": "text"
      },
      "source": [
        "<a href=\"https://colab.research.google.com/github/aslla77/practice-Python/blob/main/2nd/25_GTSRB_Project.ipynb\" target=\"_parent\"><img src=\"https://colab.research.google.com/assets/colab-badge.svg\" alt=\"Open In Colab\"/></a>"
      ]
    },
    {
      "cell_type": "markdown",
      "source": [
        "#GTSRB Project\n",
        "\n",
        "- GTSRB 란?\n",
        "  - 교통표지판 데이터로 독일 신경 정보학 연구원이 모은 데이터"
      ],
      "metadata": {
        "id": "EQBREFCTDwd5"
      }
    },
    {
      "cell_type": "code",
      "source": [
        "import tensorflow as tf\n",
        "from tensorflow.keras.models import Model\n",
        "from tensorflow.keras.layers import Dense, Dropout\n",
        "from tensorflow.keras.layers import Flatten, Conv2D, MaxPooling2D"
      ],
      "metadata": {
        "id": "npJn4-vEHXGr"
      },
      "execution_count": 11,
      "outputs": []
    },
    {
      "cell_type": "code",
      "execution_count": 12,
      "metadata": {
        "colab": {
          "base_uri": "https://localhost:8080/"
        },
        "id": "LzaYzouXDeoS",
        "outputId": "55f9f003-0b4b-4a74-9ed0-0f10766af04f"
      },
      "outputs": [
        {
          "output_type": "stream",
          "name": "stdout",
          "text": [
            "--2022-08-21 11:25:17--  https://sid.erda.dk/public/archives/daaeac0d7ce1152aea9b61d9f1e19370/GTSRB_Final_Training_Images.zip\n",
            "Resolving sid.erda.dk (sid.erda.dk)... 130.225.104.13\n",
            "Connecting to sid.erda.dk (sid.erda.dk)|130.225.104.13|:443... connected.\n",
            "HTTP request sent, awaiting response... 200 OK\n",
            "Length: 276294756 (263M) [application/zip]\n",
            "Saving to: ‘GTSRB_Final_Training_Images.zip.1’\n",
            "\n",
            "GTSRB_Final_Trainin 100%[===================>] 263.50M  26.1MB/s    in 11s     \n",
            "\n",
            "2022-08-21 11:25:29 (23.9 MB/s) - ‘GTSRB_Final_Training_Images.zip.1’ saved [276294756/276294756]\n",
            "\n"
          ]
        }
      ],
      "source": [
        "!wget https://sid.erda.dk/public/archives/daaeac0d7ce1152aea9b61d9f1e19370/GTSRB_Final_Training_Images.zip"
      ]
    },
    {
      "cell_type": "code",
      "source": [
        "import zipfile\n",
        "\n",
        "with zipfile.ZipFile('/content/GTSRB_Final_Training_Images.zip','r') as target_file:\n",
        "  target_file.extractall()"
      ],
      "metadata": {
        "id": "4BgbOWb1J4C9"
      },
      "execution_count": 16,
      "outputs": []
    },
    {
      "cell_type": "code",
      "source": [
        "import os\n",
        "ROOT_DIR='/content'\n",
        "\n",
        "DATA_ROOT_DIR=os.path.join(ROOT_DIR,'GTSRB/Final_Training/Images/')"
      ],
      "metadata": {
        "id": "wOLRg1x_KK4l"
      },
      "execution_count": 17,
      "outputs": []
    },
    {
      "cell_type": "code",
      "source": [
        "import cv2\n",
        "import glob\n",
        "import numpy as np\n",
        "\n",
        "image_list = []\n",
        "label_list = []\n",
        "\n",
        "image_label_list = os.listdir(DATA_ROOT_DIR)    # 정답이름\n",
        "\n",
        "for label_name in image_label_list:\n",
        "\n",
        "    # 이미지 파일 읽어오기\n",
        "\n",
        "    file_path = os.path.join(DATA_ROOT_DIR, label_name)\n",
        "    img_file_list = glob.glob(file_path+'/*.ppm')\n",
        "\n",
        "    # 각각의 정답 디렉토리에 있는 이미지 파일, 즉 .ppm 파일 읽어서 리스트에 저장\n",
        "    \n",
        "    for img_file in img_file_list:\n",
        "\n",
        "        try:\n",
        "            src_img = cv2.imread(img_file, cv2.IMREAD_COLOR) \n",
        "            src_img = cv2.resize(src_img, dsize=(32,32))\n",
        "            src_img = cv2.cvtColor(src_img, cv2.COLOR_BGR2RGB)\n",
        "\n",
        "            image_list.append(src_img)\n",
        "            label_list.append(float(label_name))  # 정답은 문자열을 실수로 변환\n",
        "\n",
        "        except Exception as err:\n",
        "            print(str(err), img_file)\n",
        "            continue"
      ],
      "metadata": {
        "id": "F93hXuwoKg9K"
      },
      "execution_count": 18,
      "outputs": []
    },
    {
      "cell_type": "code",
      "source": [
        "x_train = np.array(image_list).astype('float32')\n",
        "y_train = np.array(label_list).astype('float32')\n",
        "\n",
        "print('x_train.shape = ', x_train.shape, ', y_train.shape = ', y_train.shape)"
      ],
      "metadata": {
        "colab": {
          "base_uri": "https://localhost:8080/"
        },
        "id": "n5yn840BKw2A",
        "outputId": "e2a97546-7e31-44c4-e86d-4114923d866d"
      },
      "execution_count": 19,
      "outputs": [
        {
          "output_type": "stream",
          "name": "stdout",
          "text": [
            "x_train.shape =  (39209, 32, 32, 3) , y_train.shape =  (39209,)\n"
          ]
        }
      ]
    },
    {
      "cell_type": "code",
      "source": [
        "s = np.arange(len(x_train))  # [ 0 1 2...39206 39207 39208]\n",
        "\n",
        "np.random.shuffle(s)         # index random shuffle\n",
        "\n",
        "x_train = x_train[s]\n",
        "y_train = y_train[s]\n",
        "\n",
        "SPLIT_RATIO = 0.2    # 20%\n",
        "\n",
        "SPLIT_NUMS = int(SPLIT_RATIO*len(x_train))\n",
        "\n",
        "x_test = x_train[0:SPLIT_NUMS]\n",
        "y_test = y_train[0:SPLIT_NUMS]\n",
        "\n",
        "x_train = x_train[SPLIT_NUMS:]\n",
        "y_train = y_train[SPLIT_NUMS:]"
      ],
      "metadata": {
        "id": "d3qz8GbmK3hp"
      },
      "execution_count": 21,
      "outputs": []
    },
    {
      "cell_type": "code",
      "source": [
        "print('x_train.shape = ', x_train.shape, ', y_train.shape = ', y_train.shape)\n",
        "print('x_test.shape = ', x_test.shape, ', y_test.shape = ', y_test.shape)"
      ],
      "metadata": {
        "colab": {
          "base_uri": "https://localhost:8080/"
        },
        "id": "FQojKL9YK7pr",
        "outputId": "684eb758-f8bf-4596-85ae-3f9805872c74"
      },
      "execution_count": 22,
      "outputs": [
        {
          "output_type": "stream",
          "name": "stdout",
          "text": [
            "x_train.shape =  (31368, 32, 32, 3) , y_train.shape =  (31368,)\n",
            "x_test.shape =  (7841, 32, 32, 3) , y_test.shape =  (7841,)\n"
          ]
        }
      ]
    },
    {
      "cell_type": "code",
      "source": [
        "# 정규화 \n",
        "\n",
        "x_train = x_train.astype(np.float32) / 255.0\n",
        "x_test = x_test.astype(np.float32) / 255.0"
      ],
      "metadata": {
        "id": "MIDCtBYpLALQ"
      },
      "execution_count": 23,
      "outputs": []
    },
    {
      "cell_type": "code",
      "source": [
        "n_classes = len(os.listdir(DATA_ROOT_DIR))  # 정답 개수\n",
        "input_=tf.keras.layers.Input(shape=(32,32,3))\n",
        "\n",
        "x=Conv2D(32,(3,3),activation='relu')(input_)\n",
        "x=Conv2D(64,(3,3),activation='relu')(x)\n",
        "x=MaxPooling2D(pool_size=(2,2))(x)\n",
        "x=Dropout(0.25)(x)\n",
        "\n",
        "x=Flatten()(x)\n",
        "x=Dense(256,activation='relu')(x)\n",
        "x=Dropout(0.5)(x)\n",
        "output_=Dense(n_classes,activation='softmax')(x)\n",
        "\n",
        "model=Model(inputs=input_,outputs=output_)\n",
        "\n",
        "model.summary()"
      ],
      "metadata": {
        "colab": {
          "base_uri": "https://localhost:8080/"
        },
        "id": "cigH73FbHeGF",
        "outputId": "a708913e-7535-4de4-ca9d-ba6f95b8365d"
      },
      "execution_count": 24,
      "outputs": [
        {
          "output_type": "stream",
          "name": "stdout",
          "text": [
            "Model: \"model_4\"\n",
            "_________________________________________________________________\n",
            " Layer (type)                Output Shape              Param #   \n",
            "=================================================================\n",
            " input_8 (InputLayer)        [(None, 32, 32, 3)]       0         \n",
            "                                                                 \n",
            " conv2d_11 (Conv2D)          (None, 30, 30, 32)        896       \n",
            "                                                                 \n",
            " conv2d_12 (Conv2D)          (None, 28, 28, 64)        18496     \n",
            "                                                                 \n",
            " max_pooling2d_5 (MaxPooling  (None, 14, 14, 64)       0         \n",
            " 2D)                                                             \n",
            "                                                                 \n",
            " dropout_10 (Dropout)        (None, 14, 14, 64)        0         \n",
            "                                                                 \n",
            " flatten_5 (Flatten)         (None, 12544)             0         \n",
            "                                                                 \n",
            " dense_10 (Dense)            (None, 256)               3211520   \n",
            "                                                                 \n",
            " dropout_11 (Dropout)        (None, 256)               0         \n",
            "                                                                 \n",
            " dense_11 (Dense)            (None, 43)                11051     \n",
            "                                                                 \n",
            "=================================================================\n",
            "Total params: 3,241,963\n",
            "Trainable params: 3,241,963\n",
            "Non-trainable params: 0\n",
            "_________________________________________________________________\n"
          ]
        }
      ]
    },
    {
      "cell_type": "code",
      "source": [
        "model.compile(loss='sparse_categorical_crossentropy',\n",
        "              optimizer=tf.keras.optimizers.Adam(), metrics=['accuracy'])"
      ],
      "metadata": {
        "id": "bIrAB5MzLK6A"
      },
      "execution_count": 25,
      "outputs": []
    },
    {
      "cell_type": "code",
      "source": [
        "from tensorflow.keras.callbacks import EarlyStopping\n",
        "from datetime import datetime\n",
        "\n",
        "earlystopping = EarlyStopping(monitor='val_loss', patience=5, verbose=1)   \n",
        "\n",
        "start_time = datetime.now()\n",
        "\n",
        "hist = model.fit(x_train, y_train, batch_size=32, epochs=30, \n",
        "                 validation_data=(x_test, y_test), callbacks=[earlystopping])\n",
        "\n",
        "end_time = datetime.now()\n",
        "\n",
        "print('elapsed time => ', end_time-start_time)"
      ],
      "metadata": {
        "colab": {
          "base_uri": "https://localhost:8080/"
        },
        "id": "GHf1ZtkLLPEJ",
        "outputId": "612987a6-9065-45e6-cfe1-70ac505b6803"
      },
      "execution_count": 26,
      "outputs": [
        {
          "output_type": "stream",
          "name": "stdout",
          "text": [
            "Epoch 1/30\n",
            "981/981 [==============================] - 158s 160ms/step - loss: 0.9938 - accuracy: 0.7255 - val_loss: 0.1573 - val_accuracy: 0.9657\n",
            "Epoch 2/30\n",
            "981/981 [==============================] - 149s 151ms/step - loss: 0.2407 - accuracy: 0.9282 - val_loss: 0.0763 - val_accuracy: 0.9838\n",
            "Epoch 3/30\n",
            "981/981 [==============================] - 151s 154ms/step - loss: 0.1413 - accuracy: 0.9572 - val_loss: 0.0486 - val_accuracy: 0.9892\n",
            "Epoch 4/30\n",
            "981/981 [==============================] - 151s 154ms/step - loss: 0.1045 - accuracy: 0.9690 - val_loss: 0.0355 - val_accuracy: 0.9909\n",
            "Epoch 5/30\n",
            "981/981 [==============================] - 149s 151ms/step - loss: 0.0789 - accuracy: 0.9764 - val_loss: 0.0315 - val_accuracy: 0.9925\n",
            "Epoch 6/30\n",
            "981/981 [==============================] - 149s 152ms/step - loss: 0.0647 - accuracy: 0.9796 - val_loss: 0.0270 - val_accuracy: 0.9934\n",
            "Epoch 7/30\n",
            "981/981 [==============================] - 150s 153ms/step - loss: 0.0566 - accuracy: 0.9822 - val_loss: 0.0281 - val_accuracy: 0.9941\n",
            "Epoch 8/30\n",
            "981/981 [==============================] - 151s 154ms/step - loss: 0.0503 - accuracy: 0.9843 - val_loss: 0.0261 - val_accuracy: 0.9930\n",
            "Epoch 9/30\n",
            "981/981 [==============================] - 148s 151ms/step - loss: 0.0431 - accuracy: 0.9860 - val_loss: 0.0249 - val_accuracy: 0.9934\n",
            "Epoch 10/30\n",
            "981/981 [==============================] - 151s 154ms/step - loss: 0.0350 - accuracy: 0.9890 - val_loss: 0.0323 - val_accuracy: 0.9935\n",
            "Epoch 11/30\n",
            "981/981 [==============================] - 150s 153ms/step - loss: 0.0330 - accuracy: 0.9895 - val_loss: 0.0220 - val_accuracy: 0.9949\n",
            "Epoch 12/30\n",
            "981/981 [==============================] - 150s 153ms/step - loss: 0.0343 - accuracy: 0.9888 - val_loss: 0.0257 - val_accuracy: 0.9939\n",
            "Epoch 13/30\n",
            "981/981 [==============================] - 150s 153ms/step - loss: 0.0307 - accuracy: 0.9900 - val_loss: 0.0217 - val_accuracy: 0.9955\n",
            "Epoch 14/30\n",
            "981/981 [==============================] - 149s 152ms/step - loss: 0.0272 - accuracy: 0.9916 - val_loss: 0.0203 - val_accuracy: 0.9948\n",
            "Epoch 15/30\n",
            "981/981 [==============================] - 149s 152ms/step - loss: 0.0274 - accuracy: 0.9913 - val_loss: 0.0233 - val_accuracy: 0.9953\n",
            "Epoch 16/30\n",
            "981/981 [==============================] - 149s 152ms/step - loss: 0.0200 - accuracy: 0.9935 - val_loss: 0.0243 - val_accuracy: 0.9954\n",
            "Epoch 17/30\n",
            "981/981 [==============================] - 150s 153ms/step - loss: 0.0232 - accuracy: 0.9929 - val_loss: 0.0212 - val_accuracy: 0.9952\n",
            "Epoch 18/30\n",
            "981/981 [==============================] - 147s 150ms/step - loss: 0.0240 - accuracy: 0.9930 - val_loss: 0.0240 - val_accuracy: 0.9959\n",
            "Epoch 19/30\n",
            "981/981 [==============================] - 147s 150ms/step - loss: 0.0233 - accuracy: 0.9934 - val_loss: 0.0243 - val_accuracy: 0.9953\n",
            "Epoch 19: early stopping\n",
            "elapsed time =>  0:47:29.235793\n"
          ]
        }
      ]
    },
    {
      "cell_type": "code",
      "source": [
        "model.evaluate(x_test, y_test)"
      ],
      "metadata": {
        "colab": {
          "base_uri": "https://localhost:8080/"
        },
        "id": "FQkDzAOELRq_",
        "outputId": "7380eb20-30de-48d5-cd6f-ce9296ff85fc"
      },
      "execution_count": 27,
      "outputs": [
        {
          "output_type": "stream",
          "name": "stdout",
          "text": [
            "246/246 [==============================] - 9s 36ms/step - loss: 0.0243 - accuracy: 0.9953\n"
          ]
        },
        {
          "output_type": "execute_result",
          "data": {
            "text/plain": [
              "[0.024311568588018417, 0.9952812194824219]"
            ]
          },
          "metadata": {},
          "execution_count": 27
        }
      ]
    },
    {
      "cell_type": "code",
      "source": [
        "import matplotlib.pyplot as plt\n",
        "\n",
        "plt.plot(hist.history['accuracy'], label='train')\n",
        "plt.plot(hist.history['val_accuracy'], label='validation')\n",
        "plt.title('Accuracy Trend')\n",
        "plt.ylabel('accuracy')\n",
        "plt.xlabel('epoch')\n",
        "plt.legend(loc='best')\n",
        "plt.grid()\n",
        "plt.show()"
      ],
      "metadata": {
        "colab": {
          "base_uri": "https://localhost:8080/",
          "height": 295
        },
        "id": "qzxxlkX_LUCG",
        "outputId": "507f191b-012e-4322-b2dd-d7c554a687d8"
      },
      "execution_count": 28,
      "outputs": [
        {
          "output_type": "display_data",
          "data": {
            "text/plain": [
              "<Figure size 432x288 with 1 Axes>"
            ],
            "image/png": "[encoded data removed]"
          },
          "metadata": {
            "needs_background": "light"
          }
        }
      ]
    },
    {
      "cell_type": "code",
      "source": [
        "plt.plot(hist.history['loss'], label='train')\n",
        "plt.plot(hist.history['val_loss'], label='validation')\n",
        "plt.title('Loss Trend')\n",
        "plt.ylabel('loss')\n",
        "plt.xlabel('epoch')\n",
        "plt.legend(loc='best')\n",
        "plt.grid()\n",
        "plt.show()"
      ],
      "metadata": {
        "colab": {
          "base_uri": "https://localhost:8080/",
          "height": 295
        },
        "id": "-BgN7WeuLYZL",
        "outputId": "e92663a5-6257-48c6-e945-451bf5c1a4e6"
      },
      "execution_count": 29,
      "outputs": [
        {
          "output_type": "display_data",
          "data": {
            "text/plain": [
              "<Figure size 432x288 with 1 Axes>"
            ],
            "image/png": "[encoded data removed]"
          },
          "metadata": {
            "needs_background": "light"
          }
        }
      ]
    }
  ]
}