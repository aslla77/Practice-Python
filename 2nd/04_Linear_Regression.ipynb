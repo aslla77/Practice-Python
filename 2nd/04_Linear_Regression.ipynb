{
  "nbformat": 4,
  "nbformat_minor": 0,
  "metadata": {
    "colab": {
      "name": "04_Linear_Regression.ipynb",
      "provenance": [],
      "collapsed_sections": [],
      "authorship_tag": "ABX9TyPa0xyfV0gcQ/d0JokP9ajB",
      "include_colab_link": true
    },
    "kernelspec": {
      "name": "python3",
      "display_name": "Python 3"
    },
    "language_info": {
      "name": "python"
    }
  },
  "cells": [
    {
      "cell_type": "markdown",
      "metadata": {
        "id": "view-in-github",
        "colab_type": "text"
      },
      "source": [
        "<a href=\"https://colab.research.google.com/github/aslla77/practice-Python/blob/main/2nd/04_Linear_Regression.ipynb\" target=\"_parent\"><img src=\"https://colab.research.google.com/assets/colab-badge.svg\" alt=\"Open In Colab\"/></a>"
      ]
    },
    {
      "cell_type": "markdown",
      "source": [
        "#About Machine Learning\n",
        "##지도 학습\n",
        "###-회귀 (Regression)\n",
        "훈련된 데이터로 연속적인 숫자값을 예측한다\n",
        "\n",
        "ex) \n",
        "\n",
        "    시험 공부 시간이 43 시간일떄 몇점인가?\n",
        "    50평일때 잡값이 얼마인가\n",
        "\n",
        "\n",
        "###-분류 (classification)\n",
        "훈련된 데이터로 무엇인지 종류값을 예측한다\n",
        "\n",
        "ex)\n",
        "\n",
        "    시험 공부 시간이 43 시간일떄 pass?\n",
        "    50평일때 집값이 비싼가?\n",
        "\n",
        "\n",
        "##비지도 학습\n",
        "트레이닝 데이터의 정답은 없고 입력값만 있기에 정답이 아니라\n",
        "입력값의 패턴이나 특성을 등을 학습을 통해 발견하는 방법\n"
      ],
      "metadata": {
        "id": "v9irzBOIHAp1"
      }
    },
    {
      "cell_type": "code",
      "execution_count": 3,
      "metadata": {
        "id": "Tr1co7hBGwU0"
      },
      "outputs": [],
      "source": [
        "import numpy as np\n",
        "import matplotlib.pyplot as plt\n"
      ]
    },
    {
      "cell_type": "code",
      "source": [
        "x_train=np.array([9.,14.,21.,27.,32.,37.]).reshape(6,1)\n",
        "y_train=np.array([74.,81.,86.,90.,88.,92.]).reshape(6,1)\n",
        "print(x_train.shape,y_train.shape)\n",
        "plt.plot(x_train,y_train,'o')\n",
        "plt.grid()\n",
        "plt.show()"
      ],
      "metadata": {
        "colab": {
          "base_uri": "https://localhost:8080/",
          "height": 283
        },
        "id": "A4XGxLIpJvit",
        "outputId": "7b7c5a3a-23b7-4ae2-e941-dc5fe51cf497"
      },
      "execution_count": 33,
      "outputs": [
        {
          "output_type": "stream",
          "name": "stdout",
          "text": [
            "(6, 1) (6, 1)\n"
          ]
        },
        {
          "output_type": "display_data",
          "data": {
            "text/plain": [
              "<Figure size 432x288 with 1 Axes>"
            ],
            "image/png": "[encoded data removed]"
          },
          "metadata": {
            "needs_background": "light"
          }
        }
      ]
    },
    {
      "cell_type": "code",
      "source": [
        "x_train1=np.array([1,2,3,4,5]).reshape(5,1)\n",
        "y_train1=np.array([2,3,4,5,6]).reshape(5,1)\n",
        "W=np.random.rand(1,1)\n",
        "b=np.random.rand(1)\n",
        "\n",
        "def numerical_derivative(f,x):\n",
        "  delta_x=1e-4\n",
        "  grad=np.zeros_like(x)\n",
        "  it=np.nditer(x,flags=['multi_index'],op_flags=['readwrite'])\n",
        "\n",
        "  while not it.finished:\n",
        "    idx=it.multi_index\n",
        "    tmp_value=x[idx]\n",
        "    x[idx]=float(tmp_value)+delta_x\n",
        "    fx1=f(x)\n",
        "\n",
        "    x[idx]=float(tmp_value)-delta_x\n",
        "    fx2=f(x)\n",
        "    grad[idx]=(fx1-fx2)/(2*delta_x)\n",
        "\n",
        "    x[idx]=tmp_value\n",
        "    it.iternext()\n",
        "  return grad\n",
        "\n",
        "def loss_func(x,t):\n",
        "  y=np.dot(x,W)+b\n",
        "\n",
        "  return (np.sum((t-y)**2))/len(x)\n",
        "\n",
        "def error_value(x,t):\n",
        "  y=np.dot(x,W)+b\n",
        "\n",
        "  return (np.sum((t-y)**2))/len(x)\n",
        "\n",
        "def predict(x):\n",
        "  y=np.dot(x,W)+b\n",
        "  return y\n",
        "\n",
        "learning_rate=1e-2\n",
        "\n",
        "fx= lambda x : loss_func(x_train1,y_train1)\n",
        "\n",
        "for step in range(8001):\n",
        "  W-=learning_rate*numerical_derivative(fx,W)\n",
        "  b-=learning_rate*numerical_derivative(fx,b)\n",
        "\n",
        "  if step%400==0:\n",
        "    print('step:',step,'error value:',error_value(x_train,y_train),'\\n','W:',W,'b:',b)\n",
        "\n",
        "print(predict(5))"
      ],
      "metadata": {
        "colab": {
          "base_uri": "https://localhost:8080/"
        },
        "id": "QltMflgWulTD",
        "outputId": "0b3c1f19-2b5d-47d3-b5cf-ff761cc621fa"
      },
      "execution_count": 67,
      "outputs": [
        {
          "output_type": "stream",
          "name": "stdout",
          "text": [
            "step: 0 error value: 4101.260972291347 \n",
            " W: [[0.89682601]] b: [0.31069901]\n",
            "step: 400 error value: 3620.950260152624 \n",
            " W: [[1.04404205]] b: [0.84103315]\n",
            "step: 800 error value: 3696.4221157515526 \n",
            " W: [[1.01112495]] b: [0.95984524]\n",
            "step: 1200 error value: 3715.652313544531 \n",
            " W: [[1.00281014]] b: [0.98985698]\n",
            "step: 1600 error value: 3720.5204295429853 \n",
            " W: [[1.00070984]] b: [0.99743789]\n",
            "step: 2000 error value: 3721.7507838353813 \n",
            " W: [[1.0001793]] b: [0.99935282]\n",
            "step: 2400 error value: 3722.061612420311 \n",
            " W: [[1.00004529]] b: [0.99983652]\n",
            "step: 2800 error value: 3722.14012995271 \n",
            " W: [[1.00001144]] b: [0.99995871]\n",
            "step: 3200 error value: 3722.1599635252915 \n",
            " W: [[1.00000289]] b: [0.99998957]\n",
            "step: 3600 error value: 3722.1649734636435 \n",
            " W: [[1.00000073]] b: [0.99999737]\n",
            "step: 4000 error value: 3722.1662389663775 \n",
            " W: [[1.00000018]] b: [0.99999933]\n",
            "step: 4400 error value: 3722.166558630288 \n",
            " W: [[1.00000005]] b: [0.99999983]\n",
            "step: 4800 error value: 3722.1666393768587 \n",
            " W: [[1.00000001]] b: [0.99999996]\n",
            "step: 5200 error value: 3722.166659773307 \n",
            " W: [[1.]] b: [0.99999999]\n",
            "step: 5600 error value: 3722.166664925416 \n",
            " W: [[1.]] b: [1.]\n",
            "step: 6000 error value: 3722.1666662268294 \n",
            " W: [[1.]] b: [1.]\n",
            "step: 6400 error value: 3722.1666665555645 \n",
            " W: [[1.]] b: [1.]\n",
            "step: 6800 error value: 3722.1666666386022 \n",
            " W: [[1.]] b: [1.]\n",
            "step: 7200 error value: 3722.166666659577 \n",
            " W: [[1.]] b: [1.]\n",
            "step: 7600 error value: 3722.166666664874 \n",
            " W: [[1.]] b: [1.]\n",
            "step: 8000 error value: 3722.1666666662127 \n",
            " W: [[1.]] b: [1.]\n",
            "[[6.]]\n"
          ]
        }
      ]
    },
    {
      "cell_type": "markdown",
      "source": [
        "#input 값이 여러경우 인경우 \n",
        "\n",
        "선형결합의 형태로 나오게 된다\n",
        "\n",
        "y=W1*x1+W2*x2+W3*x3+b"
      ],
      "metadata": {
        "id": "fz4okTog3h20"
      }
    },
    {
      "cell_type": "markdown",
      "source": [
        "# 밑에서부터는 혼자서 연습삼아서 공부시간과 시험 성적으로 분석을 하고있는 코드들이 나오고 있습니다\n",
        "\n",
        "035_Made_Linear.ipynb의 그래프와 같은 그래프가 나오는 것을 목표로 공부하였습니다.\n"
      ],
      "metadata": {
        "id": "yIcJ4Hy9yHWh"
      }
    },
    {
      "cell_type": "code",
      "source": [
        "W=np.random.rand(1,1)\n",
        "b=np.random.rand(1)\n",
        "\n",
        "learning_rate=1e-5\n",
        "\n",
        "fx1= lambda x : loss_func(x_train,y_train)\n",
        "\n",
        "for step in range(8000): \n",
        "  W-=learning_rate*numerical_derivative(fx1,W)\n",
        "  b-=learning_rate*numerical_derivative(fx1,b)\n",
        "  # print('step:',step,'error value:',error_value(x_train,y_train),'\\n','W:',W,'b:',b,'\\n')\n",
        "  if step%1000==0:\n",
        "    print('step:',step,'error value:',error_value(x_train,y_train),'\\n','W:',W,'b:',b)\n",
        "\n",
        "print(predict(45))\n",
        "print(predict(0))"
      ],
      "metadata": {
        "colab": {
          "base_uri": "https://localhost:8080/"
        },
        "id": "SgWInNVsxc6S",
        "outputId": "0c603823-1030-418e-d2cd-f88f6518c219"
      },
      "execution_count": 86,
      "outputs": [
        {
          "output_type": "stream",
          "name": "stdout",
          "text": [
            "step: 0 error value: 3677.1016275656166 \n",
            " W: [[1.02043992]] b: [0.90849259]\n",
            "step: 1000 error value: 745.2936778809004 \n",
            " W: [[3.14866499]] b: [1.19574138]\n",
            "step: 2000 error value: 740.8892384842444 \n",
            " W: [[3.14102214]] b: [1.40547159]\n",
            "step: 3000 error value: 736.5109907180498 \n",
            " W: [[3.13339672]] b: [1.61457708]\n",
            "step: 4000 error value: 732.158778863737 \n",
            " W: [[3.12579402]] b: [1.82305991]\n",
            "step: 5000 error value: 727.8324480948148 \n",
            " W: [[3.11821395]] b: [2.03092193]\n",
            "step: 6000 error value: 723.53184450549 \n",
            " W: [[3.11065645]] b: [2.23816498]\n",
            "step: 7000 error value: 719.2568151052255 \n",
            " W: [[3.10312146]] b: [2.44479092]\n",
            "[[141.95333403]]\n",
            "[[2.65059586]]\n"
          ]
        }
      ]
    },
    {
      "cell_type": "code",
      "source": [
        "x_0=x=np.arange(0,40,1)\n",
        "y_0=W*x_0+b\n",
        "y_0=y_0.reshape(40)\n",
        "plt.plot(x_train,y_train,'o')\n",
        "plt.plot(x_0,y_0,color='green')\n",
        "plt.grid()\n",
        "plt.legend\n",
        "plt.show()"
      ],
      "metadata": {
        "colab": {
          "base_uri": "https://localhost:8080/",
          "height": 265
        },
        "id": "D_EzvUL_v2GP",
        "outputId": "eacd268e-3521-4bea-fad2-802cbe060e07"
      },
      "execution_count": 87,
      "outputs": [
        {
          "output_type": "display_data",
          "data": {
            "text/plain": [
              "<Figure size 432x288 with 1 Axes>"
            ],
            "image/png": "[encoded data removed]"
          },
          "metadata": {
            "needs_background": "light"
          }
        }
      ]
    },
    {
      "cell_type": "code",
      "source": [
        "\n",
        "\n",
        "class point:\n",
        "  def __init__(self):\n",
        "    self.params={}\n",
        "    self.params['W']=np.random.rand(1)\n",
        "    self.params['b']=np.random.rand(1)\n",
        "  \n",
        "  def loss(self,x,t):\n",
        "    W=self.params['W']\n",
        "    b=self.params['b']\n",
        "    y=np.dot(x,W)+b\n",
        "    return (np.sum((t-y)**2))/len(x)\n",
        "\n",
        "\n",
        "\n",
        "\n"
      ],
      "metadata": {
        "id": "Bmbii7luKP8T"
      },
      "execution_count": 88,
      "outputs": []
    },
    {
      "cell_type": "code",
      "source": [
        "iters_num = 8001\n",
        "learningdata=1e-5\n",
        "\n",
        "fpoint=point()\n",
        "f= lambda x : fpoint.loss(x_train,y_train)\n",
        "print('W',fpoint.params['W'],'\\n','b',fpoint.params['b'])\n",
        "for i in range(iters_num):\n",
        "  fpoint.params['W']-=learningdata*numerical_derivative(f,fpoint.params['W'])\n",
        "  fpoint.params['b']-=learningdata*numerical_derivative(f,fpoint.params['b'])\n",
        "  if i ==0 or i%1000==0:\n",
        "    print('step:',i,'error value:',fpoint.loss(x_train,y_train),'\\n','W',fpoint.params['W'],'\\n','b',fpoint.params['b'])\n",
        "print(fpoint.params['W'])\n",
        "print(fpoint.params['b'])\n",
        "  \n"
      ],
      "metadata": {
        "colab": {
          "base_uri": "https://localhost:8080/"
        },
        "id": "tXVMmgnHhkAd",
        "outputId": "6f055e3e-ef99-4f96-a95b-81635dc673be"
      },
      "execution_count": 89,
      "outputs": [
        {
          "output_type": "stream",
          "name": "stdout",
          "text": [
            "W [0.14574873] \n",
            " b [0.75063779]\n",
            "step: 0 error value: 34730.02921707316 \n",
            " W [0.37092011] \n",
            " b [0.75972913]\n",
            "step: 1000 error value: 6365.568082158751 \n",
            " W [3.02020143] \n",
            " b [2.34615793]\n",
            "step: 2000 error value: 6149.53859114792 \n",
            " W [2.96663605] \n",
            " b [3.81503766]\n",
            "step: 3000 error value: 5941.104015605237 \n",
            " W [2.91402068] \n",
            " b [5.25786578]\n",
            "step: 4000 error value: 5739.997342259437 \n",
            " W [2.86233848] \n",
            " b [6.67510432]\n",
            "step: 5000 error value: 5545.9609451838805 \n",
            " W [2.8115729] \n",
            " b [8.06720715]\n",
            "step: 6000 error value: 5358.746255766915 \n",
            " W [2.76170769] \n",
            " b [9.43462006]\n",
            "step: 7000 error value: 5178.113444285888 \n",
            " W [2.71272687] \n",
            " b [10.77778095]\n",
            "step: 8000 error value: 5003.831112673905 \n",
            " W [2.66461476] \n",
            " b [12.09711994]\n",
            "[2.66461476]\n",
            "[12.09711994]\n"
          ]
        }
      ]
    },
    {
      "cell_type": "code",
      "source": [
        "x=x=np.arange(0,40,1)\n",
        "y=(fpoint.params['W']*x+fpoint.params['b']).reshape(x.shape)\n",
        "\n",
        "plt.plot(x_train,y_train,'o')\n",
        "plt.plot(x,y,color='green')\n",
        "plt.grid()\n",
        "plt.legend\n",
        "plt.show()"
      ],
      "metadata": {
        "colab": {
          "base_uri": "https://localhost:8080/",
          "height": 267
        },
        "id": "1MwXJMRgpt26",
        "outputId": "4d890168-ebba-43df-99d2-949d929cf6ad"
      },
      "execution_count": 91,
      "outputs": [
        {
          "output_type": "display_data",
          "data": {
            "text/plain": [
              "<Figure size 432x288 with 1 Axes>"
            ],
            "image/png": "[encoded data removed]"
          },
          "metadata": {
            "needs_background": "light"
          }
        }
      ]
    }
  ]
}