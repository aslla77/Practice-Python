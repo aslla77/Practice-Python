{
  "nbformat": 4,
  "nbformat_minor": 0,
  "metadata": {
    "colab": {
      "name": "08_MNIST.ipynb",
      "provenance": [],
      "collapsed_sections": [],
      "authorship_tag": "ABX9TyONV2uKhXsQMaJsFBHHUZlr",
      "include_colab_link": true
    },
    "kernelspec": {
      "name": "python3",
      "display_name": "Python 3"
    },
    "language_info": {
      "name": "python"
    }
  },
  "cells": [
    {
      "cell_type": "markdown",
      "metadata": {
        "id": "view-in-github",
        "colab_type": "text"
      },
      "source": [
        "<a href=\"https://colab.research.google.com/github/aslla77/practice-Python/blob/main/2nd/08_MNIST.ipynb\" target=\"_parent\"><img src=\"https://colab.research.google.com/assets/colab-badge.svg\" alt=\"Open In Colab\"/></a>"
      ]
    },
    {
      "cell_type": "markdown",
      "source": [
        "#MNIST"
      ],
      "metadata": {
        "id": "BZlMuNNUZZlt"
      }
    },
    {
      "cell_type": "code",
      "execution_count": null,
      "metadata": {
        "id": "-6C0zGDXZWvf"
      },
      "outputs": [],
      "source": [
        "import tensorflow as tf\n",
        "import keras \n",
        "import numpy as np\n",
        "import matplotlib.pyplot as plt\n",
        "import time"
      ]
    },
    {
      "cell_type": "code",
      "source": [
        "mnist = tf.keras.datasets.mnist\n",
        "(x_train,t_train),(x_test,t_test)=mnist.load_data()\n",
        "x_train,x_test=x_train/255 ,x_test/255\n",
        "x_train,x_test=x_train.reshape(x_train.shape[0],28*28) ,x_test.reshape(x_test.shape[0],28*28)\n",
        "t_trdata=np.zeros([t_train.shape[0],10])\n",
        "t_tdata=np.zeros([t_test.shape[0],10])\n",
        "for i in t_train:\n",
        "  t_trdata[i]=1\n",
        "for i in t_test:\n",
        "  t_tdata[i]=1"
      ],
      "metadata": {
        "id": "45DkloKaZoZz"
      },
      "execution_count": null,
      "outputs": []
    },
    {
      "cell_type": "code",
      "source": [
        "print(x_train.shape,t_trdata.shape,x_test.shape,t_tdata.shape)"
      ],
      "metadata": {
        "colab": {
          "base_uri": "https://localhost:8080/"
        },
        "id": "sjvyFMwPZ-_C",
        "outputId": "06ab5b12-7845-4ba2-fde3-80911bf2c268"
      },
      "execution_count": null,
      "outputs": [
        {
          "output_type": "stream",
          "name": "stdout",
          "text": [
            "(60000, 784) (60000, 10) (10000, 784) (10000, 10)\n"
          ]
        }
      ]
    },
    {
      "cell_type": "code",
      "source": [
        "def numerical_derivative(f,x):\n",
        "  delta=1e-7\n",
        "  it=np.nditer(x,flags=['multi_index'],op_flags=['readwrite'])\n",
        "  grads=np.zeros_like(x)\n",
        "\n",
        "  while not it.finished:\n",
        "    idx=it.multi_index\n",
        "    tmp_value=x[idx]\n",
        "    x[idx]=float(tmp_value)+delta\n",
        "    fx1=f(x)\n",
        "\n",
        "    x[idx]=(tmp_value)-delta\n",
        "    fx2=f(x)  \n",
        "\n",
        "    grads[idx]=(fx1-fx2)/(2*delta)\n",
        "\n",
        "    x[idx]=tmp_value\n",
        "    it.iternext()\n",
        "\n",
        "  return grads\n",
        "\n",
        "def sigmoid(x):\n",
        "  return 1/(1+np.exp(-x))"
      ],
      "metadata": {
        "id": "SilJ8P1ZaMVh"
      },
      "execution_count": null,
      "outputs": []
    },
    {
      "cell_type": "code",
      "source": [
        "class find_num:\n",
        "  def __init__(self,input,hidden1,out):\n",
        "    self.input=input\n",
        "    self.hidden1=hidden1\n",
        "    self.out=out\n",
        "    self.params={}\n",
        "    self.params['W1']=np.random.rand(self.input,self.hidden1)\n",
        "    self.params['b1']=np.random.rand(self.hidden1)\n",
        "    self.params['W2']=np.random.rand(self.hidden1,self.out)\n",
        "    self.params['b2']=np.random.rand(self.out)\n",
        "\n",
        "  def feedforword(self):\n",
        "    delta_1=1e-7\n",
        "    a1=np.dot(self.x,self.params['W1'])+self.params['b1']\n",
        "    z1=sigmoid(a1)\n",
        "    a2=np.dot(z1,self.params['W2'])+self.params['b2']\n",
        "    y=sigmoid(a2)\n",
        "\n",
        "\n",
        "    return -np.sum(self.t*np.log(y+delta_1)+(1-self.t)*np.log(1-y+delta_1))\n",
        "\n",
        "  def loss_vla(self,x,t):\n",
        "    delta_1=1e-7\n",
        "    a1=np.dot(x,self.params['W1'])+self.params['b1']\n",
        "    z1=sigmoid(a1)\n",
        "    a2=np.dot(z1,self.params['W2'])+self.params['b2']\n",
        "    y=sigmoid(a2)\n",
        "    return -np.sum(t*np.log(y+delta_1)+(1-t)*np.log(1-y+delta_1))\n",
        "\n",
        "  def train(self,x,t):\n",
        "    self.x=x\n",
        "    self.t=t\n",
        "    training_rate=1e-2\n",
        "    f=lambda x : self.feedforword()\n",
        "    for idx in ('W1','b1','W2','b2'):\n",
        "      self.params[idx]-=training_rate*numerical_derivative(f,self.params[idx])\n",
        "    print('loss:',self.loss_vla(self.x,self.t))\n",
        "    \n",
        "    \n",
        "  def predict(self,input_data):\n",
        "    a1=np.dot(input_data,self.params['W1'])+self.params['b1']\n",
        "    z1=sigmoid(a1)\n",
        "    a2=np.dot(z1,self.params['W2'])+self.params['b2']\n",
        "    y=sigmoid(a2)\n",
        "    return np.argmax(y)\n",
        "\n",
        "  def accuracy(self,x_test,t_test):\n",
        "    y=self.predict(x_test)\n",
        "    acc=np.sum(np.argmax(y)==t_test)/len(y)\n",
        "    return acc"
      ],
      "metadata": {
        "id": "J8Rwo_QZb7MK"
      },
      "execution_count": null,
      "outputs": []
    },
    {
      "cell_type": "code",
      "source": [
        "start = time.time()\n",
        "nn=find_num(784,100,10)\n",
        "batch_size=100\n",
        "\n",
        "\n",
        "for step in range(5):\n",
        "  idx = np.random.randint(0,59999)\n",
        "  nn.train(x_train[idx],t_trdata[idx])\n",
        "\n",
        "ans=nn.predict(x_test[0])\n",
        "print(ans,t_test[0])\n",
        "\n",
        "time_2=time.time() - start\n",
        "print(time_2)"
      ],
      "metadata": {
        "colab": {
          "base_uri": "https://localhost:8080/"
        },
        "id": "zmJtYCWekHrQ",
        "outputId": "0bc9764f-e925-42e0-8625-0e882ad3c07b"
      },
      "execution_count": null,
      "outputs": [
        {
          "output_type": "stream",
          "name": "stdout",
          "text": [
            "loss: 161.18095650958318\n",
            "loss: 161.18095650958318\n",
            "loss: 161.18095650958318\n",
            "loss: 161.18095650958318\n",
            "loss: 161.18095650958318\n",
            "loss: 161.18095650958318\n",
            "loss: 161.18095650958318\n",
            "loss: 161.18095650958318\n",
            "loss: 161.18095650958318\n",
            "loss: 161.18095650958318\n",
            "loss: 161.18095650958318\n",
            "loss: 161.18095650958318\n",
            "loss: 161.18095650958318\n",
            "loss: 161.18095650958318\n",
            "loss: 161.18095650958318\n",
            "loss: 161.18095650958318\n",
            "loss: 161.18095650958318\n",
            "loss: 161.18095650958318\n",
            "loss: 161.18095650958318\n",
            "loss: 161.18095650958318\n",
            "0 7\n",
            "71.55828285217285\n"
          ]
        }
      ]
    },
    {
      "cell_type": "markdown",
      "source": [
        "#직관적이지만 미분계산 방법으로 할시 소요시간이 매우 길게 나타난다고 한다. 그것을 대채 하기 위해 다른 방법을 사용\n",
        "\n",
        "https://github.com/neowizard2018/neowizard/blob/master/MachineLearning/ML_LEC_22_Example_ver1.1.ipynb\n",
        "\n",
        "강의에서는 20시간이 소모되어 학습하였다고 한다."
      ],
      "metadata": {
        "id": "Klk1e0uO4Wdo"
      }
    }
  ]
}