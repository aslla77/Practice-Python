{
  "nbformat": 4,
  "nbformat_minor": 0,
  "metadata": {
    "colab": {
      "name": "10_Tensorflow_(1xx_version).ipynb",
      "provenance": [],
      "collapsed_sections": [],
      "mount_file_id": "1xJil4Cv7Tkt6QVZj5_3PgpRdZVc6Y54O",
      "authorship_tag": "ABX9TyMV6yxV935g5ADr4MKSNwzI",
      "include_colab_link": true
    },
    "kernelspec": {
      "name": "python3",
      "display_name": "Python 3"
    },
    "language_info": {
      "name": "python"
    }
  },
  "cells": [
    {
      "cell_type": "markdown",
      "metadata": {
        "id": "view-in-github",
        "colab_type": "text"
      },
      "source": [
        "<a href=\"https://colab.research.google.com/github/aslla77/practice-Python/blob/main/2nd/10_Tensorflow_(1xx_version).ipynb\" target=\"_parent\"><img src=\"https://colab.research.google.com/assets/colab-badge.svg\" alt=\"Open In Colab\"/></a>"
      ]
    },
    {
      "cell_type": "markdown",
      "source": [
        "#TensorFlow 의 1.xx버전 공부 내용이므로 생략"
      ],
      "metadata": {
        "id": "LVuec4Xw012j"
      }
    },
    {
      "cell_type": "markdown",
      "source": [
        "#TensorFlow의 기초 \n",
        "\n",
        "####텐서를 흘려보내면서 머신러닝과 딥러닝 알고리즘을 수행하는 라이브러리임\n",
        "\n",
        "- 숫자 1 (스칼라 또는 rank 0 텐서)\n",
        "- 1차원 배열 [1,2] (벡터 또는 rank 1 텐서)\n",
        "- 2차원 배열 [[1,2],[3,4]] (행렬 또는 rank 2 텐서)\n",
        "- 3차원 배열 [[[1,2],[3,4]]] (텐서 또는 rank 3 첸서)\n",
        "\n",
        "####이러한 텐서들은 그래프(Graph)구조에서 노드(Node)에서 노드로 흘러감(Flow)\n",
        "- 그래프 자료 구조는 노드(Node)와 엣지(Edge)로 구성됨\n",
        "-텐서플로를 이용한 프로그램 작성시,\n",
        "\n",
        "1. 상수,변수,텐서연산 등의 노드와 엣지를 먼저 정의하고,\n",
        "2. 세선을 만들고 그 세션을 통해 노드간의 데이터(텐서) 연산 수행"
      ],
      "metadata": {
        "id": "EqBNn8mLLkok"
      }
    },
    {
      "cell_type": "markdown",
      "source": [
        "##상수 노드"
      ],
      "metadata": {
        "id": "TdUogaPrM6Oe"
      }
    },
    {
      "cell_type": "code",
      "execution_count": null,
      "metadata": {
        "id": "3XfJFRqaIKWA"
      },
      "outputs": [],
      "source": [
        "import tensorflow as tf\n",
        "import numpy as np\n",
        "import matplotlib.pyplot as plt"
      ]
    },
    {
      "cell_type": "code",
      "source": [
        "a=tf.constant(1.0,name='a')\n",
        "b=tf.constant(2.0,name='b')\n",
        "c=tf.constant([[1.0,2.0],[3.0,4.0]])\n",
        "\n",
        "print(a)\n",
        "print(a+b)\n",
        "print(c)"
      ],
      "metadata": {
        "colab": {
          "base_uri": "https://localhost:8080/"
        },
        "id": "Dw43pUkTNDbT",
        "outputId": "af8e0a1d-fb8c-4d14-e12d-8f7a4f3749ec"
      },
      "execution_count": null,
      "outputs": [
        {
          "output_type": "stream",
          "name": "stdout",
          "text": [
            "tf.Tensor(1.0, shape=(), dtype=float32)\n",
            "tf.Tensor(3.0, shape=(), dtype=float32)\n",
            "tf.Tensor(\n",
            "[[1. 2.]\n",
            " [3. 4.]], shape=(2, 2), dtype=float32)\n"
          ]
        }
      ]
    },
    {
      "cell_type": "markdown",
      "source": [
        "#Session\n",
        "sess=tf.Session()을 만드는 경우가 있는데 tensorflow의 버젼의 차이로 생기게된다.\n",
        "\n",
        "버전 차이로 인한 내용\n",
        "- 2.xx version은 앞에 tf를 하게 된다."
      ],
      "metadata": {
        "id": "FYefot_DPfze"
      }
    },
    {
      "cell_type": "code",
      "source": [
        "print(([a,b]))\n",
        "print((c))\n",
        "print((c+1.0))\n",
        "\n",
        "tf.print(([a,b]))\n",
        "tf.print((c)) \n",
        "tf.print(([a+b]))\n",
        "tf.print((c+1.0))"
      ],
      "metadata": {
        "colab": {
          "base_uri": "https://localhost:8080/"
        },
        "id": "oDAatIa6NnCZ",
        "outputId": "56ee183b-3f3a-45d0-e165-fc6f33ef8438"
      },
      "execution_count": null,
      "outputs": [
        {
          "output_type": "stream",
          "name": "stdout",
          "text": [
            "[<tf.Tensor: shape=(), dtype=float32, numpy=1.0>, <tf.Tensor: shape=(), dtype=float32, numpy=2.0>]\n",
            "tf.Tensor(\n",
            "[[1. 2.]\n",
            " [3. 4.]], shape=(2, 2), dtype=float32)\n",
            "tf.Tensor(\n",
            "[[2. 3.]\n",
            " [4. 5.]], shape=(2, 2), dtype=float32)\n",
            "[1, 2]\n",
            "[[1 2]\n",
            " [3 4]]\n",
            "[3]\n",
            "[[2 3]\n",
            " [4 5]]\n"
          ]
        }
      ]
    },
    {
      "cell_type": "markdown",
      "source": [
        "#placeholder \n",
        "\n",
        "보통은 입력데이터,정답데이터 등을 넣어주기위한 용도\n",
        "\n",
        "- placeholder 또한 사라진 형태이다\n",
        "\n",
        "그냥 함수를 만들어서 입력값을 받는 형태로 변경"
      ],
      "metadata": {
        "id": "Q1Ck9HpWQoyl"
      }
    },
    {
      "cell_type": "code",
      "source": [
        "# a=tf.placeholder(tf.float32)\n",
        "# b=tf.placeholder(tf.float32)\n",
        "# c=a+b\n",
        "# tf.print(c,feed_dict={a:1.0,b:3.0})\n",
        "# tf.print(c,feed_dict={a:[1.0,2.0],b:[3.0,4.0]})\n",
        "\n",
        "# d=100*c\n",
        "\n",
        "@tf.function\n",
        "def add(x,y):\n",
        "  return x+y\n",
        "\n",
        "print('일반 프린트 시와 세션런을 이용했을 시')\n",
        "\n",
        "A=tf.constant(1.0)\n",
        "B=tf.constant(3.0)\n",
        "\n",
        "print(add(A,B))\n",
        "tf.print(add(A,B),'\\n')\n",
        "\n",
        "A=tf.constant([1.0,2.0])\n",
        "B=tf.constant([3.0,4.0])\n",
        "\n",
        "print(add(A,B))\n",
        "tf.print(add(A,B),'\\n')\n",
        "\n",
        "A=tf.constant([[1.0,2.0],[3.0,4.0]])\n",
        "B=tf.constant([[5.0,6.0],[7.0,8.0]])\n",
        "print(add(A,B))\n",
        "tf.print(add(A,B),'\\n')\n",
        "\n"
      ],
      "metadata": {
        "colab": {
          "base_uri": "https://localhost:8080/"
        },
        "id": "wYvuhAafPpM0",
        "outputId": "bf182a3c-b77d-4214-84eb-cf6cceb0c5c7"
      },
      "execution_count": null,
      "outputs": [
        {
          "output_type": "stream",
          "name": "stdout",
          "text": [
            "일반 프린트 시와 세션런을 이용했을 시\n",
            "tf.Tensor(4.0, shape=(), dtype=float32)\n",
            "4 \n",
            "\n"
          ]
        },
        {
          "output_type": "stream",
          "name": "stderr",
          "text": [
            "WARNING:tensorflow:5 out of the last 9 calls to <function add at 0x7f6bbb8e98c0> triggered tf.function retracing. Tracing is expensive and the excessive number of tracings could be due to (1) creating @tf.function repeatedly in a loop, (2) passing tensors with different shapes, (3) passing Python objects instead of tensors. For (1), please define your @tf.function outside of the loop. For (2), @tf.function has experimental_relax_shapes=True option that relaxes argument shapes that can avoid unnecessary retracing. For (3), please refer to https://www.tensorflow.org/guide/function#controlling_retracing and https://www.tensorflow.org/api_docs/python/tf/function for  more details.\n"
          ]
        },
        {
          "output_type": "stream",
          "name": "stdout",
          "text": [
            "tf.Tensor([4. 6.], shape=(2,), dtype=float32)\n",
            "[4 6] \n",
            "\n"
          ]
        },
        {
          "output_type": "stream",
          "name": "stderr",
          "text": [
            "WARNING:tensorflow:6 out of the last 11 calls to <function add at 0x7f6bbb8e98c0> triggered tf.function retracing. Tracing is expensive and the excessive number of tracings could be due to (1) creating @tf.function repeatedly in a loop, (2) passing tensors with different shapes, (3) passing Python objects instead of tensors. For (1), please define your @tf.function outside of the loop. For (2), @tf.function has experimental_relax_shapes=True option that relaxes argument shapes that can avoid unnecessary retracing. For (3), please refer to https://www.tensorflow.org/guide/function#controlling_retracing and https://www.tensorflow.org/api_docs/python/tf/function for  more details.\n"
          ]
        },
        {
          "output_type": "stream",
          "name": "stdout",
          "text": [
            "tf.Tensor(\n",
            "[[ 6.  8.]\n",
            " [10. 12.]], shape=(2, 2), dtype=float32)\n",
            "[[6 8]\n",
            " [10 12]] \n",
            "\n"
          ]
        }
      ]
    },
    {
      "cell_type": "markdown",
      "source": [
        "#Variable 노드\n",
        "\n",
        "2.xx버전에서는 \n",
        "- tf.random_normal 또한 tf.random.normal로 변경"
      ],
      "metadata": {
        "id": "kyyVTYP7Qt2P"
      }
    },
    {
      "cell_type": "code",
      "source": [
        "W1=tf.Variable(tf.random.normal([1]))\n",
        "b1=tf.Variable(tf.random.normal([1]))\n",
        "\n",
        "W2=tf.Variable(tf.random.normal([1,2]))\n",
        "b2=tf.Variable(tf.random.normal([1,2]))\n",
        "\n",
        "for step in range(3):\n",
        "  W1=W1-step\n",
        "  b1=b1-step\n",
        "  W2=W2-step\n",
        "  b2=b2-step\n",
        "  tf.print('step:',step,'W1=',W1,'b1=',b1)\n",
        "  tf.print('step:',step,'W2=',W2,'b1=',b2,'\\n')"
      ],
      "metadata": {
        "colab": {
          "base_uri": "https://localhost:8080/"
        },
        "id": "fkSPLha2QukY",
        "outputId": "782cb4de-024c-4ce3-e4de-bca0a47e63b6"
      },
      "execution_count": null,
      "outputs": [
        {
          "output_type": "stream",
          "name": "stdout",
          "text": [
            "step: 0 W1= [-0.559985936] b1= [-1.13634324]\n",
            "step: 0 W2= [[-0.399875373 -0.493840277]] b1= [[-1.33573163 0.575312495]] \n",
            "\n",
            "step: 1 W1= [-1.55998588] b1= [-2.13634324]\n",
            "step: 1 W2= [[-1.3998754 -1.49384022]] b1= [[-2.33573151 -0.424687505]] \n",
            "\n",
            "step: 2 W1= [-3.55998588] b1= [-4.136343]\n",
            "step: 2 W2= [[-3.3998754 -3.49384022]] b1= [[-4.33573151 -2.42468739]] \n",
            "\n"
          ]
        }
      ]
    },
    {
      "cell_type": "markdown",
      "source": [
        "#Linear Regression with TF\n",
        "###loss , optimizer 개념\n",
        "\n"
      ],
      "metadata": {
        "id": "uqH9BlzgVBmX"
      }
    },
    {
      "cell_type": "code",
      "source": [
        "load_data=np.loadtxt('/content/drive/MyDrive/data-01.csv',delimiter=',')\n",
        "x_data=load_data[:,0:-1].astype(np.float32)\n",
        "t_data=load_data[:,[-1]].astype(np.float32)"
      ],
      "metadata": {
        "id": "SeECUm_rTYkx"
      },
      "execution_count": null,
      "outputs": []
    },
    {
      "cell_type": "code",
      "source": [
        "W=tf.Variable(tf.random.normal([3,1]),tf.float64)\n",
        "b=tf.Variable(tf.random.normal([1]),tf.float64)\n",
        "learning_rate=1e-3\n",
        "\n",
        "@tf.function\n",
        "def dotclass(x):\n",
        "  y=tf.matmul(x,W)+b\n",
        "  return y\n",
        "\n",
        "@tf.function\n",
        "def loss(x,t):\n",
        "  loss=tf.reduce_mean(tf.square(dotclass(x)-t),0)\n",
        "  return loss\n",
        "\n",
        "@tf.function\n",
        "def train(x,t):\n",
        "  optimizer=tf.optimizers.SGD(learning_rate)\n",
        "  train=optimizer.minimize(loss(x,t))\n",
        "  return train"
      ],
      "metadata": {
        "id": "7jX_BkL4ZKNA"
      },
      "execution_count": null,
      "outputs": []
    },
    {
      "cell_type": "code",
      "source": [
        "for step in range(8001):\n",
        "  loss_val =loss(x_data,t_data)\n",
        "  y_val=dotclass(x_data)\n",
        "  _=train(x_data,t_data)\n",
        "  if step%400==0:\n",
        "    tf.print('step=',step,\", loss_val=\",loss_val)"
      ],
      "metadata": {
        "colab": {
          "base_uri": "https://localhost:8080/",
          "height": 604
        },
        "id": "vbdTkfaUvmVP",
        "outputId": "bcbba9bd-23e1-4be0-e1a6-62acc104ac4b"
      },
      "execution_count": null,
      "outputs": [
        {
          "output_type": "error",
          "ename": "TypeError",
          "evalue": "ignored",
          "traceback": [
            "\u001b[0;31m---------------------------------------------------------------------------\u001b[0m",
            "\u001b[0;31mTypeError\u001b[0m                                 Traceback (most recent call last)",
            "\u001b[0;32m<ipython-input-72-d14c1d117bfe>\u001b[0m in \u001b[0;36m<module>\u001b[0;34m()\u001b[0m\n\u001b[1;32m      2\u001b[0m   \u001b[0mloss_val\u001b[0m \u001b[0;34m=\u001b[0m\u001b[0mloss\u001b[0m\u001b[0;34m(\u001b[0m\u001b[0mx_data\u001b[0m\u001b[0;34m,\u001b[0m\u001b[0mt_data\u001b[0m\u001b[0;34m)\u001b[0m\u001b[0;34m\u001b[0m\u001b[0;34m\u001b[0m\u001b[0m\n\u001b[1;32m      3\u001b[0m   \u001b[0my_val\u001b[0m\u001b[0;34m=\u001b[0m\u001b[0mdotclass\u001b[0m\u001b[0;34m(\u001b[0m\u001b[0mx_data\u001b[0m\u001b[0;34m)\u001b[0m\u001b[0;34m\u001b[0m\u001b[0;34m\u001b[0m\u001b[0m\n\u001b[0;32m----> 4\u001b[0;31m   \u001b[0m_\u001b[0m\u001b[0;34m=\u001b[0m\u001b[0mtrain\u001b[0m\u001b[0;34m(\u001b[0m\u001b[0mx_data\u001b[0m\u001b[0;34m,\u001b[0m\u001b[0mt_data\u001b[0m\u001b[0;34m)\u001b[0m\u001b[0;34m\u001b[0m\u001b[0;34m\u001b[0m\u001b[0m\n\u001b[0m\u001b[1;32m      5\u001b[0m   \u001b[0;32mif\u001b[0m \u001b[0mstep\u001b[0m\u001b[0;34m%\u001b[0m\u001b[0;36m400\u001b[0m\u001b[0;34m==\u001b[0m\u001b[0;36m0\u001b[0m\u001b[0;34m:\u001b[0m\u001b[0;34m\u001b[0m\u001b[0;34m\u001b[0m\u001b[0m\n\u001b[1;32m      6\u001b[0m     \u001b[0mtf\u001b[0m\u001b[0;34m.\u001b[0m\u001b[0mprint\u001b[0m\u001b[0;34m(\u001b[0m\u001b[0;34m'step='\u001b[0m\u001b[0;34m,\u001b[0m\u001b[0mstep\u001b[0m\u001b[0;34m,\u001b[0m\u001b[0;34m\", loss_val=\"\u001b[0m\u001b[0;34m,\u001b[0m\u001b[0mloss_val\u001b[0m\u001b[0;34m)\u001b[0m\u001b[0;34m\u001b[0m\u001b[0;34m\u001b[0m\u001b[0m\n",
            "\u001b[0;32m/usr/local/lib/python3.7/dist-packages/tensorflow/python/util/traceback_utils.py\u001b[0m in \u001b[0;36merror_handler\u001b[0;34m(*args, **kwargs)\u001b[0m\n\u001b[1;32m    151\u001b[0m     \u001b[0;32mexcept\u001b[0m \u001b[0mException\u001b[0m \u001b[0;32mas\u001b[0m \u001b[0me\u001b[0m\u001b[0;34m:\u001b[0m\u001b[0;34m\u001b[0m\u001b[0;34m\u001b[0m\u001b[0m\n\u001b[1;32m    152\u001b[0m       \u001b[0mfiltered_tb\u001b[0m \u001b[0;34m=\u001b[0m \u001b[0m_process_traceback_frames\u001b[0m\u001b[0;34m(\u001b[0m\u001b[0me\u001b[0m\u001b[0;34m.\u001b[0m\u001b[0m__traceback__\u001b[0m\u001b[0;34m)\u001b[0m\u001b[0;34m\u001b[0m\u001b[0;34m\u001b[0m\u001b[0m\n\u001b[0;32m--> 153\u001b[0;31m       \u001b[0;32mraise\u001b[0m \u001b[0me\u001b[0m\u001b[0;34m.\u001b[0m\u001b[0mwith_traceback\u001b[0m\u001b[0;34m(\u001b[0m\u001b[0mfiltered_tb\u001b[0m\u001b[0;34m)\u001b[0m \u001b[0;32mfrom\u001b[0m \u001b[0;32mNone\u001b[0m\u001b[0;34m\u001b[0m\u001b[0;34m\u001b[0m\u001b[0m\n\u001b[0m\u001b[1;32m    154\u001b[0m     \u001b[0;32mfinally\u001b[0m\u001b[0;34m:\u001b[0m\u001b[0;34m\u001b[0m\u001b[0;34m\u001b[0m\u001b[0m\n\u001b[1;32m    155\u001b[0m       \u001b[0;32mdel\u001b[0m \u001b[0mfiltered_tb\u001b[0m\u001b[0;34m\u001b[0m\u001b[0;34m\u001b[0m\u001b[0m\n",
            "\u001b[0;32m/usr/local/lib/python3.7/dist-packages/tensorflow/python/framework/func_graph.py\u001b[0m in \u001b[0;36mautograph_handler\u001b[0;34m(*args, **kwargs)\u001b[0m\n\u001b[1;32m   1145\u001b[0m           \u001b[0;32mexcept\u001b[0m \u001b[0mException\u001b[0m \u001b[0;32mas\u001b[0m \u001b[0me\u001b[0m\u001b[0;34m:\u001b[0m  \u001b[0;31m# pylint:disable=broad-except\u001b[0m\u001b[0;34m\u001b[0m\u001b[0;34m\u001b[0m\u001b[0m\n\u001b[1;32m   1146\u001b[0m             \u001b[0;32mif\u001b[0m \u001b[0mhasattr\u001b[0m\u001b[0;34m(\u001b[0m\u001b[0me\u001b[0m\u001b[0;34m,\u001b[0m \u001b[0;34m\"ag_error_metadata\"\u001b[0m\u001b[0;34m)\u001b[0m\u001b[0;34m:\u001b[0m\u001b[0;34m\u001b[0m\u001b[0;34m\u001b[0m\u001b[0m\n\u001b[0;32m-> 1147\u001b[0;31m               \u001b[0;32mraise\u001b[0m \u001b[0me\u001b[0m\u001b[0;34m.\u001b[0m\u001b[0mag_error_metadata\u001b[0m\u001b[0;34m.\u001b[0m\u001b[0mto_exception\u001b[0m\u001b[0;34m(\u001b[0m\u001b[0me\u001b[0m\u001b[0;34m)\u001b[0m\u001b[0;34m\u001b[0m\u001b[0;34m\u001b[0m\u001b[0m\n\u001b[0m\u001b[1;32m   1148\u001b[0m             \u001b[0;32melse\u001b[0m\u001b[0;34m:\u001b[0m\u001b[0;34m\u001b[0m\u001b[0;34m\u001b[0m\u001b[0m\n\u001b[1;32m   1149\u001b[0m               \u001b[0;32mraise\u001b[0m\u001b[0;34m\u001b[0m\u001b[0;34m\u001b[0m\u001b[0m\n",
            "\u001b[0;31mTypeError\u001b[0m: in user code:\n\n    File \"<ipython-input-69-d90afe3a977d>\", line 18, in train  *\n        train=optimizer.minimize(loss(x,t))\n\n    TypeError: minimize() missing 1 required positional argument: 'var_list'\n"
          ]
        }
      ]
    },
    {
      "cell_type": "code",
      "source": [
        ""
      ],
      "metadata": {
        "id": "CIzYLgbU0BSY"
      },
      "execution_count": null,
      "outputs": []
    }
  ]
}