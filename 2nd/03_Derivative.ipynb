{
  "nbformat": 4,
  "nbformat_minor": 0,
  "metadata": {
    "colab": {
      "name": "03_Derivative.ipynb",
      "provenance": [],
      "collapsed_sections": [],
      "authorship_tag": "ABX9TyP95iKbD0r91F6LKQi0gUXA",
      "include_colab_link": true
    },
    "kernelspec": {
      "name": "python3",
      "display_name": "Python 3"
    },
    "language_info": {
      "name": "python"
    }
  },
  "cells": [
    {
      "cell_type": "markdown",
      "metadata": {
        "id": "view-in-github",
        "colab_type": "text"
      },
      "source": [
        "<a href=\"https://colab.research.google.com/github/aslla77/practice-Python/blob/main/2nd/03_Derivative.ipynb\" target=\"_parent\"><img src=\"https://colab.research.google.com/assets/colab-badge.svg\" alt=\"Open In Colab\"/></a>"
      ]
    },
    {
      "cell_type": "markdown",
      "source": [
        ""
      ],
      "metadata": {
        "id": "tJh1xxzSlxHC"
      }
    },
    {
      "cell_type": "code",
      "source": [
        "import numpy as np\n",
        "import matplotlib.pyplot as plt"
      ],
      "metadata": {
        "id": "x-W1iKkb2Li7"
      },
      "execution_count": 4,
      "outputs": []
    },
    {
      "cell_type": "code",
      "execution_count": 1,
      "metadata": {
        "id": "WSTtrvBqlR1g"
      },
      "outputs": [],
      "source": [
        "def numerical_derivative(f,x):\n",
        "  delta_x=1e-4\n",
        "  return (f(x+delta_x)-f(x-delta_x))/(2*delta_x)"
      ]
    },
    {
      "cell_type": "code",
      "source": [
        "def my_function(x):\n",
        "  return x**2\n",
        "\n"
      ],
      "metadata": {
        "id": "zOy4Gsyg2DTU"
      },
      "execution_count": 30,
      "outputs": []
    },
    {
      "cell_type": "code",
      "source": [
        "x_1=3\n",
        "#f'(x)=2x 이므로 6예상\n",
        "ans=numerical_derivative(my_function,x_1)\n",
        "print(ans)"
      ],
      "metadata": {
        "colab": {
          "base_uri": "https://localhost:8080/"
        },
        "id": "QDPd5wFM2ZgO",
        "outputId": "b82770a0-aeb8-4630-9c97-fb4f064404aa"
      },
      "execution_count": 29,
      "outputs": [
        {
          "output_type": "stream",
          "name": "stdout",
          "text": [
            "6.000000000012662\n"
          ]
        }
      ]
    },
    {
      "cell_type": "code",
      "source": [
        "x=np.arange(-5,5,0.1)\n",
        "y=my_function(x)\n",
        "\n",
        "y_1=ans*x-9\n",
        "\n",
        "plt.grid()\n",
        "plt.plot(x,y)\n",
        "plt.plot(x,y_1)\n",
        "plt.ylim(-1,25)\n",
        "plt.legend\n",
        "plt.show()\n",
        "\n"
      ],
      "metadata": {
        "colab": {
          "base_uri": "https://localhost:8080/",
          "height": 269
        },
        "id": "VZ5FMOrU3MhP",
        "outputId": "87b8e787-c44c-480c-d9de-98779f4b0978"
      },
      "execution_count": 27,
      "outputs": [
        {
          "output_type": "display_data",
          "data": {
            "text/plain": [
              "<Figure size 432x288 with 1 Axes>"
            ],
            "image/png": "[encoded data removed]"
          },
          "metadata": {
            "needs_background": "light"
          }
        }
      ]
    },
    {
      "cell_type": "code",
      "source": [
        "def my_function(x):\n",
        "  return x**2\n",
        "\n",
        "def numerical_derivative_1(f,x):\n",
        "  delta_x=1e-4\n",
        "  grad=np.zeros_like(x)\n",
        "  it=np.nditer(x,flags=['multi_index'],op_flags=['readwrite'])\n",
        "\n",
        "\n",
        "  while not it.finished:\n",
        "    idx=it.multi_index\n",
        "    tmp_value=x[idx]\n",
        "    x[idx]=float(tmp_value)+delta_x\n",
        "    fx1=f(x)\n",
        "\n",
        "    x[idx]=float(tmp_value)-delta_x\n",
        "    fx2=f(x)\n",
        "    grad[idx]=(fx1-fx2)/(2*delta_x)\n",
        "\n",
        "    x[idx]=tmp_value\n",
        "    it.iternext()\n",
        "  return grad"
      ],
      "metadata": {
        "id": "lD4YMLuI4e_7"
      },
      "execution_count": 70,
      "outputs": []
    },
    {
      "cell_type": "code",
      "source": [
        "grad=(numerical_derivative_1(my_function,np.array([3.0])))\n",
        "print(grad)"
      ],
      "metadata": {
        "colab": {
          "base_uri": "https://localhost:8080/"
        },
        "id": "HbbCiefH51O-",
        "outputId": "f21b074b-8f01-42ce-82a7-9bf529f79e3b"
      },
      "execution_count": 71,
      "outputs": [
        {
          "output_type": "stream",
          "name": "stdout",
          "text": [
            "[6.]\n"
          ]
        }
      ]
    },
    {
      "cell_type": "code",
      "source": [
        "#x,y각각 편미분 \n",
        "# f(x,y)=2x+3xy+y^3\n",
        "# f'_x=2+3y\n",
        "#f'_y=3x+3y^2\n",
        "\n",
        "#f'(1,2)_x,y=(8 ,15)\n",
        "def function_1(input_1):\n",
        "  x=input_1[0]\n",
        "  y=input_1[1]\n",
        "  return 2*x+3*x*y+y**3\n",
        "\n",
        "input_1=np.array([1.0,2.0])\n",
        "print(input_1)\n",
        "grad=(numerical_derivative_1(function_1,input_1))\n",
        "print(grad)\n",
        "\n",
        "input_1=np.array([1,2])\n",
        "print(input_1)\n",
        "\n",
        "grad=(numerical_derivative_1(function_1,input_1))\n",
        "print(grad)\n",
        "\n",
        "#부동소수점 문제? "
      ],
      "metadata": {
        "colab": {
          "base_uri": "https://localhost:8080/"
        },
        "id": "AKrtiTe59h0g",
        "outputId": "07b34f58-6264-47a5-d1ce-cf9d0c6ffeca"
      },
      "execution_count": 72,
      "outputs": [
        {
          "output_type": "stream",
          "name": "stdout",
          "text": [
            "[1. 2.]\n",
            "[ 8.         15.00000001]\n",
            "[1 2]\n",
            "[40000 50000]\n"
          ]
        }
      ]
    }
  ]
}