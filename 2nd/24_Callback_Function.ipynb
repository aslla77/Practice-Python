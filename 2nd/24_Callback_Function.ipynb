{
  "nbformat": 4,
  "nbformat_minor": 0,
  "metadata": {
    "colab": {
      "name": "24_Callback_Function.ipynb",
      "provenance": [],
      "collapsed_sections": [],
      "mount_file_id": "1LyO3Kx_VW7yxubrYuLMQ4a4ePC5lUF4d",
      "authorship_tag": "ABX9TyOr4dTH52qsVL6siCdCu1NG",
      "include_colab_link": true
    },
    "kernelspec": {
      "name": "python3",
      "display_name": "Python 3"
    },
    "language_info": {
      "name": "python"
    }
  },
  "cells": [
    {
      "cell_type": "markdown",
      "metadata": {
        "id": "view-in-github",
        "colab_type": "text"
      },
      "source": [
        "<a href=\"https://colab.research.google.com/github/aslla77/practice-Python/blob/main/2nd/24_Callback_Function.ipynb\" target=\"_parent\"><img src=\"https://colab.research.google.com/assets/colab-badge.svg\" alt=\"Open In Colab\"/></a>"
      ]
    },
    {
      "cell_type": "markdown",
      "source": [
        "#콜백함수\n",
        "\n",
        "- 콜백함수는 특정 상황에서 자동으로 실행될 함수를 등록해두면, 그러한 상화에 자동으로 실행\n",
        "\n",
        "- 다양한 콜백함수가 있는데\n",
        "  1. 학습 중에 학습율을 변화 시킬수 있는\n",
        "   - ReduceLROnPlateau\n",
        "  2. 모델의 가중치(weight)값을 중간에 저장 할 수 있는\n",
        "   - ModelCheckpoint\n",
        "  3. 모델 성능 지표가 일정 시간 동안 개선되지 않을 때 조기 종료 할 수 있는\n",
        "   - EarlyStopping"
      ],
      "metadata": {
        "id": "xZaJecb19lP6"
      }
    },
    {
      "cell_type": "code",
      "source": [
        "import numpy as np\n",
        "import tensorflow as tf\n",
        "\n",
        "from tensorflow.keras.callbacks import ReduceLROnPlateau,EarlyStopping,ModelCheckpoint\n",
        "from tensorflow.keras.models import load_model"
      ],
      "metadata": {
        "id": "CpgUdziK-gtV"
      },
      "execution_count": 2,
      "outputs": []
    },
    {
      "cell_type": "code",
      "source": [
        "mnist=tf.keras.datasets.mnist\n",
        "(x_train,t_train),(x_test,t_test)=mnist.load_data()\n",
        "x_train,x_test=x_train/255.,x_test/255."
      ],
      "metadata": {
        "id": "NvhjlYFKADLr"
      },
      "execution_count": 14,
      "outputs": []
    },
    {
      "cell_type": "code",
      "source": [
        "model=load_model('/content/drive/MyDrive/MODEL_CV.h5')"
      ],
      "metadata": {
        "id": "c16bl7gJ-0uu"
      },
      "execution_count": 13,
      "outputs": []
    },
    {
      "cell_type": "code",
      "source": [
        "#ReduceLROnPlateau\n",
        "reduceLR=ReduceLROnPlateau(monitor='val_loss', #val_loss 기준으로 콜백\n",
        "                           factor=0.5,         #callback시 학습률을 반으로 줄인다\n",
        "                           patience=5,         #epoch가 5 동안 개선되지 않으면 호풀\n",
        "                           verboss=1)          #로그출력\n",
        "\n",
        "hist=model.fit(x_train,t_train,epochs=50,validation_split=0.2,\n",
        "               callbacks=[reduceLR])"
      ],
      "metadata": {
        "id": "66EG_y_m-72D"
      },
      "execution_count": null,
      "outputs": []
    },
    {
      "cell_type": "code",
      "source": [
        "#ModelCheckpoint\n",
        "#학숩도중에 memory overflow나 crash가 나도 중간에 저장을 하여 가중치를 다시 불러와서 학습을 이어나 갈 수 있다\n",
        "\n",
        "file_path='./modelchpoint_test.h5'\n",
        "\n",
        "checkpoint=ModelCheckpoint(file_path,             #저장경로\n",
        "                          monitor='val_loss',   #val_loss값이 개선되었을 경우 호풀\n",
        "                          verboss=1,            #log출력\n",
        "                          save_best_only=True,  #best 값만 저장\n",
        "                          mode='outo')          #auto는 자동으로 best를 찾음\n",
        "\n",
        "hist=model.fit(x_train,t_train,epochs=50,validation_split=0.2,\n",
        "               callbacks=[checkpoint])"
      ],
      "metadata": {
        "id": "1A7xL1cbABxU"
      },
      "execution_count": null,
      "outputs": []
    },
    {
      "cell_type": "code",
      "source": [
        "#EarlyStopping\n",
        "#개선되지 안을 때 조기종료가능\n",
        "#ModelCheckpoint 와 함께 사용하여 개선되지 않은 학습에 대해 종료하고 가장best모델을 다시 로드하여 학습을 재게 하는 경우가 일반적\n",
        "\n",
        "file_path='./modelchpoint_test.h5'\n",
        "\n",
        "checkpoint=ModelCheckpoint(file_path,             #저장경로\n",
        "                          monitor='val_loss',   #val_loss값이 개선되었을 경우 호풀\n",
        "                          verboss=1,            #log출력\n",
        "                          save_best_only=True,  #best 값만 저장\n",
        "                          mode='outo')          #auto는 자동으로 best를 찾음\n",
        "\n",
        "earlystop=EarlyStopping(monitor='val_loss',     #val_loss 기준으로 콜백\n",
        "                        patience=5)             #epoch가 5 동안 개선되지 않으면 호풀\n",
        "\n",
        "hist=model.fit(x_train,t_train,epochs=50,validation_split=0.2,\n",
        "               callbacks=[checkpoint,earlystop])"
      ],
      "metadata": {
        "id": "BxSBGMPyBgiZ"
      },
      "execution_count": null,
      "outputs": []
    }
  ]
}