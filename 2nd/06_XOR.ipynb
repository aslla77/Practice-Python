{
  "nbformat": 4,
  "nbformat_minor": 0,
  "metadata": {
    "colab": {
      "name": "06_XOR.ipynb",
      "provenance": [],
      "collapsed_sections": [],
      "mount_file_id": "1gAh0R-gzR81kfqOeqwSid4D5aBWTwf5b",
      "authorship_tag": "ABX9TyO64z4AIUEijZ5PnkihBEq+",
      "include_colab_link": true
    },
    "kernelspec": {
      "name": "python3",
      "display_name": "Python 3"
    },
    "language_info": {
      "name": "python"
    }
  },
  "cells": [
    {
      "cell_type": "markdown",
      "metadata": {
        "id": "view-in-github",
        "colab_type": "text"
      },
      "source": [
        "<a href=\"https://colab.research.google.com/github/aslla77/practice-Python/blob/main/2nd/06_XOR.ipynb\" target=\"_parent\"><img src=\"https://colab.research.google.com/assets/colab-badge.svg\" alt=\"Open In Colab\"/></a>"
      ]
    },
    {
      "cell_type": "markdown",
      "source": [
        "#AND ,OR , NAND , XOR 문제를 만들어 볼 것이다.\n",
        "\n",
        "전에 해봤기에 바로 혼자 작성한 코드부터"
      ],
      "metadata": {
        "id": "b1VhjtAZoVcb"
      }
    },
    {
      "cell_type": "code",
      "execution_count": 235,
      "metadata": {
        "id": "2KVqaH7loKVY"
      },
      "outputs": [],
      "source": [
        "import numpy as np\n",
        "import matplotlib.pyplot as plt\n"
      ]
    },
    {
      "cell_type": "code",
      "source": [
        "def numerical_derivative(f,x):\n",
        "  delta=1e-4\n",
        "  grads=np.zeros_like(x)\n",
        "  it=np.nditer(x,flags=['multi_index'],op_flags=['readwrite'])\n",
        "\n",
        "  while not it.finished:\n",
        "    idx=it.multi_index\n",
        "    tmp_value=x[idx]\n",
        "    x[idx]=float(tmp_value)+delta\n",
        "    fx1=f(x)\n",
        "\n",
        "    x[idx]=tmp_value-delta\n",
        "    fx2=f(x)\n",
        "\n",
        "    grads[idx]=(fx1-fx2)/(2*delta)\n",
        "\n",
        "    x[idx]=tmp_value\n",
        "    it.iternext()\n",
        "  return grads\n",
        "\n",
        "def sigmoid(x):\n",
        "  return 1/(1+np.exp(-x))\n",
        "\n",
        "class find:\n",
        "  def __init__(self, x,t):\n",
        "    self.params={}\n",
        "    self.params['W']=np.random.rand(2,1)\n",
        "    self.params['b']=np.random.rand(1)\n",
        "    self.x_data=x\n",
        "    self.t_data=t\n",
        "\n",
        "  def predict(self,x):\n",
        "    W=self.params['W']\n",
        "    b=self.params['b']\n",
        "    a1=np.dot(x,W)+b\n",
        "    y=sigmoid(a1)\n",
        "    if y>=0.5:\n",
        "      result=1\n",
        "    else:\n",
        "      result=0\n",
        "    return y ,result\n",
        "\n",
        "  def cee(self,x,t):\n",
        "    delta1=1e-7\n",
        "    W=self.params['W']\n",
        "    b=self.params['b']\n",
        "    a1=np.dot(x,W)+b\n",
        "    y=sigmoid(a1)\n",
        "    return -np.sum(t*np.log(y+delta1)+(1-t)*np.log(1-y+delta1))\n",
        "    \n",
        "    \n",
        "  def error_value(self,x,t):\n",
        "    delta=1e-7\n",
        "    W=self.params['W']\n",
        "    b=self.params['b']\n",
        "    a1=x@W+b\n",
        "    y=sigmoid(a1)\n",
        "    return -np.sum(t*np.log(y+delta)+(1-t)*np.log(1-y+delta))\n",
        "  \n",
        "  def train(self):\n",
        "    training_rate=1e-2\n",
        "\n",
        "    f=lambda x: self.cee(self.x_data,self.t_data)\n",
        "\n",
        "    for step in range(10001):\n",
        "      for i in ['W','b']:\n",
        "        self.params[i] -= training_rate * numerical_derivative(f,self.params[i])\n",
        "\n",
        "      if step%2000==0:\n",
        "        print('step:',step,'error value:',self.error_value(self.x_data,self.t_data),'\\n','W:',self.params['W'],'\\n','b:',self.params['b'])"
      ],
      "metadata": {
        "id": "iijyiqRNsV43"
      },
      "execution_count": 236,
      "outputs": []
    },
    {
      "cell_type": "markdown",
      "source": [
        "#AND"
      ],
      "metadata": {
        "id": "cAHZxbDtrtHi"
      }
    },
    {
      "cell_type": "code",
      "source": [
        "x_data=np.array([[0,0],[1,0],[0,1],[1,1]]).reshape(4,2)\n",
        "t_and=np.array([0,0,0,1]).reshape(4,1)\n",
        "print(x_data.shape)\n",
        "print(t_and.shape)"
      ],
      "metadata": {
        "colab": {
          "base_uri": "https://localhost:8080/"
        },
        "id": "a6eyS_6UrsIq",
        "outputId": "ae487d3c-f125-4091-de4f-affced42cad0"
      },
      "execution_count": 237,
      "outputs": [
        {
          "output_type": "stream",
          "name": "stdout",
          "text": [
            "(4, 2)\n",
            "(4, 1)\n"
          ]
        }
      ]
    },
    {
      "cell_type": "code",
      "source": [
        "and_class=find(x_data,t_and)\n",
        "and_class.train()\n",
        "print('0,0:',and_class.predict(np.array([0,0])))\n",
        "print('1,0:',and_class.predict(np.array([1,0])))\n",
        "print('0,1:',and_class.predict(np.array([0,1])))\n",
        "print('1,1:',and_class.predict(np.array([1,1])))\n"
      ],
      "metadata": {
        "colab": {
          "base_uri": "https://localhost:8080/"
        },
        "id": "AEvwV20Mw8jZ",
        "outputId": "3fb57b9b-03fc-4826-d919-15285c52a522"
      },
      "execution_count": 238,
      "outputs": [
        {
          "output_type": "stream",
          "name": "stdout",
          "text": [
            "step: 0 error value: 3.3785169783553752 \n",
            " W: [[0.87666809]\n",
            " [0.15793828]] \n",
            " b: [0.24002274]\n",
            "step: 2000 error value: 0.6577819559111522 \n",
            " W: [[2.75164103]\n",
            " [2.73261754]] \n",
            " b: [-4.3415283]\n",
            "step: 4000 error value: 0.38937996185417517 \n",
            " W: [[3.86657924]\n",
            " [3.86466627]] \n",
            " b: [-5.99642361]\n",
            "step: 6000 error value: 0.27445092770321666 \n",
            " W: [[4.60186277]\n",
            " [4.60148999]] \n",
            " b: [-7.09029483]\n",
            "step: 8000 error value: 0.21098103045935912 \n",
            " W: [[5.14885668]\n",
            " [5.1487508 ]] \n",
            " b: [-7.9059214]\n",
            "step: 10000 error value: 0.17093572942825896 \n",
            " W: [[5.58342697]\n",
            " [5.58338876]] \n",
            " b: [-8.55481807]\n",
            "0,0: (array([0.00019258]), 0)\n",
            "1,0: (array([0.04873519]), 0)\n",
            "0,1: (array([0.04873342]), 0)\n",
            "1,1: (array([0.93162975]), 1)\n"
          ]
        }
      ]
    },
    {
      "cell_type": "code",
      "source": [
        "x=np.arange(0,1.3,0.05)\n",
        "x_1=np.array([0,1,0,1])\n",
        "y_1=np.array([0,0,1,1])\n",
        "y=(and_class.params['W'][0]*x+and_class.params['b'])/(-1*and_class.params['W'][1])\n",
        "\n",
        "plt.plot(x,y)\n",
        "plt.plot(x_1,y_1,'o')\n",
        "plt.xlim(-0.1,1.1)\n",
        "plt.ylim(-0.1,1.1)\n",
        "plt.show()"
      ],
      "metadata": {
        "colab": {
          "base_uri": "https://localhost:8080/",
          "height": 265
        },
        "id": "C6ztZ9ZXCJSF",
        "outputId": "bf2c1734-2237-4774-84da-f57117b9576c"
      },
      "execution_count": 239,
      "outputs": [
        {
          "output_type": "display_data",
          "data": {
            "text/plain": [
              "<Figure size 432x288 with 1 Axes>"
            ],
            "image/png": "[encoded data removed]"
          },
          "metadata": {
            "needs_background": "light"
          }
        }
      ]
    },
    {
      "cell_type": "markdown",
      "source": [
        "#OR"
      ],
      "metadata": {
        "id": "oJ19e-RFCCs3"
      }
    },
    {
      "cell_type": "code",
      "source": [
        "x_data=np.array([[0,0],[1,0],[0,1],[1,1]]).reshape(4,2)\n",
        "t_or=np.array([0,1,1,1]).reshape(4,1)"
      ],
      "metadata": {
        "id": "_815zL_GUO4E"
      },
      "execution_count": 240,
      "outputs": []
    },
    {
      "cell_type": "code",
      "source": [
        "or_class=find(x_data,t_or)\n",
        "or_class.train()\n",
        "print('0,0:',or_class.predict(np.array([0,0])))\n",
        "print('1,0:',or_class.predict(np.array([1,0])))\n",
        "print('0,1:',or_class.predict(np.array([0,1])))\n",
        "print('1,1:',or_class.predict(np.array([1,1])))\n"
      ],
      "metadata": {
        "colab": {
          "base_uri": "https://localhost:8080/"
        },
        "id": "LuMpWWJ9QLhe",
        "outputId": "b2a67f8c-6a2e-4fc9-fff7-2f727981c20d"
      },
      "execution_count": 241,
      "outputs": [
        {
          "output_type": "stream",
          "name": "stdout",
          "text": [
            "step: 0 error value: 2.0564978965420178 \n",
            " W: [[0.11886065]\n",
            " [0.44805874]] \n",
            " b: [0.40642209]\n",
            "step: 2000 error value: 0.43279927160561177 \n",
            " W: [[3.60591048]\n",
            " [3.63787825]] \n",
            " b: [-1.25098586]\n",
            "step: 4000 error value: 0.23296624275666458 \n",
            " W: [[4.91879437]\n",
            " [4.92844885]] \n",
            " b: [-1.95513707]\n",
            "step: 6000 error value: 0.15727498781005225 \n",
            " W: [[5.73297981]\n",
            " [5.73742961]] \n",
            " b: [-2.3780529]\n",
            "step: 8000 error value: 0.11812406447031078 \n",
            " W: [[6.32014585]\n",
            " [6.32266836]] \n",
            " b: [-2.67946168]\n",
            "step: 10000 error value: 0.0943619968212668 \n",
            " W: [[6.77820125]\n",
            " [6.77981531]] \n",
            " b: [-2.91313661]\n",
            "0,0: (array([0.05150798]), 0)\n",
            "1,0: (array([0.9794688]), 1)\n",
            "0,1: (array([0.97950123]), 1)\n",
            "1,1: (array([0.99997618]), 1)\n"
          ]
        }
      ]
    },
    {
      "cell_type": "code",
      "source": [
        "x=np.arange(-0.3,1.3,0.05)\n",
        "x_1=np.array([0,1,0,1])\n",
        "y_1=np.array([0,0,1,1])\n",
        "y=(or_class.params['W'][0]*x+or_class.params['b'])/(-1*or_class.params['W'][1])\n",
        "\n",
        "plt.plot(x,y)\n",
        "plt.plot(x_1,y_1,'o')\n",
        "plt.xlim(-0.1,1.1)\n",
        "plt.ylim(-0.1,1.1)\n",
        "plt.show()"
      ],
      "metadata": {
        "colab": {
          "base_uri": "https://localhost:8080/",
          "height": 265
        },
        "id": "E8aidYvCS4sR",
        "outputId": "f0cb1cac-d9cd-4a82-c0b9-cdf363fc8748"
      },
      "execution_count": 242,
      "outputs": [
        {
          "output_type": "display_data",
          "data": {
            "text/plain": [
              "<Figure size 432x288 with 1 Axes>"
            ],
            "image/png": "[encoded data removed]"
          },
          "metadata": {
            "needs_background": "light"
          }
        }
      ]
    },
    {
      "cell_type": "markdown",
      "source": [
        "#NAND"
      ],
      "metadata": {
        "id": "4_6Jm_AxCFfC"
      }
    },
    {
      "cell_type": "code",
      "source": [
        "x_data=np.array([[0,0],[1,0],[0,1],[1,1]]).reshape(4,2)\n",
        "t_nand=np.array([1,1,1,0]).reshape(4,1)"
      ],
      "metadata": {
        "id": "o-n75QrwywJf"
      },
      "execution_count": 243,
      "outputs": []
    },
    {
      "cell_type": "code",
      "source": [
        "nand_class=find(x_data,t_nand)\n",
        "nand_class.train()\n",
        "print('0,0:',nand_class.predict(np.array([0,0])))\n",
        "print('1,0:',nand_class.predict(np.array([1,0])))\n",
        "print('0,1:',nand_class.predict(np.array([0,1])))\n",
        "print('1,1:',nand_class.predict(np.array([1,1])))"
      ],
      "metadata": {
        "colab": {
          "base_uri": "https://localhost:8080/"
        },
        "id": "-taN19viUwIX",
        "outputId": "d468222c-5d0e-49a5-aa03-349e38c997b6"
      },
      "execution_count": 244,
      "outputs": [
        {
          "output_type": "stream",
          "name": "stdout",
          "text": [
            "step: 0 error value: 2.8218155034634 \n",
            " W: [[0.42394601]\n",
            " [0.58780742]] \n",
            " b: [0.40791849]\n",
            "step: 2000 error value: 0.6829229501899807 \n",
            " W: [[-2.66294839]\n",
            " [-2.6588005 ]] \n",
            " b: [4.22301315]\n",
            "step: 4000 error value: 0.3982770195033536 \n",
            " W: [[-3.81791388]\n",
            " [-3.81751695]] \n",
            " b: [5.92541416]\n",
            "step: 6000 error value: 0.27894638995634735 \n",
            " W: [[-4.56774876]\n",
            " [-4.56767343]] \n",
            " b: [7.03972015]\n",
            "step: 8000 error value: 0.21367003719023298 \n",
            " W: [[-5.12257726]\n",
            " [-5.1225562 ]] \n",
            " b: [7.86677294]\n",
            "step: 10000 error value: 0.1727159551356793 \n",
            " W: [[-5.56207871]\n",
            " [-5.56207119]] \n",
            " b: [8.52294962]\n",
            "0,0: (array([0.99980119]), 1)\n",
            "1,0: (array([0.95077477]), 1)\n",
            "0,1: (array([0.95077512]), 1)\n",
            "1,1: (array([0.06906121]), 0)\n"
          ]
        }
      ]
    },
    {
      "cell_type": "code",
      "source": [
        "x=np.arange(0,1.3,0.05)\n",
        "x_1=np.array([0,1,0,1])\n",
        "y_1=np.array([0,0,1,1])\n",
        "y=(nand_class.params['W'][0]*x+nand_class.params['b'])/(-1*nand_class.params['W'][1])\n",
        "\n",
        "plt.plot(x,y)\n",
        "plt.plot(x_1,y_1,'o')\n",
        "plt.xlim(-0.1,1.1)\n",
        "plt.ylim(-0.1,1.1)\n",
        "plt.show()"
      ],
      "metadata": {
        "colab": {
          "base_uri": "https://localhost:8080/",
          "height": 265
        },
        "id": "-U8H9_VaU4vi",
        "outputId": "7c228c7e-cabd-4cac-a00e-05ecba7ab450"
      },
      "execution_count": 245,
      "outputs": [
        {
          "output_type": "display_data",
          "data": {
            "text/plain": [
              "<Figure size 432x288 with 1 Axes>"
            ],
            "image/png": "[encoded data removed]"
          },
          "metadata": {
            "needs_background": "light"
          }
        }
      ]
    },
    {
      "cell_type": "markdown",
      "source": [
        "#XOR\n",
        "\n",
        "문제의 XOR 퍼셉트론이다 단일 레이터 형태로는 구분이 불가능 하여 다층 레이어를 설계해야한다.\n",
        "\n",
        "\n"
      ],
      "metadata": {
        "id": "cW7l8wtMUipk"
      }
    },
    {
      "cell_type": "code",
      "source": [
        "x_data=np.array([[0,0],[1,0],[0,1],[1,1]]).reshape(4,2)\n",
        "t_xor=np.array([0,1,1,0])"
      ],
      "metadata": {
        "id": "8gwU0hjpsIT-"
      },
      "execution_count": 246,
      "outputs": []
    },
    {
      "cell_type": "code",
      "source": [
        "# NAND와 OR 실행후 나온 값을 AND로 확인 하면 XOR이 나온다.\n",
        "for i in x_data:\n",
        "  a1=nand_class.predict(i)\n",
        "  a2=or_class.predict(i)\n",
        "  y=and_class.predict(np.array([a1[1],a2[1]]))\n",
        "  print(i,y)"
      ],
      "metadata": {
        "colab": {
          "base_uri": "https://localhost:8080/"
        },
        "id": "arN2z6KrsNQF",
        "outputId": "92b0eddf-77e3-4e7a-8f14-2e97ceddea37"
      },
      "execution_count": 247,
      "outputs": [
        {
          "output_type": "stream",
          "name": "stdout",
          "text": [
            "[0 0] (array([0.04873519]), 0)\n",
            "[1 0] (array([0.93162975]), 1)\n",
            "[0 1] (array([0.93162975]), 1)\n",
            "[1 1] (array([0.04873342]), 0)\n"
          ]
        }
      ]
    },
    {
      "cell_type": "code",
      "source": [
        "x_data=np.array([[0,0],[1,0],[0,1],[1,1]]).reshape(4,2)\n",
        "t_xor=np.array([0,1,1,0])"
      ],
      "metadata": {
        "id": "b8KO7MjtuLAY"
      },
      "execution_count": 248,
      "outputs": []
    },
    {
      "cell_type": "code",
      "source": [
        "#NAND 4개를 이용한 함수\n",
        "\n",
        "for i in x_data:\n",
        "  a_1=nand_class.predict(i)\n",
        "  a_2=nand_class.predict(np.array([i[0],a_1[1]]))\n",
        "  a_3=nand_class.predict(np.array([i[1],a_1[1]]))\n",
        "  y=nand_class.predict(np.array([a_2[1],a_3[1]]))\n",
        "  print(i,y)"
      ],
      "metadata": {
        "colab": {
          "base_uri": "https://localhost:8080/"
        },
        "id": "h4Uu-PKqtT6C",
        "outputId": "f25e4c19-a467-49e7-bd85-934f790db264"
      },
      "execution_count": 260,
      "outputs": [
        {
          "output_type": "stream",
          "name": "stdout",
          "text": [
            "[0 0] (array([0.06906121]), 0)\n",
            "[1 0] (array([0.95077512]), 1)\n",
            "[0 1] (array([0.95077477]), 1)\n",
            "[1 1] (array([0.06906121]), 0)\n"
          ]
        }
      ]
    },
    {
      "cell_type": "markdown",
      "source": [
        "#밑에는 위와 다르게 직접 W를 계산 하도록 하는 식을 만들어 볼 것이다."
      ],
      "metadata": {
        "id": "gUUINuQXvJ6t"
      }
    },
    {
      "cell_type": "code",
      "source": [
        "class find_xor:\n",
        "  def __init__(self, x,t):\n",
        "    self.params={}\n",
        "    self.params['W1']=np.random.random(2,2)\n",
        "    self.params['b1']=np.random.random(2)\n",
        "    self.params['W2']=np.random.random(2,1)\n",
        "    self.params['b2']=np.random.rand(1)\n",
        "    self.x_data=x\n",
        "    self.t_data=t\n",
        "\n",
        "  def predict(self,x):\n",
        "    W1=self.params['W1']\n",
        "    b1=self.params['b1']\n",
        "    W2=self.params['W2']\n",
        "    b2=self.params['b2']\n",
        "    a1=np.dot(x,W1)+b1\n",
        "    z1=sigmoid(a1)\n",
        "    a3=np.dot(z1,W2)+b2\n",
        "    y=sigmoid(a3)\n",
        "    if y>=0.5:\n",
        "      result=1\n",
        "    else:\n",
        "      result=0\n",
        "    return y ,result\n",
        "\n",
        "  def cee(self,x,t):\n",
        "    delta1=1e-6\n",
        "    W1=self.params['W1']\n",
        "    b1=self.params['b1']\n",
        "    W2=self.params['W2']\n",
        "    b2=self.params['b2']\n",
        "    a1=np.dot(x,W1)+b1\n",
        "    z1=sigmoid(a1)\n",
        "    a3=np.dot(z1,W2)+b2\n",
        "    y=sigmoid(a3)\n",
        "    return -np.sum(t*np.log(y+delta1)+(1-t)*np.log(1-y+delta1))\n",
        "    \n",
        "    \n",
        "  def error_value(self,x,t):\n",
        "    delta=1e-6\n",
        "    W1=self.params['W1']\n",
        "    b1=self.params['b1']\n",
        "    W2=self.params['W2']\n",
        "    b2=self.params['b2']\n",
        "    a1=np.dot(x,W1)+b1\n",
        "    z1=sigmoid(a1)\n",
        "    a3=np.dot(z1,W2)+b2\n",
        "    y=sigmoid(a3)\n",
        "    return -np.sum(t*np.log(y+delta)+(1-t)*np.log(1-y+delta))\n",
        "  \n",
        "  def train(self):\n",
        "    training_rate=1e-4\n",
        "\n",
        "    f=lambda x: self.cee(self.x_data,self.t_data)\n",
        "\n",
        "    for step in range(10001):\n",
        "      for i in ['W1','b1','W2','b2']:\n",
        "        self.params[i] -= training_rate * numerical_derivative(f,self.params[i])\n",
        "\n",
        "      if step%2000==0:\n",
        "        print('\\nstep:',step,'error value:',self.error_value(self.x_data,self.t_data),'\\n')\n",
        "        for idx in ['W1','b1','W2','b2']:\n",
        "          print('{0:}={1:}'.format(idx,self.params[idx]))"
      ],
      "metadata": {
        "id": "eFFhZOddVUVy"
      },
      "execution_count": 261,
      "outputs": []
    },
    {
      "cell_type": "code",
      "source": [
        "x_data=np.array([[0,0],[1,0],[0,1],[1,1]]).reshape(4,2)\n",
        "t_xor=np.array([0,1,1,0])"
      ],
      "metadata": {
        "id": "aNIAAs4gUkLD"
      },
      "execution_count": null,
      "outputs": []
    },
    {
      "cell_type": "code",
      "source": [
        "xor_class=find_xor(x_data,t_xor)\n",
        "xor_class.train()\n",
        "\n",
        "print('0,0:',xor_class.predict(np.array([0,0])))\n",
        "print('1,0:',xor_class.predict(np.array([1,0])))\n",
        "print('0,1:',xor_class.predict(np.array([0,1])))\n",
        "print('1,1:',xor_class.predict(np.array([1,1])))"
      ],
      "metadata": {
        "id": "BFgervo_g8sJ"
      },
      "execution_count": null,
      "outputs": []
    }
  ]
}