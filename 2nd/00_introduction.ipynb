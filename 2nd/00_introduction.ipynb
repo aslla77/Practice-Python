{
  "nbformat": 4,
  "nbformat_minor": 0,
  "metadata": {
    "colab": {
      "name": "00_introduction.ipynb",
      "provenance": [],
      "collapsed_sections": [],
      "mount_file_id": "1yP_mJ8asKjDLao8HfNsOCD4HDXuHgq2V",
      "authorship_tag": "ABX9TyOOy8CAePOSKu66DigENK/Q",
      "include_colab_link": true
    },
    "kernelspec": {
      "name": "python3",
      "display_name": "Python 3"
    },
    "language_info": {
      "name": "python"
    }
  },
  "cells": [
    {
      "cell_type": "markdown",
      "metadata": {
        "id": "view-in-github",
        "colab_type": "text"
      },
      "source": [
        "<a href=\"https://colab.research.google.com/github/aslla77/practice-Python/blob/main/2nd/00_introduction.ipynb\" target=\"_parent\"><img src=\"https://colab.research.google.com/assets/colab-badge.svg\" alt=\"Open In Colab\"/></a>"
      ]
    },
    {
      "cell_type": "markdown",
      "source": [
        "#파이썬 만으로 머신러닝과 딥러닝을 구현\n",
        "###4차 산업 혁명\n",
        "2016년 스위스 다보스에서 개최된 세계경제 포럼에서 처음 언급됨\n",
        "\n",
        "학자에 따라 정의는 조금씩 다르지만, 대체로 **4차 산업혁멱**은 **모든 것이 연결(Connectivity)되어 있는 환경에서 인공지능(Artificial intelligence)에 의해 더욱 편리하고 지능적인 사회로의 혁신적 변화**를 지칭함\n",
        "\n",
        "$$인공지능 \\supset 머신러닝 \\supset 딥러닝 $$\n",
        "\n",
        "###머신러닝 (Machine Learning /Regression, Classification, Neural Network, SVM)\n",
        "데이터를 이용하여 명시적으로 정의되지 않은 패턴을 학습하여 미래 결과(값,분포)를 예측\n",
        "\n",
        "*데이터마이닝*:데이터간의 상관관계나 속성을 찾는 것이 주목적\n",
        "\n",
        "\n",
        "\n",
        "###딥러닝(Deep Learning / CNN, RNN, LSTM)\n",
        "머신러닝의 한 분야로서 신경망(Neural Network)을 통하여 학습하는 알고리즘의 집합"
      ],
      "metadata": {
        "id": "v0TJqixL32SL"
      }
    },
    {
      "cell_type": "markdown",
      "source": [
        "##머신러닝 프레임워크(Framework) 사용단점 \n",
        "\n",
        "\n",
        "*   머신러닝의 알고리즘을 API로 추상화 함으로 개발을 쉽고 빠르게 할 수 있지만 ,동작원리와 내부 구현을 자세히 알 수 없는 블랙박스로  동작함\n",
        "\n",
        "## 파이썬 직접 구현의 장점\n",
        "*   머신러닝 동작 원리를 자세히 알 수 있고 알고리즘에 대한 깊은 이해 가능 \n",
        "*   새로운 머신러닝 알고리즘이 나왔을 떄 빠르게 코드를 이해할 수 있는 insight 획득\n",
        "\n",
        "\n",
        "\n"
      ],
      "metadata": {
        "id": "oO0sqttS5u1u"
      }
    },
    {
      "cell_type": "markdown",
      "source": [
        "Youtube: \n",
        "https://www.youtube.com/watch?v=vcCaSBJpsHk&list=PLS8gIc2q83OjStGjdTF2LZtc0vefCAbnX"
      ],
      "metadata": {
        "id": "aiA-cuNq7Utn"
      }
    },
    {
      "cell_type": "markdown",
      "source": [
        "#Schedule\n",
        "\n",
        "1. Python\n",
        " * 데이터 타입,제어문,함수,클래스,라이브러리\n",
        "\n",
        "2. Numerical Derivative\n",
        " * 미분,편미분,체인 룰 및 수치미분 구현\n",
        "\n",
        "3. Regression(simple/multi-variable)\n",
        " * 동작원리, 손실함수 및 python 예제(수치미분활용)\n",
        "\n",
        "4. Classification(simple/multi-variable)\n",
        " * 동작원리, 손실함수 및 python 예제(수치미분활용)\n",
        "\n",
        "5. NeuralNetwork\n",
        " * forward/ backword propagation, python MNIST 예제(수치미분, 공식활용)\n",
        "\n",
        "6. [Option] CNN (Convolutional Neural Network)\n",
        " * 개념, 동작원리 , python 예제\n",
        "\n"
      ],
      "metadata": {
        "id": "bEZ0lQG37chH"
      }
    },
    {
      "cell_type": "code",
      "execution_count": null,
      "metadata": {
        "id": "PULwejVCz1SI"
      },
      "outputs": [],
      "source": [
        ""
      ]
    }
  ]
}