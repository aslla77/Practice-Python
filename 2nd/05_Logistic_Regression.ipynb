{
  "nbformat": 4,
  "nbformat_minor": 0,
  "metadata": {
    "colab": {
      "name": "05_Logistic Regression.ipynb",
      "provenance": [],
      "collapsed_sections": [],
      "mount_file_id": "1F5-ujS9f8QPh0lYBdQAKhetyenXujsvq",
      "authorship_tag": "ABX9TyO9+vx+RUvXvBohstCEobXQ",
      "include_colab_link": true
    },
    "kernelspec": {
      "name": "python3",
      "display_name": "Python 3"
    },
    "language_info": {
      "name": "python"
    }
  },
  "cells": [
    {
      "cell_type": "markdown",
      "metadata": {
        "id": "view-in-github",
        "colab_type": "text"
      },
      "source": [
        "<a href=\"https://colab.research.google.com/github/aslla77/practice-Python/blob/main/2nd/05_Logistic_Regression.ipynb\" target=\"_parent\"><img src=\"https://colab.research.google.com/assets/colab-badge.svg\" alt=\"Open In Colab\"/></a>"
      ]
    },
    {
      "cell_type": "markdown",
      "source": [
        "#분류 (Classification)\n",
        "\n",
        "트레이닝 데이터 특성과 관계 등을 팍악 한후에, 미지의 입력 데이터에 대해서 경과가 어떤 종류의 값으로 분류 될 수 있는지를 예측하는 것\n",
        "\n",
        "ex) 스팸 문자 분류, 암판별\n",
        "\n",
        "입력 (x,t) >>> Regression >>>>classification >>>True/False"
      ],
      "metadata": {
        "id": "lMHgPdJSz5Lq"
      }
    },
    {
      "cell_type": "code",
      "execution_count": 3,
      "metadata": {
        "id": "c21zRZwoyxpI"
      },
      "outputs": [],
      "source": [
        "import numpy as np\n",
        "import matplotlib.pyplot as plt\n"
      ]
    },
    {
      "cell_type": "code",
      "source": [
        "def sigmoid(x):\n",
        "  return 1/(1+np.exp(-x))"
      ],
      "metadata": {
        "id": "E7_iuH-RACK2"
      },
      "execution_count": 5,
      "outputs": []
    },
    {
      "cell_type": "markdown",
      "source": [
        "#CEE (Cross Entropy Error)\n",
        "\n",
        "\n",
        "$$ p(C=t|x)=y^t(1-y)^{1-t}$$\n",
        "\n",
        "확률 변수 C는 0이나 1 밖에는 값을 가질 수 없으므로, (즉, 정답 t=0 or 1) 위와 같이 나타남\n",
        "\n",
        "\n",
        "$$ L(W,b)= \\prod_{i=1}^N p(C=t_i|xi)=\\prod_{i=1}^N{y_i}^{t_i}(1-y_i)^{1-t_i} $$\n",
        "\n",
        "\n",
        "\n",
        "$$ E(W,b)= -logL(W,b)=-\\sum_{i=1}^n ({t_ilogy_i+(1-t_i)log(1-y_i)}) $$"
      ],
      "metadata": {
        "id": "cVYQLvoMBV17"
      }
    },
    {
      "cell_type": "markdown",
      "source": [
        "#영상 보기전 혼자 짜본 코드\n",
        "\n",
        "키가 180 이상이면 타는 놀이기구를 생각하고 만들어보았습니다\n",
        "\n",
        "하지만 결과 값이 예상과 다르게 나와 고민했습니다. \n",
        "\n",
        "결과적으론 180이라는 숫자가 매우 커서 분석할 때 잘 돌아가지 않는 모습을 볼 수 있었습니다. \n",
        "\n",
        "그래서 표본에서 -180을 하여 0(180)을 기준으로 1과 0이 나오게 하여 실행하였습니다."
      ],
      "metadata": {
        "id": "HkGkbj74HZkl"
      }
    },
    {
      "cell_type": "code",
      "source": [
        "x_train=np.array([[160.,140.,190.,180.,120.,187.,154.,123.,150.,199.,200.]])-180\n",
        "x_train=x_train.reshape(x_train.shape[1],1)\n",
        "t_train=np.array([0,0,1,1,0,1,0,0,0,1,1]).reshape(x_train.shape[0],1)\n",
        "\n",
        "\n",
        "W=np.random.rand(1,1)\n",
        "b=np.random.rand(1)\n",
        "print(W,b)\n",
        "\n",
        "plt.plot(x_train,t_train,'o')\n",
        "plt.grid()\n",
        "plt.show()\n",
        "\n",
        "print(x_train)\n",
        "print(t_train)"
      ],
      "metadata": {
        "colab": {
          "base_uri": "https://localhost:8080/",
          "height": 676
        },
        "id": "sYZZmk1sAOwf",
        "outputId": "bc7d057c-0324-4b32-b64a-23de997647ea"
      },
      "execution_count": 150,
      "outputs": [
        {
          "output_type": "stream",
          "name": "stdout",
          "text": [
            "[[0.491051]] [0.22174887]\n"
          ]
        },
        {
          "output_type": "display_data",
          "data": {
            "text/plain": [
              "<Figure size 432x288 with 1 Axes>"
            ],
            "image/png": "[encoded data removed]"
          },
          "metadata": {
            "needs_background": "light"
          }
        },
        {
          "output_type": "stream",
          "name": "stdout",
          "text": [
            "[[-20.]\n",
            " [-40.]\n",
            " [ 10.]\n",
            " [  0.]\n",
            " [-60.]\n",
            " [  7.]\n",
            " [-26.]\n",
            " [-57.]\n",
            " [-30.]\n",
            " [ 19.]\n",
            " [ 20.]]\n",
            "[[0]\n",
            " [0]\n",
            " [1]\n",
            " [1]\n",
            " [0]\n",
            " [1]\n",
            " [0]\n",
            " [0]\n",
            " [0]\n",
            " [1]\n",
            " [1]]\n"
          ]
        }
      ]
    },
    {
      "cell_type": "code",
      "source": [
        "\n",
        "def numerical_derivative(f,x):\n",
        "  delta1=1e-4\n",
        "  grads=np.zeros_like(x)\n",
        "  it=np.nditer(x,flags=['multi_index'],op_flags=['readwrite'])\n",
        "\n",
        "  while not it.finished:\n",
        "    idx=it.multi_index\n",
        "    tmp_value=x[idx]\n",
        "    x[idx]=float(tmp_value)+delta1\n",
        "    fx1=f(x)\n",
        "\n",
        "    x[idx]=float(tmp_value)-delta1\n",
        "    fx2=f(x)\n",
        "\n",
        "    grads[idx]=(fx1-fx2)/(2*delta1)\n",
        "\n",
        "    x[idx]=tmp_value\n",
        "    it.iternext()\n",
        "\n",
        "  return grads\n",
        "\n",
        "def sigmoid(x):\n",
        "  return 1/(1+np.exp(-x))\n",
        "\n",
        "def sorftmax(x):\n",
        "  c=np.max(x)\n",
        "  x=x-c\n",
        "  return np.exp(x)/(np.sum(np.exp(x)))\n",
        "\n",
        "def predict(x):\n",
        "  a1=np.dot(x,W)+b\n",
        "  y=sigmoid(a1)\n",
        "  # z1=sigmoid(a1)\n",
        "  # y=sorftmax(z1)\n",
        "  if y>0.5:\n",
        "    result=1\n",
        "  else:\n",
        "    result=0\n",
        "  return y ,result\n",
        "\n",
        "def error_value(x,t):\n",
        "  delta=1e-6\n",
        "  a1=np.dot(x,W)+b\n",
        "  y=sigmoid(a1)\n",
        "  # z1=sigmoid(a1)\n",
        "  # y=sorftmax(z1)\n",
        "  return np.sum(t*np.log(y+delta)+(1-t)*np.log(1-y+delta))\n",
        "\n",
        "def cee(x,t):\n",
        "  delta=1e-6\n",
        "  a1=np.dot(x,W)+b\n",
        "  y=sigmoid(a1)\n",
        "  # z1=sigmoid(a1)\n",
        "  # y=sorftmax(z1)\n",
        "\n",
        "  return -np.sum(t*np.log(y+delta)+(1-t)*np.log(1-y+delta))\n",
        "\n",
        "trainning_late=1e-4\n",
        "fx= lambda x : cee(x_train,t_train)\n",
        "\n",
        "for step in range(1000):\n",
        "  W-= trainning_late*numerical_derivative(fx,W)\n",
        "  b-= trainning_late*numerical_derivative(fx,b)\n",
        "  if step%100==0:\n",
        "    print('step:',step,'error value:',error_value(x_train,t_train),'\\n','W:',W,'b:',b)\n",
        "\n",
        "print('190:',predict(190-180))\n",
        "print('180:',predict(180-180))\n",
        "print('179:',predict(179-180))\n",
        "print('170:',predict(170-180))\n",
        "print('160:',predict(160-180))\n",
        "print('150:',predict(150-180))"
      ],
      "metadata": {
        "colab": {
          "base_uri": "https://localhost:8080/"
        },
        "id": "IO8FEwiJEB0J",
        "outputId": "211727a7-06d5-419e-d397-d234ef678815"
      },
      "execution_count": 151,
      "outputs": [
        {
          "output_type": "stream",
          "name": "stdout",
          "text": [
            "step: 0 error value: -0.6198683385639916 \n",
            " W: [[0.49107481]] b: [0.22179645]\n",
            "step: 100 error value: -0.617059370382195 \n",
            " W: [[0.49342866]] b: [0.22654509]\n",
            "step: 200 error value: -0.6142924087756639 \n",
            " W: [[0.49572963]] b: [0.23127538]\n",
            "step: 300 error value: -0.6115655612759153 \n",
            " W: [[0.4979799]] b: [0.23598763]\n",
            "step: 400 error value: -0.6088770763438257 \n",
            " W: [[0.50018148]] b: [0.24068214]\n",
            "step: 500 error value: -0.6062253299627209 \n",
            " W: [[0.50233629]] b: [0.24535918]\n",
            "step: 600 error value: -0.6036088137499589 \n",
            " W: [[0.50444613]] b: [0.25001904]\n",
            "step: 700 error value: -0.6010261243888328 \n",
            " W: [[0.50651268]] b: [0.25466196]\n",
            "step: 800 error value: -0.5984759542117747 \n",
            " W: [[0.50853756]] b: [0.25928819]\n",
            "step: 900 error value: -0.5959570827902034 \n",
            " W: [[0.51052227]] b: [0.26389797]\n",
            "190: (array([[0.995472]]), 1)\n",
            "180: (array([[0.56671128]]), 1)\n",
            "179: (array([[0.43930003]]), 0)\n",
            "170: (array([[0.00772112]]), 0)\n",
            "160: (array([[4.62901909e-05]]), 0)\n",
            "150: (array([[2.75404644e-07]]), 0)\n"
          ]
        }
      ]
    },
    {
      "cell_type": "code",
      "source": [
        "y=W*x_train+b\n",
        "\n",
        "plt.plot(x_train,t_train,'o')\n",
        "plt.plot(x_train,y)\n",
        "plt.grid()\n",
        "plt.show()"
      ],
      "metadata": {
        "colab": {
          "base_uri": "https://localhost:8080/",
          "height": 265
        },
        "id": "faJ4Q7VfICTB",
        "outputId": "3c0e723c-b5f4-4324-d4a2-cfb2fbe216cd"
      },
      "execution_count": 152,
      "outputs": [
        {
          "output_type": "display_data",
          "data": {
            "text/plain": [
              "<Figure size 432x288 with 1 Axes>"
            ],
            "image/png": "[encoded data removed]"
          },
          "metadata": {
            "needs_background": "light"
          }
        }
      ]
    },
    {
      "cell_type": "markdown",
      "source": [
        "#다시 강의 내용\n",
        "\n",
        "단일 인풋은 생략 후 멀티 인풋을 기준으로 시작"
      ],
      "metadata": {
        "id": "HSYm9Czwle9M"
      }
    },
    {
      "cell_type": "code",
      "source": [
        "x_data=np.array([[2,4],[4,11],[6,6],[8,5],[10,7],[12,15],[14,8],[15,3],[18,7]])\n",
        "t_data=np.array([0,0,0,0,1,1,1,1,1,]).reshape(9,1)\n",
        "\n",
        "\n",
        "W1=np.random.rand(2,1)\n",
        "b1=np.random.rand(1)\n",
        "print(W1,b1)\n"
      ],
      "metadata": {
        "colab": {
          "base_uri": "https://localhost:8080/"
        },
        "id": "i72QjR1flAma",
        "outputId": "7dd4e9c5-92cf-4475-e76e-cdea3e42d977"
      },
      "execution_count": 155,
      "outputs": [
        {
          "output_type": "stream",
          "name": "stdout",
          "text": [
            "[[0.97779924]\n",
            " [0.78666942]] [0.40110215]\n"
          ]
        }
      ]
    },
    {
      "cell_type": "code",
      "source": [
        "def predict(x):\n",
        "  a1=np.dot(x,W1)+b1\n",
        "  y=sigmoid(a1)\n",
        "  if y>0.5:\n",
        "    result=1\n",
        "  else:\n",
        "    result=0\n",
        "  return y ,result\n",
        "\n",
        "def cee1(x,t):\n",
        "  delta=1e-6\n",
        "  a1=np.dot(x,W1)+b1\n",
        "  y=sigmoid(a1)\n",
        "  return -np.sum(t*np.log(y+delta)+(1-t)*np.log(1-y+delta))\n",
        "\n",
        "def error_value(x,t):\n",
        "  delta=1e-6\n",
        "  a1=np.dot(x,W1)+b1\n",
        "  y=sigmoid(a1)\n",
        "\n",
        "  return np.sum(t*np.log(y+delta)+(1-t)*np.log(1-y+delta))\n",
        "\n",
        "\n",
        "trainning_late=1e-4\n",
        "fx= lambda x : cee1(x_data,t_data)\n",
        "\n",
        "for step in range(1000):\n",
        "  W1-= trainning_late*numerical_derivative(fx,W1)\n",
        "  b1-= trainning_late*numerical_derivative(fx,b1)\n",
        "  if step%100==0:\n",
        "    print('step:',step,'error value:',error_value(x_data,t_data),'\\n','W:',W1,'\\n','b:',b1)\n",
        "\n",
        "print('12,0:',predict(np.array([12,0])))\n",
        "print('9,3:',predict(np.array([9,3])))\n",
        "print('6,6:',predict(np.array([6,6])))\n",
        "print('3,9:',predict(np.array([3,9])))"
      ],
      "metadata": {
        "colab": {
          "base_uri": "https://localhost:8080/"
        },
        "id": "kK5SXZXqltlv",
        "outputId": "433cc331-c286-4062-db81-a824ae27b71d"
      },
      "execution_count": 163,
      "outputs": [
        {
          "output_type": "stream",
          "name": "stdout",
          "text": [
            "step: 0 error value: -3.8782186365237883 \n",
            " W: [[ 0.31176437]\n",
            " [-0.2319042 ]] \n",
            " b: [-0.29652432]\n",
            "step: 100 error value: -3.869753251714186 \n",
            " W: [[ 0.3122124 ]\n",
            " [-0.23137261]] \n",
            " b: [-0.30569935]\n",
            "step: 200 error value: -3.861324186815436 \n",
            " W: [[ 0.31265888]\n",
            " [-0.23084156]] \n",
            " b: [-0.31485467]\n",
            "step: 300 error value: -3.8529312597653784 \n",
            " W: [[ 0.31310392]\n",
            " [-0.23031115]] \n",
            " b: [-0.32399034]\n",
            "step: 400 error value: -3.844574289345642 \n",
            " W: [[ 0.31354765]\n",
            " [-0.22978151]] \n",
            " b: [-0.33310641]\n",
            "step: 500 error value: -3.83625309514771 \n",
            " W: [[ 0.31399015]\n",
            " [-0.22925273]] \n",
            " b: [-0.34220295]\n",
            "step: 600 error value: -3.8279674975468554 \n",
            " W: [[ 0.31443153]\n",
            " [-0.22872488]] \n",
            " b: [-0.35128001]\n",
            "step: 700 error value: -3.8197173176823305 \n",
            " W: [[ 0.31487186]\n",
            " [-0.22819805]] \n",
            " b: [-0.36033764]\n",
            "step: 800 error value: -3.8115023774424297 \n",
            " W: [[ 0.3153112]\n",
            " [-0.2276723]] \n",
            " b: [-0.36937591]\n",
            "step: 900 error value: -3.803322499453338 \n",
            " W: [[ 0.31574962]\n",
            " [-0.22714768]] \n",
            " b: [-0.37839487]\n",
            "12,0: (array([0.96791914]), 1)\n",
            "9,3: (array([0.85550564]), 1)\n",
            "6,6: (array([0.53743366]), 1)\n",
            "3,9: (array([0.18566596]), 0)\n"
          ]
        }
      ]
    },
    {
      "cell_type": "markdown",
      "source": [
        "위의 예제는 인덱스0은 예습 1은 복습으로\n",
        "예습이 많아야 시험에 통과(1)가 되는 걸 확인 할 수 있었다.\n",
        "그 이유는 W1이 W2보다 가중치 비중이 높게 나와서이다"
      ],
      "metadata": {
        "id": "wtPmbAFHnTu3"
      }
    }
  ]
}