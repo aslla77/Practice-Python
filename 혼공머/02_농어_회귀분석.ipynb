{
  "nbformat": 4,
  "nbformat_minor": 0,
  "metadata": {
    "colab": {
      "provenance": [],
      "authorship_tag": "ABX9TyNIywT0QeqAQ4BtoCKnC3kS",
      "include_colab_link": true
    },
    "kernelspec": {
      "name": "python3",
      "display_name": "Python 3"
    },
    "language_info": {
      "name": "python"
    }
  },
  "cells": [
    {
      "cell_type": "markdown",
      "metadata": {
        "id": "view-in-github",
        "colab_type": "text"
      },
      "source": [
        "<a href=\"https://colab.research.google.com/github/aslla77/practice-Python/blob/main/%ED%98%BC%EA%B3%B5%EB%A8%B8/02_%EB%86%8D%EC%96%B4_%ED%9A%8C%EA%B7%80%EB%B6%84%EC%84%9D.ipynb\" target=\"_parent\"><img src=\"https://colab.research.google.com/assets/colab-badge.svg\" alt=\"Open In Colab\"/></a>"
      ]
    },
    {
      "cell_type": "code",
      "execution_count": 2,
      "metadata": {
        "id": "41yZ6E4X9O6L"
      },
      "outputs": [],
      "source": [
        "import numpy as np \n",
        "import sklearn \n",
        "import matplotlib.pyplot as plt"
      ]
    },
    {
      "cell_type": "code",
      "source": [
        "perch_length = np.array([8.4, 13.7, 15.0, 16.2, 17.4, 18.0, 18.7, 19.0, 19.6, 20.0, 21.0,\n",
        "       21.0, 21.0, 21.3, 22.0, 22.0, 22.0, 22.0, 22.0, 22.5, 22.5, 22.7,\n",
        "       23.0, 23.5, 24.0, 24.0, 24.6, 25.0, 25.6, 26.5, 27.3, 27.5, 27.5,\n",
        "       27.5, 28.0, 28.7, 30.0, 32.8, 34.5, 35.0, 36.5, 36.0, 37.0, 37.0,\n",
        "       39.0, 39.0, 39.0, 40.0, 40.0, 40.0, 40.0, 42.0, 43.0, 43.0, 43.5,\n",
        "       44.0])\n",
        "perch_weight = np.array([5.9, 32.0, 40.0, 51.5, 70.0, 100.0, 78.0, 80.0, 85.0, 85.0, 110.0,\n",
        "       115.0, 125.0, 130.0, 120.0, 120.0, 130.0, 135.0, 110.0, 130.0,\n",
        "       150.0, 145.0, 150.0, 170.0, 225.0, 145.0, 188.0, 180.0, 197.0,\n",
        "       218.0, 300.0, 260.0, 265.0, 250.0, 250.0, 300.0, 320.0, 514.0,\n",
        "       556.0, 840.0, 685.0, 700.0, 700.0, 690.0, 900.0, 650.0, 820.0,\n",
        "       850.0, 900.0, 1015.0, 820.0, 1100.0, 1000.0, 1100.0, 1000.0,\n",
        "       1000.0])"
      ],
      "metadata": {
        "id": "EKSMpsyG9lcT"
      },
      "execution_count": 11,
      "outputs": []
    },
    {
      "cell_type": "code",
      "source": [
        "plt.scatter(perch_length,perch_weight)\n",
        "plt.xlabel('length')\n",
        "plt.ylabel('weight')\n",
        "plt.show()"
      ],
      "metadata": {
        "colab": {
          "base_uri": "https://localhost:8080/",
          "height": 279
        },
        "id": "fwwuchrc-AIU",
        "outputId": "12491fdc-066e-4e5a-8a07-93dda2aaa625"
      },
      "execution_count": 12,
      "outputs": [
        {
          "output_type": "display_data",
          "data": {
            "text/plain": [
              "<Figure size 432x288 with 1 Axes>"
            ],
            "image/png": "[encoded data removed]"
          },
          "metadata": {
            "needs_background": "light"
          }
        }
      ]
    },
    {
      "cell_type": "code",
      "source": [
        "from sklearn.model_selection import train_test_split\n",
        "train_input,test_input,train_target,test_target=train_test_split(perch_length,perch_weight, random_state=42)"
      ],
      "metadata": {
        "id": "JZebMCwS-QiF"
      },
      "execution_count": 13,
      "outputs": []
    },
    {
      "cell_type": "code",
      "source": [
        "print(train_input.shape, test_input.shape)\n",
        "train_input=train_input.reshape(-1,1)\n",
        "test_input=test_input.reshape(-1,1)\n",
        "print(train_input.shape, test_input.shape)"
      ],
      "metadata": {
        "colab": {
          "base_uri": "https://localhost:8080/"
        },
        "id": "aPVpkTkE-nUW",
        "outputId": "e65f3ab6-14c0-473d-c73a-a61711cca0d5"
      },
      "execution_count": 14,
      "outputs": [
        {
          "output_type": "stream",
          "name": "stdout",
          "text": [
            "(42,) (14,)\n",
            "(42, 1) (14, 1)\n"
          ]
        }
      ]
    },
    {
      "cell_type": "markdown",
      "source": [
        "#결정계수 ($R^2$)\n",
        "- k-최근접 이웃 회귀 알고리즘을 구현한 클래스는 KNeighborsRegressor 이다"
      ],
      "metadata": {
        "id": "4VcNK5T3AeX4"
      }
    },
    {
      "cell_type": "code",
      "source": [
        "from sklearn.neighbors import KNeighborsRegressor"
      ],
      "metadata": {
        "id": "Ncc9bq4G_d2Y"
      },
      "execution_count": 15,
      "outputs": []
    },
    {
      "cell_type": "code",
      "source": [
        "knr= KNeighborsRegressor()\n",
        "\n",
        "knr.fit(train_input,train_target)"
      ],
      "metadata": {
        "colab": {
          "base_uri": "https://localhost:8080/"
        },
        "id": "UoI7gM7yBBUv",
        "outputId": "a528dd71-c35e-4f40-9594-c0d4aeab3fff"
      },
      "execution_count": 18,
      "outputs": [
        {
          "output_type": "execute_result",
          "data": {
            "text/plain": [
              "KNeighborsRegressor()"
            ]
          },
          "metadata": {},
          "execution_count": 18
        }
      ]
    },
    {
      "cell_type": "code",
      "source": [
        "print(knr.score(test_input,test_target))"
      ],
      "metadata": {
        "colab": {
          "base_uri": "https://localhost:8080/"
        },
        "id": "fPvw2iIfBGSd",
        "outputId": "b66d7fc8-9b5d-47f3-8506-bcb4c57ff39b"
      },
      "execution_count": 19,
      "outputs": [
        {
          "output_type": "stream",
          "name": "stdout",
          "text": [
            "0.992809406101064\n"
          ]
        }
      ]
    },
    {
      "cell_type": "markdown",
      "source": [
        "위의 0.9928...의 점수가 결정 계수이다 \n",
        "\n",
        "$$ R^2=1- {{(타깃- 예측)^2의 합} \\over {(타깃- 평균)^2의 합 }}$$\n"
      ],
      "metadata": {
        "id": "sjDAFVt1BfXN"
      }
    },
    {
      "cell_type": "code",
      "source": [
        "from sklearn.metrics import mean_absolute_error\n",
        "\n",
        "test_predic=knr.predict(test_input)\n",
        "\n",
        "mae=mean_absolute_error(test_target,test_predic)\n",
        "print(mae)"
      ],
      "metadata": {
        "colab": {
          "base_uri": "https://localhost:8080/"
        },
        "id": "cUed1dA2BYp4",
        "outputId": "d615acf4-73a9-4ef5-a9a1-3c877958d5dc"
      },
      "execution_count": 20,
      "outputs": [
        {
          "output_type": "stream",
          "name": "stdout",
          "text": [
            "19.157142857142862\n"
          ]
        }
      ]
    },
    {
      "cell_type": "code",
      "source": [
        "print(knr.score(train_input,train_target))"
      ],
      "metadata": {
        "colab": {
          "base_uri": "https://localhost:8080/"
        },
        "id": "oHjbzIJ-DhEi",
        "outputId": "09e0cc3a-5213-48f3-8df9-ab25cc7abe3f"
      },
      "execution_count": 21,
      "outputs": [
        {
          "output_type": "stream",
          "name": "stdout",
          "text": [
            "0.9698823289099254\n"
          ]
        }
      ]
    },
    {
      "cell_type": "markdown",
      "source": [
        "테스트 score 0.9928... 훈련 score  0.9698...\n",
        "\n",
        "#과대 적합\n",
        "- 훈련세트에서는 점수가 잘 나오나 테스트 세트에서 점수가 잘 나오지 않아 생기는 현상\n",
        "- 훈련세트에서만 잘 작동함\n",
        "\n",
        "#과소 적합\n",
        "- 테스트세트에서는 점수가 잘 나오나 훈련세트에서 점수가 잘 나오지 않는 경우\n",
        "- 또는 두점수 다 낮게 나오는 경우\n",
        "- 모델이 너무 단순하거나 데이터세트가 매우 작은 경우\n",
        "\n",
        "##우리는 과소 적합으로 볼수도 있다.\n"
      ],
      "metadata": {
        "id": "cUZWrfg8C-mD"
      }
    },
    {
      "cell_type": "code",
      "source": [
        "knr.n_neighbors=3\n",
        "\n",
        "knr.fit(train_input,train_target)\n",
        "print(knr.score(train_input,train_target))"
      ],
      "metadata": {
        "colab": {
          "base_uri": "https://localhost:8080/"
        },
        "id": "nToFeX34Cr3U",
        "outputId": "767727f5-f30b-4bc8-fef8-d33365e1aed5"
      },
      "execution_count": 22,
      "outputs": [
        {
          "output_type": "stream",
          "name": "stdout",
          "text": [
            "0.9804899950518966\n"
          ]
        }
      ]
    },
    {
      "cell_type": "code",
      "source": [
        "print(knr.score(test_input,test_target))"
      ],
      "metadata": {
        "colab": {
          "base_uri": "https://localhost:8080/"
        },
        "id": "YYdm5Ng5EaZE",
        "outputId": "f089b037-5a28-4a10-9465-f7c944188289"
      },
      "execution_count": 23,
      "outputs": [
        {
          "output_type": "stream",
          "name": "stdout",
          "text": [
            "0.9746459963987609\n"
          ]
        }
      ]
    },
    {
      "cell_type": "code",
      "source": [
        "knr=KNeighborsRegressor()\n",
        "\n",
        "x=np.arange(5,45).reshape(-1,1)\n",
        "\n",
        "for i in [1,5,10]:\n",
        "  knr.n_neighbors=i\n",
        "  knr.fit(train_input,train_target)\n",
        "  predict=knr.predict(x)\n",
        "\n",
        "  plt.scatter(train_input,train_target)\n",
        "  plt.plot(x,predict)\n",
        "  plt.title('n_neighbors={}'.format(i))\n",
        "  plt.xlabel('lenght')\n",
        "  plt.ylabel('weight')\n",
        "  plt.show()"
      ],
      "metadata": {
        "colab": {
          "base_uri": "https://localhost:8080/",
          "height": 851
        },
        "id": "wucZwWsQEgJf",
        "outputId": "cb4bbfa3-e397-4bbc-a576-284551e40ab1"
      },
      "execution_count": 24,
      "outputs": [
        {
          "output_type": "display_data",
          "data": {
            "text/plain": [
              "<Figure size 432x288 with 1 Axes>"
            ],
            "image/png": "[encoded data removed]"
          },
          "metadata": {
            "needs_background": "light"
          }
        },
        {
          "output_type": "display_data",
          "data": {
            "text/plain": [
              "<Figure size 432x288 with 1 Axes>"
            ],
            "image/png": "[encoded data removed]"
          },
          "metadata": {
            "needs_background": "light"
          }
        },
        {
          "output_type": "display_data",
          "data": {
            "text/plain": [
              "<Figure size 432x288 with 1 Axes>"
            ],
            "image/png": "[encoded data removed]"
          },
          "metadata": {
            "needs_background": "light"
          }
        }
      ]
    },
    {
      "cell_type": "code",
      "source": [
        "knr1=KNeighborsRegressor(n_neighbors=3)\n",
        "knr1.fit(train_input,train_target)\n",
        "print(knr1.predict([[50]]))"
      ],
      "metadata": {
        "colab": {
          "base_uri": "https://localhost:8080/"
        },
        "id": "4_9Jg74MFvsv",
        "outputId": "18985a0e-a1c3-48e3-bf9c-f1345390c8a8"
      },
      "execution_count": 26,
      "outputs": [
        {
          "output_type": "stream",
          "name": "stdout",
          "text": [
            "[1033.33333333]\n"
          ]
        }
      ]
    },
    {
      "cell_type": "code",
      "source": [
        "distances,indexs= knr1.kneighbors([[50]])\n",
        "\n",
        "plt.scatter(train_input,train_target)\n",
        "plt.scatter(train_input[indexs],train_target[indexs],marker='D')\n",
        "\n",
        "plt.scatter(50,1033.33,marker='^')\n",
        "plt.show()"
      ],
      "metadata": {
        "colab": {
          "base_uri": "https://localhost:8080/",
          "height": 265
        },
        "id": "_ZAs9Y1WJHUI",
        "outputId": "7f9543c9-fb27-4cd5-af3c-74070de3791e"
      },
      "execution_count": 27,
      "outputs": [
        {
          "output_type": "display_data",
          "data": {
            "text/plain": [
              "<Figure size 432x288 with 1 Axes>"
            ],
            "image/png": "[encoded data removed]"
          },
          "metadata": {
            "needs_background": "light"
          }
        }
      ]
    },
    {
      "cell_type": "code",
      "source": [
        "np.mean(train_target[indexs])"
      ],
      "metadata": {
        "colab": {
          "base_uri": "https://localhost:8080/"
        },
        "id": "l-UbVUheJoXY",
        "outputId": "a10df0f6-420f-486f-a6a4-833424d80ea3"
      },
      "execution_count": 28,
      "outputs": [
        {
          "output_type": "execute_result",
          "data": {
            "text/plain": [
              "1033.3333333333333"
            ]
          },
          "metadata": {},
          "execution_count": 28
        }
      ]
    },
    {
      "cell_type": "code",
      "source": [
        "print(knr1.predict([[100]]))"
      ],
      "metadata": {
        "colab": {
          "base_uri": "https://localhost:8080/"
        },
        "id": "HgdrdJpKJvn9",
        "outputId": "f652bdc1-d8ee-44d9-bb7f-0acf42ca928e"
      },
      "execution_count": 29,
      "outputs": [
        {
          "output_type": "stream",
          "name": "stdout",
          "text": [
            "[1033.33333333]\n"
          ]
        }
      ]
    },
    {
      "cell_type": "markdown",
      "source": [
        "- 위 결과들로 종합하였을 떄 k 최근접 이웃 알고리즘 말고 다른 알고리즘을 사용함을 알게되었다.\n",
        "\n",
        "# 선형회귀\n",
        "\n",
        "- 대표적으로 사용하는 회귀 알고리즘"
      ],
      "metadata": {
        "id": "apCwa4kkJ48m"
      }
    },
    {
      "cell_type": "code",
      "source": [
        "from sklearn.linear_model import LinearRegression\n",
        "\n",
        "lr=LinearRegression()\n",
        "\n",
        "lr.fit(train_input,train_target)\n",
        "\n",
        "print(lr.predict([[50]]))"
      ],
      "metadata": {
        "colab": {
          "base_uri": "https://localhost:8080/"
        },
        "id": "My3wF954J0as",
        "outputId": "979e5586-d7b8-4645-b754-3c41525ee43d"
      },
      "execution_count": 30,
      "outputs": [
        {
          "output_type": "stream",
          "name": "stdout",
          "text": [
            "[1241.83860323]\n"
          ]
        }
      ]
    },
    {
      "cell_type": "code",
      "source": [
        "print(lr.coef_, lr.intercept_)"
      ],
      "metadata": {
        "colab": {
          "base_uri": "https://localhost:8080/"
        },
        "id": "zIe5EHxsMT8L",
        "outputId": "361ae857-b9f6-4cc2-be40-5c5093c5f988"
      },
      "execution_count": 31,
      "outputs": [
        {
          "output_type": "stream",
          "name": "stdout",
          "text": [
            "[39.01714496] -709.0186449535477\n"
          ]
        }
      ]
    },
    {
      "cell_type": "code",
      "source": [
        "plt.scatter(train_input,train_target)\n",
        "plt.plot([15,50],[15*lr.coef_+lr.intercept_,50*lr.coef_+lr.intercept_])\n",
        "plt.scatter(50,1241.83860323,marker='^')\n",
        "plt.show()"
      ],
      "metadata": {
        "colab": {
          "base_uri": "https://localhost:8080/",
          "height": 265
        },
        "id": "GEi9H1Y9Mal9",
        "outputId": "2846559a-1719-45fc-db5a-e850c7ee79e1"
      },
      "execution_count": 32,
      "outputs": [
        {
          "output_type": "display_data",
          "data": {
            "text/plain": [
              "<Figure size 432x288 with 1 Axes>"
            ],
            "image/png": "[encoded data removed]"
          },
          "metadata": {
            "needs_background": "light"
          }
        }
      ]
    },
    {
      "cell_type": "code",
      "source": [
        "print(lr.score(train_input,train_target))\n",
        "print(lr.score(test_input,test_target))"
      ],
      "metadata": {
        "colab": {
          "base_uri": "https://localhost:8080/"
        },
        "id": "whM2eYvONHuy",
        "outputId": "1c1c6687-3984-4826-c622-e292770bd3b8"
      },
      "execution_count": 33,
      "outputs": [
        {
          "output_type": "stream",
          "name": "stdout",
          "text": [
            "0.939846333997604\n",
            "0.8247503123313558\n"
          ]
        }
      ]
    },
    {
      "cell_type": "markdown",
      "source": [
        "- 위의 그래프 밑을 보면 값이 선형으로 표현하기 힘든 경우가 나오는 것을 볼 수 있다.\n",
        "- 그래서 우리는\n",
        "# 다항회귀 \n",
        "- 다항회귀를 사용할 것이다\n",
        "- 위 그래프를 직선(linear) 하게 하는 것 보단 구부러진 곡선으로 하는 것이 조금 더 적합할 것이다\n"
      ],
      "metadata": {
        "id": "qp9xUN6POKZG"
      }
    },
    {
      "cell_type": "code",
      "source": [
        "train_poly=np.column_stack((train_input**2,train_input))\n",
        "test_poly=np.column_stack((test_input**2,test_input))\n",
        "\n",
        "print(train_poly.shape, test_poly.shape)"
      ],
      "metadata": {
        "colab": {
          "base_uri": "https://localhost:8080/"
        },
        "id": "OedPn-wgNyia",
        "outputId": "3b633b36-1f4f-4343-8f6b-d215b2e7eb44"
      },
      "execution_count": 35,
      "outputs": [
        {
          "output_type": "stream",
          "name": "stdout",
          "text": [
            "(42, 2) (14, 2)\n"
          ]
        }
      ]
    },
    {
      "cell_type": "code",
      "source": [
        "lr=LinearRegression()\n",
        "lr.fit(train_poly, train_target)\n",
        "\n",
        "print(lr.predict([[50**2,50]]))"
      ],
      "metadata": {
        "colab": {
          "base_uri": "https://localhost:8080/"
        },
        "id": "zXSp-gvIO3oQ",
        "outputId": "97b032a4-2feb-44f8-8dd4-af0f892853b3"
      },
      "execution_count": 36,
      "outputs": [
        {
          "output_type": "stream",
          "name": "stdout",
          "text": [
            "[1573.98423528]\n"
          ]
        }
      ]
    },
    {
      "cell_type": "code",
      "source": [
        "print(lr.coef_,lr.intercept_)"
      ],
      "metadata": {
        "colab": {
          "base_uri": "https://localhost:8080/"
        },
        "id": "QmVpygw3PFHQ",
        "outputId": "273a7a24-9ab2-4bb5-f227-918a1fa632f6"
      },
      "execution_count": 37,
      "outputs": [
        {
          "output_type": "stream",
          "name": "stdout",
          "text": [
            "[  1.01433211 -21.55792498] 116.0502107827827\n"
          ]
        }
      ]
    },
    {
      "cell_type": "code",
      "source": [
        "point=np.arange(15,51)\n",
        "\n",
        "plt.scatter(train_input,train_target)\n",
        "plt.plot(point,1.01*point**2-21.56*point+116.05)\n",
        "\n",
        "plt.scatter(50,1573.98,marker='^')\n",
        "plt.show()"
      ],
      "metadata": {
        "colab": {
          "base_uri": "https://localhost:8080/",
          "height": 265
        },
        "id": "UFNxOciRPKES",
        "outputId": "a08a6c3c-f5d7-4701-bd58-f77d7ba1f9c1"
      },
      "execution_count": 39,
      "outputs": [
        {
          "output_type": "display_data",
          "data": {
            "text/plain": [
              "<Figure size 432x288 with 1 Axes>"
            ],
            "image/png": "[encoded data removed]"
          },
          "metadata": {
            "needs_background": "light"
          }
        }
      ]
    },
    {
      "cell_type": "code",
      "source": [
        "print(lr.score(train_poly,train_target))\n",
        "print(lr.score(test_poly,test_target))"
      ],
      "metadata": {
        "colab": {
          "base_uri": "https://localhost:8080/"
        },
        "id": "kVrjlz43PuTH",
        "outputId": "c77c8420-a3e4-49ec-ef80-58744c8f7971"
      },
      "execution_count": 40,
      "outputs": [
        {
          "output_type": "stream",
          "name": "stdout",
          "text": [
            "0.9706807451768623\n",
            "0.9775935108325122\n"
          ]
        }
      ]
    },
    {
      "cell_type": "code",
      "source": [
        "import pandas as pd \n",
        "df=pd.read_csv('https://bit.ly/perch_csv_data')\n",
        "perch_full=df.to_numpy()\n",
        "print(perch_full)"
      ],
      "metadata": {
        "colab": {
          "base_uri": "https://localhost:8080/"
        },
        "id": "qYw8aZQTQHv9",
        "outputId": "ea24df0e-f3f8-43bf-d6bb-1231dbc10dab"
      },
      "execution_count": 41,
      "outputs": [
        {
          "output_type": "stream",
          "name": "stdout",
          "text": [
            "[[ 8.4   2.11  1.41]\n",
            " [13.7   3.53  2.  ]\n",
            " [15.    3.82  2.43]\n",
            " [16.2   4.59  2.63]\n",
            " [17.4   4.59  2.94]\n",
            " [18.    5.22  3.32]\n",
            " [18.7   5.2   3.12]\n",
            " [19.    5.64  3.05]\n",
            " [19.6   5.14  3.04]\n",
            " [20.    5.08  2.77]\n",
            " [21.    5.69  3.56]\n",
            " [21.    5.92  3.31]\n",
            " [21.    5.69  3.67]\n",
            " [21.3   6.38  3.53]\n",
            " [22.    6.11  3.41]\n",
            " [22.    5.64  3.52]\n",
            " [22.    6.11  3.52]\n",
            " [22.    5.88  3.52]\n",
            " [22.    5.52  4.  ]\n",
            " [22.5   5.86  3.62]\n",
            " [22.5   6.79  3.62]\n",
            " [22.7   5.95  3.63]\n",
            " [23.    5.22  3.63]\n",
            " [23.5   6.28  3.72]\n",
            " [24.    7.29  3.72]\n",
            " [24.    6.38  3.82]\n",
            " [24.6   6.73  4.17]\n",
            " [25.    6.44  3.68]\n",
            " [25.6   6.56  4.24]\n",
            " [26.5   7.17  4.14]\n",
            " [27.3   8.32  5.14]\n",
            " [27.5   7.17  4.34]\n",
            " [27.5   7.05  4.34]\n",
            " [27.5   7.28  4.57]\n",
            " [28.    7.82  4.2 ]\n",
            " [28.7   7.59  4.64]\n",
            " [30.    7.62  4.77]\n",
            " [32.8  10.03  6.02]\n",
            " [34.5  10.26  6.39]\n",
            " [35.   11.49  7.8 ]\n",
            " [36.5  10.88  6.86]\n",
            " [36.   10.61  6.74]\n",
            " [37.   10.84  6.26]\n",
            " [37.   10.57  6.37]\n",
            " [39.   11.14  7.49]\n",
            " [39.   11.14  6.  ]\n",
            " [39.   12.43  7.35]\n",
            " [40.   11.93  7.11]\n",
            " [40.   11.73  7.22]\n",
            " [40.   12.38  7.46]\n",
            " [40.   11.14  6.63]\n",
            " [42.   12.8   6.87]\n",
            " [43.   11.93  7.28]\n",
            " [43.   12.51  7.42]\n",
            " [43.5  12.6   8.14]\n",
            " [44.   12.49  7.6 ]]\n"
          ]
        }
      ]
    },
    {
      "cell_type": "code",
      "source": [
        "train_input,test_input,train_target,test_target=train_test_split(perch_full,perch_weight,random_state=42)"
      ],
      "metadata": {
        "id": "rcMnmp-8UPMh"
      },
      "execution_count": 42,
      "outputs": []
    },
    {
      "cell_type": "markdown",
      "source": [
        "#사이킷런 변환기\n",
        "- 특성을 만들거나 전처리 하기 위한 클래스\n",
        "- fit(),transform() 메소드 제공"
      ],
      "metadata": {
        "id": "mPggrOCVUi_r"
      }
    },
    {
      "cell_type": "code",
      "source": [
        "from sklearn.preprocessing import PolynomialFeatures"
      ],
      "metadata": {
        "id": "TYGYza5xUgWE"
      },
      "execution_count": 43,
      "outputs": []
    },
    {
      "cell_type": "code",
      "source": [
        "poly=PolynomialFeatures()\n",
        "poly.fit([[2,3]])\n",
        "print(poly.transform([[2,3]]))"
      ],
      "metadata": {
        "colab": {
          "base_uri": "https://localhost:8080/"
        },
        "id": "DYLmjUuaVZBo",
        "outputId": "c1627b5a-db3d-43e7-fdba-3faec1d70daf"
      },
      "execution_count": 44,
      "outputs": [
        {
          "output_type": "stream",
          "name": "stdout",
          "text": [
            "[[1. 2. 3. 4. 6. 9.]]\n"
          ]
        }
      ]
    },
    {
      "cell_type": "code",
      "source": [
        "poly=PolynomialFeatures(include_bias=False)\n",
        "poly.fit([[2,3]])\n",
        "print(poly.transform([[2,3]]))"
      ],
      "metadata": {
        "colab": {
          "base_uri": "https://localhost:8080/"
        },
        "id": "7Ia0Ar-kVn97",
        "outputId": "c953d7ad-edd9-43cc-cf7e-6adf34d75aeb"
      },
      "execution_count": 45,
      "outputs": [
        {
          "output_type": "stream",
          "name": "stdout",
          "text": [
            "[[2. 3. 4. 6. 9.]]\n"
          ]
        }
      ]
    },
    {
      "cell_type": "code",
      "source": [
        "poly=PolynomialFeatures(include_bias=False)\n",
        "poly.fit(train_input)\n",
        "\n",
        "train_poly=poly.transform(train_input)\n",
        "print(train_poly.shape)"
      ],
      "metadata": {
        "colab": {
          "base_uri": "https://localhost:8080/"
        },
        "id": "h2eTA0qjV5qG",
        "outputId": "66845921-3dc1-4ce0-ed57-2014e27cacf6"
      },
      "execution_count": 47,
      "outputs": [
        {
          "output_type": "stream",
          "name": "stdout",
          "text": [
            "(42, 9)\n"
          ]
        }
      ]
    },
    {
      "cell_type": "code",
      "source": [
        "test_poly=poly.transform(test_input)\n",
        "print(test_poly.shape)"
      ],
      "metadata": {
        "colab": {
          "base_uri": "https://localhost:8080/"
        },
        "id": "lrdZ6QnVWGJz",
        "outputId": "96db0b60-4283-4c41-f4c8-4c99582906fb"
      },
      "execution_count": 49,
      "outputs": [
        {
          "output_type": "stream",
          "name": "stdout",
          "text": [
            "(14, 9)\n"
          ]
        }
      ]
    },
    {
      "cell_type": "code",
      "source": [
        "poly.get_feature_names()"
      ],
      "metadata": {
        "colab": {
          "base_uri": "https://localhost:8080/"
        },
        "id": "lCtXkvmSWOgN",
        "outputId": "666fafaa-e544-4c62-b2b1-dee979378619"
      },
      "execution_count": 50,
      "outputs": [
        {
          "output_type": "stream",
          "name": "stderr",
          "text": [
            "/usr/local/lib/python3.7/dist-packages/sklearn/utils/deprecation.py:87: FutureWarning: Function get_feature_names is deprecated; get_feature_names is deprecated in 1.0 and will be removed in 1.2. Please use get_feature_names_out instead.\n",
            "  warnings.warn(msg, category=FutureWarning)\n"
          ]
        },
        {
          "output_type": "execute_result",
          "data": {
            "text/plain": [
              "['x0', 'x1', 'x2', 'x0^2', 'x0 x1', 'x0 x2', 'x1^2', 'x1 x2', 'x2^2']"
            ]
          },
          "metadata": {},
          "execution_count": 50
        }
      ]
    },
    {
      "cell_type": "code",
      "source": [
        "lr=LinearRegression()\n",
        "lr.fit(train_poly, train_target)\n",
        "print(lr.score(train_poly,train_target))\n",
        "print(lr.score(test_poly,test_target))"
      ],
      "metadata": {
        "colab": {
          "base_uri": "https://localhost:8080/"
        },
        "id": "ZxQbmt-jWW9f",
        "outputId": "7798216a-b8a3-4606-be1f-e44191ac4618"
      },
      "execution_count": 52,
      "outputs": [
        {
          "output_type": "stream",
          "name": "stdout",
          "text": [
            "0.9903183436982124\n",
            "0.9714559911594134\n"
          ]
        }
      ]
    },
    {
      "cell_type": "markdown",
      "source": [
        "#특성을 매우 많이 하지만 적은 데이터로 과적합을 확인"
      ],
      "metadata": {
        "id": "8MRHO6vzXOhM"
      }
    },
    {
      "cell_type": "code",
      "source": [
        "poly=PolynomialFeatures(degree=5,include_bias=False)\n",
        "poly.fit(train_input)\n",
        "\n",
        "train_poly=poly.transform(train_input)\n",
        "test_poly=poly.transform(test_input)\n",
        "\n",
        "print(train_poly.shape)\n",
        "print(poly.get_feature_names())"
      ],
      "metadata": {
        "colab": {
          "base_uri": "https://localhost:8080/"
        },
        "id": "RGG88GRZWkPe",
        "outputId": "2a448fb0-120a-4063-f90a-0c1fb7734961"
      },
      "execution_count": 55,
      "outputs": [
        {
          "output_type": "stream",
          "name": "stdout",
          "text": [
            "(42, 55)\n",
            "['x0', 'x1', 'x2', 'x0^2', 'x0 x1', 'x0 x2', 'x1^2', 'x1 x2', 'x2^2', 'x0^3', 'x0^2 x1', 'x0^2 x2', 'x0 x1^2', 'x0 x1 x2', 'x0 x2^2', 'x1^3', 'x1^2 x2', 'x1 x2^2', 'x2^3', 'x0^4', 'x0^3 x1', 'x0^3 x2', 'x0^2 x1^2', 'x0^2 x1 x2', 'x0^2 x2^2', 'x0 x1^3', 'x0 x1^2 x2', 'x0 x1 x2^2', 'x0 x2^3', 'x1^4', 'x1^3 x2', 'x1^2 x2^2', 'x1 x2^3', 'x2^4', 'x0^5', 'x0^4 x1', 'x0^4 x2', 'x0^3 x1^2', 'x0^3 x1 x2', 'x0^3 x2^2', 'x0^2 x1^3', 'x0^2 x1^2 x2', 'x0^2 x1 x2^2', 'x0^2 x2^3', 'x0 x1^4', 'x0 x1^3 x2', 'x0 x1^2 x2^2', 'x0 x1 x2^3', 'x0 x2^4', 'x1^5', 'x1^4 x2', 'x1^3 x2^2', 'x1^2 x2^3', 'x1 x2^4', 'x2^5']\n"
          ]
        },
        {
          "output_type": "stream",
          "name": "stderr",
          "text": [
            "/usr/local/lib/python3.7/dist-packages/sklearn/utils/deprecation.py:87: FutureWarning: Function get_feature_names is deprecated; get_feature_names is deprecated in 1.0 and will be removed in 1.2. Please use get_feature_names_out instead.\n",
            "  warnings.warn(msg, category=FutureWarning)\n"
          ]
        }
      ]
    },
    {
      "cell_type": "code",
      "source": [
        "lr.fit(train_poly,train_target)\n",
        "print(lr.score(train_poly,train_target))\n",
        "print(lr.score(test_poly,test_target))"
      ],
      "metadata": {
        "colab": {
          "base_uri": "https://localhost:8080/"
        },
        "id": "VV7fNab4WxNF",
        "outputId": "86a85e59-7065-4feb-8c93-11b9bba48210"
      },
      "execution_count": 56,
      "outputs": [
        {
          "output_type": "stream",
          "name": "stdout",
          "text": [
            "0.9999999999991097\n",
            "-144.40579242684848\n"
          ]
        }
      ]
    },
    {
      "cell_type": "code",
      "source": [
        "print(lr.coef_,lr.intercept_)"
      ],
      "metadata": {
        "colab": {
          "base_uri": "https://localhost:8080/"
        },
        "id": "V0Ut9ZCLYEhx",
        "outputId": "a1b08770-166c-4940-93a2-1ea6d8f3d77a"
      },
      "execution_count": 58,
      "outputs": [
        {
          "output_type": "stream",
          "name": "stdout",
          "text": [
            "[-2.09046286e+04 -1.28182177e+03 -5.60568587e+03  2.08210606e+03\n",
            "  1.22297051e+03 -1.43811540e+03 -4.56962070e+03 -5.32891417e+02\n",
            "  6.00788380e+03 -2.10700052e+01 -6.86630547e+01 -1.38720413e+03\n",
            " -1.07566030e+03  3.95364102e+03  5.36644563e+03  3.82395517e+03\n",
            " -5.41578595e+03 -7.44650725e+03 -3.57626691e+03 -8.28151603e+00\n",
            "  3.60946181e+02 -4.02975688e+02 -3.16263595e+03  3.78221470e+03\n",
            "  1.35360877e+03  9.49694720e+03 -9.03127652e+03 -7.05277641e+03\n",
            " -5.77034173e+03 -9.30116997e+03  5.09465750e+03  9.77745663e+03\n",
            "  9.37625135e+03  7.91894742e+03 -2.17004839e+00  3.18815197e+01\n",
            "  1.05750599e+01  1.25145412e+02 -1.16343733e+03  8.34274225e+02\n",
            " -1.83477034e+03  7.09702960e+03 -1.74946596e+03 -3.82035083e+03\n",
            "  5.50888378e+03 -1.57853612e+04 -1.46750807e+03  8.08789552e+03\n",
            "  8.01725139e+03 -5.22510168e+03  1.18582793e+04  6.17623466e+03\n",
            " -7.04139963e+03 -6.28440330e+03 -7.60671211e+03] 95685.98067457725\n"
          ]
        }
      ]
    },
    {
      "cell_type": "markdown",
      "source": [
        "#규제\n",
        "- 너무 과도하게 학습하지 못하도록 훼방하는 것\n",
        "\n",
        "- 과대적합하지 않도록 만드는 것\n",
        "\n",
        "- StandardScaler 로 표준 점수를 바꾸어 보겠습니다\n",
        "- 그후 규제를 추가한 선형화귀 모델 릿지와 라쏘를 추가합니다\n",
        "- 둘 알고리즘모두 규제를 적용하고 계수의 크기를 줄이지만 라쏘는 아예 0으로 만들 수도 있습니다 \n"
      ],
      "metadata": {
        "id": "YrdfjO5_YTcq"
      }
    },
    {
      "cell_type": "code",
      "source": [
        "from sklearn.preprocessing import StandardScaler\n",
        "\n",
        "ss=StandardScaler()\n",
        "ss.fit(train_poly)\n",
        "train_scaled=ss.transform(train_poly)\n",
        "test_scaled=ss.transform(test_poly)"
      ],
      "metadata": {
        "id": "0D02Y2jRXXLI"
      },
      "execution_count": 63,
      "outputs": []
    },
    {
      "cell_type": "code",
      "source": [
        "from sklearn.linear_model import Ridge"
      ],
      "metadata": {
        "id": "fRTbac2QYKZ2"
      },
      "execution_count": 64,
      "outputs": []
    },
    {
      "cell_type": "code",
      "source": [
        "ridge=Ridge()\n",
        "ridge.fit(train_scaled,train_target)\n",
        "print(ridge.score(train_scaled,train_target))\n",
        "print(ridge.score(test_scaled,test_target))"
      ],
      "metadata": {
        "colab": {
          "base_uri": "https://localhost:8080/"
        },
        "id": "M--b-rNUZIL9",
        "outputId": "8af001b4-38b7-4890-85c2-54e6be6d7bf7"
      },
      "execution_count": 66,
      "outputs": [
        {
          "output_type": "stream",
          "name": "stdout",
          "text": [
            "0.9896101671037343\n",
            "0.9790693977615391\n"
          ]
        }
      ]
    },
    {
      "cell_type": "markdown",
      "source": [
        "#알파 값\n",
        "- 하이퍼파라미터로 인간이 지정해줘야 하는 것"
      ],
      "metadata": {
        "id": "0Qv5WD_talOT"
      }
    },
    {
      "cell_type": "code",
      "source": [
        "train_score=[]\n",
        "test_score=[]\n",
        "\n",
        "alphas=[0.001,0.01,0.1,1,10,100]\n",
        "\n",
        "for alpha in alphas:\n",
        "  ridge=Ridge(alpha=alpha)\n",
        "  ridge.fit(train_scaled,train_target)\n",
        "  train_score.append(ridge.score(train_scaled,train_target))\n",
        "  test_score.append(ridge.score(test_scaled,test_target))\n",
        "\n",
        "plt.plot(np.log10(alphas),train_score)\n",
        "plt.plot(np.log10(alphas),test_score)\n",
        "plt.xlabel('alpha')\n",
        "plt.ylabel('R^2')\n",
        "plt.show()"
      ],
      "metadata": {
        "colab": {
          "base_uri": "https://localhost:8080/",
          "height": 279
        },
        "id": "PjAIzwQnZWLU",
        "outputId": "088372a7-93a0-4020-ce70-546c2dc41024"
      },
      "execution_count": 67,
      "outputs": [
        {
          "output_type": "display_data",
          "data": {
            "text/plain": [
              "<Figure size 432x288 with 1 Axes>"
            ],
            "image/png": "[encoded data removed]"
          },
          "metadata": {
            "needs_background": "light"
          }
        }
      ]
    },
    {
      "cell_type": "code",
      "source": [
        "ridge=Ridge(alpha=0.1)\n",
        "ridge.fit(train_scaled,train_target)\n",
        "print(ridge.score(train_scaled,train_target))\n",
        "print(ridge.score(test_scaled,test_target))"
      ],
      "metadata": {
        "colab": {
          "base_uri": "https://localhost:8080/"
        },
        "id": "eoGLLCGqbiet",
        "outputId": "8e2d255b-17f5-43fe-d3d9-dc7d4295d28c"
      },
      "execution_count": 68,
      "outputs": [
        {
          "output_type": "stream",
          "name": "stdout",
          "text": [
            "0.9903815817570365\n",
            "0.9827976465386884\n"
          ]
        }
      ]
    },
    {
      "cell_type": "code",
      "source": [],
      "metadata": {
        "id": "NCfStDgKbuj9"
      },
      "execution_count": null,
      "outputs": []
    }
  ]
}